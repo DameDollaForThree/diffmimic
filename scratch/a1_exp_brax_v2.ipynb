{
 "cells": [
  {
   "cell_type": "code",
   "execution_count": 37,
   "id": "cd0b3fb3-f1d4-4327-92d6-f8ff1db6cb85",
   "metadata": {},
   "outputs": [
    {
     "name": "stdout",
     "output_type": "stream",
     "text": [
      "I0125 20:41:11.544692 140288389826368 urdf_converter.py:58] Loading urdf model from legged_studio_a1_more_colli.urdf\n"
     ]
    }
   ],
   "source": [
    "# !python /data/benny_cai/miniconda3/envs/brax/lib/python3.9/site-packages/brax/v1/tools/urdf_converter.py --xml_model_path 'legged_studio_a1_more_colli.urdf' --config_path 'a1'"
   ]
  },
  {
   "cell_type": "code",
   "execution_count": 1,
   "id": "ec8bc477-3d34-452f-9434-ce7953e82d6c",
   "metadata": {},
   "outputs": [],
   "source": [
    "# !python /data/benny_cai/miniconda3/envs/brax/lib/python3.9/site-packages/brax/v1/tools/mujoco_converter.py --xml_model_path 'a1_mjcf.txt' --config_path 'a1_mjcf'"
   ]
  },
  {
   "cell_type": "markdown",
   "id": "03bb3998-90ca-4842-a48c-df9d2284bb9c",
   "metadata": {},
   "source": [
    "## With interpolation"
   ]
  },
  {
   "cell_type": "code",
   "execution_count": 1,
   "id": "9a99a417-67bb-48ed-88f6-dcedc2218e5d",
   "metadata": {},
   "outputs": [],
   "source": [
    "from brax.positional import pipeline\n",
    "from brax.io import mjcf\n",
    "\n",
    "from IPython.display import HTML, clear_output\n",
    "import jax\n",
    "from jax import numpy as jp\n",
    "from brax.io import html\n",
    "import json\n",
    "import numpy as np\n",
    "import copy"
   ]
  },
  {
   "cell_type": "code",
   "execution_count": 2,
   "id": "efe6c93b-1c00-4e66-b18c-a537c5ddfe21",
   "metadata": {},
   "outputs": [],
   "source": [
    "def standardize_quaternion(quat):\n",
    "    mask = quat[..., -1] < 0\n",
    "    quat[mask] = -quat[mask]\n",
    "    return quat\n",
    "\n",
    "def quat_slerp(quat0, quat1, fraction, spin=0, shortestpath=True, eps=1e-6):\n",
    "    if isinstance(fraction, (int, float)):\n",
    "        fraction = np.array([fraction])\n",
    "    batch_size = quat0.shape[0]\n",
    "    q = np.zeros_like(quat0)\n",
    "    q0 = quat0[..., :4] / \\\n",
    "        np.linalg.norm(quat0[..., :4], axis=-1).reshape([batch_size, 1])\n",
    "    q1 = quat1[..., :4] / \\\n",
    "        np.linalg.norm(quat1[..., :4], axis=-1).reshape([batch_size, 1])\n",
    "    fraction_zero = np.squeeze(fraction == 0.0)\n",
    "    fraction_one = np.squeeze(fraction == 1.0)\n",
    "    mask = np.logical_and(\n",
    "        np.logical_not(fraction_zero),\n",
    "        np.logical_not(fraction_one)\n",
    "    )\n",
    "    q[fraction_zero] = q0[fraction_zero]\n",
    "    q[fraction_one] = q1[fraction_one]\n",
    "    d = np.squeeze(np.matmul(q0.reshape([-1, 1, q0.shape[1]]),\n",
    "                                q1.reshape([-1, q1.shape[1], 1])))\n",
    "    d[np.logical_not(mask)] = 0.0  # set to dummy value\n",
    "    q[np.logical_and(mask, abs(abs(d) - 1.0) < eps)\n",
    "    ] = q0[np.logical_and(mask, abs(abs(d) - 1.0) < eps)]\n",
    "    mask = np.logical_and(\n",
    "        mask,\n",
    "        abs(abs(d) - 1.0) >= eps\n",
    "    )\n",
    "    d = d[mask]\n",
    "    if shortestpath:\n",
    "        # invert rotation\n",
    "        d[d < 0.0] = -d[d < 0.0]\n",
    "        q1[mask][d < 0.0] *= -1.0\n",
    "    d = d.reshape([-1, 1])\n",
    "    angle = np.arccos(d) + spin * np.pi\n",
    "    isin = 1.0 / np.sin(angle)\n",
    "    q0[mask] *= np.sin((1.0 - fraction[mask]) * angle) * isin\n",
    "    q1[mask] *= np.sin(fraction[mask] * angle) * isin\n",
    "    q0[mask] += q1[mask]\n",
    "    q[mask] = q0[mask]\n",
    "    return q"
   ]
  },
  {
   "cell_type": "code",
   "execution_count": 3,
   "id": "fb586300-f85d-43e4-9f06-a4014db50b24",
   "metadata": {},
   "outputs": [],
   "source": [
    "with open('a1_mjcf.txt', 'r') as file:\n",
    "    config = file.read()\n",
    "\n",
    "m = mjcf.loads(config, asset_path='')"
   ]
  },
  {
   "cell_type": "code",
   "execution_count": 4,
   "id": "f848f92e-2c87-49c1-867a-9ede692edcfa",
   "metadata": {},
   "outputs": [
    {
     "data": {
      "text/plain": [
       "(33, 19)"
      ]
     },
     "execution_count": 4,
     "metadata": {},
     "output_type": "execute_result"
    }
   ],
   "source": [
    "file = 'a1_origin_motions/trot.txt'\n",
    "with open(file, 'r') as f:\n",
    "    data = json.load(f)\n",
    "frames = data['Frames']\n",
    "frames = np.array(frames)\n",
    "frames.shape"
   ]
  },
  {
   "cell_type": "code",
   "execution_count": 5,
   "id": "72c9abd8-38f9-455b-b078-0bc6a5667135",
   "metadata": {},
   "outputs": [],
   "source": [
    "interpolated_frames = []\n",
    "for i in range(frames.shape[0]-1):\n",
    "    frame0, frame1 = frames[i], frames[i+1]\n",
    "    root_pos0 = frame0[0:3]\n",
    "    root_pos1 = frame1[0:3]\n",
    "    root_rot0 = frame0[3:7]\n",
    "    root_rot1 = frame1[3:7]\n",
    "    joints0 = frame0[7:19]\n",
    "    joints1 = frame1[7:19]\n",
    "    _root_rot0 = root_rot0[np.newaxis, ...]\n",
    "    _root_rot1 = root_rot1[np.newaxis, ...]\n",
    "    interpolated_frames.append(frame0)\n",
    "    for j in range(1,10):\n",
    "        blend = j / 10\n",
    "        blend_root_pos = (1.0 - blend) * root_pos0 + blend * root_pos1\n",
    "        blend_joints = (1.0 - blend) * joints0 + blend * joints1\n",
    "        blend_root_rot = quat_slerp(_root_rot0, _root_rot1, blend)\n",
    "        blend_root_rot /= np.linalg.norm(blend_root_rot, axis=-1).reshape([blend_root_rot.shape[0], 1])\n",
    "        blend_root_rot = standardize_quaternion(blend_root_rot)[0]\n",
    "        blend_root_rot = np.round(blend_root_rot, decimals=5)\n",
    "        interpolated_frames.append(np.hstack((blend_root_pos, blend_root_rot, blend_joints)))\n",
    "interpolated_frames.append(frame1)"
   ]
  },
  {
   "cell_type": "code",
   "execution_count": 6,
   "id": "2a7b9457-ce2d-4b6f-9cb8-6a731661c884",
   "metadata": {},
   "outputs": [
    {
     "data": {
      "text/plain": [
       "(321, 19)"
      ]
     },
     "execution_count": 6,
     "metadata": {},
     "output_type": "execute_result"
    }
   ],
   "source": [
    "interpolated_frames = np.array(interpolated_frames)\n",
    "interpolated_frames.shape"
   ]
  },
  {
   "cell_type": "code",
   "execution_count": 7,
   "id": "bb6e120e-11cc-4b1f-a80b-e3fbe22730f1",
   "metadata": {},
   "outputs": [],
   "source": [
    "jit_env_reset = jax.jit(pipeline.init)\n",
    "jit_env_step = jax.jit(pipeline.step)\n",
    "\n",
    "rng = jax.random.PRNGKey(seed=1)\n",
    "rollout = []\n",
    "for frame in interpolated_frames:\n",
    "    frame[3], frame[6] = frame[6], frame[3]\n",
    "    state = jit_env_reset(m, frame, jp.zeros(m.qd_size()))\n",
    "    rollout.append(state)"
   ]
  },
  {
   "cell_type": "code",
   "execution_count": 9,
   "id": "7bc5fb48-5a2d-4e11-a415-7c4a003298c1",
   "metadata": {
    "scrolled": true
   },
   "outputs": [],
   "source": [
    "# HTML(html.render(m, rollout))"
   ]
  },
  {
   "cell_type": "code",
   "execution_count": 10,
   "id": "227a20a2-117b-4e08-aa1c-5249a150ae80",
   "metadata": {},
   "outputs": [],
   "source": [
    "# serialize data, positional:\n",
    "data = []\n",
    "for roll in rollout:\n",
    "    QP = np.hstack((\n",
    "        roll.q, \n",
    "        roll.qd, \n",
    "        roll.x.pos.flatten(), \n",
    "        roll.x.rot.flatten(), \n",
    "        roll.xd.vel.flatten(), \n",
    "        roll.xd.ang.flatten(),\n",
    "        roll.x_i.pos.flatten(), \n",
    "        roll.x_i.rot.flatten(), \n",
    "        roll.xd_i.vel.flatten(), \n",
    "        roll.xd_i.ang.flatten(),\n",
    "        roll.j.pos.flatten(), \n",
    "        roll.j.rot.flatten(), \n",
    "        roll.jd.vel.flatten(), \n",
    "        roll.jd.ang.flatten(),\n",
    "        roll.a_p.pos.flatten(), \n",
    "        roll.a_p.rot.flatten(), \n",
    "        roll.a_c.pos.flatten(), \n",
    "        roll.a_c.rot.flatten(),\n",
    "        roll.mass\n",
    "    ))\n",
    "    data.append(QP)"
   ]
  },
  {
   "cell_type": "code",
   "execution_count": 11,
   "id": "61496923-c948-4897-a760-5e7338e5d4d1",
   "metadata": {},
   "outputs": [
    {
     "data": {
      "text/plain": [
       "(321, 739)"
      ]
     },
     "execution_count": 11,
     "metadata": {},
     "output_type": "execute_result"
    }
   ],
   "source": [
    "data = np.array(data)\n",
    "data.shape"
   ]
  },
  {
   "cell_type": "code",
   "execution_count": 12,
   "id": "5518c752-3bec-4ebd-a8f6-6394a8efa50d",
   "metadata": {},
   "outputs": [],
   "source": [
    "np.save('a1_ref_motion/trot.npy', data)"
   ]
  },
  {
   "cell_type": "markdown",
   "id": "428505fc-2e52-40d3-a2f9-cd2d71a597e5",
   "metadata": {},
   "source": [
    "## No interpolation"
   ]
  },
  {
   "cell_type": "code",
   "execution_count": 1,
   "id": "69d0be3c-444a-481c-bf40-19db0dfc6cb0",
   "metadata": {},
   "outputs": [],
   "source": [
    "from brax.positional import pipeline\n",
    "from brax.io import mjcf\n",
    "\n",
    "from IPython.display import HTML, clear_output\n",
    "import jax\n",
    "from jax import numpy as jp\n",
    "from brax.io import html\n",
    "import json\n",
    "import numpy as np"
   ]
  },
  {
   "cell_type": "code",
   "execution_count": 2,
   "id": "d5b3af26-fabe-496b-9b98-d97d6f2a0153",
   "metadata": {},
   "outputs": [],
   "source": [
    "with open('a1_mjcf.txt', 'r') as file:\n",
    "    config = file.read()\n",
    "\n",
    "m = mjcf.loads(config, asset_path='')"
   ]
  },
  {
   "cell_type": "code",
   "execution_count": 3,
   "id": "fa2e6881-088f-473b-9463-4e92c4dcc035",
   "metadata": {},
   "outputs": [
    {
     "data": {
      "text/plain": [
       "(33, 19)"
      ]
     },
     "execution_count": 3,
     "metadata": {},
     "output_type": "execute_result"
    }
   ],
   "source": [
    "file = 'a1_origin_motions/trot.txt'\n",
    "with open(file, 'r') as f:\n",
    "    data = json.load(f)\n",
    "frames = data['Frames']\n",
    "frames = np.array(frames)\n",
    "frames.shape"
   ]
  },
  {
   "cell_type": "code",
   "execution_count": 4,
   "id": "8caa15ee-2919-4130-8b55-08e61f02c73a",
   "metadata": {},
   "outputs": [],
   "source": [
    "jit_env_reset = jax.jit(pipeline.init)\n",
    "jit_env_step = jax.jit(pipeline.step)\n",
    "\n",
    "rng = jax.random.PRNGKey(seed=1)\n",
    "# state = jit_env_reset(m, m.init_q, jp.zeros(m.qd_size()))\n",
    "rollout = []\n",
    "for frame in frames:\n",
    "    frame[3], frame[6] = frame[6], frame[3]\n",
    "    state = jit_env_reset(m, frame, jp.zeros(m.qd_size()))\n",
    "    rollout.append(state)"
   ]
  },
  {
   "cell_type": "code",
   "execution_count": 6,
   "id": "f7e8cb42-85b9-440e-a3d1-5878c2d65d0b",
   "metadata": {},
   "outputs": [],
   "source": [
    "# HTML(html.render(m, rollout))"
   ]
  },
  {
   "cell_type": "code",
   "execution_count": 33,
   "id": "56a7cb70-93f3-4791-a636-c81d57ce1516",
   "metadata": {},
   "outputs": [],
   "source": [
    "# # serialize data, generalized:\n",
    "# data = []\n",
    "# for roll in rollout:\n",
    "#     QP = np.hstack((roll.q, roll.qd, roll.x.pos.flatten(), \n",
    "#                     roll.x.rot.flatten(), roll.xd.vel.flatten(), roll.xd.ang.flatten(),\n",
    "#                     roll.root_com.flatten(),\n",
    "#                     roll.cinr.transform.pos.flatten(),\n",
    "#                     roll.cinr.transform.rot.flatten(),\n",
    "#                     roll.cinr.i.flatten(),\n",
    "#                     roll.cinr.mass,\n",
    "#                     roll.cd.vel.flatten(),\n",
    "#                     roll.cd.ang.flatten(),\n",
    "#                     roll.cdof.vel.flatten(),\n",
    "#                     roll.cdof.ang.flatten(),\n",
    "#                     roll.cdofd.vel.flatten(),\n",
    "#                     roll.cdofd.ang.flatten(),\n",
    "#                     roll.mass_mx.flatten(),\n",
    "#                     roll.mass_mx_inv.flatten(),\n",
    "#                     roll.con_jac.flatten(),\n",
    "#                     roll.con_diag,\n",
    "#                     roll.con_aref,\n",
    "#                     roll.qf_smooth,\n",
    "#                     roll.qf_constraint,\n",
    "#                     roll.qdd\n",
    "#                    ))\n",
    "#     data.append(QP)"
   ]
  },
  {
   "cell_type": "code",
   "execution_count": 7,
   "id": "aa7f736f-8ad5-4c42-95ae-3d939c3fab6f",
   "metadata": {},
   "outputs": [],
   "source": [
    "# serialize data, positional:\n",
    "data = []\n",
    "for roll in rollout:\n",
    "    QP = np.hstack((\n",
    "        roll.q, \n",
    "        roll.qd, \n",
    "        roll.x.pos.flatten(), \n",
    "        roll.x.rot.flatten(), \n",
    "        roll.xd.vel.flatten(), \n",
    "        roll.xd.ang.flatten(),\n",
    "        roll.x_i.pos.flatten(), \n",
    "        roll.x_i.rot.flatten(), \n",
    "        roll.xd_i.vel.flatten(), \n",
    "        roll.xd_i.ang.flatten(),\n",
    "        roll.j.pos.flatten(), \n",
    "        roll.j.rot.flatten(), \n",
    "        roll.jd.vel.flatten(), \n",
    "        roll.jd.ang.flatten(),\n",
    "        roll.a_p.pos.flatten(), \n",
    "        roll.a_p.rot.flatten(), \n",
    "        roll.a_c.pos.flatten(), \n",
    "        roll.a_c.rot.flatten(),\n",
    "        roll.mass\n",
    "    ))\n",
    "    data.append(QP)"
   ]
  },
  {
   "cell_type": "code",
   "execution_count": 8,
   "id": "7aff928e-4cdf-4aff-9bef-99d1f09396a5",
   "metadata": {},
   "outputs": [
    {
     "data": {
      "text/plain": [
       "(33, 739)"
      ]
     },
     "execution_count": 8,
     "metadata": {},
     "output_type": "execute_result"
    }
   ],
   "source": [
    "data = np.array(data)\n",
    "data.shape"
   ]
  },
  {
   "cell_type": "code",
   "execution_count": 9,
   "id": "91d5998c-bc01-47aa-a994-64ec03b38df0",
   "metadata": {},
   "outputs": [],
   "source": [
    "np.save('a1_ref_motion/trot.npy', data)"
   ]
  },
  {
   "cell_type": "code",
   "execution_count": 31,
   "id": "f9e6e06a-5ba1-4921-8855-6bbeef24915e",
   "metadata": {},
   "outputs": [
    {
     "data": {
      "text/plain": [
       "['T',\n",
       " '__add__',\n",
       " '__annotations__',\n",
       " '__class__',\n",
       " '__dataclass_fields__',\n",
       " '__dataclass_params__',\n",
       " '__delattr__',\n",
       " '__dict__',\n",
       " '__dir__',\n",
       " '__doc__',\n",
       " '__eq__',\n",
       " '__format__',\n",
       " '__ge__',\n",
       " '__getattribute__',\n",
       " '__gt__',\n",
       " '__hash__',\n",
       " '__init__',\n",
       " '__init_subclass__',\n",
       " '__le__',\n",
       " '__lt__',\n",
       " '__module__',\n",
       " '__mul__',\n",
       " '__ne__',\n",
       " '__neg__',\n",
       " '__new__',\n",
       " '__reduce__',\n",
       " '__reduce_ex__',\n",
       " '__repr__',\n",
       " '__setattr__',\n",
       " '__sizeof__',\n",
       " '__str__',\n",
       " '__sub__',\n",
       " '__subclasshook__',\n",
       " '__truediv__',\n",
       " '__weakref__',\n",
       " '_flax_dataclass',\n",
       " 'a_c',\n",
       " 'a_p',\n",
       " 'concatenate',\n",
       " 'contact',\n",
       " 'index_set',\n",
       " 'index_sum',\n",
       " 'j',\n",
       " 'jd',\n",
       " 'mass',\n",
       " 'q',\n",
       " 'qd',\n",
       " 'replace',\n",
       " 'reshape',\n",
       " 'select',\n",
       " 'slice',\n",
       " 'take',\n",
       " 'tree_replace',\n",
       " 'vmap',\n",
       " 'x',\n",
       " 'x_i',\n",
       " 'xd',\n",
       " 'xd_i']"
      ]
     },
     "execution_count": 31,
     "metadata": {},
     "output_type": "execute_result"
    }
   ],
   "source": [
    "dir(rollout[0])"
   ]
  },
  {
   "cell_type": "code",
   "execution_count": 39,
   "id": "650fdb88-d98f-4fb2-b132-cb145d06e15f",
   "metadata": {},
   "outputs": [],
   "source": [
    "rollout[10].contact"
   ]
  },
  {
   "cell_type": "code",
   "execution_count": 34,
   "id": "5ff61f2c-26af-4887-8604-245151a1637f",
   "metadata": {},
   "outputs": [
    {
     "data": {
      "text/plain": [
       "Array([[-8.68828793e-05,  4.12178272e-03, -2.51710415e-04],\n",
       "       [-3.29609215e-03, -7.08241016e-04, -3.27527523e-05],\n",
       "       [-1.00523382e-02,  2.26075128e-02, -2.53679752e-02],\n",
       "       [ 1.30997702e-01,  2.60286033e-03,  1.65096223e-02],\n",
       "       [-3.32412124e-03,  5.62351197e-04, -3.05473804e-05],\n",
       "       [-2.12564766e-02, -2.30624303e-02, -1.64915025e-02],\n",
       "       [ 1.10549971e-01,  1.24979019e-03, -7.22280219e-02],\n",
       "       [ 3.32412124e-03, -5.62336296e-04,  3.01599503e-05],\n",
       "       [-2.28128880e-02,  2.30522826e-02, -1.42775476e-02],\n",
       "       [ 9.70614851e-02,  9.59122926e-03, -8.90327096e-02],\n",
       "       [ 3.29473615e-03,  7.04083592e-04,  1.25974417e-04],\n",
       "       [-2.35372782e-02, -2.19015554e-02, -1.48997307e-02],\n",
       "       [ 1.04690775e-01,  7.94543326e-03, -8.01027641e-02]],      dtype=float32)"
      ]
     },
     "execution_count": 34,
     "metadata": {},
     "output_type": "execute_result"
    }
   ],
   "source": [
    "rollout[0].x_i.pos - rollout[0].x.pos"
   ]
  },
  {
   "cell_type": "code",
   "execution_count": 2,
   "id": "b7cb36e4-1a39-4901-8b98-f83eb99fde12",
   "metadata": {},
   "outputs": [],
   "source": [
    "rollouts = np.load('/data/benny_cai/diffmimic/logs/exp_300_32_0.0003_10_0.4_0_threshold_0.4_True_54_60_600_True_0.02_0.5_0.01_0.01_trot/eval_traj_10.npy')"
   ]
  },
  {
   "cell_type": "code",
   "execution_count": 3,
   "id": "62895c27-cc13-45b2-aa5a-c38331e972f2",
   "metadata": {},
   "outputs": [
    {
     "data": {
      "text/plain": [
       "(32, 32, 739)"
      ]
     },
     "execution_count": 3,
     "metadata": {},
     "output_type": "execute_result"
    }
   ],
   "source": [
    "rollouts.shape"
   ]
  },
  {
   "cell_type": "code",
   "execution_count": 5,
   "id": "3135f580-7f77-46f5-aa2c-4a0f297c9b1d",
   "metadata": {},
   "outputs": [],
   "source": [
    "# rollouts[0]"
   ]
  },
  {
   "cell_type": "markdown",
   "id": "6c6a59ae-8d19-4201-894c-e16e5dd09ddc",
   "metadata": {},
   "source": [
    "### Try"
   ]
  },
  {
   "cell_type": "code",
   "execution_count": 1,
   "id": "6cd56dae-dfc1-4627-9a91-a79466b162a2",
   "metadata": {},
   "outputs": [],
   "source": [
    "from brax.positional import pipeline\n",
    "from brax.io import mjcf\n",
    "\n",
    "from IPython.display import HTML, clear_output\n",
    "import jax\n",
    "from jax import numpy as jp\n",
    "from brax.io import html"
   ]
  },
  {
   "cell_type": "code",
   "execution_count": 14,
   "id": "6795e491-c75f-4f0f-b89f-064375d74d06",
   "metadata": {},
   "outputs": [],
   "source": [
    "with open('a1_mjcf.txt', 'r') as file:\n",
    "    config = file.read()\n",
    "\n",
    "m = mjcf.loads(config, asset_path='')\n",
    "m = m.replace(dt=0.02) "
   ]
  },
  {
   "cell_type": "code",
   "execution_count": 15,
   "id": "dd613233-cad7-4a26-9d95-538bbc95d999",
   "metadata": {},
   "outputs": [
    {
     "data": {
      "text/plain": [
       "0.02"
      ]
     },
     "execution_count": 15,
     "metadata": {},
     "output_type": "execute_result"
    }
   ],
   "source": [
    "m.dt"
   ]
  },
  {
   "cell_type": "code",
   "execution_count": 16,
   "id": "6bb6d8db-3119-45d1-bdb5-5881e11c008c",
   "metadata": {},
   "outputs": [],
   "source": [
    "jit_env_reset = jax.jit(pipeline.init)\n",
    "jit_env_step = jax.jit(pipeline.step)\n",
    "\n",
    "rollout = []\n",
    "rng = jax.random.PRNGKey(seed=1)\n",
    "state = jit_env_reset(m, m.init_q, jp.zeros(m.qd_size()))\n",
    "for i in range(100):\n",
    "    rollout.append(state)\n",
    "    act = 10 * jp.sin(i / 100) * jp.ones(m.act_size())\n",
    "    # act = jp.zeros(m.act_size())\n",
    "    state = jit_env_step(m, state, act)"
   ]
  },
  {
   "cell_type": "code",
   "execution_count": 18,
   "id": "215ce10e-1fc3-493d-934e-1b6f351cff33",
   "metadata": {},
   "outputs": [],
   "source": [
    "# HTML(html.render(m, rollout))"
   ]
  },
  {
   "cell_type": "code",
   "execution_count": 6,
   "id": "f13ffc87-fc16-4230-8378-9bc3a9d836f5",
   "metadata": {},
   "outputs": [
    {
     "data": {
      "text/plain": [
       "Array([0.  , 0.  , 0.43, 1.  , 0.  , 0.  , 0.  , 0.  , 0.  , 0.  , 0.  ,\n",
       "       0.  , 0.  , 0.  , 0.  , 0.  , 0.  , 0.  , 0.  ], dtype=float32)"
      ]
     },
     "execution_count": 6,
     "metadata": {},
     "output_type": "execute_result"
    }
   ],
   "source": [
    "m.init_q"
   ]
  },
  {
   "cell_type": "code",
   "execution_count": 3,
   "id": "c8075301-125e-4ba8-991c-41924071f70d",
   "metadata": {},
   "outputs": [
    {
     "data": {
      "text/plain": [
       "brax.base.System"
      ]
     },
     "execution_count": 3,
     "metadata": {},
     "output_type": "execute_result"
    }
   ],
   "source": [
    "type(m)"
   ]
  },
  {
   "cell_type": "code",
   "execution_count": null,
   "id": "4dfd237a-c333-4f70-bd27-d0ddd08af5f7",
   "metadata": {},
   "outputs": [],
   "source": []
  },
  {
   "cell_type": "code",
   "execution_count": null,
   "id": "9261f47c-ac33-49dd-a4fc-d4cb4e7146a9",
   "metadata": {},
   "outputs": [],
   "source": []
  },
  {
   "cell_type": "code",
   "execution_count": 33,
   "id": "bd0337d1-9635-43fd-9c5d-d93aa69174c7",
   "metadata": {},
   "outputs": [
    {
     "data": {
      "text/plain": [
       "['T',\n",
       " '__add__',\n",
       " '__annotations__',\n",
       " '__class__',\n",
       " '__dataclass_fields__',\n",
       " '__dataclass_params__',\n",
       " '__delattr__',\n",
       " '__dict__',\n",
       " '__dir__',\n",
       " '__doc__',\n",
       " '__eq__',\n",
       " '__format__',\n",
       " '__ge__',\n",
       " '__getattribute__',\n",
       " '__gt__',\n",
       " '__hash__',\n",
       " '__init__',\n",
       " '__init_subclass__',\n",
       " '__le__',\n",
       " '__lt__',\n",
       " '__module__',\n",
       " '__mul__',\n",
       " '__ne__',\n",
       " '__neg__',\n",
       " '__new__',\n",
       " '__reduce__',\n",
       " '__reduce_ex__',\n",
       " '__repr__',\n",
       " '__setattr__',\n",
       " '__sizeof__',\n",
       " '__str__',\n",
       " '__sub__',\n",
       " '__subclasshook__',\n",
       " '__truediv__',\n",
       " '__weakref__',\n",
       " '_flax_dataclass',\n",
       " '_model',\n",
       " 'act_size',\n",
       " 'actuator',\n",
       " 'ang_damping',\n",
       " 'baumgarte_erp',\n",
       " 'collide_scale',\n",
       " 'concatenate',\n",
       " 'density',\n",
       " 'dof',\n",
       " 'dof_link',\n",
       " 'dof_ranges',\n",
       " 'dt',\n",
       " 'enable_fluid',\n",
       " 'geom_masks',\n",
       " 'geoms',\n",
       " 'get_mjx_model',\n",
       " 'get_model',\n",
       " 'gravity',\n",
       " 'index_set',\n",
       " 'index_sum',\n",
       " 'init_q',\n",
       " 'joint_scale_ang',\n",
       " 'joint_scale_pos',\n",
       " 'link',\n",
       " 'link_names',\n",
       " 'link_parents',\n",
       " 'link_types',\n",
       " 'matrix_inv_iterations',\n",
       " 'num_links',\n",
       " 'q_idx',\n",
       " 'q_size',\n",
       " 'qd_idx',\n",
       " 'qd_size',\n",
       " 'replace',\n",
       " 'reshape',\n",
       " 'select',\n",
       " 'set_model',\n",
       " 'slice',\n",
       " 'solver_iterations',\n",
       " 'solver_maxls',\n",
       " 'spring_inertia_scale',\n",
       " 'spring_mass_scale',\n",
       " 'take',\n",
       " 'tree_replace',\n",
       " 'vel_damping',\n",
       " 'viscosity',\n",
       " 'vmap']"
      ]
     },
     "execution_count": 33,
     "metadata": {},
     "output_type": "execute_result"
    }
   ],
   "source": [
    "dir(m)"
   ]
  },
  {
   "cell_type": "code",
   "execution_count": 34,
   "id": "91aaa09d-735e-427e-9cd3-f060bc51c654",
   "metadata": {},
   "outputs": [
    {
     "data": {
      "text/plain": [
       "['trunk',\n",
       " 'FR_hip',\n",
       " 'FR_thigh',\n",
       " 'FR_calf',\n",
       " 'FL_hip',\n",
       " 'FL_thigh',\n",
       " 'FL_calf',\n",
       " 'RR_hip',\n",
       " 'RR_thigh',\n",
       " 'RR_calf',\n",
       " 'RL_hip',\n",
       " 'RL_thigh',\n",
       " 'RL_calf']"
      ]
     },
     "execution_count": 34,
     "metadata": {},
     "output_type": "execute_result"
    }
   ],
   "source": [
    "m.link_names"
   ]
  },
  {
   "cell_type": "code",
   "execution_count": 31,
   "id": "12a3800c-4d33-4ae7-94ec-eabbceb1b893",
   "metadata": {},
   "outputs": [
    {
     "data": {
      "text/plain": [
       "['T',\n",
       " '__add__',\n",
       " '__annotations__',\n",
       " '__class__',\n",
       " '__dataclass_fields__',\n",
       " '__dataclass_params__',\n",
       " '__delattr__',\n",
       " '__dict__',\n",
       " '__dir__',\n",
       " '__doc__',\n",
       " '__eq__',\n",
       " '__format__',\n",
       " '__ge__',\n",
       " '__getattribute__',\n",
       " '__gt__',\n",
       " '__hash__',\n",
       " '__init__',\n",
       " '__init_subclass__',\n",
       " '__le__',\n",
       " '__lt__',\n",
       " '__module__',\n",
       " '__mul__',\n",
       " '__ne__',\n",
       " '__neg__',\n",
       " '__new__',\n",
       " '__reduce__',\n",
       " '__reduce_ex__',\n",
       " '__repr__',\n",
       " '__setattr__',\n",
       " '__sizeof__',\n",
       " '__str__',\n",
       " '__sub__',\n",
       " '__subclasshook__',\n",
       " '__truediv__',\n",
       " '__weakref__',\n",
       " '_flax_dataclass',\n",
       " 'bias_q',\n",
       " 'bias_qd',\n",
       " 'concatenate',\n",
       " 'ctrl_range',\n",
       " 'force_range',\n",
       " 'gain',\n",
       " 'gear',\n",
       " 'index_set',\n",
       " 'index_sum',\n",
       " 'q_id',\n",
       " 'qd_id',\n",
       " 'replace',\n",
       " 'reshape',\n",
       " 'select',\n",
       " 'slice',\n",
       " 'take',\n",
       " 'tree_replace',\n",
       " 'vmap']"
      ]
     },
     "execution_count": 31,
     "metadata": {},
     "output_type": "execute_result"
    }
   ],
   "source": [
    "dir(m.actuator)"
   ]
  },
  {
   "cell_type": "code",
   "execution_count": 29,
   "id": "58610037-8678-4ddd-af13-bae46f165641",
   "metadata": {},
   "outputs": [
    {
     "data": {
      "text/plain": [
       "<bound method Base.index_set of Link(transform=Transform(pos=Array([[ 0.     ,  0.     ,  0.     ],\n",
       "       [ 0.183  , -0.047  ,  0.     ],\n",
       "       [ 0.     , -0.08505,  0.     ],\n",
       "       [ 0.     ,  0.     , -0.2    ],\n",
       "       [ 0.183  ,  0.047  ,  0.     ],\n",
       "       [ 0.     ,  0.08505,  0.     ],\n",
       "       [ 0.     ,  0.     , -0.2    ],\n",
       "       [-0.183  , -0.047  ,  0.     ],\n",
       "       [ 0.     , -0.08505,  0.     ],\n",
       "       [ 0.     ,  0.     , -0.2    ],\n",
       "       [-0.183  ,  0.047  ,  0.     ],\n",
       "       [ 0.     ,  0.08505,  0.     ],\n",
       "       [ 0.     ,  0.     , -0.2    ]], dtype=float32), rot=Array([[1., 0., 0., 0.],\n",
       "       [1., 0., 0., 0.],\n",
       "       [1., 0., 0., 0.],\n",
       "       [1., 0., 0., 0.],\n",
       "       [1., 0., 0., 0.],\n",
       "       [1., 0., 0., 0.],\n",
       "       [1., 0., 0., 0.],\n",
       "       [1., 0., 0., 0.],\n",
       "       [1., 0., 0., 0.],\n",
       "       [1., 0., 0., 0.],\n",
       "       [1., 0., 0., 0.],\n",
       "       [1., 0., 0., 0.],\n",
       "       [1., 0., 0., 0.]], dtype=float32)), joint=Transform(pos=Array([[0., 0., 0.],\n",
       "       [0., 0., 0.],\n",
       "       [0., 0., 0.],\n",
       "       [0., 0., 0.],\n",
       "       [0., 0., 0.],\n",
       "       [0., 0., 0.],\n",
       "       [0., 0., 0.],\n",
       "       [0., 0., 0.],\n",
       "       [0., 0., 0.],\n",
       "       [0., 0., 0.],\n",
       "       [0., 0., 0.],\n",
       "       [0., 0., 0.],\n",
       "       [0., 0., 0.]], dtype=float32), rot=Array([[1., 0., 0., 0.],\n",
       "       [1., 0., 0., 0.],\n",
       "       [1., 0., 0., 0.],\n",
       "       [1., 0., 0., 0.],\n",
       "       [1., 0., 0., 0.],\n",
       "       [1., 0., 0., 0.],\n",
       "       [1., 0., 0., 0.],\n",
       "       [1., 0., 0., 0.],\n",
       "       [1., 0., 0., 0.],\n",
       "       [1., 0., 0., 0.],\n",
       "       [1., 0., 0., 0.],\n",
       "       [1., 0., 0., 0.],\n",
       "       [1., 0., 0., 0.]], dtype=float32)), inertia=Inertia(transform=Transform(pos=Array([[ 0.00000e+00,  4.10000e-03, -5.00000e-04],\n",
       "       [-3.31100e-03, -6.35000e-04,  3.10000e-05],\n",
       "       [-3.23700e-03,  2.23270e-02, -2.73260e-02],\n",
       "       [ 4.72659e-03,  0.00000e+00, -1.31975e-01],\n",
       "       [-3.31100e-03,  6.35000e-04,  3.10000e-05],\n",
       "       [-3.23700e-03, -2.23270e-02, -2.73260e-02],\n",
       "       [ 4.72659e-03,  0.00000e+00, -1.31975e-01],\n",
       "       [ 3.31100e-03, -6.35000e-04,  3.10000e-05],\n",
       "       [-3.23700e-03,  2.23270e-02, -2.73260e-02],\n",
       "       [ 4.72659e-03,  0.00000e+00, -1.31975e-01],\n",
       "       [ 3.31100e-03,  6.35000e-04,  3.10000e-05],\n",
       "       [-3.23700e-03, -2.23270e-02, -2.73260e-02],\n",
       "       [ 4.72659e-03,  0.00000e+00, -1.31975e-01]], dtype=float32), rot=Array([[-1.8256460e-03,  7.0638072e-01, -6.4208568e-04,  7.0782948e-01],\n",
       "       [ 5.0752789e-01,  5.0626791e-01,  4.9150690e-01,  4.9449891e-01],\n",
       "       [ 9.9912524e-01, -2.5639306e-03, -4.0953111e-02, -8.0609117e-03],\n",
       "       [ 7.0688641e-01,  1.7653009e-02,  1.7653009e-02,  7.0688641e-01],\n",
       "       [ 4.9449891e-01,  4.9150690e-01,  5.0626791e-01,  5.0752789e-01],\n",
       "       [ 9.9912524e-01,  2.5639306e-03, -4.0953111e-02,  8.0609117e-03],\n",
       "       [ 7.0688641e-01,  1.7653009e-02,  1.7653009e-02,  7.0688641e-01],\n",
       "       [ 4.9150690e-01,  4.9449891e-01,  5.0752789e-01,  5.0626791e-01],\n",
       "       [ 9.9912524e-01, -2.5639306e-03, -4.0953111e-02, -8.0609117e-03],\n",
       "       [ 7.0688641e-01,  1.7653009e-02,  1.7653009e-02,  7.0688641e-01],\n",
       "       [ 5.0626791e-01,  5.0752789e-01,  4.9449891e-01,  4.9150690e-01],\n",
       "       [ 9.9912524e-01,  2.5639306e-03, -4.0953111e-02,  8.0609117e-03],\n",
       "       [ 7.0688641e-01,  1.7653009e-02,  1.7653009e-02,  7.0688641e-01]],      dtype=float32)), i=Array([[[4.5654420e-02, 0.0000000e+00, 0.0000000e+00],\n",
       "        [0.0000000e+00, 3.7799865e-02, 0.0000000e+00],\n",
       "        [0.0000000e+00, 0.0000000e+00, 1.5853114e-02]],\n",
       "\n",
       "       [[8.0775202e-04, 0.0000000e+00, 0.0000000e+00],\n",
       "        [0.0000000e+00, 5.5293000e-04, 0.0000000e+00],\n",
       "        [0.0000000e+00, 0.0000000e+00, 4.6898299e-04]],\n",
       "\n",
       "       [[5.5573899e-03, 0.0000000e+00, 0.0000000e+00],\n",
       "        [0.0000000e+00, 5.1393602e-03, 0.0000000e+00],\n",
       "        [0.0000000e+00, 0.0000000e+00, 1.3394400e-03]],\n",
       "\n",
       "       [[3.4034399e-03, 0.0000000e+00, 0.0000000e+00],\n",
       "        [0.0000000e+00, 3.3939299e-03, 0.0000000e+00],\n",
       "        [0.0000000e+00, 0.0000000e+00, 3.5483401e-05]],\n",
       "\n",
       "       [[8.0775202e-04, 0.0000000e+00, 0.0000000e+00],\n",
       "        [0.0000000e+00, 5.5293000e-04, 0.0000000e+00],\n",
       "        [0.0000000e+00, 0.0000000e+00, 4.6898299e-04]],\n",
       "\n",
       "       [[5.5573899e-03, 0.0000000e+00, 0.0000000e+00],\n",
       "        [0.0000000e+00, 5.1393602e-03, 0.0000000e+00],\n",
       "        [0.0000000e+00, 0.0000000e+00, 1.3394400e-03]],\n",
       "\n",
       "       [[3.4034399e-03, 0.0000000e+00, 0.0000000e+00],\n",
       "        [0.0000000e+00, 3.3939299e-03, 0.0000000e+00],\n",
       "        [0.0000000e+00, 0.0000000e+00, 3.5483401e-05]],\n",
       "\n",
       "       [[8.0775202e-04, 0.0000000e+00, 0.0000000e+00],\n",
       "        [0.0000000e+00, 5.5293000e-04, 0.0000000e+00],\n",
       "        [0.0000000e+00, 0.0000000e+00, 4.6898299e-04]],\n",
       "\n",
       "       [[5.5573899e-03, 0.0000000e+00, 0.0000000e+00],\n",
       "        [0.0000000e+00, 5.1393602e-03, 0.0000000e+00],\n",
       "        [0.0000000e+00, 0.0000000e+00, 1.3394400e-03]],\n",
       "\n",
       "       [[3.4034399e-03, 0.0000000e+00, 0.0000000e+00],\n",
       "        [0.0000000e+00, 3.3939299e-03, 0.0000000e+00],\n",
       "        [0.0000000e+00, 0.0000000e+00, 3.5483401e-05]],\n",
       "\n",
       "       [[8.0775202e-04, 0.0000000e+00, 0.0000000e+00],\n",
       "        [0.0000000e+00, 5.5293000e-04, 0.0000000e+00],\n",
       "        [0.0000000e+00, 0.0000000e+00, 4.6898299e-04]],\n",
       "\n",
       "       [[5.5573899e-03, 0.0000000e+00, 0.0000000e+00],\n",
       "        [0.0000000e+00, 5.1393602e-03, 0.0000000e+00],\n",
       "        [0.0000000e+00, 0.0000000e+00, 1.3394400e-03]],\n",
       "\n",
       "       [[3.4034399e-03, 0.0000000e+00, 0.0000000e+00],\n",
       "        [0.0000000e+00, 3.3939299e-03, 0.0000000e+00],\n",
       "        [0.0000000e+00, 0.0000000e+00, 3.5483401e-05]]], dtype=float32), mass=Array([4.713, 0.696, 1.013, 0.226, 0.696, 1.013, 0.226, 0.696, 1.013,\n",
       "       0.226, 0.696, 1.013, 0.226], dtype=float32)), invweight=Array([0.08585093, 0.1670342 , 0.19653316, 1.7366402 , 0.16523725,\n",
       "       0.19435601, 1.7357091 , 0.16604458, 0.19851598, 1.7350767 ,\n",
       "       0.16429195, 0.19638811, 1.7341691 ], dtype=float32), constraint_stiffness=Array([2000., 2000., 2000., 2000., 2000., 2000., 2000., 2000., 2000.,\n",
       "       2000., 2000., 2000., 2000.], dtype=float32), constraint_vel_damping=Array([0., 0., 0., 0., 0., 0., 0., 0., 0., 0., 0., 0., 0.], dtype=float32), constraint_limit_stiffness=Array([1000., 1000., 1000., 1000., 1000., 1000., 1000., 1000., 1000.,\n",
       "       1000., 1000., 1000., 1000.], dtype=float32), constraint_ang_damping=Array([0., 0., 0., 0., 0., 0., 0., 0., 0., 0., 0., 0., 0.], dtype=float32))>"
      ]
     },
     "execution_count": 29,
     "metadata": {},
     "output_type": "execute_result"
    }
   ],
   "source": [
    "m.link.index_set"
   ]
  },
  {
   "cell_type": "code",
   "execution_count": 61,
   "id": "fd13a6db-eb3a-40c4-8e14-7d8d000c1db2",
   "metadata": {},
   "outputs": [
    {
     "data": {
      "text/plain": [
       "Array([2000., 2000., 2000., 2000., 2000., 2000., 2000., 2000., 2000.,\n",
       "       2000., 2000., 2000., 2000.], dtype=float32)"
      ]
     },
     "execution_count": 61,
     "metadata": {},
     "output_type": "execute_result"
    }
   ],
   "source": [
    "m.link.constraint_stiffness"
   ]
  },
  {
   "cell_type": "code",
   "execution_count": 60,
   "id": "b2e04911-29a3-4ead-b0a2-77bf6d019638",
   "metadata": {},
   "outputs": [
    {
     "data": {
      "text/plain": [
       "Array([1000., 1000., 1000., 1000., 1000., 1000., 1000., 1000., 1000.,\n",
       "       1000., 1000., 1000., 1000.], dtype=float32)"
      ]
     },
     "execution_count": 60,
     "metadata": {},
     "output_type": "execute_result"
    }
   ],
   "source": [
    "m.link.constraint_limit_stiffness"
   ]
  },
  {
   "cell_type": "code",
   "execution_count": 31,
   "id": "284e9518-9ad0-4286-b53b-597e359e6356",
   "metadata": {},
   "outputs": [
    {
     "data": {
      "text/plain": [
       "Array([100., 100., 100., 100., 100., 100., 100., 100., 100., 100., 100.,\n",
       "       100.], dtype=float32)"
      ]
     },
     "execution_count": 31,
     "metadata": {},
     "output_type": "execute_result"
    }
   ],
   "source": [
    "m.actuator.gain"
   ]
  },
  {
   "cell_type": "code",
   "execution_count": 32,
   "id": "5d7f6342-cc1a-4d28-b864-b3a6684cccd3",
   "metadata": {},
   "outputs": [
    {
     "data": {
      "text/plain": [
       "Array([ 0.  ,  0.  , -9.81], dtype=float32)"
      ]
     },
     "execution_count": 32,
     "metadata": {},
     "output_type": "execute_result"
    }
   ],
   "source": [
    "m.gravity"
   ]
  },
  {
   "cell_type": "code",
   "execution_count": 39,
   "id": "122ab450-ef37-48dc-af2a-7dbbcdb019fa",
   "metadata": {},
   "outputs": [
    {
     "data": {
      "text/plain": [
       "Array(0., dtype=float32)"
      ]
     },
     "execution_count": 39,
     "metadata": {},
     "output_type": "execute_result"
    }
   ],
   "source": [
    "m.ang_damping"
   ]
  },
  {
   "cell_type": "code",
   "execution_count": 40,
   "id": "a1f01fc2-c9d6-42bf-bad6-c203374733bd",
   "metadata": {},
   "outputs": [
    {
     "data": {
      "text/plain": [
       "Array(0.1, dtype=float32)"
      ]
     },
     "execution_count": 40,
     "metadata": {},
     "output_type": "execute_result"
    }
   ],
   "source": [
    "m.baumgarte_erp"
   ]
  },
  {
   "cell_type": "code",
   "execution_count": 42,
   "id": "b92ef0d5-242b-4862-b7b7-43f5db599da5",
   "metadata": {},
   "outputs": [
    {
     "data": {
      "text/plain": [
       "Array(0., dtype=float32)"
      ]
     },
     "execution_count": 42,
     "metadata": {},
     "output_type": "execute_result"
    }
   ],
   "source": [
    "m.vel_damping"
   ]
  },
  {
   "cell_type": "code",
   "execution_count": 41,
   "id": "0ede5908-0896-4b7b-9317-1c606a80fda2",
   "metadata": {},
   "outputs": [
    {
     "data": {
      "text/plain": [
       "Array(0.2, dtype=float32)"
      ]
     },
     "execution_count": 41,
     "metadata": {},
     "output_type": "execute_result"
    }
   ],
   "source": [
    "m.joint_scale_ang"
   ]
  },
  {
   "cell_type": "code",
   "execution_count": 63,
   "id": "1102e7ba-629e-45df-bbca-87dd24d6207a",
   "metadata": {},
   "outputs": [
    {
     "data": {
      "text/plain": [
       "Inertia(transform=Transform(pos=Array([[ 0.00000e+00,  4.10000e-03, -5.00000e-04],\n",
       "       [-3.31100e-03, -6.35000e-04,  3.10000e-05],\n",
       "       [-3.23700e-03,  2.23270e-02, -2.73260e-02],\n",
       "       [ 4.72659e-03,  0.00000e+00, -1.31975e-01],\n",
       "       [-3.31100e-03,  6.35000e-04,  3.10000e-05],\n",
       "       [-3.23700e-03, -2.23270e-02, -2.73260e-02],\n",
       "       [ 4.72659e-03,  0.00000e+00, -1.31975e-01],\n",
       "       [ 3.31100e-03, -6.35000e-04,  3.10000e-05],\n",
       "       [-3.23700e-03,  2.23270e-02, -2.73260e-02],\n",
       "       [ 4.72659e-03,  0.00000e+00, -1.31975e-01],\n",
       "       [ 3.31100e-03,  6.35000e-04,  3.10000e-05],\n",
       "       [-3.23700e-03, -2.23270e-02, -2.73260e-02],\n",
       "       [ 4.72659e-03,  0.00000e+00, -1.31975e-01]], dtype=float32), rot=Array([[-1.8256460e-03,  7.0638072e-01, -6.4208568e-04,  7.0782948e-01],\n",
       "       [ 5.0752789e-01,  5.0626791e-01,  4.9150690e-01,  4.9449891e-01],\n",
       "       [ 9.9912524e-01, -2.5639306e-03, -4.0953111e-02, -8.0609117e-03],\n",
       "       [ 7.0688641e-01,  1.7653009e-02,  1.7653009e-02,  7.0688641e-01],\n",
       "       [ 4.9449891e-01,  4.9150690e-01,  5.0626791e-01,  5.0752789e-01],\n",
       "       [ 9.9912524e-01,  2.5639306e-03, -4.0953111e-02,  8.0609117e-03],\n",
       "       [ 7.0688641e-01,  1.7653009e-02,  1.7653009e-02,  7.0688641e-01],\n",
       "       [ 4.9150690e-01,  4.9449891e-01,  5.0752789e-01,  5.0626791e-01],\n",
       "       [ 9.9912524e-01, -2.5639306e-03, -4.0953111e-02, -8.0609117e-03],\n",
       "       [ 7.0688641e-01,  1.7653009e-02,  1.7653009e-02,  7.0688641e-01],\n",
       "       [ 5.0626791e-01,  5.0752789e-01,  4.9449891e-01,  4.9150690e-01],\n",
       "       [ 9.9912524e-01,  2.5639306e-03, -4.0953111e-02,  8.0609117e-03],\n",
       "       [ 7.0688641e-01,  1.7653009e-02,  1.7653009e-02,  7.0688641e-01]],      dtype=float32)), i=Array([[[4.5654420e-02, 0.0000000e+00, 0.0000000e+00],\n",
       "        [0.0000000e+00, 3.7799865e-02, 0.0000000e+00],\n",
       "        [0.0000000e+00, 0.0000000e+00, 1.5853114e-02]],\n",
       "\n",
       "       [[8.0775202e-04, 0.0000000e+00, 0.0000000e+00],\n",
       "        [0.0000000e+00, 5.5293000e-04, 0.0000000e+00],\n",
       "        [0.0000000e+00, 0.0000000e+00, 4.6898299e-04]],\n",
       "\n",
       "       [[5.5573899e-03, 0.0000000e+00, 0.0000000e+00],\n",
       "        [0.0000000e+00, 5.1393602e-03, 0.0000000e+00],\n",
       "        [0.0000000e+00, 0.0000000e+00, 1.3394400e-03]],\n",
       "\n",
       "       [[3.4034399e-03, 0.0000000e+00, 0.0000000e+00],\n",
       "        [0.0000000e+00, 3.3939299e-03, 0.0000000e+00],\n",
       "        [0.0000000e+00, 0.0000000e+00, 3.5483401e-05]],\n",
       "\n",
       "       [[8.0775202e-04, 0.0000000e+00, 0.0000000e+00],\n",
       "        [0.0000000e+00, 5.5293000e-04, 0.0000000e+00],\n",
       "        [0.0000000e+00, 0.0000000e+00, 4.6898299e-04]],\n",
       "\n",
       "       [[5.5573899e-03, 0.0000000e+00, 0.0000000e+00],\n",
       "        [0.0000000e+00, 5.1393602e-03, 0.0000000e+00],\n",
       "        [0.0000000e+00, 0.0000000e+00, 1.3394400e-03]],\n",
       "\n",
       "       [[3.4034399e-03, 0.0000000e+00, 0.0000000e+00],\n",
       "        [0.0000000e+00, 3.3939299e-03, 0.0000000e+00],\n",
       "        [0.0000000e+00, 0.0000000e+00, 3.5483401e-05]],\n",
       "\n",
       "       [[8.0775202e-04, 0.0000000e+00, 0.0000000e+00],\n",
       "        [0.0000000e+00, 5.5293000e-04, 0.0000000e+00],\n",
       "        [0.0000000e+00, 0.0000000e+00, 4.6898299e-04]],\n",
       "\n",
       "       [[5.5573899e-03, 0.0000000e+00, 0.0000000e+00],\n",
       "        [0.0000000e+00, 5.1393602e-03, 0.0000000e+00],\n",
       "        [0.0000000e+00, 0.0000000e+00, 1.3394400e-03]],\n",
       "\n",
       "       [[3.4034399e-03, 0.0000000e+00, 0.0000000e+00],\n",
       "        [0.0000000e+00, 3.3939299e-03, 0.0000000e+00],\n",
       "        [0.0000000e+00, 0.0000000e+00, 3.5483401e-05]],\n",
       "\n",
       "       [[8.0775202e-04, 0.0000000e+00, 0.0000000e+00],\n",
       "        [0.0000000e+00, 5.5293000e-04, 0.0000000e+00],\n",
       "        [0.0000000e+00, 0.0000000e+00, 4.6898299e-04]],\n",
       "\n",
       "       [[5.5573899e-03, 0.0000000e+00, 0.0000000e+00],\n",
       "        [0.0000000e+00, 5.1393602e-03, 0.0000000e+00],\n",
       "        [0.0000000e+00, 0.0000000e+00, 1.3394400e-03]],\n",
       "\n",
       "       [[3.4034399e-03, 0.0000000e+00, 0.0000000e+00],\n",
       "        [0.0000000e+00, 3.3939299e-03, 0.0000000e+00],\n",
       "        [0.0000000e+00, 0.0000000e+00, 3.5483401e-05]]], dtype=float32), mass=Array([4.713, 0.696, 1.013, 0.226, 0.696, 1.013, 0.226, 0.696, 1.013,\n",
       "       0.226, 0.696, 1.013, 0.226], dtype=float32))"
      ]
     },
     "execution_count": 63,
     "metadata": {},
     "output_type": "execute_result"
    }
   ],
   "source": [
    "m.link.inertia"
   ]
  },
  {
   "cell_type": "code",
   "execution_count": 45,
   "id": "460c681d-1370-4b86-97d9-417b09f799d2",
   "metadata": {},
   "outputs": [
    {
     "data": {
      "text/plain": [
       "['__class__',\n",
       " '__copy__',\n",
       " '__deepcopy__',\n",
       " '__delattr__',\n",
       " '__dir__',\n",
       " '__doc__',\n",
       " '__eq__',\n",
       " '__format__',\n",
       " '__ge__',\n",
       " '__getattribute__',\n",
       " '__getstate__',\n",
       " '__gt__',\n",
       " '__hash__',\n",
       " '__init__',\n",
       " '__init_subclass__',\n",
       " '__le__',\n",
       " '__lt__',\n",
       " '__module__',\n",
       " '__ne__',\n",
       " '__new__',\n",
       " '__reduce__',\n",
       " '__reduce_ex__',\n",
       " '__repr__',\n",
       " '__setattr__',\n",
       " '__setstate__',\n",
       " '__sizeof__',\n",
       " '__str__',\n",
       " '__subclasshook__',\n",
       " '_address',\n",
       " 'actuator',\n",
       " 'actuator_acc0',\n",
       " 'actuator_actadr',\n",
       " 'actuator_actearly',\n",
       " 'actuator_actlimited',\n",
       " 'actuator_actnum',\n",
       " 'actuator_actrange',\n",
       " 'actuator_biasprm',\n",
       " 'actuator_biastype',\n",
       " 'actuator_cranklength',\n",
       " 'actuator_ctrllimited',\n",
       " 'actuator_ctrlrange',\n",
       " 'actuator_dynprm',\n",
       " 'actuator_dyntype',\n",
       " 'actuator_forcelimited',\n",
       " 'actuator_forcerange',\n",
       " 'actuator_gainprm',\n",
       " 'actuator_gaintype',\n",
       " 'actuator_gear',\n",
       " 'actuator_group',\n",
       " 'actuator_length0',\n",
       " 'actuator_lengthrange',\n",
       " 'actuator_plugin',\n",
       " 'actuator_trnid',\n",
       " 'actuator_trntype',\n",
       " 'actuator_user',\n",
       " 'body',\n",
       " 'body_bvhadr',\n",
       " 'body_bvhnum',\n",
       " 'body_conaffinity',\n",
       " 'body_contype',\n",
       " 'body_dofadr',\n",
       " 'body_dofnum',\n",
       " 'body_geomadr',\n",
       " 'body_geomnum',\n",
       " 'body_gravcomp',\n",
       " 'body_inertia',\n",
       " 'body_invweight0',\n",
       " 'body_ipos',\n",
       " 'body_iquat',\n",
       " 'body_jntadr',\n",
       " 'body_jntnum',\n",
       " 'body_margin',\n",
       " 'body_mass',\n",
       " 'body_mocapid',\n",
       " 'body_parentid',\n",
       " 'body_plugin',\n",
       " 'body_pos',\n",
       " 'body_quat',\n",
       " 'body_rootid',\n",
       " 'body_sameframe',\n",
       " 'body_simple',\n",
       " 'body_subtreemass',\n",
       " 'body_treeid',\n",
       " 'body_user',\n",
       " 'body_weldid',\n",
       " 'bvh_aabb',\n",
       " 'bvh_child',\n",
       " 'bvh_depth',\n",
       " 'bvh_nodeid',\n",
       " 'cam',\n",
       " 'cam_bodyid',\n",
       " 'cam_fovy',\n",
       " 'cam_intrinsic',\n",
       " 'cam_ipd',\n",
       " 'cam_mat0',\n",
       " 'cam_mode',\n",
       " 'cam_pos',\n",
       " 'cam_pos0',\n",
       " 'cam_poscom0',\n",
       " 'cam_quat',\n",
       " 'cam_resolution',\n",
       " 'cam_sensorsize',\n",
       " 'cam_targetbodyid',\n",
       " 'cam_user',\n",
       " 'camera',\n",
       " 'dof_M0',\n",
       " 'dof_Madr',\n",
       " 'dof_armature',\n",
       " 'dof_bodyid',\n",
       " 'dof_damping',\n",
       " 'dof_frictionloss',\n",
       " 'dof_invweight0',\n",
       " 'dof_jntid',\n",
       " 'dof_parentid',\n",
       " 'dof_simplenum',\n",
       " 'dof_solimp',\n",
       " 'dof_solref',\n",
       " 'dof_treeid',\n",
       " 'eq',\n",
       " 'eq_active0',\n",
       " 'eq_data',\n",
       " 'eq_obj1id',\n",
       " 'eq_obj2id',\n",
       " 'eq_solimp',\n",
       " 'eq_solref',\n",
       " 'eq_type',\n",
       " 'equality',\n",
       " 'exclude',\n",
       " 'exclude_signature',\n",
       " 'flex_activelayers',\n",
       " 'flex_bvhadr',\n",
       " 'flex_bvhnum',\n",
       " 'flex_centered',\n",
       " 'flex_conaffinity',\n",
       " 'flex_condim',\n",
       " 'flex_contype',\n",
       " 'flex_dim',\n",
       " 'flex_edge',\n",
       " 'flex_edgeadr',\n",
       " 'flex_edgedamping',\n",
       " 'flex_edgeequality',\n",
       " 'flex_edgenum',\n",
       " 'flex_edgestiffness',\n",
       " 'flex_elem',\n",
       " 'flex_elemadr',\n",
       " 'flex_elemdataadr',\n",
       " 'flex_elemlayer',\n",
       " 'flex_elemnum',\n",
       " 'flex_evpair',\n",
       " 'flex_evpairadr',\n",
       " 'flex_evpairnum',\n",
       " 'flex_flatskin',\n",
       " 'flex_friction',\n",
       " 'flex_gap',\n",
       " 'flex_group',\n",
       " 'flex_internal',\n",
       " 'flex_margin',\n",
       " 'flex_matid',\n",
       " 'flex_priority',\n",
       " 'flex_radius',\n",
       " 'flex_rgba',\n",
       " 'flex_rigid',\n",
       " 'flex_selfcollide',\n",
       " 'flex_shell',\n",
       " 'flex_shelldataadr',\n",
       " 'flex_shellnum',\n",
       " 'flex_solimp',\n",
       " 'flex_solmix',\n",
       " 'flex_solref',\n",
       " 'flex_texcoord',\n",
       " 'flex_texcoordadr',\n",
       " 'flex_vert',\n",
       " 'flex_vertadr',\n",
       " 'flex_vertbodyid',\n",
       " 'flex_vertnum',\n",
       " 'flex_xvert0',\n",
       " 'flexedge_invweight0',\n",
       " 'flexedge_length0',\n",
       " 'flexedge_rigid',\n",
       " 'from_binary_path',\n",
       " 'from_xml_path',\n",
       " 'from_xml_string',\n",
       " 'geom',\n",
       " 'geom_aabb',\n",
       " 'geom_bodyid',\n",
       " 'geom_conaffinity',\n",
       " 'geom_condim',\n",
       " 'geom_contype',\n",
       " 'geom_dataid',\n",
       " 'geom_fluid',\n",
       " 'geom_friction',\n",
       " 'geom_gap',\n",
       " 'geom_group',\n",
       " 'geom_margin',\n",
       " 'geom_matid',\n",
       " 'geom_plugin',\n",
       " 'geom_pos',\n",
       " 'geom_priority',\n",
       " 'geom_quat',\n",
       " 'geom_rbound',\n",
       " 'geom_rgba',\n",
       " 'geom_sameframe',\n",
       " 'geom_size',\n",
       " 'geom_solimp',\n",
       " 'geom_solmix',\n",
       " 'geom_solref',\n",
       " 'geom_type',\n",
       " 'geom_user',\n",
       " 'hfield',\n",
       " 'hfield_adr',\n",
       " 'hfield_data',\n",
       " 'hfield_ncol',\n",
       " 'hfield_nrow',\n",
       " 'hfield_pathadr',\n",
       " 'hfield_size',\n",
       " 'jnt',\n",
       " 'jnt_actfrclimited',\n",
       " 'jnt_actfrcrange',\n",
       " 'jnt_axis',\n",
       " 'jnt_bodyid',\n",
       " 'jnt_dofadr',\n",
       " 'jnt_group',\n",
       " 'jnt_limited',\n",
       " 'jnt_margin',\n",
       " 'jnt_pos',\n",
       " 'jnt_qposadr',\n",
       " 'jnt_range',\n",
       " 'jnt_solimp',\n",
       " 'jnt_solref',\n",
       " 'jnt_stiffness',\n",
       " 'jnt_type',\n",
       " 'jnt_user',\n",
       " 'joint',\n",
       " 'key',\n",
       " 'key_act',\n",
       " 'key_ctrl',\n",
       " 'key_mpos',\n",
       " 'key_mquat',\n",
       " 'key_qpos',\n",
       " 'key_qvel',\n",
       " 'key_time',\n",
       " 'keyframe',\n",
       " 'light',\n",
       " 'light_active',\n",
       " 'light_ambient',\n",
       " 'light_attenuation',\n",
       " 'light_bodyid',\n",
       " 'light_castshadow',\n",
       " 'light_cutoff',\n",
       " 'light_diffuse',\n",
       " 'light_dir',\n",
       " 'light_dir0',\n",
       " 'light_directional',\n",
       " 'light_exponent',\n",
       " 'light_mode',\n",
       " 'light_pos',\n",
       " 'light_pos0',\n",
       " 'light_poscom0',\n",
       " 'light_specular',\n",
       " 'light_targetbodyid',\n",
       " 'mat',\n",
       " 'mat_emission',\n",
       " 'mat_reflectance',\n",
       " 'mat_rgba',\n",
       " 'mat_shininess',\n",
       " 'mat_specular',\n",
       " 'mat_texid',\n",
       " 'mat_texrepeat',\n",
       " 'mat_texuniform',\n",
       " 'material',\n",
       " 'mesh',\n",
       " 'mesh_bvhadr',\n",
       " 'mesh_bvhnum',\n",
       " 'mesh_face',\n",
       " 'mesh_faceadr',\n",
       " 'mesh_facenormal',\n",
       " 'mesh_facenum',\n",
       " 'mesh_facetexcoord',\n",
       " 'mesh_graph',\n",
       " 'mesh_graphadr',\n",
       " 'mesh_normal',\n",
       " 'mesh_normaladr',\n",
       " 'mesh_normalnum',\n",
       " 'mesh_pathadr',\n",
       " 'mesh_pos',\n",
       " 'mesh_quat',\n",
       " 'mesh_texcoord',\n",
       " 'mesh_texcoordadr',\n",
       " 'mesh_texcoordnum',\n",
       " 'mesh_vert',\n",
       " 'mesh_vertadr',\n",
       " 'mesh_vertnum',\n",
       " 'nB',\n",
       " 'nD',\n",
       " 'nM',\n",
       " 'na',\n",
       " 'name_actuatoradr',\n",
       " 'name_bodyadr',\n",
       " 'name_camadr',\n",
       " 'name_eqadr',\n",
       " 'name_excludeadr',\n",
       " 'name_flexadr',\n",
       " 'name_geomadr',\n",
       " 'name_hfieldadr',\n",
       " 'name_jntadr',\n",
       " 'name_keyadr',\n",
       " 'name_lightadr',\n",
       " 'name_matadr',\n",
       " 'name_meshadr',\n",
       " 'name_numericadr',\n",
       " 'name_pairadr',\n",
       " 'name_pluginadr',\n",
       " 'name_sensoradr',\n",
       " 'name_siteadr',\n",
       " 'name_skinadr',\n",
       " 'name_tendonadr',\n",
       " 'name_texadr',\n",
       " 'name_textadr',\n",
       " 'name_tupleadr',\n",
       " 'names',\n",
       " 'names_map',\n",
       " 'narena',\n",
       " 'nbody',\n",
       " 'nbuffer',\n",
       " 'nbvh',\n",
       " 'nbvhdynamic',\n",
       " 'nbvhstatic',\n",
       " 'ncam',\n",
       " 'nconmax',\n",
       " 'nemax',\n",
       " 'neq',\n",
       " 'nexclude',\n",
       " 'nflex',\n",
       " 'nflexedge',\n",
       " 'nflexelem',\n",
       " 'nflexelemdata',\n",
       " 'nflexevpair',\n",
       " 'nflexshelldata',\n",
       " 'nflextexcoord',\n",
       " 'nflexvert',\n",
       " 'ngeom',\n",
       " 'nhfield',\n",
       " 'nhfielddata',\n",
       " 'njmax',\n",
       " 'njnt',\n",
       " 'nkey',\n",
       " 'nlight',\n",
       " 'nmat',\n",
       " 'nmesh',\n",
       " 'nmeshface',\n",
       " 'nmeshgraph',\n",
       " 'nmeshnormal',\n",
       " 'nmeshtexcoord',\n",
       " 'nmeshvert',\n",
       " 'nmocap',\n",
       " 'nnames',\n",
       " 'nnames_map',\n",
       " 'nnumeric',\n",
       " 'nnumericdata',\n",
       " 'npair',\n",
       " 'npaths',\n",
       " 'nplugin',\n",
       " 'npluginattr',\n",
       " 'npluginstate',\n",
       " 'nq',\n",
       " 'nsensor',\n",
       " 'nsensordata',\n",
       " 'nsite',\n",
       " 'nskin',\n",
       " 'nskinbone',\n",
       " 'nskinbonevert',\n",
       " 'nskinface',\n",
       " 'nskintexvert',\n",
       " 'nskinvert',\n",
       " 'ntendon',\n",
       " 'ntex',\n",
       " 'ntexdata',\n",
       " 'ntext',\n",
       " 'ntextdata',\n",
       " 'ntree',\n",
       " 'ntuple',\n",
       " 'ntupledata',\n",
       " 'nu',\n",
       " 'numeric',\n",
       " 'numeric_adr',\n",
       " 'numeric_data',\n",
       " 'numeric_size',\n",
       " 'nuser_actuator',\n",
       " 'nuser_body',\n",
       " 'nuser_cam',\n",
       " 'nuser_geom',\n",
       " 'nuser_jnt',\n",
       " 'nuser_sensor',\n",
       " 'nuser_site',\n",
       " 'nuser_tendon',\n",
       " 'nuserdata',\n",
       " 'nv',\n",
       " 'nwrap',\n",
       " 'opt',\n",
       " 'pair',\n",
       " 'pair_dim',\n",
       " 'pair_friction',\n",
       " 'pair_gap',\n",
       " 'pair_geom1',\n",
       " 'pair_geom2',\n",
       " 'pair_margin',\n",
       " 'pair_signature',\n",
       " 'pair_solimp',\n",
       " 'pair_solref',\n",
       " 'pair_solreffriction',\n",
       " 'paths',\n",
       " 'plugin',\n",
       " 'plugin_attr',\n",
       " 'plugin_attradr',\n",
       " 'plugin_stateadr',\n",
       " 'plugin_statenum',\n",
       " 'qpos0',\n",
       " 'qpos_spring',\n",
       " 'sensor',\n",
       " 'sensor_adr',\n",
       " 'sensor_cutoff',\n",
       " 'sensor_datatype',\n",
       " 'sensor_dim',\n",
       " 'sensor_needstage',\n",
       " 'sensor_noise',\n",
       " 'sensor_objid',\n",
       " 'sensor_objtype',\n",
       " 'sensor_plugin',\n",
       " 'sensor_refid',\n",
       " 'sensor_reftype',\n",
       " 'sensor_type',\n",
       " 'sensor_user',\n",
       " 'site',\n",
       " 'site_bodyid',\n",
       " 'site_group',\n",
       " 'site_matid',\n",
       " 'site_pos',\n",
       " 'site_quat',\n",
       " 'site_rgba',\n",
       " 'site_sameframe',\n",
       " 'site_size',\n",
       " 'site_type',\n",
       " 'site_user',\n",
       " 'skin',\n",
       " 'skin_boneadr',\n",
       " 'skin_bonebindpos',\n",
       " 'skin_bonebindquat',\n",
       " 'skin_bonebodyid',\n",
       " 'skin_bonenum',\n",
       " 'skin_bonevertadr',\n",
       " 'skin_bonevertid',\n",
       " 'skin_bonevertnum',\n",
       " 'skin_bonevertweight',\n",
       " 'skin_face',\n",
       " 'skin_faceadr',\n",
       " 'skin_facenum',\n",
       " 'skin_group',\n",
       " 'skin_inflate',\n",
       " 'skin_matid',\n",
       " 'skin_pathadr',\n",
       " 'skin_rgba',\n",
       " 'skin_texcoord',\n",
       " 'skin_texcoordadr',\n",
       " 'skin_vert',\n",
       " 'skin_vertadr',\n",
       " 'skin_vertnum',\n",
       " 'stat',\n",
       " 'tendon',\n",
       " 'tendon_adr',\n",
       " 'tendon_damping',\n",
       " 'tendon_frictionloss',\n",
       " 'tendon_group',\n",
       " 'tendon_invweight0',\n",
       " 'tendon_length0',\n",
       " 'tendon_lengthspring',\n",
       " 'tendon_limited',\n",
       " 'tendon_margin',\n",
       " 'tendon_matid',\n",
       " 'tendon_num',\n",
       " 'tendon_range',\n",
       " 'tendon_rgba',\n",
       " 'tendon_solimp_fri',\n",
       " 'tendon_solimp_lim',\n",
       " 'tendon_solref_fri',\n",
       " 'tendon_solref_lim',\n",
       " 'tendon_stiffness',\n",
       " 'tendon_user',\n",
       " 'tendon_width',\n",
       " 'tex',\n",
       " 'tex_adr',\n",
       " 'tex_height',\n",
       " 'tex_pathadr',\n",
       " 'tex_rgb',\n",
       " 'tex_type',\n",
       " 'tex_width',\n",
       " 'text_adr',\n",
       " 'text_data',\n",
       " 'text_size',\n",
       " 'texture',\n",
       " 'tuple',\n",
       " 'tuple_adr',\n",
       " 'tuple_objid',\n",
       " 'tuple_objprm',\n",
       " 'tuple_objtype',\n",
       " 'tuple_size',\n",
       " 'vis',\n",
       " 'wrap_objid',\n",
       " 'wrap_prm',\n",
       " 'wrap_type']"
      ]
     },
     "execution_count": 45,
     "metadata": {},
     "output_type": "execute_result"
    }
   ],
   "source": [
    "dir(m.get_model())"
   ]
  },
  {
   "cell_type": "code",
   "execution_count": 48,
   "id": "b2a28fd7-3de9-4602-aeee-1d65389ed6e2",
   "metadata": {},
   "outputs": [
    {
     "data": {
      "text/plain": [
       "array([0, 0, 0, 0, 0, 0, 0, 0, 0, 0, 0, 0], dtype=int32)"
      ]
     },
     "execution_count": 48,
     "metadata": {},
     "output_type": "execute_result"
    }
   ],
   "source": [
    "m.get_model().actuator_gaintype"
   ]
  },
  {
   "cell_type": "code",
   "execution_count": null,
   "id": "f3eb4b6a-b20b-4c56-a966-80bca97bba63",
   "metadata": {},
   "outputs": [],
   "source": []
  },
  {
   "cell_type": "code",
   "execution_count": null,
   "id": "8244db4f-99e9-4c75-99f0-772bd12d4288",
   "metadata": {},
   "outputs": [],
   "source": []
  },
  {
   "cell_type": "code",
   "execution_count": 40,
   "id": "5d3cbaa3-105a-4419-b4b8-e464e932b531",
   "metadata": {},
   "outputs": [],
   "source": [
    "from IPython.display import HTML, clear_output\n",
    "import jax\n",
    "from jax import numpy as jp\n",
    "\n",
    "import brax\n",
    "from brax.v1.envs import env\n",
    "from brax.v1.io import json\n",
    "from brax.v1.io import html"
   ]
  },
  {
   "cell_type": "code",
   "execution_count": 41,
   "id": "22f5f7ca-4bd1-4e3f-b2a1-d36d13c2e61a",
   "metadata": {},
   "outputs": [],
   "source": [
    "with open('a1', 'r') as file:\n",
    "    content = file.read()"
   ]
  },
  {
   "cell_type": "code",
   "execution_count": 42,
   "id": "13d368c8-9c8b-433f-a5e1-73d13244cc6f",
   "metadata": {},
   "outputs": [],
   "source": [
    "class A1(env.Env):\n",
    "    def __init__(self, system_config):\n",
    "        super().__init__(config=system_config)\n",
    "\n",
    "    def reset(self, rng: jp.ndarray) -> env.State:\n",
    "        qp = self.sys.default_qp()\n",
    "        pos = qp.pos\n",
    "        info = self.sys.info(qp)\n",
    "        obs = jp.zeros(1)\n",
    "        reward, done, zero = jp.zeros(3)\n",
    "        metrics = {\n",
    "            'torsoIsUp': zero,\n",
    "            'torsoHeight': zero\n",
    "        }\n",
    "        info = {'rng': rng}\n",
    "        return env.State(qp, obs, reward, done, metrics, info)\n",
    "\n",
    "    def step(self, state: env.State, action: jp.ndarray) -> env.State:\n",
    "        qp, info = self.sys.step(state.qp, action)\n",
    "        return state.replace(qp=qp)"
   ]
  },
  {
   "cell_type": "code",
   "execution_count": 43,
   "id": "e6e9da45-5b74-4763-9034-c5a88d270de3",
   "metadata": {},
   "outputs": [
    {
     "name": "stderr",
     "output_type": "stream",
     "text": [
      "/data/benny_cai/miniconda3/envs/brax/lib/python3.9/site-packages/brax/v1/physics/base.py:193: UserWarning: dynamics_mode not specified, but joint.stiffness >0. Setting dynamics_mode=\"legacy_spring\".\n",
      "  warnings.warn('dynamics_mode not specified, but joint.stiffness >0. '\n"
     ]
    }
   ],
   "source": [
    "a1 = A1(content)"
   ]
  },
  {
   "cell_type": "code",
   "execution_count": 14,
   "id": "e4775949-2995-4757-af2f-1d5526ba71be",
   "metadata": {},
   "outputs": [],
   "source": [
    "# env_state = a1.reset(rng=jax.random.PRNGKey(0))\n",
    "# HTML(html.render(a1.sys, [a1.sys.default_qp()]))"
   ]
  },
  {
   "cell_type": "code",
   "execution_count": 58,
   "id": "c3003be2-c668-47c1-a1e7-768ab6c823d7",
   "metadata": {},
   "outputs": [],
   "source": [
    "env_state = a1.reset(rng=jax.random.PRNGKey(0))\n",
    "\n",
    "# rollout = []\n",
    "# for i in range(2):  # You can adjust the number of simulation steps\n",
    "#     print(i)\n",
    "#     # # Take a random action\n",
    "#     # action = jax.random.uniform(jax.random.PRNGKey(0), shape=(a1.action_size,))\n",
    "#     # action = jp.insert(action, 0,0)\n",
    "#     # action = jp.append(action, 0)\n",
    "#     action = jp.ones(a1.action_size,) * (-0.2)\n",
    "    \n",
    "#     # Step the environment\n",
    "#     env_state = a1.step(env_state, action)\n",
    "\n",
    "#     rollout.append(env_state.qp)\n",
    "\n",
    "# rollout = []\n",
    "# action = jp.ones(a1.action_size,) * (-0.01) * 0\n",
    "# env_state = a1.step(env_state, action)\n",
    "# rollout.append(env_state.qp)\n",
    "\n",
    "# action = jp.ones(a1.action_size,) * (-0.01)\n",
    "# env_state = a1.step(env_state, action)\n",
    "# rollout.append(env_state.qp)"
   ]
  },
  {
   "cell_type": "code",
   "execution_count": 6,
   "id": "d29b6b26-9c9d-426a-b55f-a51d313cc8d7",
   "metadata": {},
   "outputs": [],
   "source": [
    "# HTML(html.render(a1.sys, rollout))"
   ]
  },
  {
   "cell_type": "code",
   "execution_count": 7,
   "id": "eb0eef18-02d4-48e8-b222-34e3da28dab6",
   "metadata": {},
   "outputs": [
    {
     "data": {
      "text/plain": [
       "12"
      ]
     },
     "execution_count": 7,
     "metadata": {},
     "output_type": "execute_result"
    }
   ],
   "source": [
    "a1.action_size"
   ]
  },
  {
   "cell_type": "code",
   "execution_count": 10,
   "id": "15acf2b4-d828-47ca-b14b-c78fcdb862e3",
   "metadata": {},
   "outputs": [
    {
     "data": {
      "text/plain": [
       "12"
      ]
     },
     "execution_count": 10,
     "metadata": {},
     "output_type": "execute_result"
    }
   ],
   "source": [
    "a1.sys.num_joints"
   ]
  },
  {
   "cell_type": "code",
   "execution_count": 8,
   "id": "007b79f7-5a9c-43d2-afa6-ee8ce36679d2",
   "metadata": {},
   "outputs": [
    {
     "data": {
      "text/plain": [
       "{'trunk': 0,\n",
       " 'FR_hip': 1,\n",
       " 'FR_upper': 2,\n",
       " 'FR_lower': 3,\n",
       " 'FL_hip': 4,\n",
       " 'FL_upper': 5,\n",
       " 'FL_lower': 6,\n",
       " 'RR_hip': 7,\n",
       " 'RR_upper': 8,\n",
       " 'RR_lower': 9,\n",
       " 'RL_hip': 10,\n",
       " 'RL_upper': 11,\n",
       " 'RL_lower': 12,\n",
       " 'floor': 13}"
      ]
     },
     "execution_count": 8,
     "metadata": {},
     "output_type": "execute_result"
    }
   ],
   "source": [
    "a1.sys.body.index"
   ]
  },
  {
   "cell_type": "code",
   "execution_count": 11,
   "id": "484506d9-7832-4b9b-8690-a18890927cc1",
   "metadata": {},
   "outputs": [
    {
     "data": {
      "text/plain": [
       "array([[1., 1., 1.],\n",
       "       [1., 1., 1.],\n",
       "       [1., 1., 1.],\n",
       "       [1., 1., 1.],\n",
       "       [1., 1., 1.],\n",
       "       [1., 1., 1.],\n",
       "       [1., 1., 1.],\n",
       "       [1., 1., 1.],\n",
       "       [1., 1., 1.],\n",
       "       [1., 1., 1.],\n",
       "       [1., 1., 1.],\n",
       "       [1., 1., 1.],\n",
       "       [1., 1., 1.],\n",
       "       [1., 1., 1.]])"
      ]
     },
     "execution_count": 11,
     "metadata": {},
     "output_type": "execute_result"
    }
   ],
   "source": [
    "a1.sys.body.inertia"
   ]
  },
  {
   "cell_type": "code",
   "execution_count": 9,
   "id": "043244f1-4680-4c08-b56c-71fd040c03dd",
   "metadata": {},
   "outputs": [
    {
     "data": {
      "text/plain": [
       "QP(pos=array([[ 0.        ,  0.        ,  0.41992316],\n",
       "       [ 0.183     , -0.047     ,  0.41992316],\n",
       "       [ 0.183     , -0.13205   ,  0.41992316],\n",
       "       [ 0.17751757, -0.13205   ,  0.21999831],\n",
       "       [ 0.183     ,  0.047     ,  0.41992316],\n",
       "       [ 0.183     ,  0.13205   ,  0.41992316],\n",
       "       [ 0.17751757,  0.13205   ,  0.21999831],\n",
       "       [-0.183     , -0.047     ,  0.41992316],\n",
       "       [-0.183     , -0.13205   ,  0.41992316],\n",
       "       [-0.18848243, -0.13205   ,  0.21999831],\n",
       "       [-0.183     ,  0.047     ,  0.41992316],\n",
       "       [-0.183     ,  0.13205   ,  0.41992316],\n",
       "       [-0.18848243,  0.13205   ,  0.21999831],\n",
       "       [ 0.        ,  0.        ,  0.        ]]), rot=array([[ 1.00000000e+00,  0.00000000e+00,  0.00000000e+00,\n",
       "         0.00000000e+00],\n",
       "       [ 1.00000000e+00,  0.00000000e+00,  0.00000000e+00,\n",
       "         0.00000000e+00],\n",
       "       [ 9.99906050e-01,  3.04364422e-18,  1.37073550e-02,\n",
       "         0.00000000e+00],\n",
       "       [ 9.99997886e-01, -4.56560494e-19, -2.05616567e-03,\n",
       "         0.00000000e+00],\n",
       "       [ 1.00000000e+00,  0.00000000e+00,  0.00000000e+00,\n",
       "         0.00000000e+00],\n",
       "       [ 9.99906050e-01,  3.04364422e-18,  1.37073550e-02,\n",
       "         0.00000000e+00],\n",
       "       [ 9.99997886e-01, -4.56560494e-19, -2.05616567e-03,\n",
       "         0.00000000e+00],\n",
       "       [ 1.00000000e+00,  0.00000000e+00,  0.00000000e+00,\n",
       "         0.00000000e+00],\n",
       "       [ 9.99906050e-01,  3.04364422e-18,  1.37073550e-02,\n",
       "         0.00000000e+00],\n",
       "       [ 9.99997886e-01, -4.56560494e-19, -2.05616567e-03,\n",
       "         0.00000000e+00],\n",
       "       [ 1.00000000e+00,  0.00000000e+00,  0.00000000e+00,\n",
       "         0.00000000e+00],\n",
       "       [ 9.99906050e-01,  3.04364422e-18,  1.37073550e-02,\n",
       "         0.00000000e+00],\n",
       "       [ 9.99997886e-01, -4.56560494e-19, -2.05616567e-03,\n",
       "         0.00000000e+00],\n",
       "       [ 1.00000000e+00,  0.00000000e+00,  0.00000000e+00,\n",
       "         0.00000000e+00]]), vel=array([[0., 0., 0.],\n",
       "       [0., 0., 0.],\n",
       "       [0., 0., 0.],\n",
       "       [0., 0., 0.],\n",
       "       [0., 0., 0.],\n",
       "       [0., 0., 0.],\n",
       "       [0., 0., 0.],\n",
       "       [0., 0., 0.],\n",
       "       [0., 0., 0.],\n",
       "       [0., 0., 0.],\n",
       "       [0., 0., 0.],\n",
       "       [0., 0., 0.],\n",
       "       [0., 0., 0.],\n",
       "       [0., 0., 0.]]), ang=array([[0., 0., 0.],\n",
       "       [0., 0., 0.],\n",
       "       [0., 0., 0.],\n",
       "       [0., 0., 0.],\n",
       "       [0., 0., 0.],\n",
       "       [0., 0., 0.],\n",
       "       [0., 0., 0.],\n",
       "       [0., 0., 0.],\n",
       "       [0., 0., 0.],\n",
       "       [0., 0., 0.],\n",
       "       [0., 0., 0.],\n",
       "       [0., 0., 0.],\n",
       "       [0., 0., 0.],\n",
       "       [0., 0., 0.]]))"
      ]
     },
     "execution_count": 9,
     "metadata": {},
     "output_type": "execute_result"
    }
   ],
   "source": [
    "a1.sys.default_qp()"
   ]
  }
 ],
 "metadata": {
  "kernelspec": {
   "display_name": "Python 3 (ipykernel)",
   "language": "python",
   "name": "python3"
  },
  "language_info": {
   "codemirror_mode": {
    "name": "ipython",
    "version": 3
   },
   "file_extension": ".py",
   "mimetype": "text/x-python",
   "name": "python",
   "nbconvert_exporter": "python",
   "pygments_lexer": "ipython3",
   "version": "3.9.0"
  }
 },
 "nbformat": 4,
 "nbformat_minor": 5
}
