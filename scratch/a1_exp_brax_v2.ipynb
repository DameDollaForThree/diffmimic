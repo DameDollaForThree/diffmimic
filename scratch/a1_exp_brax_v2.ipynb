{
 "cells": [
  {
   "cell_type": "code",
   "execution_count": 37,
   "id": "cd0b3fb3-f1d4-4327-92d6-f8ff1db6cb85",
   "metadata": {},
   "outputs": [
    {
     "name": "stdout",
     "output_type": "stream",
     "text": [
      "I0125 20:41:11.544692 140288389826368 urdf_converter.py:58] Loading urdf model from legged_studio_a1_more_colli.urdf\n"
     ]
    }
   ],
   "source": [
    "# !python /data/benny_cai/miniconda3/envs/brax/lib/python3.9/site-packages/brax/v1/tools/urdf_converter.py --xml_model_path 'legged_studio_a1_more_colli.urdf' --config_path 'a1'"
   ]
  },
  {
   "cell_type": "code",
   "execution_count": 1,
   "id": "ec8bc477-3d34-452f-9434-ce7953e82d6c",
   "metadata": {},
   "outputs": [],
   "source": [
    "# !python /data/benny_cai/miniconda3/envs/brax/lib/python3.9/site-packages/brax/v1/tools/mujoco_converter.py --xml_model_path 'a1_mjcf.txt' --config_path 'a1_mjcf'"
   ]
  },
  {
   "cell_type": "markdown",
   "id": "03bb3998-90ca-4842-a48c-df9d2284bb9c",
   "metadata": {},
   "source": [
    "## With interpolation"
   ]
  },
  {
   "cell_type": "code",
   "execution_count": 1,
   "id": "9a99a417-67bb-48ed-88f6-dcedc2218e5d",
   "metadata": {},
   "outputs": [],
   "source": [
    "from brax.positional import pipeline\n",
    "from brax.io import mjcf\n",
    "\n",
    "from IPython.display import HTML, clear_output\n",
    "import jax\n",
    "from jax import numpy as jp\n",
    "from brax.io import html\n",
    "import json\n",
    "import numpy as np\n",
    "import copy\n",
    "import transforms3d.quaternions as quat"
   ]
  },
  {
   "cell_type": "code",
   "execution_count": 2,
   "id": "950eb556-9403-4148-9f1e-1c8a472d0cab",
   "metadata": {},
   "outputs": [],
   "source": [
    "from scipy.spatial.transform import Rotation as R\n",
    "from scipy.spatial.transform import Slerp"
   ]
  },
  {
   "cell_type": "code",
   "execution_count": 3,
   "id": "fb586300-f85d-43e4-9f06-a4014db50b24",
   "metadata": {},
   "outputs": [],
   "source": [
    "with open('a1_mjcf.txt', 'r') as file:\n",
    "    config = file.read()\n",
    "\n",
    "m = mjcf.loads(config, asset_path='')"
   ]
  },
  {
   "cell_type": "code",
   "execution_count": 4,
   "id": "f848f92e-2c87-49c1-867a-9ede692edcfa",
   "metadata": {},
   "outputs": [
    {
     "data": {
      "text/plain": [
       "(130, 19)"
      ]
     },
     "execution_count": 4,
     "metadata": {},
     "output_type": "execute_result"
    }
   ],
   "source": [
    "file = 'a1_origin_motions/jump_backward_flip.txt'\n",
    "with open(file, 'r') as f:\n",
    "    data = json.load(f)\n",
    "frames = data['Frames']\n",
    "frameDuration = data['FrameDuration']\n",
    "frames = np.array(frames)\n",
    "frames.shape"
   ]
  },
  {
   "cell_type": "code",
   "execution_count": 5,
   "id": "c122e50b-71fe-4fc2-a4f9-d5fcda0e2731",
   "metadata": {},
   "outputs": [
    {
     "data": {
      "text/plain": [
       "(130, 18)"
      ]
     },
     "execution_count": 5,
     "metadata": {},
     "output_type": "execute_result"
    }
   ],
   "source": [
    "# compute frame velocities\n",
    "num_frames = frames.shape[0]\n",
    "frame_vel_size = 18\n",
    "dt = frameDuration\n",
    "frames_vels = []\n",
    "\n",
    "for i in range(frames.shape[0]-1):\n",
    "    frame0, frame1 = frames[i], frames[i+1]\n",
    "\n",
    "    root_pos0 = frame0[0:3]\n",
    "    root_pos1 = frame1[0:3]\n",
    "    root_rot0 = frame0[3:7]\n",
    "    root_rot1 = frame1[3:7]\n",
    "    joints0 = frame0[7:19]\n",
    "    joints1 = frame1[7:19]\n",
    "    root_rot0 = [root_rot0[3], root_rot0[0], root_rot0[1], root_rot0[2]]\n",
    "    root_rot1 = [root_rot1[3], root_rot1[0], root_rot1[1], root_rot1[2]]\n",
    "    \n",
    "    root_vel = (root_pos1 - root_pos0) / dt\n",
    "    root_rot_diff = quat.qmult(root_rot1, quat.qconjugate(root_rot0))\n",
    "    root_rot_diff_axis, root_rot_diff_angle = quat.quat2axangle(root_rot_diff)\n",
    "    root_ang_vel = (root_rot_diff_angle / dt) * root_rot_diff_axis\n",
    "    joints_vel = (joints1 - joints0) / dt\n",
    "    curr_frame_vel = np.concatenate((root_vel, root_ang_vel, joints_vel))\n",
    "    frames_vels.append(curr_frame_vel)\n",
    "\n",
    "# replicate the velocity at the last frame\n",
    "if num_frames > 1:\n",
    "  frames_vels.append(frames_vels[-1])\n",
    "\n",
    "frames_vels = np.array(frames_vels)\n",
    "frames_vels.shape"
   ]
  },
  {
   "cell_type": "code",
   "execution_count": 6,
   "id": "d5c6b2df-14d8-4e88-bfe4-9eccdc7cf626",
   "metadata": {},
   "outputs": [],
   "source": [
    "targetDuration = 0.05\n",
    "interpolated_idx = 0\n",
    "interp_frames = []\n",
    "interp_frames_vels = []\n",
    "for i in range(frames.shape[0]-1):\n",
    "    if interpolated_idx * targetDuration >= frameDuration * i \\\n",
    "        and interpolated_idx * targetDuration <= frameDuration * (i+1):\n",
    "        frame0, frame1 = frames[i], frames[i+1]\n",
    "        frame_vel0, frame_vel1 = frames_vels[i], frames_vels[i+1]\n",
    "        \n",
    "        blend = (interpolated_idx * targetDuration - frameDuration * i) / frameDuration\n",
    "\n",
    "        root_pos0 = frame0[0:3]\n",
    "        root_pos1 = frame1[0:3]\n",
    "        root_rot0 = frame0[3:7]\n",
    "        root_rot1 = frame1[3:7]\n",
    "        joints0 = frame0[7:19]\n",
    "        joints1 = frame1[7:19]\n",
    "\n",
    "        quats = [root_rot0, root_rot1]\n",
    "        quats = [[quat[3], quat[0], quat[1], quat[2]] for quat in quats]\n",
    "        key_rots = R.from_quat(quats)\n",
    "        key_times = [frameDuration * i, frameDuration * (i+1)]\n",
    "        slerp = Slerp(key_times, key_rots)\n",
    "        time = interpolated_idx * targetDuration\n",
    "        interp_rots = slerp(time)\n",
    "        \n",
    "        blend_root_pos = (1.0 - blend) * root_pos0 + blend * root_pos1\n",
    "        blend_joints = (1.0 - blend) * joints0 + blend * joints1\n",
    "        interp_frames.append(np.hstack((blend_root_pos, interp_rots.as_quat(), blend_joints)))\n",
    "\n",
    "        blend_frame_vel = (1.0 - blend) * frame_vel0 + blend * frame_vel1\n",
    "        interp_frames_vels.append(blend_frame_vel)\n",
    "        interpolated_idx += 1"
   ]
  },
  {
   "cell_type": "code",
   "execution_count": 7,
   "id": "2a7b9457-ce2d-4b6f-9cb8-6a731661c884",
   "metadata": {},
   "outputs": [
    {
     "data": {
      "text/plain": [
       "(44, 19)"
      ]
     },
     "execution_count": 7,
     "metadata": {},
     "output_type": "execute_result"
    }
   ],
   "source": [
    "interp_frames = np.array(interp_frames)\n",
    "interp_frames.shape"
   ]
  },
  {
   "cell_type": "code",
   "execution_count": 8,
   "id": "6998af10-c73f-4094-b727-7c5492e26c04",
   "metadata": {},
   "outputs": [
    {
     "data": {
      "text/plain": [
       "(44, 18)"
      ]
     },
     "execution_count": 8,
     "metadata": {},
     "output_type": "execute_result"
    }
   ],
   "source": [
    "interp_frames_vels = np.array(interp_frames_vels)\n",
    "interp_frames_vels.shape"
   ]
  },
  {
   "cell_type": "code",
   "execution_count": 9,
   "id": "bb6e120e-11cc-4b1f-a80b-e3fbe22730f1",
   "metadata": {},
   "outputs": [],
   "source": [
    "jit_env_reset = jax.jit(pipeline.init)\n",
    "jit_env_step = jax.jit(pipeline.step)\n",
    "\n",
    "rng = jax.random.PRNGKey(seed=1)\n",
    "rollout = []\n",
    "for frame, frame_vel in zip(interp_frames, interp_frames_vels):\n",
    "    state = jit_env_reset(m, frame, frame_vel)\n",
    "    rollout.append(state)"
   ]
  },
  {
   "cell_type": "code",
   "execution_count": 11,
   "id": "7bc5fb48-5a2d-4e11-a415-7c4a003298c1",
   "metadata": {
    "scrolled": true
   },
   "outputs": [],
   "source": [
    "# HTML(html.render(m.replace(dt=0.002*25), rollout))"
   ]
  },
  {
   "cell_type": "code",
   "execution_count": 15,
   "id": "c0ef74a8-59f0-4c65-8bf2-2d0b34f58d86",
   "metadata": {},
   "outputs": [
    {
     "data": {
      "text/plain": [
       "Array([[ 0.      , -6.051734,  0.      ],\n",
       "       [ 0.      , -6.051734,  0.      ],\n",
       "       [ 0.      , -6.051734,  0.      ],\n",
       "       [ 0.      , -6.051734,  0.      ],\n",
       "       [ 0.      , -6.051734,  0.      ],\n",
       "       [ 0.      , -6.051734,  0.      ],\n",
       "       [ 0.      , -6.051734,  0.      ],\n",
       "       [ 0.      , -6.051734,  0.      ],\n",
       "       [ 0.      , -6.051734,  0.      ],\n",
       "       [ 0.      , -6.051734,  0.      ],\n",
       "       [ 0.      , -6.051734,  0.      ],\n",
       "       [ 0.      , -6.051734,  0.      ],\n",
       "       [ 0.      , -6.051734,  0.      ]], dtype=float32)"
      ]
     },
     "execution_count": 15,
     "metadata": {},
     "output_type": "execute_result"
    }
   ],
   "source": [
    "rollout[43].xd_i.ang"
   ]
  },
  {
   "cell_type": "code",
   "execution_count": 10,
   "id": "227a20a2-117b-4e08-aa1c-5249a150ae80",
   "metadata": {},
   "outputs": [],
   "source": [
    "# serialize data, positional:\n",
    "data = []\n",
    "for roll in rollout:\n",
    "    QP = np.hstack((\n",
    "        roll.q, \n",
    "        roll.qd, \n",
    "        roll.x.pos.flatten(), \n",
    "        roll.x.rot.flatten(), \n",
    "        roll.xd.vel.flatten(), \n",
    "        roll.xd.ang.flatten(),\n",
    "        roll.x_i.pos.flatten(), \n",
    "        roll.x_i.rot.flatten(), \n",
    "        roll.xd_i.vel.flatten(), \n",
    "        roll.xd_i.ang.flatten(),\n",
    "        roll.j.pos.flatten(), \n",
    "        roll.j.rot.flatten(), \n",
    "        roll.jd.vel.flatten(), \n",
    "        roll.jd.ang.flatten(),\n",
    "        roll.a_p.pos.flatten(), \n",
    "        roll.a_p.rot.flatten(), \n",
    "        roll.a_c.pos.flatten(), \n",
    "        roll.a_c.rot.flatten(),\n",
    "        roll.mass\n",
    "    ))\n",
    "    data.append(QP)"
   ]
  },
  {
   "cell_type": "code",
   "execution_count": 11,
   "id": "61496923-c948-4897-a760-5e7338e5d4d1",
   "metadata": {},
   "outputs": [
    {
     "data": {
      "text/plain": [
       "(321, 739)"
      ]
     },
     "execution_count": 11,
     "metadata": {},
     "output_type": "execute_result"
    }
   ],
   "source": [
    "data = np.array(data)\n",
    "data.shape"
   ]
  },
  {
   "cell_type": "code",
   "execution_count": 12,
   "id": "5518c752-3bec-4ebd-a8f6-6394a8efa50d",
   "metadata": {},
   "outputs": [],
   "source": [
    "np.save('a1_ref_motion/trot.npy', data)"
   ]
  },
  {
   "cell_type": "markdown",
   "id": "428505fc-2e52-40d3-a2f9-cd2d71a597e5",
   "metadata": {},
   "source": [
    "## No interpolation"
   ]
  },
  {
   "cell_type": "code",
   "execution_count": 1,
   "id": "69d0be3c-444a-481c-bf40-19db0dfc6cb0",
   "metadata": {},
   "outputs": [],
   "source": [
    "from brax.positional import pipeline\n",
    "from brax.io import mjcf\n",
    "\n",
    "from IPython.display import HTML, clear_output\n",
    "import jax\n",
    "from jax import numpy as jp\n",
    "from brax.io import html\n",
    "import json\n",
    "import numpy as np"
   ]
  },
  {
   "cell_type": "code",
   "execution_count": 2,
   "id": "d5b3af26-fabe-496b-9b98-d97d6f2a0153",
   "metadata": {},
   "outputs": [],
   "source": [
    "with open('a1_mjcf.txt', 'r') as file:\n",
    "    config = file.read()\n",
    "\n",
    "m = mjcf.loads(config, asset_path='')"
   ]
  },
  {
   "cell_type": "code",
   "execution_count": 10,
   "id": "fa2e6881-088f-473b-9463-4e92c4dcc035",
   "metadata": {},
   "outputs": [
    {
     "data": {
      "text/plain": [
       "(526, 19)"
      ]
     },
     "execution_count": 10,
     "metadata": {},
     "output_type": "execute_result"
    }
   ],
   "source": [
    "file = 'a1_origin_motions/jump08.txt'\n",
    "with open(file, 'r') as f:\n",
    "    data = json.load(f)\n",
    "frames = data['Frames']\n",
    "frames = np.array(frames)\n",
    "frames.shape"
   ]
  },
  {
   "cell_type": "code",
   "execution_count": 11,
   "id": "8caa15ee-2919-4130-8b55-08e61f02c73a",
   "metadata": {},
   "outputs": [],
   "source": [
    "jit_env_reset = jax.jit(pipeline.init)\n",
    "jit_env_step = jax.jit(pipeline.step)\n",
    "\n",
    "rng = jax.random.PRNGKey(seed=1)\n",
    "# state = jit_env_reset(m, m.init_q, jp.zeros(m.qd_size()))\n",
    "rollout = []\n",
    "for frame in frames:\n",
    "    frame[3], frame[4], frame[5], frame[6] = frame[6], frame[3], frame[4], frame[5]\n",
    "    # frame[3], frame[6] = frame[6], frame[3]\n",
    "    state = jit_env_reset(m, frame, jp.zeros(m.qd_size()))\n",
    "    rollout.append(state)"
   ]
  },
  {
   "cell_type": "code",
   "execution_count": 15,
   "id": "f7e8cb42-85b9-440e-a3d1-5878c2d65d0b",
   "metadata": {},
   "outputs": [],
   "source": [
    "# HTML(html.render(m.replace(dt=0.02), rollout))"
   ]
  },
  {
   "cell_type": "code",
   "execution_count": 33,
   "id": "56a7cb70-93f3-4791-a636-c81d57ce1516",
   "metadata": {},
   "outputs": [],
   "source": [
    "# # serialize data, generalized:\n",
    "# data = []\n",
    "# for roll in rollout:\n",
    "#     QP = np.hstack((roll.q, roll.qd, roll.x.pos.flatten(), \n",
    "#                     roll.x.rot.flatten(), roll.xd.vel.flatten(), roll.xd.ang.flatten(),\n",
    "#                     roll.root_com.flatten(),\n",
    "#                     roll.cinr.transform.pos.flatten(),\n",
    "#                     roll.cinr.transform.rot.flatten(),\n",
    "#                     roll.cinr.i.flatten(),\n",
    "#                     roll.cinr.mass,\n",
    "#                     roll.cd.vel.flatten(),\n",
    "#                     roll.cd.ang.flatten(),\n",
    "#                     roll.cdof.vel.flatten(),\n",
    "#                     roll.cdof.ang.flatten(),\n",
    "#                     roll.cdofd.vel.flatten(),\n",
    "#                     roll.cdofd.ang.flatten(),\n",
    "#                     roll.mass_mx.flatten(),\n",
    "#                     roll.mass_mx_inv.flatten(),\n",
    "#                     roll.con_jac.flatten(),\n",
    "#                     roll.con_diag,\n",
    "#                     roll.con_aref,\n",
    "#                     roll.qf_smooth,\n",
    "#                     roll.qf_constraint,\n",
    "#                     roll.qdd\n",
    "#                    ))\n",
    "#     data.append(QP)"
   ]
  },
  {
   "cell_type": "code",
   "execution_count": 10,
   "id": "aa7f736f-8ad5-4c42-95ae-3d939c3fab6f",
   "metadata": {},
   "outputs": [],
   "source": [
    "# serialize data, positional:\n",
    "data = []\n",
    "for roll in rollout:\n",
    "    QP = np.hstack((\n",
    "        roll.q, \n",
    "        roll.qd, \n",
    "        roll.x.pos.flatten(), \n",
    "        roll.x.rot.flatten(), \n",
    "        roll.xd.vel.flatten(), \n",
    "        roll.xd.ang.flatten(),\n",
    "        roll.x_i.pos.flatten(), \n",
    "        roll.x_i.rot.flatten(), \n",
    "        roll.xd_i.vel.flatten(), \n",
    "        roll.xd_i.ang.flatten(),\n",
    "        roll.j.pos.flatten(), \n",
    "        roll.j.rot.flatten(), \n",
    "        roll.jd.vel.flatten(), \n",
    "        roll.jd.ang.flatten(),\n",
    "        roll.a_p.pos.flatten(), \n",
    "        roll.a_p.rot.flatten(), \n",
    "        roll.a_c.pos.flatten(), \n",
    "        roll.a_c.rot.flatten(),\n",
    "        roll.mass\n",
    "    ))\n",
    "    data.append(QP)"
   ]
  },
  {
   "cell_type": "code",
   "execution_count": 11,
   "id": "7aff928e-4cdf-4aff-9bef-99d1f09396a5",
   "metadata": {},
   "outputs": [
    {
     "data": {
      "text/plain": [
       "(33, 739)"
      ]
     },
     "execution_count": 11,
     "metadata": {},
     "output_type": "execute_result"
    }
   ],
   "source": [
    "data = np.array(data)\n",
    "data.shape"
   ]
  },
  {
   "cell_type": "code",
   "execution_count": 12,
   "id": "91d5998c-bc01-47aa-a994-64ec03b38df0",
   "metadata": {},
   "outputs": [],
   "source": [
    "np.save('a1_ref_motion/trot.npy', data)"
   ]
  },
  {
   "cell_type": "code",
   "execution_count": 31,
   "id": "f9e6e06a-5ba1-4921-8855-6bbeef24915e",
   "metadata": {},
   "outputs": [
    {
     "data": {
      "text/plain": [
       "['T',\n",
       " '__add__',\n",
       " '__annotations__',\n",
       " '__class__',\n",
       " '__dataclass_fields__',\n",
       " '__dataclass_params__',\n",
       " '__delattr__',\n",
       " '__dict__',\n",
       " '__dir__',\n",
       " '__doc__',\n",
       " '__eq__',\n",
       " '__format__',\n",
       " '__ge__',\n",
       " '__getattribute__',\n",
       " '__gt__',\n",
       " '__hash__',\n",
       " '__init__',\n",
       " '__init_subclass__',\n",
       " '__le__',\n",
       " '__lt__',\n",
       " '__module__',\n",
       " '__mul__',\n",
       " '__ne__',\n",
       " '__neg__',\n",
       " '__new__',\n",
       " '__reduce__',\n",
       " '__reduce_ex__',\n",
       " '__repr__',\n",
       " '__setattr__',\n",
       " '__sizeof__',\n",
       " '__str__',\n",
       " '__sub__',\n",
       " '__subclasshook__',\n",
       " '__truediv__',\n",
       " '__weakref__',\n",
       " '_flax_dataclass',\n",
       " 'a_c',\n",
       " 'a_p',\n",
       " 'concatenate',\n",
       " 'contact',\n",
       " 'index_set',\n",
       " 'index_sum',\n",
       " 'j',\n",
       " 'jd',\n",
       " 'mass',\n",
       " 'q',\n",
       " 'qd',\n",
       " 'replace',\n",
       " 'reshape',\n",
       " 'select',\n",
       " 'slice',\n",
       " 'take',\n",
       " 'tree_replace',\n",
       " 'vmap',\n",
       " 'x',\n",
       " 'x_i',\n",
       " 'xd',\n",
       " 'xd_i']"
      ]
     },
     "execution_count": 31,
     "metadata": {},
     "output_type": "execute_result"
    }
   ],
   "source": [
    "dir(rollout[0])"
   ]
  },
  {
   "cell_type": "code",
   "execution_count": 39,
   "id": "650fdb88-d98f-4fb2-b132-cb145d06e15f",
   "metadata": {},
   "outputs": [],
   "source": [
    "rollout[10].contact"
   ]
  },
  {
   "cell_type": "code",
   "execution_count": 34,
   "id": "5ff61f2c-26af-4887-8604-245151a1637f",
   "metadata": {},
   "outputs": [
    {
     "data": {
      "text/plain": [
       "Array([[-8.68828793e-05,  4.12178272e-03, -2.51710415e-04],\n",
       "       [-3.29609215e-03, -7.08241016e-04, -3.27527523e-05],\n",
       "       [-1.00523382e-02,  2.26075128e-02, -2.53679752e-02],\n",
       "       [ 1.30997702e-01,  2.60286033e-03,  1.65096223e-02],\n",
       "       [-3.32412124e-03,  5.62351197e-04, -3.05473804e-05],\n",
       "       [-2.12564766e-02, -2.30624303e-02, -1.64915025e-02],\n",
       "       [ 1.10549971e-01,  1.24979019e-03, -7.22280219e-02],\n",
       "       [ 3.32412124e-03, -5.62336296e-04,  3.01599503e-05],\n",
       "       [-2.28128880e-02,  2.30522826e-02, -1.42775476e-02],\n",
       "       [ 9.70614851e-02,  9.59122926e-03, -8.90327096e-02],\n",
       "       [ 3.29473615e-03,  7.04083592e-04,  1.25974417e-04],\n",
       "       [-2.35372782e-02, -2.19015554e-02, -1.48997307e-02],\n",
       "       [ 1.04690775e-01,  7.94543326e-03, -8.01027641e-02]],      dtype=float32)"
      ]
     },
     "execution_count": 34,
     "metadata": {},
     "output_type": "execute_result"
    }
   ],
   "source": [
    "rollout[0].x_i.pos - rollout[0].x.pos"
   ]
  },
  {
   "cell_type": "code",
   "execution_count": 2,
   "id": "b7cb36e4-1a39-4901-8b98-f83eb99fde12",
   "metadata": {},
   "outputs": [],
   "source": [
    "rollouts = np.load('/data/benny_cai/diffmimic/logs/exp_300_32_0.0003_10_0.4_0_threshold_0.4_True_54_60_600_True_0.02_0.5_0.01_0.01_trot/eval_traj_10.npy')"
   ]
  },
  {
   "cell_type": "code",
   "execution_count": 3,
   "id": "62895c27-cc13-45b2-aa5a-c38331e972f2",
   "metadata": {},
   "outputs": [
    {
     "data": {
      "text/plain": [
       "(32, 32, 739)"
      ]
     },
     "execution_count": 3,
     "metadata": {},
     "output_type": "execute_result"
    }
   ],
   "source": [
    "rollouts.shape"
   ]
  },
  {
   "cell_type": "code",
   "execution_count": 5,
   "id": "3135f580-7f77-46f5-aa2c-4a0f297c9b1d",
   "metadata": {},
   "outputs": [],
   "source": [
    "# rollouts[0]"
   ]
  },
  {
   "cell_type": "markdown",
   "id": "6c6a59ae-8d19-4201-894c-e16e5dd09ddc",
   "metadata": {},
   "source": [
    "### Try"
   ]
  },
  {
   "cell_type": "code",
   "execution_count": 1,
   "id": "6cd56dae-dfc1-4627-9a91-a79466b162a2",
   "metadata": {},
   "outputs": [],
   "source": [
    "from brax.positional import pipeline\n",
    "from brax.io import mjcf\n",
    "\n",
    "from IPython.display import HTML, clear_output\n",
    "import jax\n",
    "from jax import numpy as jp\n",
    "from brax.io import html\n",
    "import json\n",
    "import numpy as np\n",
    "import transforms3d.quaternions as quat\n",
    "from brax.envs.base import PipelineEnv, State"
   ]
  },
  {
   "cell_type": "code",
   "execution_count": 2,
   "id": "6795e491-c75f-4f0f-b89f-064375d74d06",
   "metadata": {},
   "outputs": [
    {
     "name": "stdout",
     "output_type": "stream",
     "text": [
      "ctrl_range:  [[-0.802851  0.802851]\n",
      " [-1.0472    4.18879 ]\n",
      " [-2.69653  -0.916298]\n",
      " [-0.802851  0.802851]\n",
      " [-1.0472    4.18879 ]\n",
      " [-2.69653  -0.916298]\n",
      " [-0.802851  0.802851]\n",
      " [-1.0472    4.18879 ]\n",
      " [-2.69653  -0.916298]\n",
      " [-0.802851  0.802851]\n",
      " [-1.0472    4.18879 ]\n",
      " [-2.69653  -0.916298]]\n",
      "actuator_biasprm:  [[   0. -100.    0.    0.    0.    0.    0.    0.    0.    0.]\n",
      " [   0. -100.    0.    0.    0.    0.    0.    0.    0.    0.]\n",
      " [   0. -100.    0.    0.    0.    0.    0.    0.    0.    0.]\n",
      " [   0. -100.    0.    0.    0.    0.    0.    0.    0.    0.]\n",
      " [   0. -100.    0.    0.    0.    0.    0.    0.    0.    0.]\n",
      " [   0. -100.    0.    0.    0.    0.    0.    0.    0.    0.]\n",
      " [   0. -100.    0.    0.    0.    0.    0.    0.    0.    0.]\n",
      " [   0. -100.    0.    0.    0.    0.    0.    0.    0.    0.]\n",
      " [   0. -100.    0.    0.    0.    0.    0.    0.    0.    0.]\n",
      " [   0. -100.    0.    0.    0.    0.    0.    0.    0.    0.]\n",
      " [   0. -100.    0.    0.    0.    0.    0.    0.    0.    0.]\n",
      " [   0. -100.    0.    0.    0.    0.    0.    0.    0.    0.]]\n",
      "mj.actuator_gainprm:  [[100.   0.   0.   0.   0.   0.   0.   0.   0.   0.]\n",
      " [100.   0.   0.   0.   0.   0.   0.   0.   0.   0.]\n",
      " [100.   0.   0.   0.   0.   0.   0.   0.   0.   0.]\n",
      " [100.   0.   0.   0.   0.   0.   0.   0.   0.   0.]\n",
      " [100.   0.   0.   0.   0.   0.   0.   0.   0.   0.]\n",
      " [100.   0.   0.   0.   0.   0.   0.   0.   0.   0.]\n",
      " [100.   0.   0.   0.   0.   0.   0.   0.   0.   0.]\n",
      " [100.   0.   0.   0.   0.   0.   0.   0.   0.   0.]\n",
      " [100.   0.   0.   0.   0.   0.   0.   0.   0.   0.]\n",
      " [100.   0.   0.   0.   0.   0.   0.   0.   0.   0.]\n",
      " [100.   0.   0.   0.   0.   0.   0.   0.   0.   0.]\n",
      " [100.   0.   0.   0.   0.   0.   0.   0.   0.   0.]]\n",
      "mj.actuator_gear:  [[1. 0. 0. 0. 0. 0.]\n",
      " [1. 0. 0. 0. 0. 0.]\n",
      " [1. 0. 0. 0. 0. 0.]\n",
      " [1. 0. 0. 0. 0. 0.]\n",
      " [1. 0. 0. 0. 0. 0.]\n",
      " [1. 0. 0. 0. 0. 0.]\n",
      " [1. 0. 0. 0. 0. 0.]\n",
      " [1. 0. 0. 0. 0. 0.]\n",
      " [1. 0. 0. 0. 0. 0.]\n",
      " [1. 0. 0. 0. 0. 0.]\n",
      " [1. 0. 0. 0. 0. 0.]\n",
      " [1. 0. 0. 0. 0. 0.]]\n"
     ]
    }
   ],
   "source": [
    "with open('a1_mjcf.txt', 'r') as file:\n",
    "    config = file.read()\n",
    "\n",
    "m = mjcf.loads(config, asset_path='')"
   ]
  },
  {
   "cell_type": "code",
   "execution_count": 15,
   "id": "16e480f1-b04d-47a2-9d44-ef8be64e01ee",
   "metadata": {},
   "outputs": [
    {
     "data": {
      "text/plain": [
       "(130, 19)"
      ]
     },
     "execution_count": 15,
     "metadata": {},
     "output_type": "execute_result"
    }
   ],
   "source": [
    "file = 'a1_origin_motions/jump_backward_flip.txt'\n",
    "with open(file, 'r') as f:\n",
    "    data = json.load(f)\n",
    "frames = data['Frames']\n",
    "frameDuration = data['FrameDuration']\n",
    "frames = np.array(frames)\n",
    "frames.shape"
   ]
  },
  {
   "cell_type": "code",
   "execution_count": 16,
   "id": "f9d6ec78-364c-44c6-8181-8e4f33b6a08c",
   "metadata": {},
   "outputs": [
    {
     "data": {
      "text/plain": [
       "(130, 18)"
      ]
     },
     "execution_count": 16,
     "metadata": {},
     "output_type": "execute_result"
    }
   ],
   "source": [
    "num_frames = frames.shape[0]\n",
    "frame_vel_size = 18\n",
    "dt = frameDuration\n",
    "frames_vels = []\n",
    "\n",
    "for i in range(frames.shape[0]-1):\n",
    "    frame0, frame1 = frames[i], frames[i+1]\n",
    "\n",
    "    root_pos0 = frame0[0:3]\n",
    "    root_pos1 = frame1[0:3]\n",
    "    root_rot0 = frame0[3:7]\n",
    "    root_rot1 = frame1[3:7]\n",
    "    joints0 = frame0[7:19]\n",
    "    joints1 = frame1[7:19]\n",
    "    root_rot0 = [root_rot0[3], root_rot0[0], root_rot0[1], root_rot0[2]]\n",
    "    root_rot1 = [root_rot1[3], root_rot1[0], root_rot1[1], root_rot1[2]]\n",
    "    \n",
    "    root_vel = (root_pos1 - root_pos0) / dt\n",
    "    root_rot_diff = quat.qmult(root_rot1, quat.qconjugate(root_rot0))\n",
    "    root_rot_diff_axis, root_rot_diff_angle = quat.quat2axangle(root_rot_diff)\n",
    "    root_ang_vel = (root_rot_diff_angle / dt) * root_rot_diff_axis\n",
    "    joints_vel = (joints1 - joints0) / dt\n",
    "    curr_frame_vel = np.concatenate((root_vel, root_ang_vel, joints_vel))\n",
    "    frames_vels.append(curr_frame_vel)\n",
    "\n",
    "# replicate the velocity at the last frame\n",
    "if num_frames > 1:\n",
    "  frames_vels.append(frames_vels[-1])\n",
    "\n",
    "frames_vels = np.array(frames_vels)\n",
    "frames_vels.shape"
   ]
  },
  {
   "cell_type": "code",
   "execution_count": 17,
   "id": "e53706ce-3b24-4d54-8b5a-51f147e9a9d3",
   "metadata": {},
   "outputs": [],
   "source": [
    "jit_env_reset = jax.jit(pipeline.init)\n",
    "jit_env_step = jax.jit(pipeline.step)\n",
    "\n",
    "rollout = []\n",
    "for frame, frame_vel in zip(frames, frames_vels):\n",
    "    frame[3], frame[4], frame[5], frame[6] = frame[6], frame[3], frame[4], frame[5]\n",
    "    # state = jit_env_reset(m, frame, 20*jp.ones(m.qd_size())) # try\n",
    "    state = jit_env_reset(m, frame, frame_vel)\n",
    "    rollout.append(state)"
   ]
  },
  {
   "cell_type": "code",
   "execution_count": 19,
   "id": "215ce10e-1fc3-493d-934e-1b6f351cff33",
   "metadata": {
    "scrolled": true
   },
   "outputs": [],
   "source": [
    "# HTML(html.render(m.replace(dt=0.02), rollout))"
   ]
  },
  {
   "cell_type": "code",
   "execution_count": 5,
   "id": "4dfd237a-c333-4f70-bd27-d0ddd08af5f7",
   "metadata": {},
   "outputs": [],
   "source": [
    "# for state in rollout:\n",
    "#     print(\"##############\")\n",
    "#     print(\"x: \", state.x.pos[1])\n",
    "#     print(\"x_i: \", state.x_i.pos[1])    "
   ]
  },
  {
   "cell_type": "code",
   "execution_count": 12,
   "id": "e61049e9-6d57-46a0-980f-9b907e78d6ad",
   "metadata": {},
   "outputs": [
    {
     "data": {
      "text/plain": [
       "Array([[-0.23447   ,  0.        ,  0.51898   ],\n",
       "       [-0.22583362, -0.04700003,  0.7017762 ],\n",
       "       [-0.22583362, -0.13205008,  0.7017762 ],\n",
       "       [-0.11724531, -0.13205008,  0.53382194],\n",
       "       [-0.22583362,  0.04700003,  0.7017762 ],\n",
       "       [-0.22583362,  0.13205008,  0.7017762 ],\n",
       "       [-0.11724531,  0.13205008,  0.53382194],\n",
       "       [-0.24310637, -0.04700003,  0.33618385],\n",
       "       [-0.24310637, -0.13205008,  0.33618385],\n",
       "       [-0.33995968, -0.13205008,  0.16119963],\n",
       "       [-0.24310637,  0.04700003,  0.33618385],\n",
       "       [-0.24310637,  0.13205008,  0.33618385],\n",
       "       [-0.33995968,  0.13205008,  0.16119963]], dtype=float32)"
      ]
     },
     "execution_count": 12,
     "metadata": {},
     "output_type": "execute_result"
    }
   ],
   "source": [
    "rollout[80].x.pos"
   ]
  },
  {
   "cell_type": "code",
   "execution_count": 13,
   "id": "21ed7b2f-7452-47e9-8267-01343370837f",
   "metadata": {},
   "outputs": [
    {
     "data": {
      "text/plain": [
       "Array([[-0.23397055,  0.0041    ,  0.5189564 ],\n",
       "       [-0.22602084, -0.04763503,  0.69847035],\n",
       "       [-0.21371555, -0.10972308,  0.67707115],\n",
       "       [-0.09109609, -0.13205008,  0.6632668 ],\n",
       "       [-0.22602084,  0.04763503,  0.69847035],\n",
       "       [-0.21371555,  0.10972308,  0.67707115],\n",
       "       [-0.09109609,  0.13205008,  0.6632668 ],\n",
       "       [-0.24298108, -0.04763503,  0.33949262],\n",
       "       [-0.25917155, -0.10972308,  0.31384334],\n",
       "       [-0.23711628, -0.13205008,  0.07835653],\n",
       "       [-0.24298108,  0.04763503,  0.33949262],\n",
       "       [-0.25917155,  0.10972308,  0.31384334],\n",
       "       [-0.23711628,  0.13205008,  0.07835653]], dtype=float32)"
      ]
     },
     "execution_count": 13,
     "metadata": {},
     "output_type": "execute_result"
    }
   ],
   "source": [
    "rollout[80].x_i.pos"
   ]
  },
  {
   "cell_type": "code",
   "execution_count": 20,
   "id": "9261f47c-ac33-49dd-a4fc-d4cb4e7146a9",
   "metadata": {},
   "outputs": [
    {
     "data": {
      "text/plain": [
       "Array([[-19.03386 ,  20.000011,  20.921593],\n",
       "       [-18.089993,  20.000011,  40.89932 ],\n",
       "       [-18.089993,  40.000023,  40.89932 ],\n",
       "       [-18.089993,  60.000034,  40.89932 ],\n",
       "       [-18.089993,  20.000011,  40.89932 ],\n",
       "       [-18.089993,  40.000023,  40.89932 ],\n",
       "       [-18.089993,  60.000034,  40.89932 ],\n",
       "       [-18.089993,  20.000011,  40.89932 ],\n",
       "       [-18.089993,  40.000023,  40.89932 ],\n",
       "       [-18.089993,  60.00004 ,  40.89932 ],\n",
       "       [-18.089993,  20.000011,  40.89932 ],\n",
       "       [-18.089993,  40.000023,  40.89932 ],\n",
       "       [-18.089993,  60.00004 ,  40.89932 ]], dtype=float32)"
      ]
     },
     "execution_count": 20,
     "metadata": {},
     "output_type": "execute_result"
    }
   ],
   "source": [
    "rollout[80].xd_i.ang"
   ]
  },
  {
   "cell_type": "code",
   "execution_count": 9,
   "id": "c53902d8-4e60-4267-a121-a6700d04fd4a",
   "metadata": {},
   "outputs": [
    {
     "data": {
      "text/plain": [
       "Array([[ 0.        , -6.324409  ,  0.        ],\n",
       "       [ 0.        , -6.324409  ,  0.        ],\n",
       "       [ 0.        , -5.948884  ,  0.        ],\n",
       "       [ 0.        , -7.412592  ,  0.        ],\n",
       "       [ 0.        , -6.324409  ,  0.        ],\n",
       "       [ 0.        , -5.948884  ,  0.        ],\n",
       "       [ 0.        , -7.412592  ,  0.        ],\n",
       "       [ 0.        , -6.324409  ,  0.        ],\n",
       "       [ 0.        , -0.9296856 ,  0.        ],\n",
       "       [ 0.        , -0.07485604,  0.        ],\n",
       "       [ 0.        , -6.324409  ,  0.        ],\n",
       "       [ 0.        , -0.9296856 ,  0.        ],\n",
       "       [ 0.        , -0.07485604,  0.        ]], dtype=float32)"
      ]
     },
     "execution_count": 9,
     "metadata": {},
     "output_type": "execute_result"
    }
   ],
   "source": [
    "rollout[80].xd.ang"
   ]
  },
  {
   "cell_type": "code",
   "execution_count": 10,
   "id": "40710aae-4310-47e8-ab27-04c7c3c8cc02",
   "metadata": {},
   "outputs": [
    {
     "data": {
      "text/plain": [
       "Array([[-0.27399588,  0.        ,  0.96836567],\n",
       "       [-1.4093155 ,  0.        ,  1.0186429 ],\n",
       "       [-1.2832555 ,  0.        ,  1.0919158 ],\n",
       "       [-1.3906043 ,  0.        ,  1.8596396 ],\n",
       "       [-1.4093155 ,  0.        ,  1.0186429 ],\n",
       "       [-1.2832555 ,  0.        ,  1.0919158 ],\n",
       "       [-1.3906043 ,  0.        ,  1.8596396 ],\n",
       "       [ 0.8610067 ,  0.        ,  0.91137946],\n",
       "       [ 0.9027024 ,  0.        ,  0.8956515 ],\n",
       "       [ 1.0508143 ,  0.        ,  0.8282424 ],\n",
       "       [ 0.8610067 ,  0.        ,  0.91137946],\n",
       "       [ 0.9027024 ,  0.        ,  0.8956515 ],\n",
       "       [ 1.0508143 ,  0.        ,  0.8282424 ]], dtype=float32)"
      ]
     },
     "execution_count": 10,
     "metadata": {},
     "output_type": "execute_result"
    }
   ],
   "source": [
    "rollout[80].xd_i.vel"
   ]
  },
  {
   "cell_type": "code",
   "execution_count": 11,
   "id": "80166d74-0e4d-43c0-8383-266bca16c5fa",
   "metadata": {},
   "outputs": [
    {
     "data": {
      "text/plain": [
       "Array([[-0.27414516,  0.        ,  0.965207  ],\n",
       "       [-1.430223  ,  0.        ,  1.0198269 ],\n",
       "       [-1.430223  ,  0.        ,  1.0198269 ],\n",
       "       [-0.43108255,  0.        ,  1.6658062 ],\n",
       "       [-1.430223  ,  0.        ,  1.0198269 ],\n",
       "       [-1.430223  ,  0.        ,  1.0198269 ],\n",
       "       [-0.43108255,  0.        ,  1.6658062 ],\n",
       "       [ 0.88193274,  0.        ,  0.9105871 ],\n",
       "       [ 0.88193274,  0.        ,  0.9105871 ],\n",
       "       [ 1.044613  ,  0.        ,  0.82054394],\n",
       "       [ 0.88193274,  0.        ,  0.9105871 ],\n",
       "       [ 0.88193274,  0.        ,  0.9105871 ],\n",
       "       [ 1.044613  ,  0.        ,  0.82054394]], dtype=float32)"
      ]
     },
     "execution_count": 11,
     "metadata": {},
     "output_type": "execute_result"
    }
   ],
   "source": [
    "rollout[80].xd.vel"
   ]
  },
  {
   "cell_type": "code",
   "execution_count": null,
   "id": "da0b6620-8f04-4b19-9e80-b147fa708e53",
   "metadata": {},
   "outputs": [],
   "source": []
  },
  {
   "cell_type": "markdown",
   "id": "d86a0de3-f7bd-4aae-9ec2-9ff331e1d2f9",
   "metadata": {},
   "source": [
    "### Random try"
   ]
  },
  {
   "cell_type": "code",
   "execution_count": 1,
   "id": "d3dd4e57-dc22-4c29-ae67-606e018498dd",
   "metadata": {},
   "outputs": [],
   "source": [
    "from brax.positional import pipeline\n",
    "from brax.io import mjcf\n",
    "\n",
    "from IPython.display import HTML, clear_output\n",
    "import jax\n",
    "from jax import numpy as jp\n",
    "from brax.io import html\n",
    "import json\n",
    "import numpy as np\n",
    "import transforms3d.quaternions as quat\n",
    "from brax.envs.base import PipelineEnv, State"
   ]
  },
  {
   "cell_type": "code",
   "execution_count": 2,
   "id": "9df33568-0e54-4f7b-9d0d-7f7a20bc9a94",
   "metadata": {},
   "outputs": [],
   "source": [
    "with open('a1_mjcf.txt', 'r') as file:\n",
    "    config = file.read()\n",
    "\n",
    "m = mjcf.loads(config, asset_path='')\n",
    "\n",
    "force_range = np.full((12, 2), [-50.0, 50.0], dtype=np.float32)\n",
    "bias_qd = -10 * np.ones(12, dtype=np.float32)\n",
    "m = m.replace(actuator=m.actuator.replace(force_range=force_range, bias_qd=bias_qd))"
   ]
  },
  {
   "cell_type": "code",
   "execution_count": 1,
   "id": "4b6379c6-e4c0-4e3b-8ffb-06a3d89bb33c",
   "metadata": {},
   "outputs": [],
   "source": [
    "# # jit_env_reset = jax.jit(pipeline.init)\n",
    "# # jit_env_step = jax.jit(pipeline.step)\n",
    "# jit_env_reset = pipeline.init\n",
    "# jit_env_step = pipeline.step\n",
    "\n",
    "# rollout = []\n",
    "# rng = jax.random.PRNGKey(seed=1)\n",
    "# state = jit_env_reset(m, m.init_q, jp.zeros(m.qd_size()))\n",
    "# for i in range(5):\n",
    "#     rollout.append(state)\n",
    "#     act = 10 * jp.sin(i / 100) * jp.ones(m.act_size())\n",
    "#     print(act)\n",
    "#     state = jit_env_step(m, state, act)"
   ]
  },
  {
   "cell_type": "code",
   "execution_count": 4,
   "id": "34e9619f-2b63-4603-94ab-19d3a0fcb775",
   "metadata": {},
   "outputs": [
    {
     "data": {
      "text/html": [
       "<!DOCTYPE html>\n",
       "<html>\n",
       "\n",
       "  <head>\n",
       "    <title>Brax visualizer</title>\n",
       "    <link rel=\"shortcut icon\" type=\"image/x-icon\" href=\"/favicon.ico\">\n",
       "  </head>\n",
       "\n",
       "  <style>\n",
       "    body {\n",
       "      margin: 0;\n",
       "      padding: 0;\n",
       "    }\n",
       "\n",
       "    #brax-viewer {\n",
       "      height: 480px;\n",
       "      margin: 0;\n",
       "      padding: 0;\n",
       "    }\n",
       "  </style>\n",
       "  <script async src=\"https://unpkg.com/es-module-shims@1.6.3/dist/es-module-shims.js\"></script>\n",
       "\n",
       "  <script type=\"importmap\">\n",
       "    {\n",
       "      \"imports\": {\n",
       "        \"three\": \"https://unpkg.com/three@0.150.1/build/three.module.js\",\n",
       "        \"three/addons/\": \"https://unpkg.com/three@0.150.1/examples/jsm/\",\n",
       "        \"lilgui\": \"https://cdn.jsdelivr.net/npm/lil-gui@0.18.0/+esm\",\n",
       "        \"viewer\": \"https://cdn.jsdelivr.net/gh/google/brax@v0.9.4/brax/visualizer/js/viewer.js\"\n",
       "      }\n",
       "    }\n",
       "  </script>\n",
       "\n",
       "  <script type=\"application/javascript\">\n",
       "  var system = {\"dt\": 0.0020000000949949026, \"gravity\": [0.0, 0.0, -9.8100004196167], \"viscosity\": 0.0, \"density\": 0.0, \"link\": {\"transform\": {\"pos\": [[0.0, 0.0, 0.0], [0.18299999833106995, -0.04699999839067459, 0.0], [0.0, -0.08505000174045563, 0.0], [0.0, 0.0, -0.20000000298023224], [0.18299999833106995, 0.04699999839067459, 0.0], [0.0, 0.08505000174045563, 0.0], [0.0, 0.0, -0.20000000298023224], [-0.18299999833106995, -0.04699999839067459, 0.0], [0.0, -0.08505000174045563, 0.0], [0.0, 0.0, -0.20000000298023224], [-0.18299999833106995, 0.04699999839067459, 0.0], [0.0, 0.08505000174045563, 0.0], [0.0, 0.0, -0.20000000298023224]], \"rot\": [[1.0, 0.0, 0.0, 0.0], [1.0, 0.0, 0.0, 0.0], [1.0, 0.0, 0.0, 0.0], [1.0, 0.0, 0.0, 0.0], [1.0, 0.0, 0.0, 0.0], [1.0, 0.0, 0.0, 0.0], [1.0, 0.0, 0.0, 0.0], [1.0, 0.0, 0.0, 0.0], [1.0, 0.0, 0.0, 0.0], [1.0, 0.0, 0.0, 0.0], [1.0, 0.0, 0.0, 0.0], [1.0, 0.0, 0.0, 0.0], [1.0, 0.0, 0.0, 0.0]], \"name\": \"Transform\"}, \"joint\": {\"pos\": [[0.0, 0.0, 0.0], [0.0, 0.0, 0.0], [0.0, 0.0, 0.0], [0.0, 0.0, 0.0], [0.0, 0.0, 0.0], [0.0, 0.0, 0.0], [0.0, 0.0, 0.0], [0.0, 0.0, 0.0], [0.0, 0.0, 0.0], [0.0, 0.0, 0.0], [0.0, 0.0, 0.0], [0.0, 0.0, 0.0], [0.0, 0.0, 0.0]], \"rot\": [[1.0, 0.0, 0.0, 0.0], [1.0, 0.0, 0.0, 0.0], [1.0, 0.0, 0.0, 0.0], [1.0, 0.0, 0.0, 0.0], [1.0, 0.0, 0.0, 0.0], [1.0, 0.0, 0.0, 0.0], [1.0, 0.0, 0.0, 0.0], [1.0, 0.0, 0.0, 0.0], [1.0, 0.0, 0.0, 0.0], [1.0, 0.0, 0.0, 0.0], [1.0, 0.0, 0.0, 0.0], [1.0, 0.0, 0.0, 0.0], [1.0, 0.0, 0.0, 0.0]], \"name\": \"Transform\"}, \"inertia\": {\"transform\": {\"pos\": [[0.0, 0.004100000020116568, -0.0005000000237487257], [-0.0033110000658780336, -0.0006350000039674342, 3.099999958067201e-05], [-0.0032369999680668116, 0.02232700027525425, -0.027326000854372978], [0.004726590123027563, 0.0, -0.131974995136261], [-0.0033110000658780336, 0.0006350000039674342, 3.099999958067201e-05], [-0.0032369999680668116, -0.02232700027525425, -0.027326000854372978], [0.004726590123027563, 0.0, -0.131974995136261], [0.0033110000658780336, -0.0006350000039674342, 3.099999958067201e-05], [-0.0032369999680668116, 0.02232700027525425, -0.027326000854372978], [0.004726590123027563, 0.0, -0.131974995136261], [0.0033110000658780336, 0.0006350000039674342, 3.099999958067201e-05], [-0.0032369999680668116, -0.02232700027525425, -0.027326000854372978], [0.004726590123027563, 0.0, -0.131974995136261]], \"rot\": [[-0.0018256460316479206, 0.7063807249069214, -0.0006420856807380915, 0.707829475402832], [0.5075278878211975, 0.5062679052352905, 0.4915069043636322, 0.4944989085197449], [0.9991252422332764, -0.002563930582255125, -0.04095311090350151, -0.008060911670327187], [0.7068864107131958, 0.017653008922934532, 0.017653008922934532, 0.7068864107131958], [0.4944989085197449, 0.4915069043636322, 0.5062679052352905, 0.5075278878211975], [0.9991252422332764, 0.002563930582255125, -0.04095311090350151, 0.008060911670327187], [0.7068864107131958, 0.017653008922934532, 0.017653008922934532, 0.7068864107131958], [0.4915069043636322, 0.4944989085197449, 0.5075278878211975, 0.5062679052352905], [0.9991252422332764, -0.002563930582255125, -0.04095311090350151, -0.008060911670327187], [0.7068864107131958, 0.017653008922934532, 0.017653008922934532, 0.7068864107131958], [0.5062679052352905, 0.5075278878211975, 0.4944989085197449, 0.4915069043636322], [0.9991252422332764, 0.002563930582255125, -0.04095311090350151, 0.008060911670327187], [0.7068864107131958, 0.017653008922934532, 0.017653008922934532, 0.7068864107131958]], \"name\": \"Transform\"}, \"i\": [[[0.04565441980957985, 0.0, 0.0], [0.0, 0.03779986500740051, 0.0], [0.0, 0.0, 0.015853114426136017]], [[0.0008077520178630948, 0.0, 0.0], [0.0, 0.000552929996047169, 0.0], [0.0, 0.0, 0.00046898299478925765]], [[0.005557389929890633, 0.0, 0.0], [0.0, 0.005139360204339027, 0.0], [0.0, 0.0, 0.0013394400011748075]], [[0.003403439885005355, 0.0, 0.0], [0.0, 0.0033939299173653126, 0.0], [0.0, 0.0, 3.548340100678615e-05]], [[0.0008077520178630948, 0.0, 0.0], [0.0, 0.000552929996047169, 0.0], [0.0, 0.0, 0.00046898299478925765]], [[0.005557389929890633, 0.0, 0.0], [0.0, 0.005139360204339027, 0.0], [0.0, 0.0, 0.0013394400011748075]], [[0.003403439885005355, 0.0, 0.0], [0.0, 0.0033939299173653126, 0.0], [0.0, 0.0, 3.548340100678615e-05]], [[0.0008077520178630948, 0.0, 0.0], [0.0, 0.000552929996047169, 0.0], [0.0, 0.0, 0.00046898299478925765]], [[0.005557389929890633, 0.0, 0.0], [0.0, 0.005139360204339027, 0.0], [0.0, 0.0, 0.0013394400011748075]], [[0.003403439885005355, 0.0, 0.0], [0.0, 0.0033939299173653126, 0.0], [0.0, 0.0, 3.548340100678615e-05]], [[0.0008077520178630948, 0.0, 0.0], [0.0, 0.000552929996047169, 0.0], [0.0, 0.0, 0.00046898299478925765]], [[0.005557389929890633, 0.0, 0.0], [0.0, 0.005139360204339027, 0.0], [0.0, 0.0, 0.0013394400011748075]], [[0.003403439885005355, 0.0, 0.0], [0.0, 0.0033939299173653126, 0.0], [0.0, 0.0, 3.548340100678615e-05]]], \"mass\": [4.7129998207092285, 0.6959999799728394, 1.0130000114440918, 0.22599999606609344, 0.6959999799728394, 1.0130000114440918, 0.22599999606609344, 0.6959999799728394, 1.0130000114440918, 0.22599999606609344, 0.6959999799728394, 1.0130000114440918, 0.22599999606609344], \"name\": \"Inertia\"}, \"invweight\": [0.08585093170404434, 0.16703419387340546, 0.19653315842151642, 1.736640214920044, 0.16523724794387817, 0.1943560093641281, 1.7357090711593628, 0.16604457795619965, 0.19851598143577576, 1.735076665878296, 0.16429194808006287, 0.1963881105184555, 1.7341691255569458], \"constraint_stiffness\": [2000.0, 2000.0, 2000.0, 2000.0, 2000.0, 2000.0, 2000.0, 2000.0, 2000.0, 2000.0, 2000.0, 2000.0, 2000.0], \"constraint_vel_damping\": [0.0, 0.0, 0.0, 0.0, 0.0, 0.0, 0.0, 0.0, 0.0, 0.0, 0.0, 0.0, 0.0], \"constraint_limit_stiffness\": [1000.0, 1000.0, 1000.0, 1000.0, 1000.0, 1000.0, 1000.0, 1000.0, 1000.0, 1000.0, 1000.0, 1000.0, 1000.0], \"constraint_ang_damping\": [10.0, 10.0, 10.0, 10.0, 10.0, 10.0, 10.0, 10.0, 10.0, 10.0, 10.0, 10.0, 10.0], \"name\": \"Link\"}, \"dof\": {\"motion\": {\"ang\": [[0.0, 0.0, 0.0], [0.0, 0.0, 0.0], [0.0, 0.0, 0.0], [1.0, 0.0, 0.0], [0.0, 1.0, 0.0], [0.0, 0.0, 1.0], [1.0, 0.0, 0.0], [0.0, 1.0, 0.0], [0.0, 1.0, 0.0], [1.0, 0.0, 0.0], [0.0, 1.0, 0.0], [0.0, 1.0, 0.0], [1.0, 0.0, 0.0], [0.0, 1.0, 0.0], [0.0, 1.0, 0.0], [1.0, 0.0, 0.0], [0.0, 1.0, 0.0], [0.0, 1.0, 0.0]], \"vel\": [[1.0, 0.0, 0.0], [0.0, 1.0, 0.0], [0.0, 0.0, 1.0], [0.0, 0.0, 0.0], [0.0, 0.0, 0.0], [0.0, 0.0, 0.0], [0.0, 0.0, 0.0], [0.0, 0.0, 0.0], [0.0, 0.0, 0.0], [0.0, 0.0, 0.0], [0.0, 0.0, 0.0], [0.0, 0.0, 0.0], [0.0, 0.0, 0.0], [0.0, 0.0, 0.0], [0.0, 0.0, 0.0], [0.0, 0.0, 0.0], [0.0, 0.0, 0.0], [0.0, 0.0, 0.0]], \"name\": \"Motion\"}, \"armature\": [0.0, 0.0, 0.0, 0.0, 0.0, 0.0, 0.009999999776482582, 0.009999999776482582, 0.009999999776482582, 0.009999999776482582, 0.009999999776482582, 0.009999999776482582, 0.009999999776482582, 0.009999999776482582, 0.009999999776482582, 0.009999999776482582, 0.009999999776482582, 0.009999999776482582], \"stiffness\": [0.0, 0.0, 0.0, 0.0, 0.0, 0.0, 0.0, 0.0, 0.0, 0.0, 0.0, 0.0, 0.0, 0.0, 0.0, 0.0, 0.0, 0.0], \"damping\": [0.0, 0.0, 0.0, 0.0, 0.0, 0.0, 1.0, 2.0, 2.0, 1.0, 2.0, 2.0, 1.0, 2.0, 2.0, 1.0, 2.0, 2.0], \"limit\": [[\"-inf\", \"-inf\", \"-inf\", \"-inf\", \"-inf\", \"-inf\", -0.8028510212898254, -1.0471999645233154, -2.6965301036834717, -0.8028510212898254, -1.0471999645233154, -2.6965301036834717, -0.8028510212898254, -1.0471999645233154, -2.6965301036834717, -0.8028510212898254, -1.0471999645233154, -2.6965301036834717], [\"inf\", \"inf\", \"inf\", \"inf\", \"inf\", \"inf\", 0.8028510212898254, 4.1887898445129395, -0.916297972202301, 0.8028510212898254, 4.1887898445129395, -0.916297972202301, 0.8028510212898254, 4.1887898445129395, -0.916297972202301, 0.8028510212898254, 4.1887898445129395, -0.916297972202301]], \"invweight\": [0.08586016297340393, 0.08586016297340393, 0.08586016297340393, 6.850813865661621, 6.850813865661621, 6.850813865661621, 31.964550018310547, 31.616127014160156, 75.17424011230469, 31.828842163085938, 31.60388946533203, 75.1741714477539, 31.924253463745117, 31.7546443939209, 75.1122055053711, 31.792634963989258, 31.742292404174805, 75.11211395263672], \"solver_params\": [[0.019999999552965164, 1.0, 0.8999999761581421, 0.949999988079071, 0.0010000000474974513, 0.5, 2.0], [0.019999999552965164, 1.0, 0.8999999761581421, 0.949999988079071, 0.0010000000474974513, 0.5, 2.0], [0.019999999552965164, 1.0, 0.8999999761581421, 0.949999988079071, 0.0010000000474974513, 0.5, 2.0], [0.019999999552965164, 1.0, 0.8999999761581421, 0.949999988079071, 0.0010000000474974513, 0.5, 2.0], [0.019999999552965164, 1.0, 0.8999999761581421, 0.949999988079071, 0.0010000000474974513, 0.5, 2.0], [0.019999999552965164, 1.0, 0.8999999761581421, 0.949999988079071, 0.0010000000474974513, 0.5, 2.0], [0.019999999552965164, 1.0, 0.8999999761581421, 0.949999988079071, 0.0010000000474974513, 0.5, 2.0], [0.019999999552965164, 1.0, 0.8999999761581421, 0.949999988079071, 0.0010000000474974513, 0.5, 2.0], [0.019999999552965164, 1.0, 0.8999999761581421, 0.949999988079071, 0.0010000000474974513, 0.5, 2.0], [0.019999999552965164, 1.0, 0.8999999761581421, 0.949999988079071, 0.0010000000474974513, 0.5, 2.0], [0.019999999552965164, 1.0, 0.8999999761581421, 0.949999988079071, 0.0010000000474974513, 0.5, 2.0], [0.019999999552965164, 1.0, 0.8999999761581421, 0.949999988079071, 0.0010000000474974513, 0.5, 2.0], [0.019999999552965164, 1.0, 0.8999999761581421, 0.949999988079071, 0.0010000000474974513, 0.5, 2.0], [0.019999999552965164, 1.0, 0.8999999761581421, 0.949999988079071, 0.0010000000474974513, 0.5, 2.0], [0.019999999552965164, 1.0, 0.8999999761581421, 0.949999988079071, 0.0010000000474974513, 0.5, 2.0], [0.019999999552965164, 1.0, 0.8999999761581421, 0.949999988079071, 0.0010000000474974513, 0.5, 2.0], [0.019999999552965164, 1.0, 0.8999999761581421, 0.949999988079071, 0.0010000000474974513, 0.5, 2.0], [0.019999999552965164, 1.0, 0.8999999761581421, 0.949999988079071, 0.0010000000474974513, 0.5, 2.0]], \"name\": \"DoF\"}, \"geoms\": {\"world\": [{\"link_idx\": null, \"transform\": {\"pos\": [0.0, 0.0, 0.0], \"rot\": [1.0, 0.0, 0.0, 0.0], \"name\": \"Transform\"}, \"friction\": 1.0, \"elasticity\": 0.0, \"solver_params\": [0.019999999552965164, 1.0, 0.8999999761581421, 0.949999988079071, 0.0010000000474974513, 0.5, 2.0], \"rgba\": [0.4000000059604645, 0.33000001311302185, 0.25999999046325684, 1.0], \"name\": \"Plane\"}], \"trunk\": [{\"link_idx\": 0, \"transform\": {\"pos\": [0.0, 0.0, 0.0], \"rot\": [1.0, 0.0, 0.0, 0.0], \"name\": \"Transform\"}, \"friction\": 0.6000000238418579, \"elasticity\": 0.0, \"solver_params\": [0.019999999552965164, 1.0, 0.8999999761581421, 0.949999988079071, 0.0010000000474974513, 0.5, 2.0], \"halfsize\": [0.125, 0.03999999910593033, 0.05700000002980232], \"rgba\": [0.4000000059604645, 0.33000001311302185, 0.25999999046325684, 1.0], \"name\": \"Box\"}, {\"link_idx\": 0, \"transform\": {\"pos\": [0.25, 0.0, 0.0], \"rot\": [1.0, 0.0, 0.0, 0.0], \"name\": \"Transform\"}, \"friction\": 0.6000000238418579, \"elasticity\": 0.0, \"solver_params\": [0.019999999552965164, 1.0, 0.8999999761581421, 0.949999988079071, 0.0010000000474974513, 0.5, 2.0], \"halfsize\": [0.004999999888241291, 0.05999999865889549, 0.05000000074505806], \"rgba\": [0.4000000059604645, 0.33000001311302185, 0.25999999046325684, 1.0], \"name\": \"Box\"}, {\"link_idx\": 0, \"transform\": {\"pos\": [0.0, 0.0, 0.0], \"rot\": [1.0, 0.0, 0.0, 0.0], \"name\": \"Transform\"}, \"friction\": 0.6000000238418579, \"elasticity\": 0.0, \"solver_params\": [0.019999999552965164, 1.0, 0.8999999761581421, 0.949999988079071, 0.0010000000474974513, 0.5, 2.0], \"vert\": [[-0.125, -0.03999999910593033, -0.05700000002980232], [-0.125, -0.03999999910593033, 0.05700000002980232], [-0.125, 0.03999999910593033, -0.05700000002980232], [-0.125, 0.03999999910593033, 0.05700000002980232], [0.125, -0.03999999910593033, -0.05700000002980232], [0.125, -0.03999999910593033, 0.05700000002980232], [0.125, 0.03999999910593033, -0.05700000002980232], [0.125, 0.03999999910593033, 0.05700000002980232]], \"face\": [[0, 4, 5, 1], [0, 2, 6, 4], [6, 7, 5, 4], [2, 3, 7, 6], [1, 5, 7, 3], [0, 1, 3, 2]], \"unique_edge\": [[0, 1], [0, 2], [0, 4]], \"rgba\": [0.4000000059604645, 0.33000001311302185, 0.25999999046325684, 1.0], \"name\": \"Convex\"}, {\"link_idx\": 0, \"transform\": {\"pos\": [0.25, 0.0, 0.0], \"rot\": [1.0, 0.0, 0.0, 0.0], \"name\": \"Transform\"}, \"friction\": 0.6000000238418579, \"elasticity\": 0.0, \"solver_params\": [0.019999999552965164, 1.0, 0.8999999761581421, 0.949999988079071, 0.0010000000474974513, 0.5, 2.0], \"vert\": [[-0.004999999888241291, -0.05999999865889549, -0.05000000074505806], [-0.004999999888241291, -0.05999999865889549, 0.05000000074505806], [-0.004999999888241291, 0.05999999865889549, -0.05000000074505806], [-0.004999999888241291, 0.05999999865889549, 0.05000000074505806], [0.004999999888241291, -0.05999999865889549, -0.05000000074505806], [0.004999999888241291, -0.05999999865889549, 0.05000000074505806], [0.004999999888241291, 0.05999999865889549, -0.05000000074505806], [0.004999999888241291, 0.05999999865889549, 0.05000000074505806]], \"face\": [[0, 4, 5, 1], [0, 2, 6, 4], [6, 7, 5, 4], [2, 3, 7, 6], [1, 5, 7, 3], [0, 1, 3, 2]], \"unique_edge\": [[0, 1], [0, 2], [0, 4]], \"rgba\": [0.4000000059604645, 0.33000001311302185, 0.25999999046325684, 1.0], \"name\": \"Convex\"}, {\"link_idx\": 0, \"transform\": {\"pos\": [0.0, -0.03999999910593033, 0.0], \"rot\": [0.7071067690849304, 0.0, 0.7071067690849304, 0.0], \"name\": \"Transform\"}, \"friction\": 0.6000000238418579, \"elasticity\": 0.0, \"solver_params\": [0.019999999552965164, 1.0, 0.8999999761581421, 0.949999988079071, 0.0010000000474974513, 0.5, 2.0], \"radius\": 0.057999998331069946, \"length\": 0.25, \"rgba\": [0.4000000059604645, 0.33000001311302185, 0.25999999046325684, 1.0], \"name\": \"Capsule\"}, {\"link_idx\": 0, \"transform\": {\"pos\": [0.0, 0.03999999910593033, 0.0], \"rot\": [0.7071067690849304, 0.0, 0.7071067690849304, 0.0], \"name\": \"Transform\"}, \"friction\": 0.6000000238418579, \"elasticity\": 0.0, \"solver_params\": [0.019999999552965164, 1.0, 0.8999999761581421, 0.949999988079071, 0.0010000000474974513, 0.5, 2.0], \"radius\": 0.057999998331069946, \"length\": 0.25, \"rgba\": [0.4000000059604645, 0.33000001311302185, 0.25999999046325684, 1.0], \"name\": \"Capsule\"}, {\"link_idx\": 0, \"transform\": {\"pos\": [0.25, 0.05999999865889549, -0.009999999776482582], \"rot\": [1.0, 0.0, 0.0, 0.0], \"name\": \"Transform\"}, \"friction\": 0.6000000238418579, \"elasticity\": 0.0, \"solver_params\": [0.019999999552965164, 1.0, 0.8999999761581421, 0.949999988079071, 0.0010000000474974513, 0.5, 2.0], \"radius\": 0.008999999612569809, \"length\": 0.07000000029802322, \"rgba\": [0.4000000059604645, 0.33000001311302185, 0.25999999046325684, 1.0], \"name\": \"Capsule\"}, {\"link_idx\": 0, \"transform\": {\"pos\": [0.25, -0.05999999865889549, -0.009999999776482582], \"rot\": [1.0, 0.0, 0.0, 0.0], \"name\": \"Transform\"}, \"friction\": 0.6000000238418579, \"elasticity\": 0.0, \"solver_params\": [0.019999999552965164, 1.0, 0.8999999761581421, 0.949999988079071, 0.0010000000474974513, 0.5, 2.0], \"radius\": 0.008999999612569809, \"length\": 0.07000000029802322, \"rgba\": [0.4000000059604645, 0.33000001311302185, 0.25999999046325684, 1.0], \"name\": \"Capsule\"}, {\"link_idx\": 0, \"transform\": {\"pos\": [0.25, 0.0, -0.05000000074505806], \"rot\": [0.7071067690849304, 0.7071067690849304, 0.0, 0.0], \"name\": \"Transform\"}, \"friction\": 0.6000000238418579, \"elasticity\": 0.0, \"solver_params\": [0.019999999552965164, 1.0, 0.8999999761581421, 0.949999988079071, 0.0010000000474974513, 0.5, 2.0], \"radius\": 0.004999999888241291, \"length\": 0.11999999731779099, \"rgba\": [0.4000000059604645, 0.33000001311302185, 0.25999999046325684, 1.0], \"name\": \"Capsule\"}, {\"link_idx\": 0, \"transform\": {\"pos\": [0.2549999952316284, 0.0, 0.03550000116229057], \"rot\": [0.7071067690849304, 0.7071067690849304, 0.0, 0.0], \"name\": \"Transform\"}, \"friction\": 0.6000000238418579, \"elasticity\": 0.0, \"solver_params\": [0.019999999552965164, 1.0, 0.8999999761581421, 0.949999988079071, 0.0010000000474974513, 0.5, 2.0], \"radius\": 0.020999999716877937, \"length\": 0.10400000214576721, \"rgba\": [0.4000000059604645, 0.33000001311302185, 0.25999999046325684, 1.0], \"name\": \"Capsule\"}], \"FR_hip\": [{\"link_idx\": 1, \"transform\": {\"pos\": [0.0, -0.054999999701976776, 0.0], \"rot\": [0.7071067690849304, 0.7071067690849304, 0.0, 0.0], \"name\": \"Transform\"}, \"friction\": 0.6000000238418579, \"elasticity\": 0.0, \"solver_params\": [0.019999999552965164, 1.0, 0.8999999761581421, 0.949999988079071, 0.0010000000474974513, 0.5, 2.0], \"radius\": 0.03999999910593033, \"length\": 0.07999999821186066, \"rgba\": [0.4000000059604645, 0.33000001311302185, 0.25999999046325684, 1.0], \"name\": \"Capsule\"}], \"FR_thigh\": [{\"link_idx\": 2, \"transform\": {\"pos\": [-0.019999999552965164, 0.0, -0.07999999821186066], \"rot\": [1.0, 0.0, 0.0, 0.0], \"name\": \"Transform\"}, \"friction\": 0.6000000238418579, \"elasticity\": 0.0, \"solver_params\": [0.019999999552965164, 1.0, 0.8999999761581421, 0.949999988079071, 0.0010000000474974513, 0.5, 2.0], \"radius\": 0.014999999664723873, \"length\": 0.1599999964237213, \"rgba\": [0.4000000059604645, 0.33000001311302185, 0.25999999046325684, 1.0], \"name\": \"Capsule\"}, {\"link_idx\": 2, \"transform\": {\"pos\": [-0.009999999776482582, 0.0, -0.05000000074505806], \"rot\": [0.9951333403587341, 0.0, 0.0985376164317131, 0.0], \"name\": \"Transform\"}, \"friction\": 0.6000000238418579, \"elasticity\": 0.0, \"solver_params\": [0.019999999552965164, 1.0, 0.8999999761581421, 0.949999988079071, 0.0010000000474974513, 0.5, 2.0], \"radius\": 0.014999999664723873, \"length\": 0.10198038816452026, \"rgba\": [0.4000000059604645, 0.33000001311302185, 0.25999999046325684, 1.0], \"name\": \"Capsule\"}, {\"link_idx\": 2, \"transform\": {\"pos\": [-0.009999999776482582, 0.0, -0.18000000715255737], \"rot\": [0.9732490181922913, 0.0, -0.22975291311740875, 0.0], \"name\": \"Transform\"}, \"friction\": 0.6000000238418579, \"elasticity\": 0.0, \"solver_params\": [0.019999999552965164, 1.0, 0.8999999761581421, 0.949999988079071, 0.0010000000474974513, 0.5, 2.0], \"radius\": 0.014999999664723873, \"length\": 0.04472136124968529, \"rgba\": [0.4000000059604645, 0.33000001311302185, 0.25999999046325684, 1.0], \"name\": \"Capsule\"}], \"FR_calf\": [{\"link_idx\": 3, \"transform\": {\"pos\": [0.009999999776482582, 0.0, -0.06499999761581421], \"rot\": [0.9970886707305908, 0.0, -0.0762505829334259, 0.0], \"name\": \"Transform\"}, \"friction\": 0.6000000238418579, \"elasticity\": 0.0, \"solver_params\": [0.019999999552965164, 1.0, 0.8999999761581421, 0.949999988079071, 0.0010000000474974513, 0.5, 2.0], \"radius\": 0.009999999776482582, \"length\": 0.13152946531772614, \"rgba\": [0.4000000059604645, 0.33000001311302185, 0.25999999046325684, 1.0], \"name\": \"Capsule\"}, {\"link_idx\": 3, \"transform\": {\"pos\": [0.009999999776482582, 0.0, -0.16500000655651093], \"rot\": [0.9903342723846436, 0.0, 0.13870121538639069, 0.0], \"name\": \"Transform\"}, \"friction\": 0.6000000238418579, \"elasticity\": 0.0, \"solver_params\": [0.019999999552965164, 1.0, 0.8999999761581421, 0.949999988079071, 0.0010000000474974513, 0.5, 2.0], \"radius\": 0.009999999776482582, \"length\": 0.07280109822750092, \"rgba\": [0.4000000059604645, 0.33000001311302185, 0.25999999046325684, 1.0], \"name\": \"Capsule\"}, {\"link_idx\": 3, \"transform\": {\"pos\": [0.0, 0.0, -0.20000000298023224], \"rot\": [1.0, 0.0, 0.0, 0.0], \"name\": \"Transform\"}, \"friction\": 0.800000011920929, \"elasticity\": 0.0, \"solver_params\": [0.019999999552965164, 1.0, 0.8999999761581421, 0.949999988079071, 0.0010000000474974513, 0.5, 2.0], \"radius\": 0.019999999552965164, \"rgba\": [0.4000000059604645, 0.33000001311302185, 0.25999999046325684, 1.0], \"name\": \"Sphere\"}], \"FL_hip\": [{\"link_idx\": 4, \"transform\": {\"pos\": [0.0, 0.054999999701976776, 0.0], \"rot\": [0.7071067690849304, 0.7071067690849304, 0.0, 0.0], \"name\": \"Transform\"}, \"friction\": 0.6000000238418579, \"elasticity\": 0.0, \"solver_params\": [0.019999999552965164, 1.0, 0.8999999761581421, 0.949999988079071, 0.0010000000474974513, 0.5, 2.0], \"radius\": 0.03999999910593033, \"length\": 0.07999999821186066, \"rgba\": [0.4000000059604645, 0.33000001311302185, 0.25999999046325684, 1.0], \"name\": \"Capsule\"}, {\"link_idx\": 4, \"transform\": {\"pos\": [0.0, 0.054999999701976776, 0.0], \"rot\": [0.7071067690849304, 0.7071067690849304, 0.0, 0.0], \"name\": \"Transform\"}, \"friction\": 0.6000000238418579, \"elasticity\": 0.0, \"solver_params\": [0.019999999552965164, 1.0, 0.8999999761581421, 0.949999988079071, 0.0010000000474974513, 0.5, 2.0], \"radius\": 0.03999999910593033, \"length\": 0.07999999821186066, \"rgba\": [0.4000000059604645, 0.33000001311302185, 0.25999999046325684, 1.0], \"name\": \"Capsule\"}], \"FL_thigh\": [{\"link_idx\": 5, \"transform\": {\"pos\": [-0.019999999552965164, 0.0, -0.07999999821186066], \"rot\": [1.0, 0.0, 0.0, 0.0], \"name\": \"Transform\"}, \"friction\": 0.6000000238418579, \"elasticity\": 0.0, \"solver_params\": [0.019999999552965164, 1.0, 0.8999999761581421, 0.949999988079071, 0.0010000000474974513, 0.5, 2.0], \"radius\": 0.014999999664723873, \"length\": 0.1599999964237213, \"rgba\": [0.4000000059604645, 0.33000001311302185, 0.25999999046325684, 1.0], \"name\": \"Capsule\"}, {\"link_idx\": 5, \"transform\": {\"pos\": [-0.009999999776482582, 0.0, -0.05000000074505806], \"rot\": [0.9951333403587341, 0.0, 0.0985376164317131, 0.0], \"name\": \"Transform\"}, \"friction\": 0.6000000238418579, \"elasticity\": 0.0, \"solver_params\": [0.019999999552965164, 1.0, 0.8999999761581421, 0.949999988079071, 0.0010000000474974513, 0.5, 2.0], \"radius\": 0.014999999664723873, \"length\": 0.10198038816452026, \"rgba\": [0.4000000059604645, 0.33000001311302185, 0.25999999046325684, 1.0], \"name\": \"Capsule\"}, {\"link_idx\": 5, \"transform\": {\"pos\": [-0.009999999776482582, 0.0, -0.18000000715255737], \"rot\": [0.9732490181922913, 0.0, -0.22975291311740875, 0.0], \"name\": \"Transform\"}, \"friction\": 0.6000000238418579, \"elasticity\": 0.0, \"solver_params\": [0.019999999552965164, 1.0, 0.8999999761581421, 0.949999988079071, 0.0010000000474974513, 0.5, 2.0], \"radius\": 0.014999999664723873, \"length\": 0.04472136124968529, \"rgba\": [0.4000000059604645, 0.33000001311302185, 0.25999999046325684, 1.0], \"name\": \"Capsule\"}], \"FL_calf\": [{\"link_idx\": 6, \"transform\": {\"pos\": [0.009999999776482582, 0.0, -0.06499999761581421], \"rot\": [0.9970886707305908, 0.0, -0.0762505829334259, 0.0], \"name\": \"Transform\"}, \"friction\": 0.6000000238418579, \"elasticity\": 0.0, \"solver_params\": [0.019999999552965164, 1.0, 0.8999999761581421, 0.949999988079071, 0.0010000000474974513, 0.5, 2.0], \"radius\": 0.009999999776482582, \"length\": 0.13152946531772614, \"rgba\": [0.4000000059604645, 0.33000001311302185, 0.25999999046325684, 1.0], \"name\": \"Capsule\"}, {\"link_idx\": 6, \"transform\": {\"pos\": [0.009999999776482582, 0.0, -0.16500000655651093], \"rot\": [0.9903342723846436, 0.0, 0.13870121538639069, 0.0], \"name\": \"Transform\"}, \"friction\": 0.6000000238418579, \"elasticity\": 0.0, \"solver_params\": [0.019999999552965164, 1.0, 0.8999999761581421, 0.949999988079071, 0.0010000000474974513, 0.5, 2.0], \"radius\": 0.009999999776482582, \"length\": 0.07280109822750092, \"rgba\": [0.4000000059604645, 0.33000001311302185, 0.25999999046325684, 1.0], \"name\": \"Capsule\"}, {\"link_idx\": 6, \"transform\": {\"pos\": [0.0, 0.0, -0.20000000298023224], \"rot\": [1.0, 0.0, 0.0, 0.0], \"name\": \"Transform\"}, \"friction\": 0.800000011920929, \"elasticity\": 0.0, \"solver_params\": [0.019999999552965164, 1.0, 0.8999999761581421, 0.949999988079071, 0.0010000000474974513, 0.5, 2.0], \"radius\": 0.019999999552965164, \"rgba\": [0.4000000059604645, 0.33000001311302185, 0.25999999046325684, 1.0], \"name\": \"Sphere\"}], \"RR_hip\": [{\"link_idx\": 7, \"transform\": {\"pos\": [0.0, -0.054999999701976776, 0.0], \"rot\": [0.7071067690849304, 0.7071067690849304, 0.0, 0.0], \"name\": \"Transform\"}, \"friction\": 0.6000000238418579, \"elasticity\": 0.0, \"solver_params\": [0.019999999552965164, 1.0, 0.8999999761581421, 0.949999988079071, 0.0010000000474974513, 0.5, 2.0], \"radius\": 0.03999999910593033, \"length\": 0.07999999821186066, \"rgba\": [0.4000000059604645, 0.33000001311302185, 0.25999999046325684, 1.0], \"name\": \"Capsule\"}], \"RR_thigh\": [{\"link_idx\": 8, \"transform\": {\"pos\": [-0.019999999552965164, 0.0, -0.07999999821186066], \"rot\": [1.0, 0.0, 0.0, 0.0], \"name\": \"Transform\"}, \"friction\": 0.6000000238418579, \"elasticity\": 0.0, \"solver_params\": [0.019999999552965164, 1.0, 0.8999999761581421, 0.949999988079071, 0.0010000000474974513, 0.5, 2.0], \"radius\": 0.014999999664723873, \"length\": 0.1599999964237213, \"rgba\": [0.4000000059604645, 0.33000001311302185, 0.25999999046325684, 1.0], \"name\": \"Capsule\"}, {\"link_idx\": 8, \"transform\": {\"pos\": [-0.009999999776482582, 0.0, -0.05000000074505806], \"rot\": [0.9951333403587341, 0.0, 0.0985376164317131, 0.0], \"name\": \"Transform\"}, \"friction\": 0.6000000238418579, \"elasticity\": 0.0, \"solver_params\": [0.019999999552965164, 1.0, 0.8999999761581421, 0.949999988079071, 0.0010000000474974513, 0.5, 2.0], \"radius\": 0.014999999664723873, \"length\": 0.10198038816452026, \"rgba\": [0.4000000059604645, 0.33000001311302185, 0.25999999046325684, 1.0], \"name\": \"Capsule\"}, {\"link_idx\": 8, \"transform\": {\"pos\": [-0.009999999776482582, 0.0, -0.18000000715255737], \"rot\": [0.9732490181922913, 0.0, -0.22975291311740875, 0.0], \"name\": \"Transform\"}, \"friction\": 0.6000000238418579, \"elasticity\": 0.0, \"solver_params\": [0.019999999552965164, 1.0, 0.8999999761581421, 0.949999988079071, 0.0010000000474974513, 0.5, 2.0], \"radius\": 0.014999999664723873, \"length\": 0.04472136124968529, \"rgba\": [0.4000000059604645, 0.33000001311302185, 0.25999999046325684, 1.0], \"name\": \"Capsule\"}], \"RR_calf\": [{\"link_idx\": 9, \"transform\": {\"pos\": [0.009999999776482582, 0.0, -0.06499999761581421], \"rot\": [0.9970886707305908, 0.0, -0.0762505829334259, 0.0], \"name\": \"Transform\"}, \"friction\": 0.6000000238418579, \"elasticity\": 0.0, \"solver_params\": [0.019999999552965164, 1.0, 0.8999999761581421, 0.949999988079071, 0.0010000000474974513, 0.5, 2.0], \"radius\": 0.009999999776482582, \"length\": 0.13152946531772614, \"rgba\": [0.4000000059604645, 0.33000001311302185, 0.25999999046325684, 1.0], \"name\": \"Capsule\"}, {\"link_idx\": 9, \"transform\": {\"pos\": [0.009999999776482582, 0.0, -0.16500000655651093], \"rot\": [0.9903342723846436, 0.0, 0.13870121538639069, 0.0], \"name\": \"Transform\"}, \"friction\": 0.6000000238418579, \"elasticity\": 0.0, \"solver_params\": [0.019999999552965164, 1.0, 0.8999999761581421, 0.949999988079071, 0.0010000000474974513, 0.5, 2.0], \"radius\": 0.009999999776482582, \"length\": 0.07280109822750092, \"rgba\": [0.4000000059604645, 0.33000001311302185, 0.25999999046325684, 1.0], \"name\": \"Capsule\"}, {\"link_idx\": 9, \"transform\": {\"pos\": [0.0, 0.0, -0.20000000298023224], \"rot\": [1.0, 0.0, 0.0, 0.0], \"name\": \"Transform\"}, \"friction\": 0.800000011920929, \"elasticity\": 0.0, \"solver_params\": [0.019999999552965164, 1.0, 0.8999999761581421, 0.949999988079071, 0.0010000000474974513, 0.5, 2.0], \"radius\": 0.019999999552965164, \"rgba\": [0.4000000059604645, 0.33000001311302185, 0.25999999046325684, 1.0], \"name\": \"Sphere\"}], \"RL_hip\": [{\"link_idx\": 10, \"transform\": {\"pos\": [0.0, 0.054999999701976776, 0.0], \"rot\": [0.7071067690849304, 0.7071067690849304, 0.0, 0.0], \"name\": \"Transform\"}, \"friction\": 0.6000000238418579, \"elasticity\": 0.0, \"solver_params\": [0.019999999552965164, 1.0, 0.8999999761581421, 0.949999988079071, 0.0010000000474974513, 0.5, 2.0], \"radius\": 0.03999999910593033, \"length\": 0.07999999821186066, \"rgba\": [0.4000000059604645, 0.33000001311302185, 0.25999999046325684, 1.0], \"name\": \"Capsule\"}], \"RL_thigh\": [{\"link_idx\": 11, \"transform\": {\"pos\": [-0.019999999552965164, 0.0, -0.07999999821186066], \"rot\": [1.0, 0.0, 0.0, 0.0], \"name\": \"Transform\"}, \"friction\": 0.6000000238418579, \"elasticity\": 0.0, \"solver_params\": [0.019999999552965164, 1.0, 0.8999999761581421, 0.949999988079071, 0.0010000000474974513, 0.5, 2.0], \"radius\": 0.014999999664723873, \"length\": 0.1599999964237213, \"rgba\": [0.4000000059604645, 0.33000001311302185, 0.25999999046325684, 1.0], \"name\": \"Capsule\"}, {\"link_idx\": 11, \"transform\": {\"pos\": [-0.009999999776482582, 0.0, -0.05000000074505806], \"rot\": [0.9951333403587341, 0.0, 0.0985376164317131, 0.0], \"name\": \"Transform\"}, \"friction\": 0.6000000238418579, \"elasticity\": 0.0, \"solver_params\": [0.019999999552965164, 1.0, 0.8999999761581421, 0.949999988079071, 0.0010000000474974513, 0.5, 2.0], \"radius\": 0.014999999664723873, \"length\": 0.10198038816452026, \"rgba\": [0.4000000059604645, 0.33000001311302185, 0.25999999046325684, 1.0], \"name\": \"Capsule\"}, {\"link_idx\": 11, \"transform\": {\"pos\": [-0.009999999776482582, 0.0, -0.18000000715255737], \"rot\": [0.9732490181922913, 0.0, -0.22975291311740875, 0.0], \"name\": \"Transform\"}, \"friction\": 0.6000000238418579, \"elasticity\": 0.0, \"solver_params\": [0.019999999552965164, 1.0, 0.8999999761581421, 0.949999988079071, 0.0010000000474974513, 0.5, 2.0], \"radius\": 0.014999999664723873, \"length\": 0.04472136124968529, \"rgba\": [0.4000000059604645, 0.33000001311302185, 0.25999999046325684, 1.0], \"name\": \"Capsule\"}], \"RL_calf\": [{\"link_idx\": 12, \"transform\": {\"pos\": [0.009999999776482582, 0.0, -0.06499999761581421], \"rot\": [0.9970886707305908, 0.0, -0.0762505829334259, 0.0], \"name\": \"Transform\"}, \"friction\": 0.6000000238418579, \"elasticity\": 0.0, \"solver_params\": [0.019999999552965164, 1.0, 0.8999999761581421, 0.949999988079071, 0.0010000000474974513, 0.5, 2.0], \"radius\": 0.009999999776482582, \"length\": 0.13152946531772614, \"rgba\": [0.4000000059604645, 0.33000001311302185, 0.25999999046325684, 1.0], \"name\": \"Capsule\"}, {\"link_idx\": 12, \"transform\": {\"pos\": [0.009999999776482582, 0.0, -0.16500000655651093], \"rot\": [0.9903342723846436, 0.0, 0.13870121538639069, 0.0], \"name\": \"Transform\"}, \"friction\": 0.6000000238418579, \"elasticity\": 0.0, \"solver_params\": [0.019999999552965164, 1.0, 0.8999999761581421, 0.949999988079071, 0.0010000000474974513, 0.5, 2.0], \"radius\": 0.009999999776482582, \"length\": 0.07280109822750092, \"rgba\": [0.4000000059604645, 0.33000001311302185, 0.25999999046325684, 1.0], \"name\": \"Capsule\"}, {\"link_idx\": 12, \"transform\": {\"pos\": [0.0, 0.0, -0.20000000298023224], \"rot\": [1.0, 0.0, 0.0, 0.0], \"name\": \"Transform\"}, \"friction\": 0.800000011920929, \"elasticity\": 0.0, \"solver_params\": [0.019999999552965164, 1.0, 0.8999999761581421, 0.949999988079071, 0.0010000000474974513, 0.5, 2.0], \"radius\": 0.019999999552965164, \"rgba\": [0.4000000059604645, 0.33000001311302185, 0.25999999046325684, 1.0], \"name\": \"Sphere\"}]}, \"actuator\": {\"q_id\": [7, 8, 9, 10, 11, 12, 13, 14, 15, 16, 17, 18], \"qd_id\": [6, 7, 8, 9, 10, 11, 12, 13, 14, 15, 16, 17], \"ctrl_range\": [[-0.8028510212898254, 0.8028510212898254], [-1.0471999645233154, 4.1887898445129395], [-2.6965301036834717, -0.916297972202301], [-0.8028510212898254, 0.8028510212898254], [-1.0471999645233154, 4.1887898445129395], [-2.6965301036834717, -0.916297972202301], [-0.8028510212898254, 0.8028510212898254], [-1.0471999645233154, 4.1887898445129395], [-2.6965301036834717, -0.916297972202301], [-0.8028510212898254, 0.8028510212898254], [-1.0471999645233154, 4.1887898445129395], [-2.6965301036834717, -0.916297972202301]], \"force_range\": [[-33.5, 33.5], [-33.5, 33.5], [-33.5, 33.5], [-33.5, 33.5], [-33.5, 33.5], [-33.5, 33.5], [-33.5, 33.5], [-33.5, 33.5], [-33.5, 33.5], [-33.5, 33.5], [-33.5, 33.5], [-33.5, 33.5]], \"gain\": [100.0, 100.0, 100.0, 100.0, 100.0, 100.0, 100.0, 100.0, 100.0, 100.0, 100.0, 100.0], \"gear\": [1.0, 1.0, 1.0, 1.0, 1.0, 1.0, 1.0, 1.0, 1.0, 1.0, 1.0, 1.0], \"bias_q\": [-100.0, -100.0, -100.0, -100.0, -100.0, -100.0, -100.0, -100.0, -100.0, -100.0, -100.0, -100.0], \"bias_qd\": [0.0, 0.0, 0.0, 0.0, 0.0, 0.0, 0.0, 0.0, 0.0, 0.0, 0.0, 0.0], \"name\": \"Actuator\"}, \"init_q\": [0.0, 0.0, 0.4300000071525574, 1.0, 0.0, 0.0, 0.0, 0.0, 0.0, 0.0, 0.0, 0.0, 0.0, 0.0, 0.0, 0.0, 0.0, 0.0, 0.0], \"vel_damping\": 0.0, \"ang_damping\": 0.0, \"baumgarte_erp\": 0.10000000149011612, \"spring_mass_scale\": 0.0, \"spring_inertia_scale\": 0.8999999761581421, \"joint_scale_ang\": 0.10000000149011612, \"joint_scale_pos\": 0.5, \"collide_scale\": 1.0, \"enable_fluid\": false, \"geom_masks\": [4294967297, 0, 1, 1, 1], \"link_names\": [\"trunk\", \"FR_hip\", \"FR_thigh\", \"FR_calf\", \"FL_hip\", \"FL_thigh\", \"FL_calf\", \"RR_hip\", \"RR_thigh\", \"RR_calf\", \"RL_hip\", \"RL_thigh\", \"RL_calf\"], \"link_types\": \"f111111111111\", \"link_parents\": [-1, 0, 1, 2, 0, 4, 5, 0, 7, 8, 0, 10, 11], \"matrix_inv_iterations\": 10, \"solver_iterations\": 100, \"solver_maxls\": 20, \"name\": \"System\", \"states\": {\"x\": {\"pos\": [[[0.0, 0.0, 0.4300000071525574], [0.18299999833106995, -0.04699999839067459, 0.4300000071525574], [0.18299999833106995, -0.13205000758171082, 0.4300000071525574], [0.18299999833106995, -0.13205000758171082, 0.23000000417232513], [0.18299999833106995, 0.04699999839067459, 0.4300000071525574], [0.18299999833106995, 0.13205000758171082, 0.4300000071525574], [0.18299999833106995, 0.13205000758171082, 0.23000000417232513], [-0.18299999833106995, -0.04699999839067459, 0.4300000071525574], [-0.18299999833106995, -0.13205000758171082, 0.4300000071525574], [-0.18299999833106995, -0.13205000758171082, 0.23000000417232513], [-0.18299999833106995, 0.04699999839067459, 0.4300000071525574], [-0.18299999833106995, 0.13205000758171082, 0.4300000071525574], [-0.18299999833106995, 0.13205000758171082, 0.23000000417232513]], [[0.0, 0.0, 0.4299607574939728], [0.1830018311738968, -0.04699999839067459, 0.42996054887771606], [0.18406477570533752, -0.13204994797706604, 0.42981359362602234], [0.17763058841228485, -0.13205000758171082, 0.2296592891216278], [0.1830018311738968, 0.04699999839067459, 0.42996054887771606], [0.18406477570533752, 0.13204994797706604, 0.42981359362602234], [0.17763058841228485, 0.13205000758171082, 0.2296592891216278], [-0.1829981654882431, -0.04700000211596489, 0.42996054887771606], [-0.18193522095680237, -0.13204994797706604, 0.42981359362602234], [-0.18836940824985504, -0.13205000758171082, 0.2296592891216278], [-0.1829981654882431, 0.04700000211596489, 0.42996054887771606], [-0.18193522095680237, 0.13204994797706604, 0.42981359362602234], [-0.18836940824985504, 0.13205000758171082, 0.2296592891216278]], [[1.0326019719286705e-06, 9.173527359962463e-08, 0.42988288402557373], [0.1835957169532776, -0.046999648213386536, 0.42979544401168823], [0.18574315309524536, -0.132050022482872, 0.42934298515319824], [0.16700415313243866, -0.13205021619796753, 0.22889667749404907], [0.1835957020521164, 0.046999745070934296, 0.42978140711784363], [0.18574316799640656, 0.1320498138666153, 0.42934608459472656], [0.16700415313243866, 0.13205021619796753, 0.22889667749404907], [-0.1824042946100235, -0.047000154852867126, 0.42979782819747925], [-0.18025685846805573, -0.132050022482872, 0.4293449819087982], [-0.19899584352970123, -0.13205021619796753, 0.22889667749404907], [-0.1824042946100235, 0.04700026288628578, 0.4297838807106018], [-0.18025684356689453, 0.1320498287677765, 0.42934805154800415], [-0.19899584352970123, 0.13205021619796753, 0.22889667749404907]], [[0.0003072890976909548, 3.2782554626464844e-07, 0.42971932888031006], [0.18455880880355835, -0.04699934273958206, 0.42939838767051697], [0.1876296103000641, -0.13205070793628693, 0.42833414673805237], [0.1520589143037796, -0.13205014169216156, 0.22837409377098083], [0.18455831706523895, 0.04699956625699997, 0.42933890223503113], [0.18762964010238647, 0.1320493221282959, 0.42834439873695374], [0.1520588994026184, 0.13205143809318542, 0.22837668657302856], [-0.1814402937889099, -0.047000233083963394, 0.42950499057769775], [-0.1783704161643982, -0.13205093145370483, 0.4283411502838135], [-0.21394109725952148, -0.13205011188983917, 0.22837571799755096], [-0.18144099414348602, 0.047000523656606674, 0.429445743560791], [-0.1783703714609146, 0.132049560546875, 0.42835137248039246], [-0.21394109725952148, 0.13205139338970184, 0.2283782809972763]], [[0.001103413407690823, 7.012858986854553e-07, 0.4293901324272156], [0.18577203154563904, -0.04699832573533058, 0.428517609834671], [0.18920309841632843, -0.13205291330814362, 0.42663684487342834], [0.13468942046165466, -0.1320471614599228, 0.22933495044708252], [0.18577013909816742, 0.04700053855776787, 0.4283672571182251], [0.18920312821865082, 0.13204814493656158, 0.42665478587150574], [0.13468948006629944, 0.1320546418428421, 0.22934521734714508], [-0.1802223175764084, -0.04700160771608353, 0.42903047800064087], [-0.17679651081562042, -0.13205350935459137, 0.42669200897216797], [-0.23131057620048523, -0.1320471614599228, 0.2293417900800705], [-0.18022499978542328, 0.0469994880259037, 0.42888107895851135], [-0.176796555519104, 0.13204877078533173, 0.42670997977256775], [-0.23131048679351807, 0.1320546269416809, 0.22935201227664948]], [[0.002433809684589505, 1.0067597031593323e-06, 0.42874816060066223], [0.18707740306854248, -0.04699715971946716, 0.4269189238548279], [0.19007733464241028, -0.13205687701702118, 0.42438188195228577], [0.1171312928199768, -0.1320372372865677, 0.2328266203403473], [0.18707245588302612, 0.04700244963169098, 0.42662936449050903], [0.19007720053195953, 0.1320461630821228, 0.42439907789230347], [0.11713150143623352, 0.13206163048744202, 0.23284783959388733], [-0.17890305817127228, -0.047004733234643936, 0.4283811151981354], [-0.1759200394153595, -0.13205868005752563, 0.42464521527290344], [-0.24886813759803772, -0.13203737139701843, 0.23287591338157654], [-0.1789090484380722, 0.04699678346514702, 0.42809414863586426], [-0.17592056095600128, 0.13204622268676758, 0.42466282844543457], [-0.2488679587841034, 0.13206174969673157, 0.2328971028327942]], [[0.00417992053553462, 8.293427526950836e-07, 0.42761722207069397], [0.18830819427967072, -0.04699712619185448, 0.4245215356349945], [0.1902054250240326, -0.13206209242343903, 0.4219266176223755], [0.1009364128112793, -0.13201673328876495, 0.23866595327854156], [0.1882975995540619, 0.04700383171439171, 0.424049437046051], [0.19020478427410126, 0.13204309344291687, 0.4219232201576233], [0.10093666613101959, 0.13207581639289856, 0.2386918067932129], [-0.1776476353406906, -0.047009117901325226, 0.42769816517829895], [-0.1757846623659134, -0.1320665329694748, 0.42275774478912354], [-0.26505962014198303, -0.13201804459095, 0.23891225457191467], [-0.1776585876941681, 0.04699263721704483, 0.4272305965423584], [-0.1757860779762268, 0.13204054534435272, 0.42275574803352356], [-0.2650596797466278, 0.13207568228244781, 0.23893845081329346]], [[0.006089620757848024, -4.00003045797348e-07, 0.4258878827095032], [0.18937177956104279, -0.046999458223581314, 0.4214077293872833], [0.18985044956207275, -0.13206779956817627, 0.41954416036605835], [0.08661902695894241, -0.13198411464691162, 0.24549385905265808], [0.18935291469097137, 0.04700244590640068, 0.4207146167755127], [0.18984851241111755, 0.13203845918178558, 0.41948947310447693], [0.08661870658397675, 0.13210222125053406, 0.2455022633075714], [-0.17654332518577576, -0.04701351001858711, 0.4272291958332062], [-0.17612402141094208, -0.13207612931728363, 0.4215611219406128], [-0.2793651819229126, -0.13198891282081604, 0.24632537364959717], [-0.17656295001506805, 0.046987541019916534, 0.4265424907207489], [-0.17612677812576294, 0.13203118741512299, 0.4215095341205597], [-0.27936628460884094, 0.13210035860538483, 0.24633514881134033]], [[0.007871813140809536, -3.3150427043437958e-06, 0.4235996901988983], [0.19024741649627686, -0.04700516536831856, 0.4177074134349823], [0.1893330216407776, -0.13207371532917023, 0.41722577810287476], [0.07435216009616852, -0.13193996250629425, 0.25222787261009216], [0.19021296501159668, 0.046996112912893295, 0.4167609214782715], [0.18932896852493286, 0.1320320963859558, 0.4170796275138855], [0.07434982806444168, 0.1321442872285843, 0.25217968225479126], [-0.17558474838733673, -0.047016438096761703, 0.4271753132343292], [-0.17661339044570923, -0.13208617269992828, 0.421324759721756], [-0.2916021943092346, -0.13195079565048218, 0.2543679475784302], [-0.1756191998720169, 0.04698216915130615, 0.42623385787010193], [-0.17661844193935394, 0.13201935589313507, 0.4211839735507965], [-0.2916054129600525, 0.13213832676410675, 0.25432291626930237]], [[0.009296339936554432, -8.48621129989624e-06, 0.42093798518180847], [0.19091252982616425, -0.047014664858579636, 0.413507878780365], [0.18893583118915558, -0.13208049535751343, 0.4147496223449707], [0.06410151720046997, -0.1318851262331009, 0.2582032084465027], [0.19085395336151123, 0.04698367416858673, 0.41227179765701294], [0.18892712891101837, 0.13202407956123352, 0.414465069770813], [0.06409571319818497, 0.13220137357711792, 0.2580450773239136], [-0.17475983500480652, -0.047016970813274384, 0.42760995030403137], [-0.17695502936840057, -0.132095605134964, 0.42207255959510803], [-0.3017967939376831, -0.13190247118473053, 0.2627499997615814], [-0.17481739819049835, 0.04697750508785248, 0.4263790249824524], [-0.1769644170999527, 0.132007896900177, 0.4217946529388428], [-0.3018038272857666, 0.13218873739242554, 0.2625976502895355]], [[0.010234682820737362, -1.618592068552971e-05, 0.4181482791900635], [0.1913585066795349, -0.047028228640556335, 0.4088895320892334], [0.1888270080089569, -0.1320892870426178, 0.4118109941482544], [0.055735401809215546, -0.13182000815868378, 0.26304396986961365], [0.19126532971858978, 0.046965282410383224, 0.40732795000076294], [0.18880975246429443, 0.1320144534111023, 0.41133394837379456], [0.05572306364774704, 0.13226823508739471, 0.262714147567749], [-0.17405074834823608, -0.047015294432640076, 0.42853283882141113], [-0.17695392668247223, -0.13210369646549225, 0.4236670732498169], [-0.3100648522377014, -0.13183949887752533, 0.2714315354824066], [-0.17414212226867676, 0.046974558383226395, 0.42697739601135254], [-0.17697109282016754, 0.13200043141841888, 0.42319759726524353], [-0.3100784122943878, 0.13224701583385468, 0.27110961079597473]], [[0.010670140385627747, -2.6325229555368423e-05, 0.4154607355594635], [0.19158895313739777, -0.04704571142792702, 0.40393486618995667], [0.18904419243335724, -0.13210126757621765, 0.40815412998199463], [0.04906473308801651, -0.13174480199813843, 0.26651936769485474], [0.19144806265830994, 0.046941980719566345, 0.40201234817504883], [0.18901292979717255, 0.13200289011001587, 0.4074256420135498], [0.049040764570236206, 0.13233685493469238, 0.26595163345336914], [-0.1734369993209839, -0.04701218754053116, 0.42991378903388977], [-0.1765396147966385, -0.13210998475551605, 0.42591381072998047], [-0.31656479835510254, -0.13175515830516815, 0.2803901433944702], [-0.17357532680034637, 0.046974245458841324, 0.42799821496009827], [-0.1765698343515396, 0.13200002908706665, 0.42519378662109375], [-0.31658944487571716, 0.13230636715888977, 0.27983152866363525]], [[0.010678664781153202, -3.843987360596657e-05, 0.4130398631095886], [0.19162076711654663, -0.04706648364663124, 0.39873167872428894], [0.18952012062072754, -0.13211689889431, 0.4036479592323303], [0.043839506804943085, -0.13166028261184692, 0.2684793472290039], [0.19141696393489838, 0.046914879232645035, 0.3964134454727173], [0.189467191696167, 0.13198824226856232, 0.4026075005531311], [0.04379665106534958, 0.1323995739221573, 0.2676062285900116], [-0.17289133369922638, -0.047008268535137177, 0.43171605467796326], [-0.17574605345726013, -0.13211378455162048, 0.4286291301250458], [-0.32150575518608093, -0.1316428929567337, 0.28950443863868713], [-0.17309197783470154, 0.0469769686460495, 0.4294050931930542], [-0.17579686641693115, 0.13200800120830536, 0.42759788036346436], [-0.3215482831001282, 0.13235990703105927, 0.28864091634750366]], [[0.010394387878477573, -5.1794108003377914e-05, 0.41096624732017517], [0.19148282706737518, -0.0470893569290638, 0.39336684346199036], [0.19012638926506042, -0.1321355402469635, 0.39830252528190613], [0.03974871337413788, -0.13156868517398834, 0.2688726782798767], [0.1911991834640503, 0.04688463360071182, 0.3906196057796478], [0.1900414526462555, 0.13196861743927002, 0.39689135551452637], [0.03967729210853577, 0.132451593875885, 0.2676283121109009], [-0.1723766326904297, -0.047003425657749176, 0.4338981509208679], [-0.17467185854911804, -0.13211382925510406, 0.4316653907299042], [-0.3251569867134094, -0.13149890303611755, 0.298567533493042], [-0.17265677452087402, 0.04698233678936958, 0.4311581552028656], [-0.17475354671478271, 0.13202352821826935, 0.43026360869407654], [-0.32522690296173096, 0.1324024349451065, 0.2973332107067108]], [[0.009972024708986282, -6.552599370479584e-05, 0.4092428386211395], [0.19121187925338745, -0.04711269587278366, 0.3879173696041107], [0.1907161921262741, -0.13215553760528564, 0.3922467529773712], [0.036445893347263336, -0.13147395849227905, 0.2677873373031616], [0.1908300220966339, 0.04685117304325104, 0.3847106695175171], [0.1905859410762787, 0.13194184005260468, 0.3904109299182892], [0.03633344918489456, 0.1324920654296875, 0.26611071825027466], [-0.17184780538082123, -0.0469965934753418, 0.43640488386154175], [-0.17344003915786743, -0.13210828602313995, 0.4349088966846466], [-0.32782965898513794, -0.1313234120607376, 0.307362824678421], [-0.17222607135772705, 0.046989236027002335, 0.4332049489021301], [-0.17356595396995544, 0.1320437490940094, 0.43308186531066895], [-0.3279392719268799, 0.13243137300014496, 0.30569636821746826]], [[0.00955482292920351, -7.880711928009987e-05, 0.40781423449516296], [0.19084541499614716, -0.047134704887866974, 0.38244619965553284], [0.19115711748600006, -0.1321745663881302, 0.38568857312202454], [0.03359545022249222, -0.1313813477754593, 0.2654607594013214], [0.19034554064273834, 0.04681393876671791, 0.37875357270240784], [0.19096538424491882, 0.13190588355064392, 0.3833819329738617], [0.03342626243829727, 0.1325237900018692, 0.2632986605167389], [-0.17125874757766724, -0.0469859279692173, 0.4391612708568573], [-0.17216578125953674, -0.1320948302745819, 0.43826866149902344], [-0.32983478903770447, -0.13112059235572815, 0.31572669744491577], [-0.1717548370361328, 0.04699605330824852, 0.4354742467403412], [-0.17235226929187775, 0.13206438720226288, 0.4359692633152008], [-0.33000004291534424, 0.13244664669036865, 0.313573956489563]], [[0.009253076277673244, -9.101536124944687e-05, 0.4065905809402466], [0.1904131919145584, -0.047153767198324203, 0.3770025670528412], [0.19135195016860962, -0.13219031691551208, 0.3788740634918213], [0.03092077374458313, -0.1312960833311081, 0.2622435688972473], [0.1897742748260498, 0.04677218571305275, 0.3728027641773224], [0.19107985496520996, 0.1318596601486206, 0.37606003880500793], [0.030675843358039856, 0.1325521022081375, 0.2595537006855011], [-0.1705709546804428, -0.04696909710764885, 0.4420727491378784], [-0.17093470692634583, -0.13207124173641205, 0.4416661262512207], [-0.33143937587738037, -0.13089780509471893, 0.3235728442668915], [-0.171208918094635, 0.047001224011182785, 0.43787825107574463], [-0.17120087146759033, 0.1320808231830597, 0.43885666131973267], [-0.3316797614097595, 0.132451131939888, 0.32088980078697205]], [[0.009132511913776398, -0.00010148342698812485, 0.40546703338623047], [0.18992950022220612, -0.047168828547000885, 0.37163352966308594], [0.19124792516231537, -0.13220104575157166, 0.37205103039741516], [0.028236523270606995, -0.13122259080410004, 0.2585337460041046], [0.18912982940673828, 0.04672536253929138, 0.3669101893901825], [0.19087399542331696, 0.13180330395698547, 0.36870425939559937], [0.027894005179405212, 0.1325834095478058, 0.25528639554977417], [-0.16976144909858704, -0.046945661306381226, 0.44504183530807495], [-0.1697937399148941, -0.13203564286231995, 0.4450278878211975], [-0.3328307867050171, -0.13066411018371582, 0.3308793306350708], [-0.17055843770503998, 0.0470031313598156, 0.44032394886016846], [-0.17016275227069855, 0.13208916783332825, 0.4416823387145996], [-0.3331688940525055, 0.13244950771331787, 0.3276344835758209]], [[0.009206051006913185, -0.00011017080396413803, 0.40434500575065613], [0.189418762922287, -0.04717915877699852, 0.3663884699344635], [0.19083499908447266, -0.13220618665218353, 0.3654429018497467], [0.025457575917243958, -0.13116540014743805, 0.2547060251235962], [0.18843339383602142, 0.04667435213923454, 0.3611329197883606], [0.19033586978912354, 0.1317383199930191, 0.36154964566230774], [0.02499319612979889, 0.13262370228767395, 0.25088539719581604], [-0.16881504654884338, -0.046913422644138336, 0.4479637145996094], [-0.16875192523002625, -0.13198769092559814, 0.448286771774292], [-0.3341030776500702, -0.13042879104614258, 0.33765503764152527], [-0.1697934865951538, 0.04700068011879921, 0.442711740732193], [-0.1692473143339157, 0.13208715617656708, 0.44439125061035156], [-0.33456504344940186, 0.13244707882404327, 0.3338310122489929]], [[0.0094471275806427, -0.00011704443022608757, 0.40315505862236023], [0.18888619542121887, -0.04718505218625069, 0.36128348112106323], [0.19014792144298553, -0.1322067379951477, 0.35923081636428833], [0.02258560061454773, -0.13112729787826538, 0.251059889793396], [0.18769420683383942, 0.04662025719881058, 0.3554941415786743], [0.18949785828590393, 0.1316678524017334, 0.35478925704956055], [0.0219733864068985, 0.1326773464679718, 0.24666400253772736], [-0.16774003207683563, -0.04687252640724182, 0.45074599981307983], [-0.16778336465358734, -0.13192792236804962, 0.45137760043144226], [-0.33526813983917236, -0.13020077347755432, 0.3439100384712219], [-0.1689237505197525, 0.04699335992336273, 0.44495585560798645], [-0.16843010485172272, 0.1320742666721344, 0.44693008065223694], [-0.3358810544013977, 0.13244888186454773, 0.33950406312942505]], [[0.009804889559745789, -0.0001221848651766777, 0.4018547832965851], [0.1883164942264557, -0.0471869595348835, 0.3563498556613922], [0.18925130367279053, -0.13220517337322235, 0.353528767824173], [0.019686385989189148, -0.13110662996768951, 0.2477925419807434], [0.18689683079719543, 0.04656512290239334, 0.3500277101993561], [0.1884244978427887, 0.13159599900245667, 0.3485487401485443], [0.018898919224739075, 0.13274677097797394, 0.2428322434425354], [-0.1665559560060501, -0.04682471975684166, 0.45332255959510803], [-0.16684167087078094, -0.1318584829568863, 0.4542379677295685], [-0.3362794518470764, -0.12998783588409424, 0.34963732957839966], [-0.16796889901161194, 0.046980999410152435, 0.4469960331916809], [-0.16766591370105743, 0.13205188512802124, 0.4492478370666504], [-0.33707040548324585, 0.13245946168899536, 0.3446599245071411]], [[0.010214265435934067, -0.00012579653412103653, 0.4004324674606323], [0.1877002716064453, -0.04718591272830963, 0.35161834955215454], [0.1882203370332718, -0.13220423460006714, 0.34838661551475525], [0.016854822635650635, -0.131098672747612, 0.24499014019966125], [0.1860308200120926, 0.04651157930493355, 0.3447684049606323], [0.18719127774238586, 0.13152745366096497, 0.3428870141506195], [0.015864670276641846, 0.13283224403858185, 0.23948794603347778], [-0.16528534889221191, -0.046772558242082596, 0.45564982295036316], [-0.1658734232187271, -0.131783589720726, 0.4568129777908325], [-0.33706507086753845, -0.1297958642244339, 0.3548096716403961], [-0.16695109009742737, 0.0469641275703907, 0.44879350066185], [-0.1669013500213623, 0.13202263414859772, 0.4512995481491089], [-0.3380608558654785, 0.1324821263551712, 0.3492833375930786]], [[0.010611938312649727, -0.00012815510854125023, 0.3989037573337555], [0.1870327591896057, -0.04718273878097534, 0.34710851311683655], [0.18712925910949707, -0.13220593333244324, 0.3437962532043457], [0.014183849096298218, -0.13109712302684784, 0.24264675378799438], [0.18509119749069214, 0.0464625246822834, 0.33973971009254456], [0.185872882604599, 0.13146699965000153, 0.3378031551837921], [0.012964770197868347, 0.1329319030046463, 0.23663388192653656], [-0.16395433247089386, -0.046719569712877274, 0.45770886540412903], [-0.16482897102832794, -0.1317089945077896, 0.45905840396881104], [-0.3375566601753235, -0.12962692975997925, 0.3593909442424774], [-0.16589538753032684, 0.046943552792072296, 0.45033329725265503], [-0.16608601808547974, 0.13198991119861603, 0.4530486464500427], [-0.3387835919857025, 0.13251836597919464, 0.35334762930870056]], [[0.010948088951408863, -0.0001295851543545723, 0.3973025381565094], [0.1863134205341339, -0.04717747122049332, 0.3428265154361725], [0.18604066967964172, -0.13221129775047302, 0.33970215916633606], [0.011745959520339966, -0.13109499216079712, 0.24068981409072876], [0.18407770991325378, 0.046420808881521225, 0.3349510431289673], [0.18453267216682434, 0.13141894340515137, 0.33324694633483887], [0.010272905230522156, 0.13304173946380615, 0.2342030256986618], [-0.1625877469778061, -0.04666994884610176, 0.45950356125831604], [-0.16367314755916595, -0.1316409558057785, 0.4609452486038208], [-0.33770930767059326, -0.12947869300842285, 0.3633517622947693], [-0.1648252308368683, 0.04691992700099945, 0.4516220688819885], [-0.16518345475196838, 0.13195711374282837, 0.4544713497161865], [-0.3391925096511841, 0.13256804645061493, 0.3568296432495117]], [[0.011193150654435158, -0.0001304149627685547, 0.39567068219184875], [0.18554605543613434, -0.047169409692287445, 0.33876535296440125], [0.18499861657619476, -0.1322198063135147, 0.3360166847705841], [0.009582534432411194, -0.1310848742723465, 0.23900474607944489], [0.1829950511455536, 0.04638884216547012, 0.3303978145122528], [0.18321624398231506, 0.13138625025749207, 0.32913362979888916], [0.007831916213035583, 0.13315504789352417, 0.23208415508270264], [-0.16120560467243195, -0.04662776738405228, 0.46105530858039856], [-0.16239139437675476, -0.13158486783504486, 0.46246466040611267], [-0.3375120460987091, -0.12934693694114685, 0.36668291687965393], [-0.16375935077667236, 0.04689360409975052, 0.4526829421520233], [-0.16417761147022247, 0.13192680478096008, 0.45556169748306274], [-0.33927473425865173, 0.1326293796300888, 0.35972318053245544]], [[0.01133938692510128, -0.00013093184679746628, 0.39404788613319397], [0.1847386509180069, -0.047157201915979385, 0.3349061608314514], [0.18402712047100067, -0.13222931325435638, 0.33263540267944336], [0.00769786536693573, -0.1310594230890274, 0.23745951056480408], [0.1818527728319168, 0.04636809602379799, 0.32606241106987], [0.1819491982460022, 0.13136962056159973, 0.3253597021102905], [0.005649164319038391, 0.13326488435268402, 0.23014520108699799], [-0.159821555018425, -0.046596162021160126, 0.46239686012268066], [-0.16099081933498383, -0.13154447078704834, 0.4636313319206238], [-0.33698931336402893, -0.1292281448841095, 0.36940449476242065], [-0.1627102941274643, 0.04686441645026207, 0.4535495340824127], [-0.16307370364665985, 0.13190028071403503, 0.4563349783420563], [-0.33905264735221863, 0.13269908726215363, 0.36204826831817627]], [[0.01139813382178545, -0.0001313360407948494, 0.39246413111686707], [0.18390323221683502, -0.04713880270719528, 0.3312201499938965], [0.18313074111938477, -0.1322362869977951, 0.3294509947299957], [0.006066948175430298, -0.13101178407669067, 0.2359285205602646], [0.1806645393371582, 0.046358607709407806, 0.3219163119792938], [0.1807384192943573, 0.13136737048625946, 0.32181620597839355], [0.003701150417327881, 0.1333681046962738, 0.2282579094171524], [-0.15844318270683289, -0.04657683148980141, 0.46356716752052307], [-0.15949669480323792, -0.13152170181274414, 0.4644838869571686], [-0.3361956477165222, -0.12912042438983917, 0.3715687692165375], [-0.16168437898159027, 0.04683158919215202, 0.45426058769226074], [-0.16189508140087128, 0.13187706470489502, 0.45682838559150696], [-0.33857834339141846, 0.1327730119228363, 0.3638550043106079]], [[0.011394110508263111, -0.00013175071217119694, 0.39093533158302307], [0.183053657412529, -0.04711175337433815, 0.32767122983932495], [0.18229074776172638, -0.13223625719547272, 0.32638785243034363], [0.004635319113731384, -0.13093668222427368, 0.23442316055297852], [0.1794460564851761, 0.04635903984308243, 0.3179224729537964], [0.17956656217575073, 0.13137641549110413, 0.3184250295162201], [0.0019352436065673828, 0.13346514105796814, 0.226432204246521], [-0.15707312524318695, -0.04657024145126343, 0.4646061658859253], [-0.15795119106769562, -0.1315169483423233, 0.46509531140327454], [-0.3352113366127014, -0.12902319431304932, 0.3733343482017517], [-0.16068291664123535, 0.04679376631975174, 0.454855352640152], [-0.16068263351917267, 0.1318550407886505, 0.4571131467819214], [-0.3379303812980652, 0.13284656405448914, 0.365302175283432]], [[0.011358203366398811, -0.00013230089098215103, 0.38946253061294556], [0.18219934403896332, -0.04707338288426399, 0.32423263788223267], [0.18146517872810364, -0.1322246789932251, 0.3234333395957947], [0.0033853501081466675, -0.13082990050315857, 0.23284712433815002], [0.17820753157138824, 0.04636746644973755, 0.3140529990196228], [0.17839346826076508, 0.13139256834983826, 0.315169095993042], [0.00033664703369140625, 0.13355490565299988, 0.22456195950508118], [-0.15571343898773193, -0.046575937420129776, 0.46555835008621216], [-0.156416654586792, -0.13153013586997986, 0.4655992090702057], [-0.3341023325920105, -0.12893852591514587, 0.3748801052570343], [-0.1597069799900055, 0.04674919322133064, 0.4553777575492859], [-0.15949666500091553, 0.13183042407035828, 0.45731866359710693], [-0.3371706008911133, 0.13291336596012115, 0.3665538728237152]], [[0.011318451724946499, -0.0001331586390733719, 0.38803982734680176], [0.18133847415447235, -0.04702157527208328, 0.3209049701690674], [0.18060797452926636, -0.13219697773456573, 0.3205999433994293], [0.002373114228248596, -0.13068634271621704, 0.23084689676761627], [0.1769501119852066, 0.04638172686100006, 0.3103078603744507], [0.17717456817626953, 0.13141101598739624, 0.3120553493499756], [-0.001036033034324646, 0.13364186882972717, 0.22228527069091797], [-0.1543745994567871, -0.04659336805343628, 0.46648815274238586], [-0.15495923161506653, -0.13156084716320038, 0.46615591645240784], [-0.33283889293670654, -0.12886114418506622, 0.3760509788990021], [-0.15876539051532745, 0.04669572412967682, 0.45589038729667664], [-0.15840131044387817, 0.13179805874824524, 0.4575989544391632], [-0.3362669348716736, 0.13297030329704285, 0.3674468398094177]], [[0.011291011236608028, -0.0001343542244285345, 0.38667139410972595], [0.18046356737613678, -0.046956032514572144, 0.31770649552345276], [0.1796916425228119, -0.1321488916873932, 0.31786781549453735], [0.0016680508852005005, -0.13050244748592377, 0.22807057201862335], [0.17566652595996857, 0.046398572623729706, 0.30670103430747986], [0.17588435113430023, 0.13142792880535126, 0.30905815958976746], [-0.0021124035120010376, 0.13373306393623352, 0.2192441076040268], [-0.15307475626468658, -0.046622030436992645, 0.46746644377708435], [-0.1536230891942978, -0.13160724937915802, 0.4668760597705841], [-0.3313581347465515, -0.1287829428911209, 0.3766186535358429], [-0.15787506103515625, 0.04663068428635597, 0.4564611315727234], [-0.15743879973888397, 0.13175275921821594, 0.4580575227737427], [-0.3351556658744812, 0.13301628828048706, 0.3677479028701782]], [[0.01127348467707634, -0.00013657123781740665, 0.3853811025619507], [0.1795750856399536, -0.0468752421438694, 0.3146413564682007], [0.178716242313385, -0.13207733631134033, 0.31517207622528076], [0.0013100355863571167, -0.1302778571844101, 0.2243252992630005], [0.17435947060585022, 0.04641616716980934, 0.30323413014411926], [0.17452426254749298, 0.13144083321094513, 0.3061062693595886], [-0.0028517991304397583, 0.13383546471595764, 0.21524176001548767], [-0.15183085203170776, -0.04666058346629143, 0.4685351550579071], [-0.15241959691047668, -0.13166597485542297, 0.4677894413471222], [-0.3296146094799042, -0.12869688868522644, 0.37645772099494934], [-0.1570505052804947, 0.04655206948518753, 0.4571295976638794], [-0.1566191017627716, 0.13169004023075104, 0.4587174952030182], [-0.33379125595092773, 0.13305088877677917, 0.36732834577560425]], [[0.011249508708715439, -0.00014068814925849438, 0.3842015862464905], [0.17867855727672577, -0.046779289841651917, 0.31169915199279785], [0.17770782113075256, -0.13198022544384003, 0.3124210238456726], [0.0012957453727722168, -0.13001596927642822, 0.21961207687854767], [0.1730365753173828, 0.04643275588750839, 0.29989418387413025], [0.17312200367450714, 0.13144932687282562, 0.3031025230884552], [-0.0032571107149124146, 0.1339542120695114, 0.21027584373950958], [-0.15065377950668335, -0.046706587076187134, 0.4696969985961914], [-0.15133081376552582, -0.13173238933086395, 0.4688534438610077], [-0.3276011347770691, -0.12859892845153809, 0.37559571862220764], [-0.15629957616329193, 0.04645908996462822, 0.45789507031440735], [-0.15592274069786072, 0.13160701096057892, 0.4595310688018799], [-0.332166463136673, 0.1330733597278595, 0.3662123382091522]], [[0.011197749525308609, -0.00014738226309418678, 0.3831557631492615], [0.17778398096561432, -0.04666949808597565, 0.3088626265525818], [0.17670691013336182, -0.1318575143814087, 0.3095310628414154], [0.0015869736671447754, -0.12972311675548553, 0.21408113837242126], [0.1717100888490677, 0.04644718021154404, 0.29666197299957275], [0.17171989381313324, 0.13145442306995392, 0.29995882511138916], [-0.0033657699823379517, 0.13409240543842316, 0.2044931799173355], [-0.14954987168312073, -0.0467572882771492, 0.47091859579086304], [-0.15032166242599487, -0.1318013072013855, 0.46998459100723267], [-0.3253474831581116, -0.12848784029483795, 0.37417444586753845], [-0.15562677383422852, 0.04635126516222954, 0.4587218463420868], [-0.15531276166439056, 0.13150274753570557, 0.460410475730896], [-0.3303109407424927, 0.13308264315128326, 0.36453843116760254]], [[0.011100280098617077, -0.0001569895539432764, 0.38224172592163086], [0.17690502107143402, -0.04654813930392265, 0.3061147630214691], [0.17575550079345703, -0.13171160221099854, 0.3064570724964142], [0.0021235793828964233, -0.12940742075443268, 0.2079681009054184], [0.17039592564105988, 0.04645908623933792, 0.2935187518596649], [0.17036208510398865, 0.1314578801393509, 0.2966268062591553], [-0.003236740827560425, 0.1342511922121048, 0.19812612235546112], [-0.14852069318294525, -0.0468096099793911, 0.47214412689208984], [-0.14935481548309326, -0.131867915391922, 0.47109106183052063], [-0.3229110836982727, -0.1283642053604126, 0.37238502502441406], [-0.15503187477588654, 0.04622914269566536, 0.45955243706703186], [-0.154749795794487, 0.13137784600257874, 0.46126076579093933], [-0.32828065752983093, 0.13307783007621765, 0.362494558095932]], [[0.010948874987661839, -0.00016940338537096977, 0.3814268112182617], [0.17605672776699066, -0.04641829803586006, 0.30344247817993164], [0.1748877912759781, -0.13154727220535278, 0.303206205368042], [0.0028326809406280518, -0.1290779560804367, 0.20154505968093872], [0.16911150515079498, 0.04646860808134079, 0.29045039415359497], [0.1690852791070938, 0.13146167993545532, 0.2931113839149475], [-0.002940744161605835, 0.13442987203598022, 0.1914440393447876], [-0.14756393432617188, -0.046860530972480774, 0.4733089208602905], [-0.14840152859687805, -0.13192836940288544, 0.4720947742462158], [-0.32036882638931274, -0.12822940945625305, 0.3704170286655426], [-0.15451030433177948, 0.04609479755163193, 0.46032074093818665], [-0.15420299768447876, 0.13123424351215363, 0.4620016813278198], [-0.32615041732788086, 0.13305871188640594, 0.3602675199508667]], [[0.010748638771474361, -0.00018393038772046566, 0.38065218925476074], [0.1752515733242035, -0.046284060925245285, 0.30083802342414856], [0.17412503063678741, -0.1313711404800415, 0.2998344600200653], [0.0036349445581436157, -0.12874414026737213, 0.1950916349887848], [0.16787143051624298, 0.04647594317793846, 0.28744831681251526], [0.16791357100009918, 0.13146749138832092, 0.2894672453403473], [-0.002554193139076233, 0.1346263438463211, 0.18472453951835632], [-0.1466747224330902, -0.04690751060843468, 0.47434672713279724], [-0.14744749665260315, -0.13197998702526093, 0.47294044494628906], [-0.3178114891052246, -0.12808504700660706, 0.3684326708316803], [-0.15405485033988953, 0.04595116153359413, 0.46095964312553406], [-0.15365555882453918, 0.13107512891292572, 0.4625764787197113], [-0.32400813698768616, 0.13302594423294067, 0.3580171465873718]], [[0.010516466572880745, -0.00019958149641752243, 0.37984803318977356], [0.1745011806488037, -0.046149060130119324, 0.2982853949069977], [0.17347338795661926, -0.1311911791563034, 0.29643264412879944], [0.004446238279342651, -0.12841564416885376, 0.18888264894485474], [0.1666894555091858, 0.046481356024742126, 0.28449520468711853], [0.16685593128204346, 0.13147643208503723, 0.2857847809791565], [-0.00215756893157959, 0.1348370611667633, 0.17824213206768036], [-0.14584487676620483, -0.04694833606481552, 0.4751952588558197], [-0.14649389684200287, -0.13202135264873505, 0.47359371185302734], [-0.31533730030059814, -0.1279328614473343, 0.36655861139297485], [-0.15365533530712128, 0.04580172151327133, 0.46140632033348083], [-0.1531057357788086, 0.1309046596288681, 0.4629499912261963], [-0.32194870710372925, 0.13298135995864868, 0.35586869716644287]], [[0.010274277068674564, -0.0002153294626623392, 0.3789421021938324], [0.1738263964653015, -0.046016592532396317, 0.29578155279159546], [0.17291831970214844, -0.1310155987739563, 0.29311603307724], [0.005178704857826233, -0.12810111045837402, 0.18322689831256866], [0.16558897495269775, 0.04648551717400551, 0.28158774971961975], [0.1659008264541626, 0.13148847222328186, 0.28217896819114685], [-0.0018340051174163818, 0.1350548267364502, 0.17230330407619476], [-0.14506438374519348, -0.046981196850538254, 0.4758034944534302], [-0.14556102454662323, -0.1320522278547287, 0.4740481674671173], [-0.31305551528930664, -0.12777630984783173, 0.36495882272720337], [-0.15329985320568085, 0.04565019905567169, 0.4616095721721649], [-0.15257088840007782, 0.130727618932724, 0.46311575174331665], [-0.3200775384902954, 0.1329272985458374, 0.35398566722869873]], [[0.010049061849713326, -0.0002300604246556759, 0.37787413597106934], [0.1732313483953476, -0.04589059576392174, 0.29333415627479553], [0.1724339872598648, -0.13085174560546875, 0.2900095283985138], [0.005810663104057312, -0.12780651450157166, 0.17823326587677002], [0.16457539796829224, 0.04648798704147339, 0.278733491897583], [0.16502586007118225, 0.1315024048089981, 0.2787744700908661], [-0.0016013085842132568, 0.13527485728263855, 0.16701596975326538], [-0.14432886242866516, -0.04700491577386856, 0.4761408567428589], [-0.14468367397785187, -0.1320732831954956, 0.474323034286499], [-0.3110102117061615, -0.12761493027210236, 0.36361974477767944], [-0.1529824584722519, 0.045500364154577255, 0.4615386426448822], [-0.15208277106285095, 0.1305488646030426, 0.46309295296669006], [-0.3184339106082916, 0.13286790251731873, 0.3523522615432739]], [[0.009863372892141342, -0.00024298648349940777, 0.37660932540893555], [0.17271292209625244, -0.045774195343256, 0.2909599542617798], [0.17199458181858063, -0.13070563971996307, 0.28720587491989136], [0.006355404853820801, -0.12753604352474213, 0.17389503121376038], [0.16364678740501404, 0.04648768901824951, 0.2759488821029663], [0.16420841217041016, 0.13151630759239197, 0.27566418051719666], [-0.0014424175024032593, 0.13549348711967468, 0.1623736321926117], [-0.14363758265972137, -0.047018855810165405, 0.4762035608291626], [-0.14389529824256897, -0.13208509981632233, 0.47443151473999023], [-0.30920350551605225, -0.12744766473770142, 0.36242741346359253], [-0.1527012586593628, 0.045355722308158875, 0.4611896574497223], [-0.15167182683944702, 0.1303732991218567, 0.46289485692977905], [-0.3170161247253418, 0.13280940055847168, 0.35085415840148926]], [[0.009729159064590931, -0.00025380426086485386, 0.37514689564704895], [0.17226698994636536, -0.045669570565223694, 0.28867363929748535], [0.17158330976963043, -0.13058164715766907, 0.2847445607185364], [0.006833210587501526, -0.1272917091846466, 0.17015837132930756], [0.16280022263526917, 0.04648313671350479, 0.27324795722961426], [0.16343432664871216, 0.13152796030044556, 0.2728879153728485], [-0.0013340413570404053, 0.1357067972421646, 0.1583235114812851], [-0.14299122989177704, -0.04702252149581909, 0.4760017991065979], [-0.14321599900722504, -0.13208773732185364, 0.47436556220054626], [-0.30762332677841187, -0.12727418541908264, 0.36125117540359497], [-0.15245580673217773, 0.04521923512220383, 0.4605724811553955], [-0.1513555943965912, 0.13020572066307068, 0.4625137150287628], [-0.3158090114593506, 0.13275885581970215, 0.3493615388870239]], [[0.009646674618124962, -0.0002626830246299505, 0.3735164701938629], [0.171889528632164, -0.04557819291949272, 0.2864837348461151], [0.17119541764259338, -0.1304820477962494, 0.28261128067970276], [0.007258817553520203, -0.12707288563251495, 0.16695258021354675], [0.16203267872333527, 0.04647272080183029, 0.2706387937068939], [0.162700816988945, 0.13153505325317383, 0.27043184638023376], [-0.0012590736150741577, 0.13590991497039795, 0.15479609370231628], [-0.1423904299736023, -0.0470154695212841, 0.4755517840385437], [-0.14264944195747375, -0.1320808082818985, 0.47409769892692566], [-0.306254506111145, -0.12709490954875946, 0.3599857985973358], [-0.1522456407546997, 0.04509318247437477, 0.45970281958580017], [-0.1511356681585312, 0.1300506591796875, 0.4619225561618805], [-0.3147950768470764, 0.13272309303283691, 0.3477705419063568]], [[0.009606929495930672, -0.0002701347693800926, 0.3717658519744873], [0.17157615721225739, -0.04550072178244591, 0.28439241647720337], [0.17083559930324554, -0.13040700554847717, 0.2807524502277374], [0.0076423585414886475, -0.1268763542175293, 0.16419367492198944], [0.1613403707742691, 0.046454835683107376, 0.268123596906662], [0.1620136946439743, 0.1315351277589798, 0.2682427763938904], [-0.00120602548122406, 0.1360974907875061, 0.15170836448669434], [-0.14183534681797028, -0.04699747636914253, 0.4748741090297699], [-0.1421857327222824, -0.13206365704536438, 0.4735928773880005], [-0.3050781488418579, -0.12691058218479156, 0.358560711145401], [-0.15207023918628693, 0.04497918859124184, 0.4586012363433838], [-0.15100084245204926, 0.12991207838058472, 0.46108686923980713], [-0.3139539062976837, 0.13270781934261322, 0.3460124135017395]], [[0.00959571823477745, -0.00027683936059474945, 0.3699473440647125], [0.17132161557674408, -0.04543686285614967, 0.2823966145515442], [0.17051276564598083, -0.13035455346107483, 0.2790941894054413], [0.00799417495727539, -0.1266975998878479, 0.16178222000598907], [0.16071820259094238, 0.04642790928483009, 0.2656993269920349], [0.161382257938385, 0.13152563571929932, 0.26624757051467896], [-0.0011641085147857666, 0.13626450300216675, 0.14896149933338165], [-0.1413259357213974, -0.046968650072813034, 0.47399333119392395], [-0.1418067365884781, -0.13203570246696472, 0.47282353043556213], [-0.3040701746940613, -0.12672175467014313, 0.3569336235523224], [-0.15192919969558716, 0.04487815871834755, 0.4572923481464386], [-0.15093234181404114, 0.12979288399219513, 0.4599800109863281], [-0.31326088309288025, 0.1327172815799713, 0.3440462052822113]], [[0.009597708471119404, -0.0002834624610841274, 0.36810582876205444], [0.1711195558309555, -0.045385267585515976, 0.2804882824420929], [0.17023569345474243, -0.13032105565071106, 0.2775591015815735], [0.008327290415763855, -0.126532182097435, 0.15960851311683655], [0.1601596474647522, 0.04639054462313652, 0.26335814595222473], [0.16081489622592926, 0.1315039098262787, 0.26436978578567505], [-0.0011207610368728638, 0.13640670478343964, 0.14644624292850494], [-0.1408618986606598, -0.04692944511771202, 0.472937673330307], [-0.14149151742458344, -0.13199664652347565, 0.47178080677986145], [-0.30320098996162415, -0.12652860581874847, 0.35508373379707336], [-0.1518222987651825, 0.04479021579027176, 0.4558044672012329], [-0.15090930461883545, 0.12969474494457245, 0.45859405398368835], [-0.31268662214279175, 0.13275396823883057, 0.341852068901062]], [[0.009599607437849045, -0.00029050023294985294, 0.3662717342376709], [0.17096291482448578, -0.04534373804926872, 0.2786544859409332], [0.1700100302696228, -0.1303018033504486, 0.2760774791240692], [0.008655831217765808, -0.12637607753276825, 0.15756532549858093], [0.15965726971626282, 0.046341534703969955, 0.2610875368118286], [0.16031645238399506, 0.1314672976732254, 0.2625405490398407], [-0.001063123345375061, 0.1365206241607666, 0.14405608177185059], [-0.1404426097869873, -0.046880632638931274, 0.47173693776130676], [-0.14122061431407928, -0.1319465935230255, 0.47047868371009827], [-0.3024383783340454, -0.12633121013641357, 0.3530113995075226], [-0.15174919366836548, 0.044714756309986115, 0.45416754484176636], [-0.15091294050216675, 0.12961778044700623, 0.45694389939308167], [-0.31219977140426636, 0.13281865417957306, 0.3394312262535095]], [[0.009592021815478802, -0.000298207625746727, 0.3644585609436035], [0.17084485292434692, -0.04530961811542511, 0.2768772840499878], [0.16983738541603088, -0.13029175996780396, 0.2745930552482605], [0.008991271257400513, -0.1262253224849701, 0.1555623710155487], [0.15920381247997284, 0.04627993330359459, 0.25887006521224976], [0.15988706052303314, 0.13141341507434845, 0.26070424914360046], [-0.0009814202785491943, 0.13660582900047302, 0.14170153439044952], [-0.1400666981935501, -0.04682314395904541, 0.47041961550712585], [-0.14097824692726135, -0.13188618421554565, 0.468951940536499], [-0.301752507686615, -0.12612955272197723, 0.3507407605648041], [-0.15170907974243164, 0.04465053230524063, 0.45241034030914307], [-0.15092876553535461, 0.1295606791973114, 0.45506516098976135], [-0.3117719292640686, 0.13291007280349731, 0.3368084132671356]], [[0.009570062160491943, -0.0003066000062972307, 0.3626643717288971], [0.17075979709625244, -0.0452800989151001, 0.2751349210739136], [0.16971534490585327, -0.13028593361377716, 0.27306482195854187], [0.0093393474817276, -0.126075878739357, 0.15353578329086304], [0.15879307687282562, 0.046205073595047, 0.25668397545814514], [0.1595226526260376, 0.13134066760540009, 0.25882065296173096], [-0.0008721649646759033, 0.13666358590126038, 0.13931939005851746], [-0.1397317498922348, -0.04675798863172531, 0.4690106213092804], [-0.14075343310832977, -0.13181649148464203, 0.46725016832351685], [-0.30112016201019287, -0.1259233057498932, 0.3483191728591919], [-0.1517002135515213, 0.04459581896662712, 0.45055800676345825], [-0.1509474813938141, 0.1295207142829895, 0.4530080258846283], [-0.31138166785240173, 0.133025124669075, 0.3340316712856293]], [[0.009533170610666275, -0.0003155600279569626, 0.36087602376937866], [0.17070363461971283, -0.04525233805179596, 0.27340254187583923], [0.16963869333267212, -0.13027986884117126, 0.2714661955833435], [0.009698659181594849, -0.12592393159866333, 0.1514502614736557], [0.1584196239709854, 0.046117041260004044, 0.2545047104358673], [0.15921592712402344, 0.13124853372573853, 0.2568635642528534], [-0.0007389932870864868, 0.13669608533382416, 0.13687542080879211], [-0.13943418860435486, -0.04668622091412544, 0.4675295352935791], [-0.14053988456726074, -0.1317388415336609, 0.46542981266975403], [-0.30052706599235535, -0.12571202218532562, 0.34581148624420166], [-0.15171995759010315, 0.04454851523041725, 0.44863051176071167], [-0.15096478164196014, 0.12949417531490326, 0.45082950592041016], [-0.3110169470310211, 0.13315948843955994, 0.3311663269996643]], [[0.009484800510108471, -0.0003250064328312874, 0.3590737581253052], [0.170671284198761, -0.04522381350398064, 0.2716563045978546], [0.1696002036333084, -0.13026966154575348, 0.26978257298469543], [0.010062828660011292, -0.12576618790626526, 0.14929410815238953], [0.15807804465293884, 0.04601716995239258, 0.2523089647293091], [0.15895740687847137, 0.13113772869110107, 0.254818856716156], [-0.0005906224250793457, 0.13670596480369568, 0.13435859978199005], [-0.13916994631290436, -0.04660875350236893, 0.4659906029701233], [-0.14033553004264832, -0.1316545158624649, 0.4635467231273651], [-0.2999670207500458, -0.12549562752246857, 0.3432895541191101], [-0.15176497399806976, 0.04450633004307747, 0.4466423988342285], [-0.15098071098327637, 0.12947681546211243, 0.44858577847480774], [-0.31067419052124023, 0.13330763578414917, 0.32828450202941895]], [[0.009430536068975925, -0.0003348318859934807, 0.35723522305488586], [0.17066043615341187, -0.04519295319914818, 0.2698783278465271], [0.16959111392498016, -0.13025224208831787, 0.26800864934921265], [0.010422855615615845, -0.12560023367404938, 0.14707067608833313], [0.15776510536670685, 0.045907266438007355, 0.250078409910202], [0.15873627364635468, 0.1310102343559265, 0.25268182158470154], [-0.0004383176565170288, 0.1366967111825943, 0.13177266716957092], [-0.1389349102973938, -0.046526290476322174, 0.4644053876399994], [-0.1401413083076477, -0.13156473636627197, 0.4616493582725525], [-0.2994405925273895, -0.1252744495868683, 0.340818852186203], [-0.15183188021183014, 0.04446707293391228, 0.44460514187812805], [-0.15099839866161346, 0.12946408987045288, 0.4463256895542145], [-0.3103564977645874, 0.13346324861049652, 0.3254520893096924]], [[0.009375722147524357, -0.0003446799237281084, 0.35534176230430603], [0.17067132890224457, -0.04515845701098442, 0.2680538296699524], [0.16960300505161285, -0.13022561371326447, 0.26614677906036377], [0.010769128799438477, -0.1254245638847351, 0.1447901427745819], [0.15747949481010437, 0.045789141207933426, 0.24779871106147766], [0.158542200922966, 0.13086915016174316, 0.2504550814628601], [-0.00029405951499938965, 0.13667306303977966, 0.129128098487854], [-0.13872204720973969, -0.04644034802913666, 0.4627777636051178], [-0.13996021449565887, -0.13147054612636566, 0.45977434515953064], [-0.2989521026611328, -0.12504905462265015, 0.3384495675563812], [-0.15191547572612762, 0.04442770779132843, 0.4425225853919983], [-0.1510227918624878, 0.12945175170898438, 0.4440861940383911], [-0.31007054448127747, 0.13361972570419312, 0.3227195143699646]], [[0.009325866587460041, -0.00035447324626147747, 0.35338035225868225], [0.1707034409046173, -0.04511919245123863, 0.2661742866039276], [0.1696295440196991, -0.13018883764743805, 0.26420342922210693], [0.011093616485595703, -0.1252388060092926, 0.14246460795402527], [0.15721972286701202, 0.04566492885351181, 0.2454618662595749], [0.15836694836616516, 0.1307182013988495, 0.24814525246620178], [-0.00016763806343078613, 0.136640727519989, 0.12643714249134064], [-0.13852855563163757, -0.04635133221745491, 0.4611090421676636], [-0.13979487121105194, -0.13137318193912506, 0.4579424560070038], [-0.2985069155693054, -0.12482011318206787, 0.33621034026145935], [-0.15201379358768463, 0.04438653960824013, 0.440396785736084], [-0.15105853974819183, 0.12943553924560547, 0.44188815355300903], [-0.30982375144958496, 0.13377070426940918, 0.3201153874397278]], [[0.009284812957048416, -0.00036409893073141575, 0.3513453006744385], [0.1707567572593689, -0.045074671506881714, 0.26423755288124084], [0.169666588306427, -0.1301417201757431, 0.26218703389167786], [0.011392265558242798, -0.12504363059997559, 0.14010481536388397], [0.15698517858982086, 0.045536842197179794, 0.24306610226631165], [0.15820463001728058, 0.13056157529354095, 0.24576112627983093], [-6.507337093353271e-05, 0.13660594820976257, 0.12371063232421875], [-0.13835208117961884, -0.046259935945272446, 0.459398478269577], [-0.1396479308605194, -0.13127364218235016, 0.45615795254707336], [-0.2981085777282715, -0.12458836287260056, 0.3341054320335388], [-0.15212507545948029, 0.044341765344142914, 0.4382273554801941], [-0.15111000835895538, 0.1294119656085968, 0.43973633646965027], [-0.3096214532852173, 0.13391052186489105, 0.31764405965805054]], [[0.009254459291696548, -0.00037349946796894073, 0.3492378294467926], [0.17083118855953217, -0.04502476379275322, 0.2622475326061249], [0.16971243917942047, -0.13008493185043335, 0.2601069509983063], [0.011665329337120056, -0.12484103441238403, 0.13771872222423553], [0.15677523612976074, 0.0454072430729866, 0.24061548709869385], [0.1580522209405899, 0.13040365278720856, 0.2433125376701355], [1.2546777725219727e-05, 0.13657476007938385, 0.1209568977355957], [-0.1381911337375641, -0.04616684839129448, 0.4576430320739746], [-0.13952124118804932, -0.1311727613210678, 0.4544106423854828], [-0.29775816202163696, -0.12435446679592133, 0.3321167528629303], [-0.15224842727184296, 0.044291794300079346, 0.43601149320602417], [-0.15118035674095154, 0.12937815487384796, 0.4376208484172821], [-0.3094664514064789, 0.1340349316596985, 0.3152875602245331]], [[0.009234764613211155, -0.00038266158662736416, 0.3470647633075714], [0.1709265261888504, -0.04496975243091583, 0.2602127492427826], [0.1697676032781601, -0.13001997768878937, 0.2579735219478607], [0.01191684603691101, -0.12463343143463135, 0.13531215488910675], [0.15658919513225555, 0.045278456062078476, 0.23811887204647064], [0.15790937840938568, 0.13024887442588806, 0.24081014096736908], [6.809830665588379e-05, 0.1365521252155304, 0.1181822121143341], [-0.13804545998573303, -0.04607268050312996, 0.4558377265930176], [-0.13941547274589539, -0.13107122480869293, 0.4526788294315338], [-0.2974545955657959, -0.12411894649267197, 0.33020904660224915], [-0.15238387882709503, 0.044235385954380035, 0.4337444007396698], [-0.15127114951610565, 0.12933208048343658, 0.4355204105377197], [-0.3093588352203369, 0.13414140045642853, 0.3130110502243042]], [[0.009224195964634418, -0.0003915177658200264, 0.3448362350463867], [0.1710420399904251, -0.044910505414009094, 0.25814488530158997], [0.16983447968959808, -0.1299489438533783, 0.2557979226112366], [0.012153491377830505, -0.1244223490357399, 0.13289061188697815], [0.15642569959163666, 0.045152124017477036, 0.2355881780385971], [0.15777802467346191, 0.13010132312774658, 0.2382655143737793], [0.00010763108730316162, 0.13654109835624695, 0.11539245396852493], [-0.13791556656360626, -0.04597795754671097, 0.45397618412971497], [-0.1393302083015442, -0.1309695541858673, 0.45093342661857605], [-0.29719507694244385, -0.12388236820697784, 0.32833680510520935], [-0.15253207087516785, 0.0441717766225338, 0.43141984939575195], [-0.15138253569602966, 0.12927252054214478, 0.43340620398521423], [-0.3092963695526123, 0.13422930240631104, 0.31076955795288086]], [[0.009219643659889698, -0.0004001904744654894, 0.3425632417201996], [0.17117749154567719, -0.0448477603495121, 0.25605642795562744], [0.16991634666919708, -0.1298741102218628, 0.25359243154525757], [0.012383058667182922, -0.12420900166034698, 0.13046100735664368], [0.1562848538160324, 0.045030269771814346, 0.23303550481796265], [0.15766124427318573, 0.1299637407064438, 0.23569127917289734], [0.000138893723487854, 0.13654319941997528, 0.11259482800960541], [-0.13780084252357483, -0.04588300734758377, 0.45205163955688477], [-0.1392642855644226, -0.1308681070804596, 0.44914230704307556], [-0.29697608947753906, -0.12364549189805984, 0.32645151019096375], [-0.15269306302070618, 0.04410119727253914, 0.4290314018726349], [-0.15151362121105194, 0.12919926643371582, 0.4312463402748108], [-0.30927562713623047, 0.13429945707321167, 0.30851492285728455]], [[0.009218327701091766, -0.0004086783155798912, 0.3402548134326935], [0.17133231461048126, -0.04478243738412857, 0.2539602220058441], [0.170016810297966, -0.12979747354984283, 0.2513701319694519], [0.012613609433174133, -0.12399469316005707, 0.12803281843662262], [0.15616647899150848, 0.04491410031914711, 0.23047393560409546], [0.15756291151046753, 0.12983787059783936, 0.2331005185842514], [0.0001700669527053833, 0.13655894994735718, 0.10979914665222168], [-0.13770456612110138, -0.04578813910484314, 0.4500586986541748], [-0.13921581208705902, -0.1307671219110489, 0.4472750425338745], [-0.29679352045059204, -0.12340962141752243, 0.3245067596435547], [-0.15286953747272491, 0.04402310401201248, 0.42657309770584106], [-0.15166249871253967, 0.1291133165359497, 0.4290105402469635], [-0.3092922568321228, 0.13435395061969757, 0.3062012791633606]], [[0.009217552840709686, -0.0004169866442680359, 0.3379180133342743], [0.17150619626045227, -0.04471532255411148, 0.2518666684627533], [0.1701389104127884, -0.12972062826156616, 0.24914494156837463], [0.012852028012275696, -0.12378066778182983, 0.12561792135238647], [0.15607061982154846, 0.044803932309150696, 0.22791406512260437], [0.1574867069721222, 0.12972421944141388, 0.23050697147846222], [0.0002087801694869995, 0.1365881860256195, 0.10701728612184525], [-0.1376286894083023, -0.04569349065423012, 0.44798892736434937], [-0.13918396830558777, -0.13066688179969788, 0.4453064501285553], [-0.2966427803039551, -0.12317591160535812, 0.32246506214141846], [-0.1530628502368927, 0.04393788054585457, 0.4240366518497467], [-0.15182791650295258, 0.1290161907672882, 0.42667356133461], [-0.3093414008617401, 0.13439586758613586, 0.3037911653518677]], [[0.009215191006660461, -0.0004251571372151375, 0.3355560898780823], [0.17169858515262604, -0.04464691877365112, 0.24978435039520264], [0.17028486728668213, -0.1296447515487671, 0.24693039059638977], [0.013103604316711426, -0.1235678568482399, 0.12322998046875], [0.15599720180034637, 0.04469936713576317, 0.22536426782608032], [0.1574355810880661, 0.129622220993042, 0.22792400419712067], [0.0002612769603729248, 0.1366298794746399, 0.10426263511180878], [-0.13757392764091492, -0.04559917747974396, 0.44583597779273987], [-0.13916851580142975, -0.13056768476963043, 0.4432177245616913], [-0.2965211272239685, -0.12294500321149826, 0.3203003406524658], [-0.15327338874340057, 0.04384665936231613, 0.42141589522361755], [-0.15200889110565186, 0.1289098858833313, 0.4242163300514221], [-0.3094194233417511, 0.13442844152450562, 0.301258385181427]], [[0.009210089221596718, -0.00043321517296135426, 0.3331688344478607], [0.17190882563591003, -0.044577550143003464, 0.2477184534072876], [0.17045551538467407, -0.12957046926021576, 0.24473874270915985], [0.013371393084526062, -0.12335670739412308, 0.1208827793598175], [0.15594615042209625, 0.04459955915808678, 0.22282955050468445], [0.15741132199764252, 0.12953026592731476, 0.22536355257034302], [0.00033174455165863037, 0.13668209314346313, 0.10154858976602554], [-0.13754092156887054, -0.045505329966545105, 0.44359540939331055], [-0.13916952908039093, -0.13046972453594208, 0.44099780917167664], [-0.29642754793167114, -0.12271732836961746, 0.3179982602596283], [-0.15350134670734406, 0.04375073313713074, 0.41870611906051636], [-0.15220460295677185, 0.12879690527915955, 0.4216276705265045], [-0.30952417850494385, 0.1344549059867859, 0.2985883057117462]], [[0.009202024899423122, -0.0004411728587001562, 0.3307533264160156], [0.1721363216638565, -0.04450737312436104, 0.24567089974880219], [0.1706504374742508, -0.1294979453086853, 0.2425796091556549], [0.013656184077262878, -0.12314704805612564, 0.11858846247196198], [0.1559174805879593, 0.044503286480903625, 0.22031152248382568], [0.15741445124149323, 0.12944605946540833, 0.22283487021923065], [0.00042228400707244873, 0.13674183189868927, 0.09888671338558197], [-0.13752998411655426, -0.04541194438934326, 0.4412643313407898], [-0.13918748497962952, -0.1303730309009552, 0.43864375352859497], [-0.29636216163635254, -0.122493214905262, 0.315555214881897], [-0.15374653041362762, 0.043651383370161057, 0.4159042239189148], [-0.15241461992263794, 0.12867984175682068, 0.4189041256904602], [-0.30965468287467957, 0.13447846472263336, 0.29577696323394775]], [[0.009191549383103848, -0.0004490411374717951, 0.32830512523651123], [0.1723804771900177, -0.04443635791540146, 0.2436407059431076], [0.17086803913116455, -0.12942686676979065, 0.24045881628990173], [0.01395687460899353, -0.1229381337761879, 0.11635557562112808], [0.1559111773967743, 0.0444091260433197, 0.21780891716480255], [0.1574443131685257, 0.12936681509017944, 0.22034326195716858], [0.000532791018486023, 0.13680531084537506, 0.09628501534461975], [-0.13754096627235413, -0.04531887173652649, 0.43884211778640747], [-0.13922321796417236, -0.1302775889635086, 0.4361593723297119], [-0.29632580280303955, -0.12227300554513931, 0.312977135181427], [-0.1540081948041916, 0.043549876660108566, 0.4130091965198517], [-0.15263880789279938, 0.12856119871139526, 0.41604915261268616], [-0.3098103404045105, 0.1345023214817047, 0.2928297221660614]], [[0.009179727174341679, -0.00045681954361498356, 0.32581931352615356], [0.17264054715633392, -0.04436435550451279, 0.2416244000196457], [0.17110593616962433, -0.12935660779476166, 0.2383776158094406], [0.014270827174186707, -0.12272880971431732, 0.11418741196393967], [0.15592706203460693, 0.044315509498119354, 0.21531787514686584], [0.15749941766262054, 0.12928949296474457, 0.2178894579410553], [0.0006616860628128052, 0.13686831295490265, 0.09374615550041199], [-0.1375732719898224, -0.045225840061903, 0.436330109834671], [-0.13927769660949707, -0.1301831305027008, 0.4335539638996124], [-0.2963191866874695, -0.12205693870782852, 0.31027674674987793], [-0.15428516268730164, 0.04344737529754639, 0.41002216935157776], [-0.15287718176841736, 0.1284431368112564, 0.4130714237689972], [-0.3099909722805023, 0.13452927768230438, 0.2897588014602661]], [[0.009167840704321861, -0.00046449550427496433, 0.323291540145874], [0.17291568219661713, -0.04429115355014801, 0.23961657285690308], [0.17136123776435852, -0.12928621470928192, 0.2363324761390686], [0.014594659209251404, -0.1225176677107811, 0.1120811477303505], [0.15596474707126617, 0.044220853596925735, 0.2128327637910843], [0.15757767856121063, 0.1292109191417694, 0.21546941995620728], [0.0008063018321990967, 0.1369267851114273, 0.09126672148704529], [-0.13762608170509338, -0.04513247311115265, 0.4337318539619446], [-0.1393517106771469, -0.13008937239646912, 0.430840402841568], [-0.2963428497314453, -0.12184495478868484, 0.30747130513191223], [-0.15457607805728912, 0.04334487393498421, 0.4069465100765228], [-0.15312957763671875, 0.12832747399806976, 0.4099832773208618], [-0.3101961016654968, 0.13456164300441742, 0.28658080101013184]], [[0.009157080203294754, -0.0004720569122582674, 0.3207186758518219], [0.17320483922958374, -0.044216495007276535, 0.23761071264743805], [0.17163100838661194, -0.12921465933322906, 0.234315425157547], [0.014924615621566772, -0.12230326980352402, 0.11002771556377411], [0.15602359175682068, 0.044123575091362, 0.21034671366214752], [0.1576768010854721, 0.1291281282901764, 0.21307462453842163], [0.0009636878967285156, 0.1369771510362625, 0.08883709460496902], [-0.1376982182264328, -0.04503834992647171, 0.4310528039932251], [-0.13944555819034576, -0.12999588251113892, 0.4280334413051605], [-0.29639697074890137, -0.12163663655519485, 0.3045796751976013], [-0.15487930178642273, 0.04324322193861008, 0.403787225484848], [-0.15339559316635132, 0.12821552157402039, 0.4067988991737366], [-0.31042492389678955, 0.13460098206996918, 0.2833141088485718]], [[0.009148353710770607, -0.00047949771396815777, 0.3180994391441345], [0.17350681126117706, -0.04414011165499687, 0.2355995625257492], [0.17191246151924133, -0.1291409134864807, 0.23231494426727295], [0.01525743305683136, -0.12208454310894012, 0.10801283270120621], [0.15610267221927643, 0.04402225464582443, 0.2078522890806198], [0.15779447555541992, 0.12903854250907898, 0.21069304645061493], [0.0011309832334518433, 0.13701660931110382, 0.08644241094589233], [-0.1377883106470108, -0.04494297504425049, 0.4282994270324707], [-0.13955913484096527, -0.12990213930606842, 0.4251481890678406], [-0.29648080468177795, -0.12143121659755707, 0.30162057280540466], [-0.15519317984580994, 0.04314304143190384, 0.4005506932735443], [-0.15367437899112701, 0.1281081736087799, 0.4035329818725586], [-0.31067609786987305, 0.13464801013469696, 0.2799767255783081]], [[0.009142173454165459, -0.0004868200048804283, 0.31543394923210144], [0.17382033169269562, -0.04406182840466499, 0.23357613384723663], [0.17220313847064972, -0.12906409800052643, 0.23031705617904663], [0.015590399503707886, -0.12186083942651749, 0.10601847618818283], [0.15620078146457672, 0.043915681540966034, 0.20534227788448334], [0.1579287052154541, 0.12894012033939362, 0.2083102911710739], [0.0013059377670288086, 0.13704335689544678, 0.08406422287225723], [-0.1378951072692871, -0.044845834374427795, 0.4254792332649231], [-0.13969165086746216, -0.12980759143829346, 0.42219895124435425], [-0.29659295082092285, -0.12122765183448792, 0.29861071705818176], [-0.155516117811203, 0.043044786900281906, 0.3972442150115967], [-0.15396462380886078, 0.1280057579278946, 0.4001994729042053], [-0.31094762682914734, 0.13470232486724854, 0.2765848934650421]], [[0.009138638153672218, -0.000494043342769146, 0.3127236068248749], [0.17414391040802002, -0.04398159682750702, 0.23153387010097504], [0.17250114679336548, -0.12898372113704681, 0.22830691933631897], [0.015921607613563538, -0.12163170427083969, 0.10402489453554153], [0.1563166230916977, 0.04380298778414726, 0.20281000435352325], [0.15807779133319855, 0.12883147597312927, 0.2059112787246704], [0.0014868229627609253, 0.13705642521381378, 0.08168244361877441], [-0.1380174458026886, -0.04474639892578125, 0.4225996136665344], [-0.13984189927577972, -0.12971153855323792, 0.4191984534263611], [-0.2967311143875122, -0.12102421373128891, 0.29556411504745483], [-0.15584667026996613, 0.0429486446082592, 0.3938750922679901], [-0.1542646884918213, 0.1279081553220749, 0.39681071043014526], [-0.31123700737953186, 0.13476338982582092, 0.27315226197242737]], [[0.009137471206486225, -0.0005012054461985826, 0.30997058749198914], [0.17447611689567566, -0.04389958828687668, 0.2294670194387436], [0.17280501127243042, -0.12889957427978516, 0.2262704223394394], [0.01624990999698639, -0.1213969960808754, 0.10201277583837509], [0.1564488559961319, 0.043683551251888275, 0.2002498209476471], [0.15824049711227417, 0.12871193885803223, 0.20348165929317474], [0.0016726851463317871, 0.13705578446388245, 0.07927756756544113], [-0.13815422356128693, -0.044644106179475784, 0.41966772079467773], [-0.14000831544399261, -0.12961320579051971, 0.416157066822052], [-0.29689258337020874, -0.12081918120384216, 0.29249149560928345], [-0.15618355572223663, 0.042854610830545425, 0.3904501795768738], [-0.15457271039485931, 0.12781493365764618, 0.39337703585624695], [-0.31154125928878784, 0.1348300576210022, 0.26968932151794434]], [[0.009138106368482113, -0.0005083612632006407, 0.30717727541923523], [0.1748155653476715, -0.043816108256578445, 0.22737109661102295], [0.17311371862888336, -0.1288118213415146, 0.22419528663158417], [0.016574963927268982, -0.12115705013275146, 0.09996525198221207], [0.15659619867801666, 0.04355695843696594, 0.1976570039987564], [0.15841595828533173, 0.12858156859874725, 0.20100916922092438], [0.0018631815910339355, 0.1370420753955841, 0.07683273404836655], [-0.1383042186498642, -0.04453834891319275, 0.41668975353240967], [-0.14018923044204712, -0.12951165437698364, 0.4130827784538269], [-0.29707443714141846, -0.12061097472906113, 0.28940024971961975], [-0.15652582049369812, 0.042762596160173416, 0.3869754374027252], [-0.15488681197166443, 0.12772531807422638, 0.38990622758865356], [-0.3118572235107422, 0.1349007785320282, 0.26620346307754517]], [[0.009139803238213062, -0.0005155797116458416, 0.3043458163738251], [0.17516107857227325, -0.04373152181506157, 0.225242480635643], [0.1734265387058258, -0.12872099876403809, 0.2220722734928131], [0.016896873712539673, -0.12091284245252609, 0.09786923229694366], [0.15675713121891022, 0.04342338815331459, 0.19502784311771393], [0.15860357880592346, 0.1284409910440445, 0.1984845995903015], [0.002058476209640503, 0.13701656460762024, 0.07433497905731201], [-0.13846608996391296, -0.04442860558629036, 0.413670152425766], [-0.14038296043872833, -0.1294059157371521, 0.40998098254203796], [-0.29727399349212646, -0.12039804458618164, 0.2862948477268219], [-0.15687225759029388, 0.04267222434282303, 0.38345566391944885], [-0.15520519018173218, 0.12763844430446625, 0.3864036798477173], [-0.31218212842941284, 0.13497377932071686, 0.2626991271972656]], [[0.009141940623521805, -0.0005228884983807802, 0.3014777898788452], [0.17551115155220032, -0.04364665597677231, 0.2230793982744217], [0.17374302446842194, -0.12862791121006012, 0.21989554166793823], [0.017215967178344727, -0.12066584080457687, 0.0957164615392685], [0.1569301038980484, 0.04328341782093048, 0.19236072897911072], [0.15880298614501953, 0.1282912790775299, 0.1959022730588913], [0.00225907564163208, 0.13698090612888336, 0.07177630066871643], [-0.13863906264305115, -0.044314440339803696, 0.4106113910675049], [-0.14058779180049896, -0.12929515540599823, 0.4068545699119568], [-0.297488808631897, -0.12017889320850372, 0.28317710757255554], [-0.1572219878435135, 0.04258299991488457, 0.37989333271980286], [-0.15552622079849243, 0.12755322456359863, 0.38287246227264404], [-0.3125135600566864, 0.13504734635353088, 0.25917816162109375]], [[0.009144006296992302, -0.0005303558427840471, 0.29857414960861206], [0.17586486041545868, -0.04356205835938454, 0.22088123857975006], [0.17406269907951355, -0.12853370606899261, 0.2176630198955536], [0.017532825469970703, -0.12041780352592468, 0.09350370615720749], [0.1571141481399536, 0.04313758388161659, 0.1896553933620453], [0.15901373326778412, 0.12813392281532288, 0.19326037168502808], [0.0024655312299728394, 0.13693709671497345, 0.06915368139743805], [-0.138822540640831, -0.04419536888599396, 0.40751445293426514], [-0.14080242812633514, -0.12917856872081757, 0.40370380878448486], [-0.29771679639816284, -0.11995217204093933, 0.2800465226173401], [-0.15757453441619873, 0.04249468073248863, 0.37628960609436035], [-0.15584860742092133, 0.12746858596801758, 0.3793131411075592], [-0.31284964084625244, 0.13511987030506134, 0.2556401491165161]], [[0.009145679883658886, -0.0005379973445087671, 0.29563483595848083], [0.17622151970863342, -0.04347841441631317, 0.2186485081911087], [0.17438513040542603, -0.12843966484069824, 0.21537619829177856], [0.01784779131412506, -0.12017060816287994, 0.09123237431049347], [0.15730854868888855, 0.042986441403627396, 0.1869126260280609], [0.15923550724983215, 0.1279706060886383, 0.1905606985092163], [0.0026783347129821777, 0.13688722252845764, 0.06646892428398132], [-0.1390160471200943, -0.04407106339931488, 0.4043789207935333], [-0.14102596044540405, -0.12905552983283997, 0.40052685141563416], [-0.2979564070701599, -0.11971686780452728, 0.2769003212451935], [-0.15792955458164215, 0.042406946420669556, 0.372644305229187], [-0.1561715304851532, 0.12738360464572906, 0.37572407722473145], [-0.31318891048431396, 0.13519001007080078, 0.2520826756954193]], [[0.009146825410425663, -0.0005458102095872164, 0.29265934228897095], [0.176580548286438, -0.04339640587568283, 0.21638254821300507], [0.1747099608182907, -0.12834718823432922, 0.21303939819335938], [0.018161088228225708, -0.11992613226175308, 0.08890791237354279], [0.1575128734111786, 0.04283066466450691, 0.18413399159908295], [0.15946803987026215, 0.12780289351940155, 0.1878080666065216], [0.002897694706916809, 0.13683338463306427, 0.06372790038585663], [-0.13921913504600525, -0.043941251933574677, 0.4012029469013214], [-0.14125797152519226, -0.12892550230026245, 0.3973202109336853], [-0.2982066571712494, -0.11947235465049744, 0.27373364567756653], [-0.1582866907119751, 0.04231946915388107, 0.36895591020584106], [-0.15649458765983582, 0.1272975653409958, 0.37210217118263245], [-0.31353050470352173, 0.13525667786598206, 0.24850136041641235]], [[0.009147499687969685, -0.0005537897814065218, 0.2896466851234436], [0.17694157361984253, -0.04331661015748978, 0.2140856683254242], [0.17503680288791656, -0.12825754284858704, 0.2106589823961258], [0.01847277581691742, -0.11968599259853363, 0.08653853833675385], [0.1577267199754715, 0.04267098009586334, 0.18132203817367554], [0.1597110480070114, 0.12763220071792603, 0.18500933051109314], [0.003123834729194641, 0.13677743077278137, 0.06093933433294296], [-0.1394314169883728, -0.043805815279483795, 0.39798393845558167], [-0.14149828255176544, -0.12878815829753876, 0.3940788507461548], [-0.29846712946891785, -0.11921847611665726, 0.27054017782211304], [-0.1586456149816513, 0.04223209619522095, 0.36522176861763], [-0.1568177193403244, 0.12720991671085358, 0.36844298243522644], [-0.313874214887619, 0.13531936705112457, 0.24489036202430725]], [[0.009147949516773224, -0.0005619262810796499, 0.2865958511829376], [0.17730432748794556, -0.04323936998844147, 0.2117602527141571], [0.17536532878875732, -0.12817184627056122, 0.20824258029460907], [0.018782824277877808, -0.11945153772830963, 0.08413399010896683], [0.15794965624809265, 0.042507994920015335, 0.17847944796085358], [0.15996424853801727, 0.12745976448059082, 0.18217256665229797], [0.0033568888902664185, 0.1367207169532776, 0.058113619685173035], [-0.13965266942977905, -0.043664660304784775, 0.3947184383869171], [-0.14174702763557434, -0.1286434680223465, 0.390796959400177], [-0.29873812198638916, -0.11895551532506943, 0.26731255650520325], [-0.15900610387325287, 0.04214457422494888, 0.36143890023231506], [-0.1571410596370697, 0.12712043523788452, 0.36474087834358215], [-0.3142203688621521, 0.13537801802158356, 0.2412428855895996]], [[0.009148398414254189, -0.0005701812915503979, 0.2835058867931366], [0.17766885459423065, -0.04316532984375954, 0.20940911769866943], [0.17569515109062195, -0.12809085845947266, 0.2057979851961136], [0.01909126341342926, -0.1192236840724945, 0.08170442283153534], [0.15818214416503906, 0.042342133820056915, 0.17560909688472748], [0.16022725403308868, 0.12728643417358398, 0.17930592596530914], [0.0035969913005828857, 0.1366642415523529, 0.055261362344026566], [-0.13988304138183594, -0.04351785033941269, 0.3914027512073517], [-0.14200440049171448, -0.1284915804862976, 0.3874683976173401], [-0.29902005195617676, -0.11868415027856827, 0.26404300332069397], [-0.15936794877052307, 0.04205693304538727, 0.35760387778282166], [-0.1574648916721344, 0.127029150724411, 0.360990047454834], [-0.3145693242549896, 0.13543301820755005, 0.23755164444446564]], [[0.009149076417088509, -0.0005785592366009951, 0.2803760766983032], [0.17803475260734558, -0.043094657361507416, 0.20703482627868652], [0.1760261207818985, -0.12801507115364075, 0.20333251357078552], [0.019398123025894165, -0.11900264024734497, 0.07925908267498016], [0.15842470526695251, 0.04217386245727539, 0.17271465063095093], [0.16049982607364655, 0.1271127611398697, 0.1764167845249176], [0.0038440823554992676, 0.13660842180252075, 0.05239228904247284], [-0.14012263715267181, -0.04336574673652649, 0.3880329132080078], [-0.1422707438468933, -0.12833289802074432, 0.3840870261192322], [-0.299313485622406, -0.1184053122997284, 0.26072394847869873], [-0.15973079204559326, 0.04196936637163162, 0.35371387004852295], [-0.15778957307338715, 0.12693634629249573, 0.3571845293045044], [-0.3149217367172241, 0.13548509776592255, 0.23380936682224274]], [[0.009150193072855473, -0.0005870498716831207, 0.2772059440612793], [0.17840182781219482, -0.04302744194865227, 0.20463934540748596], [0.17635811865329742, -0.127944678068161, 0.20085234940052032], [0.019703462719917297, -0.11878830194473267, 0.07680562138557434], [0.15867753326892853, 0.04200362041592598, 0.1697992980480194], [0.1607818901538849, 0.12693896889686584, 0.17351149022579193], [0.004098087549209595, 0.13655313849449158, 0.0495140515267849], [-0.1403716653585434, -0.043209001421928406, 0.3846057057380676], [-0.14254647493362427, -0.12816809117794037, 0.3806471824645996], [-0.2996188998222351, -0.11812014877796173, 0.2573484778404236], [-0.16009433567523956, 0.041882190853357315, 0.34976673126220703], [-0.15811540186405182, 0.12684257328510284, 0.35331884026527405], [-0.3152780532836914, 0.1355351358652115, 0.23000922799110413]], [[0.009151889942586422, -0.0005956387612968683, 0.27399545907974243], [0.17876987159252167, -0.04296358674764633, 0.2022242397069931], [0.1766909956932068, -0.12787942588329315, 0.19836197793483734], [0.020007416605949402, -0.11858028173446655, 0.07434958964586258], [0.15894079208374023, 0.04183172062039375, 0.16686545312404633], [0.1610734909772873, 0.12676508724689484, 0.1705949753522873], [0.004359126091003418, 0.1364978551864624, 0.04663212597370148], [-0.14063024520874023, -0.04304834455251694, 0.3811185359954834], [-0.14283186197280884, -0.12799814343452454, 0.3771441578865051], [-0.29993677139282227, -0.11782995611429214, 0.25391075015068054], [-0.16045822203159332, 0.0417957566678524, 0.34576061367988586], [-0.15844251215457916, 0.1267487108707428, 0.34938862919807434], [-0.31563863158226013, 0.1355839967727661, 0.2261454164981842]], [[0.009154235012829304, -0.0006043100729584694, 0.27074486017227173], [0.1791386902332306, -0.04290280118584633, 0.19979053735733032], [0.1770246922969818, -0.1278187781572342, 0.1958639770746231], [0.020310208201408386, -0.11837801337242126, 0.071894071996212], [0.15921452641487122, 0.04165836423635483, 0.16391471028327942], [0.16137461364269257, 0.12659093737602234, 0.16767027974128723], [0.004627436399459839, 0.13644172251224518, 0.043749745935201645], [-0.14089851081371307, -0.04288459196686745, 0.3775698244571686], [-0.14312709867954254, -0.12782415747642517, 0.37357428669929504], [-0.3002673387527466, -0.11753613501787186, 0.2504063546657562], [-0.16082221269607544, 0.04171048104763031, 0.34169459342956543], [-0.15877093374729156, 0.12665562331676483, 0.3453908860683441], [-0.3160035312175751, 0.13563252985477448, 0.2222137153148651]], [[0.0091572105884552, -0.0006130372639745474, 0.2674545347690582], [0.17950809001922607, -0.04284465312957764, 0.1973385214805603], [0.17735908925533295, -0.12776190042495728, 0.19335900247097015], [0.020611867308616638, -0.11818080395460129, 0.06943964213132858], [0.15949878096580505, 0.04148370400071144, 0.1609480082988739], [0.1616852581501007, 0.12641626596450806, 0.16473861038684845], [0.0049033015966415405, 0.1363837718963623, 0.040867943316698074], [-0.1411764770746231, -0.042718566954135895, 0.37395891547203064], [-0.14343225955963135, -0.12764737010002136, 0.3699355125427246], [-0.30061063170433044, -0.11724046617746353, 0.24683228135108948], [-0.16118599474430084, 0.04162675887346268, 0.33756861090660095], [-0.1591005027294159, 0.12656427919864655, 0.3413240909576416], [-0.31637248396873474, 0.13568150997161865, 0.218211829662323]], [[0.009160754270851612, -0.0006217868067324162, 0.2641250193119049], [0.17987777292728424, -0.04278858006000519, 0.19486777484416962], [0.1776941418647766, -0.127707839012146, 0.19084593653678894], [0.02091240882873535, -0.11798785626888275, 0.06698469072580338], [0.15979334712028503, 0.04130785912275314, 0.15796537697315216], [0.1620054543018341, 0.12624065577983856, 0.16179952025413513], [0.005186915397644043, 0.1363229751586914, 0.037985723465681076], [-0.14146406948566437, -0.042551059275865555, 0.37028592824935913], [-0.14374728500843048, -0.127469003200531, 0.36622726917266846], [-0.3009665012359619, -0.11694493144750595, 0.2431875616312027], [-0.16154932975769043, 0.04154495149850845, 0.33338335156440735], [-0.15943092107772827, 0.1264754831790924, 0.3371884226799011], [-0.3167451024055481, 0.13573157787322998, 0.2141394466161728]], [[0.009164759889245033, -0.0006304974667727947, 0.26075664162635803], [0.18024741113185883, -0.042733997106552124, 0.19237704575061798], [0.17802967131137848, -0.12765561044216156, 0.18832221627235413], [0.021211832761764526, -0.11779830604791641, 0.06452568620443344], [0.1600981056690216, 0.04113094136118889, 0.15496614575386047], [0.16233517229557037, 0.1260637789964676, 0.15885117650032043], [0.005478382110595703, 0.13625840842723846, 0.03510044515132904], [-0.14176122844219208, -0.0423828661441803, 0.3665516674518585], [-0.14407193660736084, -0.12729033827781677, 0.36245036125183105], [-0.3013347089290619, -0.11665135622024536, 0.23947285115718842], [-0.16191183030605316, 0.04146529734134674, 0.3291401267051697], [-0.15976178646087646, 0.12638983130455017, 0.33298563957214355], [-0.3171207308769226, 0.13578319549560547, 0.2099982500076294]], [[0.009169118478894234, -0.0006391112692654133, 0.25734981894493103], [0.1806165874004364, -0.04268036037683487, 0.1898646205663681], [0.17836549878120422, -0.1276041567325592, 0.18578407168388367], [0.021509870886802673, -0.11761131137609482, 0.06205778941512108], [0.1604127138853073, 0.04095310717821121, 0.15194907784461975], [0.16267433762550354, 0.12588533759117126, 0.15589070320129395], [0.005777612328529358, 0.13618946075439453, 0.032208189368247986], [-0.14206771552562714, -0.04221472144126892, 0.36275750398635864], [-0.14440588653087616, -0.12711253762245178, 0.3586070239543915], [-0.3017146587371826, -0.11636129766702652, 0.23569059371948242], [-0.16227318346500397, 0.04138797149062157, 0.3248409032821655], [-0.16009262204170227, 0.12630775570869446, 0.32871881127357483], [-0.3174985647201538, 0.13583660125732422, 0.20579175651073456]], [[0.00917372852563858, -0.0006475690752267838, 0.25390467047691345], [0.18098489940166473, -0.042627133429050446, 0.18732820451259613], [0.17870132625102997, -0.1275525987148285, 0.18322701752185822], [0.02180631458759308, -0.11742609739303589, 0.05957528203725815], [0.1607367992401123, 0.040774498134851456, 0.1489124596118927], [0.1630227118730545, 0.12570521235466003, 0.15291447937488556], [0.0060844868421554565, 0.1361156851053238, 0.02930428646504879], [-0.1423831582069397, -0.04204723611474037, 0.35890519618988037], [-0.1447487473487854, -0.12693658471107483, 0.3547004163265228], [-0.30210575461387634, -0.11607595533132553, 0.23184455931186676], [-0.16263297200202942, 0.04131302237510681, 0.3204881548881531], [-0.1604228913784027, 0.1262294054031372, 0.32439205050468445], [-0.3178778886795044, 0.13589176535606384, 0.20152480900287628]], [[0.009178528562188148, -0.0006558285094797611, 0.25042128562927246], [0.18135187029838562, -0.04257388785481453, 0.1847652643918991], [0.17903679609298706, -0.12750017642974854, 0.18064619600772858], [0.022100776433944702, -0.1172420084476471, 0.05707219988107681], [0.1610698401927948, 0.040595345199108124, 0.14585436880588531], [0.16338002681732178, 0.1255233734846115, 0.1499185860157013], [0.00639873743057251, 0.13603700697422028, 0.026383768767118454], [-0.14270718395709991, -0.041880954056978226, 0.35499680042266846], [-0.14510004222393036, -0.12676329910755157, 0.35073429346084595], [-0.30250731110572815, -0.11579622328281403, 0.2279394119977951], [-0.16299079358577728, 0.04124040529131889, 0.3160842955112457], [-0.1607520878314972, 0.12615464627742767, 0.32001015543937683], [-0.3182578682899475, 0.13594844937324524, 0.1972031146287918]], [[0.009183472953736782, -0.0006638639606535435, 0.24689947068691254], [0.18171700835227966, -0.04252036288380623, 0.1821732372045517], [0.17937152087688446, -0.12744633853435516, 0.17803676426410675], [0.022392749786376953, -0.11705856770277023, 0.05454264208674431], [0.16141141951084137, 0.04041590541601181, 0.14277271926403046], [0.16374586522579193, 0.1253400295972824, 0.14689911901950836], [0.006527528166770935, 0.13601277768611908, 0.026367347687482834], [-0.1430392861366272, -0.04171626642346382, 0.3510342240333557], [-0.14545923471450806, -0.12659315764904022, 0.34671270847320557], [-0.3029184937477112, -0.11552269756793976, 0.2239801287651062], [-0.16334618628025055, 0.041169993579387665, 0.3116319477558136], [-0.16107971966266632, 0.12608321011066437, 0.3155781626701355], [-0.3186378479003906, 0.1360061764717102, 0.19283266365528107]], [[0.009188564494252205, -0.0006716744974255562, 0.24333906173706055], [0.18207980692386627, -0.04246640205383301, 0.17954963445663452], [0.17970505356788635, -0.1273908019065857, 0.17539432644844055], [0.02268180251121521, -0.1168755367398262, 0.05198117718100548], [0.16176097095012665, 0.0402364581823349, 0.1396656185388565], [0.16408811509609222, 0.12516549229621887, 0.1444701999425888], [0.006655171513557434, 0.13598757982254028, 0.02733616530895233], [-0.14337897300720215, -0.04155338555574417, 0.34701934456825256], [-0.14582574367523193, -0.12642642855644226, 0.34263959527015686], [-0.30333852767944336, -0.11525562405586243, 0.21997152268886566], [-0.1636987328529358, 0.04110158979892731, 0.3071334958076477], [-0.16140532493591309, 0.12601463496685028, 0.31110087037086487], [-0.31901711225509644, 0.1360643208026886, 0.18841925263404846]], [[0.009193828329443932, -0.0006792780477553606, 0.2397398203611374], [0.18243978917598724, -0.042412035167217255, 0.17689219117164612], [0.18003690242767334, -0.12733349204063416, 0.17271502315998077], [0.022967472672462463, -0.11669299006462097, 0.04938318580389023], [0.16209927201271057, 0.040063243359327316, 0.13689486682415009], [0.1644095778465271, 0.12499970942735672, 0.14261572062969208], [0.0067777931690216064, 0.1359620839357376, 0.028242163360118866], [-0.1437256783246994, -0.04139237850904465, 0.3429538309574127], [-0.14619901776313782, -0.1262630969285965, 0.33851850032806396], [-0.30376678705215454, -0.11499493569135666, 0.2159179002046585], [-0.16404801607131958, 0.041034966707229614, 0.3025910556316376], [-0.16172848641872406, 0.12594836950302124, 0.3065824508666992], [-0.3193950951099396, 0.13612212240695953, 0.18396802246570587]], [[0.009196796454489231, -0.0006859696004539728, 0.23614747822284698], [0.1827966272830963, -0.042357437312603, 0.1741989701986313], [0.18036657571792603, -0.1272745430469513, 0.16999585926532745], [0.023249343037605286, -0.1165112555027008, 0.046745046973228455], [0.16242703795433044, 0.03989666700363159, 0.13446944952011108], [0.16471391916275024, 0.12484234571456909, 0.1412888467311859], [0.0068933963775634766, 0.13593672215938568, 0.029069609940052032], [-0.1440788060426712, -0.04123331978917122, 0.33883902430534363], [-0.14657849073410034, -0.12610295414924622, 0.33435213565826416], [-0.30420243740081787, -0.11474024504423141, 0.21182261407375336], [-0.1643936038017273, 0.04096983000636101, 0.2980063557624817], [-0.162048801779747, 0.12588383257389069, 0.30202633142471313], [-0.319771409034729, 0.1361788660287857, 0.17948299646377563]], [[0.00919536966830492, -0.0006910250522196293, 0.232608824968338], [0.1831503063440323, -0.042301151901483536, 0.17151375114917755], [0.18069373071193695, -0.12721440196037292, 0.1672346591949463], [0.023526981472969055, -0.11633086949586868, 0.04406432807445526], [0.1627519428730011, 0.039737313985824585, 0.13231578469276428], [0.1650082767009735, 0.12469207495450974, 0.14036451280117035], [0.00700041651725769, 0.13591228425502777, 0.029811354354023933], [-0.14444416761398315, -0.04107726737856865, 0.3347093164920807], [-0.14696359634399414, -0.12594562768936157, 0.33014243841171265], [-0.30464476346969604, -0.11449094861745834, 0.20768795907497406], [-0.16473965346813202, 0.04090539738535881, 0.29341384768486023], [-0.16236598789691925, 0.12582042813301086, 0.2974347770214081], [-0.3201454281806946, 0.13623376190662384, 0.17496688663959503]], [[0.00918766763061285, -0.0006939512677490711, 0.22916392982006073], [0.18350060284137726, -0.04224150627851486, 0.16888390481472015], [0.1810181438922882, -0.1271529495716095, 0.16444849967956543], [0.0238000750541687, -0.11615262180566788, 0.04133960232138634], [0.16308245062828064, 0.03958619013428688, 0.13035334646701813], [0.16530318558216095, 0.12454740703105927, 0.13966748118400574], [0.007097795605659485, 0.1358896791934967, 0.030464239418506622], [-0.14482611417770386, -0.04092490300536156, 0.3306010663509369], [-0.1473563015460968, -0.12579110264778137, 0.3259040117263794], [-0.3050931692123413, -0.11424627155065536, 0.2035149782896042], [-0.16508999466896057, 0.040840957313776016, 0.28885048627853394], [-0.16268159449100494, 0.12575742602348328, 0.2928225100040436], [-0.3205169141292572, 0.13628613948822021, 0.17042097449302673]], [[0.009172750636935234, -0.0006943289190530777, 0.2258405089378357], [0.18384674191474915, -0.042177483439445496, 0.1663496494293213], [0.1813398152589798, -0.12708941102027893, 0.16167309880256653], [0.024068683385849, -0.11597692221403122, 0.038585364818573], [0.16342484951019287, 0.039444081485271454, 0.1285063773393631], [0.16561031341552734, 0.12440745532512665, 0.13902108371257782], [0.0071845948696136475, 0.1358695924282074, 0.031026724725961685], [-0.14522892236709595, -0.04077741131186485, 0.32654574513435364], [-0.1477602869272232, -0.12563958764076233, 0.32166364789009094], [-0.3055489659309387, -0.11400580406188965, 0.19931450486183167], [-0.16544736921787262, 0.040775906294584274, 0.28434890508651733], [-0.16299887001514435, 0.12569400668144226, 0.28821679949760437], [-0.32088690996170044, 0.1363353431224823, 0.16585606336593628]], [[0.009150398895144463, -0.0006919782608747482, 0.222650945186615], [0.184187650680542, -0.04210849851369858, 0.16394196450710297], [0.18165859580039978, -0.12702269852161407, 0.1589563488960266], [0.024333447217941284, -0.11580333113670349, 0.035841070115566254], [0.16378328204154968, 0.03931156173348427, 0.12670870125293732], [0.165939599275589, 0.12427207827568054, 0.1382850706577301], [0.007259950041770935, 0.13585253059864044, 0.03149726241827011], [-0.14565469324588776, -0.04063554108142853, 0.32256972789764404], [-0.14818039536476135, -0.12549172341823578, 0.3174561560153961], [-0.3060159683227539, -0.11376972496509552, 0.19511426985263824], [-0.1658128947019577, 0.04071004316210747, 0.27993643283843994], [-0.16332197189331055, 0.12562941014766693, 0.28365325927734375], [-0.3212587237358093, 0.13638058304786682, 0.16130000352859497]], [[0.009121071547269821, -0.0006869181524962187, 0.21959364414215088], [0.18452195823192596, -0.04203453287482262, 0.1616816371679306], [0.1819741427898407, -0.1269516497850418, 0.15635062754154205], [0.02452583611011505, -0.11582343280315399, 0.03528799116611481], [0.1641596555709839, 0.03918880224227905, 0.12491147220134735], [0.16629697382450104, 0.12414147704839706, 0.13737405836582184], [0.007323041558265686, 0.13583877682685852, 0.03187338635325432], [-0.14610391855239868, -0.040499649941921234, 0.3186921179294586], [-0.14862145483493805, -0.12534838914871216, 0.31332001090049744], [-0.3065001964569092, -0.1135389655828476, 0.1909576952457428], [-0.16618669033050537, 0.040643561631441116, 0.2756330966949463], [-0.16365505754947662, 0.12556305527687073, 0.27917176485061646], [-0.32163727283477783, 0.1364210546016693, 0.15679700672626495]]], \"rot\": [[[1.0, 0.0, 0.0, 0.0], [1.0, 0.0, 0.0, 0.0], [1.0, 0.0, 0.0, 0.0], [1.0, 0.0, 0.0, 0.0], [1.0, 0.0, 0.0, 0.0], [1.0, 0.0, 0.0, 0.0], [1.0, 0.0, 0.0, 0.0], [1.0, 0.0, 0.0, 0.0], [1.0, 0.0, 0.0, 0.0], [1.0, 0.0, 0.0, 0.0], [1.0, 0.0, 0.0, 0.0], [1.0, 0.0, 0.0, 0.0], [1.0, 0.0, 0.0, 0.0]], [[1.0, 0.0, 0.0, 0.0], [1.0, 1.3648303820446017e-08, 4.2595343918705453e-10, 1.1870201177544004e-07], [0.9998093247413635, 1.0778448995552026e-06, 0.019527966156601906, 1.637703644519206e-05], [0.9997929334640503, 4.314817392270243e-09, -0.020349452272057533, 7.385328348874509e-09], [1.0, -1.364832513672809e-08, 4.2593889526543194e-10, -1.1870199756458533e-07], [0.9998093247413635, -1.0778448995552026e-06, 0.019527966156601906, -1.637703644519206e-05], [0.9997929334640503, -4.320102942045878e-09, -0.020349452272057533, -7.38624494900364e-09], [1.0, 1.3631967554772473e-08, -5.226336585728575e-10, 1.1870030647287422e-07], [0.9998093247413635, 1.0778448995552026e-06, 0.019527966156601906, 1.637703644519206e-05], [0.9997929334640503, 4.314817392270243e-09, -0.020349452272057533, 7.385328348874509e-09], [1.0, -1.3631966666594053e-08, -5.226336585728575e-10, -1.1870029936744686e-07], [0.9998093247413635, -1.0778448995552026e-06, 0.019527966156601906, -1.637703644519206e-05], [0.9997929334640503, -4.320102942045878e-09, -0.020349452272057533, -7.38624494900364e-09]], [[1.0, -0.0001205794615088962, 0.00012569881801027805, 2.0089967023295685e-08], [0.9999998211860657, 4.546849595499225e-05, 0.0007254927768371999, 3.930977618438192e-05], [0.998539388179779, 5.2631867220043205e-06, 0.05402936413884163, 3.699834633152932e-05], [0.9983721971511841, 1.3171587625038228e-06, -0.057035885751247406, 3.014205958606908e-06], [0.9999998211860657, 3.560072582331486e-05, 0.0007256403332576156, -3.9316782931564376e-05], [0.998539388179779, -1.5021970511952532e-06, 0.054029349237680435, -3.685762931127101e-05], [0.9983721971511841, -1.3171687669455423e-06, -0.057035885751247406, -3.0142082323436625e-06], [0.9999998211860657, 4.7759865992702544e-05, 0.0007252240320667624, 3.930685852537863e-05], [0.998539388179779, 5.331006377673475e-06, 0.05402935668826103, 3.699815715663135e-05], [0.9983721971511841, 1.3171587625038228e-06, -0.057035885751247406, 3.014205958606908e-06], [0.9999998211860657, 3.3310221624560654e-05, 0.0007250829949043691, -3.931950777769089e-05], [0.998539388179779, -1.5701259599154582e-06, 0.05402934178709984, -3.686179843498394e-05], [0.9983721971511841, -1.3171687669455423e-06, -0.057035885751247406, -3.0142082323436625e-06]], [[0.9999997019767761, -0.000461371848359704, 0.000698878662660718, 4.303483365220018e-06], [0.9999966025352478, 0.00017234188271686435, 0.0026208306662738323, 0.00012537071597762406], [0.9951870441436768, 2.1671947251888923e-05, 0.09799423813819885, 5.95040874031838e-05], [0.9944907426834106, 4.896089194517117e-06, -0.1048247218132019, 9.790387593966443e-06], [0.9999966025352478, 0.0001269329513888806, 0.0026213794481009245, -0.00012545290519483387], [0.9951870441436768, 1.2241047215866274e-06, 0.09799417108297348, -5.7652126997709274e-05], [0.9944907426834106, -4.328760496719042e-06, -0.10482470691204071, -1.0345137525291648e-05], [0.9999966025352478, 0.00018024332530330867, 0.0026199198327958584, 0.000125349237350747], [0.9951870441436768, 2.217721521446947e-05, 0.09799418598413467, 5.953903746558353e-05], [0.9944907426834106, 4.907352376903873e-06, -0.10482471436262131, 9.778322237252723e-06], [0.9999966025352478, 0.00011902936967089772, 0.0026194259990006685, -0.00012545724166557193], [0.9951870441436768, 7.198115667961247e-07, 0.09799410402774811, -5.769609924755059e-05], [0.9944907426834106, -4.340184659668012e-06, -0.10482469946146011, -1.0333866157452576e-05]], [[0.9999971985816956, -0.001105206785723567, 0.002122303703799844, 1.4466164429904893e-05], [0.9999827742576599, 0.00041292657260783017, 0.0058577521704137325, 0.0002533130464144051], [0.9893730878829956, 6.12654912401922e-05, 0.1453990787267685, 8.482552220812067e-05], [0.98749178647995, 1.246580904989969e-05, -0.15767090022563934, 1.94240128621459e-05], [0.9999827742576599, 0.00027664771187119186, 0.005859019700437784, -0.00025262340204790235], [0.9893732070922852, 1.3549755749409087e-05, 0.14539892971515656, -7.566542626591399e-05], [0.98749178647995, -8.56661245052237e-06, -0.15767084062099457, -2.2657808585790917e-05], [0.9999827742576599, 0.00043337611714378, 0.0058553023263812065, 0.0002532218350097537], [0.9893732070922852, 6.22430452494882e-05, 0.1453985571861267, 8.491239714203402e-05], [0.98749178647995, 1.2555617104226258e-05, -0.15767085552215576, 1.935114778461866e-05], [0.9999827742576599, 0.00025618966901674867, 0.0058542583137750626, -0.0002526068710722029], [0.9893732666969299, 1.2570016224344727e-05, 0.14539834856987, -7.57586894906126e-05], [0.98749178647995, -8.657683792989701e-06, -0.157670795917511, -2.2587839339394122e-05]], [[0.9999866485595703, -0.0020458726212382317, 0.004751443397253752, 3.161878703394905e-05], [0.9999459385871887, 0.0007637631497345865, 0.010368874296545982, 0.0003968961536884308], [0.9816727042198181, 0.00013231567572802305, 0.1905747801065445, 0.000119451702630613], [0.9777781963348389, 2.7356083592167124e-05, -0.20964203774929047, 2.995640716108028e-05], [0.9999460577964783, 0.00045540332212112844, 0.010371094569563866, -0.00039412127807736397], [0.9816727042198181, 4.584980706567876e-05, 0.19057464599609375, -9.099229646380991e-05], [0.9777783155441284, -1.2311590580793563e-05, -0.2096419632434845, -4.036968675791286e-05], [0.9999459385871887, 0.0008135212701745331, 0.010363662615418434, 0.0003966406802646816], [0.9816733598709106, 0.00013261391723062843, 0.190571591258049, 0.00011932714551221579], [0.9777783751487732, 2.7622991183307022e-05, -0.20964163541793823, 2.976940231746994e-05], [0.9999462366104126, 0.0004056254692841321, 0.010362010449171066, -0.0003940293099731207], [0.9816734194755554, 4.556802741717547e-05, 0.1905713528394699, -9.086661884794012e-05], [0.9777783751487732, -1.2581514965859242e-05, -0.20964151620864868, -4.018711479147896e-05]], [[0.9999561905860901, -0.0032356204465031624, 0.008787399157881737, 5.731774217565544e-05], [0.9998726844787598, 0.0011937328381463885, 0.01590648852288723, 0.0005147899501025677], [0.9730204939842224, 0.00023866514675319195, 0.23071874678134918, 0.0001735176774673164], [0.9662526249885559, 5.482873893924989e-05, -0.25759655237197876, 3.8673995732096955e-05], [0.999873161315918, 0.0006344368448480964, 0.015909699723124504, -0.0005097297253087163], [0.9730204343795776, 0.00010919593478320166, 0.23071905970573425, -0.00010731346992542967], [0.9662525653839111, -1.3171927093935665e-05, -0.2575964629650116, -6.329729512799531e-05], [0.9998726844787598, 0.0013058014446869493, 0.015897616744041443, 0.0005142660229466856], [0.973023533821106, 0.0002360953949391842, 0.23070606589317322, 0.00017251420649699867], [0.966253399848938, 5.527133907889947e-05, -0.2575937509536743, 3.8387337554013357e-05], [0.9998733997344971, 0.0005223555490374565, 0.0158954206854105, -0.0005094927619211376], [0.973023533821106, 0.00011185866605956107, 0.23070620000362396, -0.00010631483746692538], [0.9662533402442932, -1.358030112896813e-05, -0.25759363174438477, -6.300547102000564e-05]], [[0.999888002872467, -0.004636888392269611, 0.01422818936407566, 9.437320113647729e-05], [0.9997524619102478, 0.001656913897022605, 0.022182662039995193, 0.0005664015770889819], [0.9638763070106506, 0.00038309910451062024, 0.2663498818874359, 0.00025646190624684095], [0.9533786773681641, 0.00010195010690949857, -0.3017765283584595, 4.09716485592071e-05], [0.9997533559799194, 0.0008125459426082671, 0.02218669094145298, -0.0005622679018415511], [0.963875949382782, 0.00020803927327506244, 0.266351580619812, -0.0001273604138987139], [0.9533786177635193, -7.697605724388268e-06, -0.30177679657936096, -9.49933601077646e-05], [0.9997522830963135, 0.001884011086076498, 0.02216997928917408, 0.0005657488945871592], [0.963886559009552, 0.00037618575152009726, 0.26631298661231995, 0.00025391331291757524], [0.953382134437561, 0.0001023135773721151, -0.3017657995223999, 4.075545439263806e-05], [0.9997538924217224, 0.0005855716881342232, 0.022167326882481575, -0.0005620417650789022], [0.9638862609863281, 0.00021514533727895468, 0.2663143575191498, -0.00012485352635849267], [0.9533820748329163, -7.903925506980158e-06, -0.301766037940979, -9.474381658947095e-05]], [[0.999762237071991, -0.006221476476639509, 0.020903296768665314, 0.0001474011951358989], [0.9995770454406738, 0.0020981912966817617, 0.029000574722886086, 0.0005263744969852269], [0.9545822143554688, 0.0005702093476429582, 0.297946959733963, 0.00037100049667060375], [0.9395413398742676, 0.00017687640502117574, -0.3424355685710907, 3.192940857843496e-05], [0.9995786547660828, 0.001010004198178649, 0.029005086049437523, -0.0005319183110259473], [0.9545809626579285, 0.00033847434679046273, 0.2979513704776764, -0.00014972419012337923], [0.9395409226417542, 8.162644917319994e-06, -0.3424367904663086, -0.00014072599879000336], [0.9995766282081604, 0.0025112878065556288, 0.02898426726460457, 0.000526022573467344], [0.9546091556549072, 0.0005613205721601844, 0.2978605329990387, 0.0003674024192150682], [0.9395521283149719, 0.00017667440988589078, -0.3424060642719269, 3.209354690625332e-05], [0.9995797276496887, 0.0005974277737550437, 0.028981199488043785, -0.0005321346689015627], [0.954608142375946, 0.0003475300036370754, 0.29786446690559387, -0.00014626921620219946], [0.9395516514778137, 8.739311851968523e-06, -0.3424071967601776, -0.00014080607797950506]], [[0.9995607733726501, -0.007968433201313019, 0.02854743041098118, 0.00022287268075160682], [0.9993405342102051, 0.0024662395007908344, 0.03622763976454735, 0.0003902828902937472], [0.9453830122947693, 0.0008028759621083736, 0.3259602189064026, 0.0005111885839141905], [0.9250520467758179, 0.0002884101413656026, -0.3798404335975647, 5.429017619462684e-06], [0.9993425607681274, 0.0012544431956484914, 0.03623221814632416, -0.0004209750040899962], [0.9453803300857544, 0.000492918654344976, 0.32596907019615173, -0.00016750310896895826], [0.9250507354736328, 3.808655674220063e-05, -0.37984344363212585, -0.00020584638696163893], [0.9993393421173096, 0.003146715462207794, 0.036207303404808044, 0.0003899332950823009], [0.9454424381256104, 0.0008020121604204178, 0.3257879614830017, 0.0005101622082293034], [0.9250786900520325, 0.0002873728808481246, -0.37977534532546997, 6.073817530705128e-06], [0.9993441700935364, 0.0005751503631472588, 0.036203786730766296, -0.00042112829396501184], [0.945439875125885, 0.0004936836776323617, 0.3257962763309479, -0.00016683517605997622], [0.9250776171684265, 3.9731807191856205e-05, -0.37977826595306396, -0.00020634029351640493]], [[0.9992712140083313, -0.00986162293702364, 0.036874569952487946, 0.0003279032825957984], [0.9990379214286804, 0.0027241662610322237, 0.043769776821136475, 0.0001758274738676846], [0.9364415407180786, 0.0010791000677272677, 0.35082146525382996, 0.0006627898546867073], [0.9101527333259583, 0.00044471348519437015, -0.41427287459373474, -4.6370063500944525e-05], [0.9990402460098267, 0.0015691728331148624, 0.043774064630270004, -0.0002527816977817565], [0.9364364743232727, 0.0006648905691690743, 0.3508365750312805, -0.00016903431969694793], [0.9101501703262329, 8.500270632794127e-05, -0.41427868604660034, -0.00029420683858916163], [0.9990357160568237, 0.0037513861898332834, 0.043743859976530075, 0.00017304248467553407], [0.9365547895431519, 0.0011072109919041395, 0.35051876306533813, 0.0006729874876327813], [0.9102084040641785, 0.0004438709293026477, -0.41415050625801086, -4.6205568651203066e-05], [0.999042809009552, 0.0005436232313513756, 0.04373987019062042, -0.0002502720744814724], [0.936549961566925, 0.0006360994884744287, 0.35053354501724243, -0.00017965016013476998], [0.9102059006690979, 8.655260171508417e-05, -0.4141560196876526, -0.00029417109908536077]], [[0.9988875389099121, -0.011887595057487488, 0.04563135281205177, 0.0004692557267844677], [0.9986655712127686, 0.002856929088011384, 0.05156603083014488, -8.265946962637827e-05], [0.927869439125061, 0.0013902396894991398, 0.3729017972946167, 0.0008065068395808339], [0.8950362801551819, 0.0006513763801194727, -0.4459928572177887, -0.00013252436474431306], [0.9986674785614014, 0.0019634824711829424, 0.051569826900959015, -6.455295806517825e-05], [0.9278610944747925, 0.0008530691266059875, 0.37292492389678955, -0.00014057938824407756], [0.8950316905975342, 0.00015137478476390243, -0.44600242376327515, -0.00040731989429332316], [0.9986621737480164, 0.004294192418456078, 0.05153186619281769, -9.348934690933675e-05], [0.9280622005462646, 0.0014809959102422, 0.37242135405540466, 0.0008426164276897907], [0.8951377868652344, 0.0006547998636960983, -0.4457891583442688, -0.00013629846216645092], [0.9986714124679565, 0.0005270530818961561, 0.051527418196201324, -5.4122720030136406e-05], [0.9280540943145752, 0.0007610063767060637, 0.37244468927383423, -0.00017615682736504823], [0.895133376121521, 0.00014848903811071068, -0.445798397064209, -0.000403351936256513]], [[0.9984079003334045, -0.014034216292202473, 0.054628849029541016, 0.0006527221412397921], [0.9982197284698486, 0.00287320907227695, 0.05957388877868652, -0.00034340310958214104], [0.9197425842285156, 0.0017214457038789988, 0.39251741766929626, 0.0009229346178472042], [0.8798558712005615, 0.0009094312554225326, -0.4752395749092102, -0.0002618272847030312], [0.9982207417488098, 0.002429039916023612, 0.05957725644111633, 0.00010184109123656526], [0.9197300672531128, 0.0010622355621308088, 0.39255017042160034, -6.969069363549352e-05], [0.8798485398292542, 0.0002399766817688942, -0.4752539396286011, -0.0005446989671327174], [0.99821537733078, 0.004755334462970495, 0.05952771008014679, -0.00037134659942239523], [0.9200410842895508, 0.001920894836075604, 0.39181602001190186, 0.0010053344303742051], [0.8800219893455505, 0.0009264020482078195, -0.47493213415145874, -0.0002774266467895359], [0.9982268214225769, 0.0005448817973956466, 0.05952301621437073, 0.00012822683493141085], [0.9200288653373718, 0.000860747357364744, 0.39184996485710144, -0.00014878239016979933], [0.8800148367881775, 0.00022310810163617134, -0.4749460518360138, -0.0005289694527164102]], [[0.9978326559066772, -0.01628994382917881, 0.06374902278184891, 0.0008827947312965989], [0.997698187828064, 0.0028021088801324368, 0.06775160878896713, -0.0005675317370332778], [0.9121082425117493, 0.002053817268460989, 0.409943163394928, 0.0009978623129427433], [0.8647323250770569, 0.001214041723869741, -0.5022312998771667, -0.0004408603417687118], [0.997697651386261, 0.002942063845694065, 0.06775489449501038, 0.00020917761139571667], [0.9120906591415405, 0.0013014049036428332, 0.40998658537864685, 5.117202817928046e-05], [0.8647214770317078, 0.0003547721426002681, -0.5022513270378113, -0.0007050764397718012], [0.9976931214332581, 0.005127231124788523, 0.06768904626369476, -0.0006241855444386601], [0.9125357866287231, 0.0024179345928132534, 0.4089880883693695, 0.0011505750007927418], [0.864980936050415, 0.0012611686252057552, -0.5018028616905212, -0.00048273574793711305], [0.9977065920829773, 0.0006091045215725899, 0.06768456101417542, 0.00026238663122057915], [0.9125186204910278, 0.0009349977481178939, 0.4090343415737152, -9.355624933959916e-05], [0.8649704456329346, 0.00030711060389876366, -0.5018224716186523, -0.0006630272255279124]], [[0.9971619844436646, -0.018643541261553764, 0.07293209433555603, 0.0011626302730292082], [0.9970994591712952, 0.0026853461749851704, 0.07605879008769989, -0.0007277402910403907], [0.9049940705299377, 0.002368019660934806, 0.4254164397716522, 0.0010265527525916696], [0.8497612476348877, 0.001554397982545197, -0.5271649360656738, -0.000672423979267478], [0.9970970749855042, 0.0034689996391534805, 0.07606256008148193, 0.0002321424544788897], [0.904970645904541, 0.0015807669842615724, 0.4254712760448456, 0.00022205087589100003], [0.8497461080551147, 0.000501359230838716, -0.5271912813186646, -0.0008878831868059933], [0.9970946907997131, 0.005413313861936331, 0.07597558200359344, -0.0008250435348600149], [0.9055675268173218, 0.0029579547699540854, 0.4241901934146881, 0.001273315167054534], [0.8501073122024536, 0.0016570283332839608, -0.5266064405441284, -0.0007634084904566407], [0.9971097111701965, 0.0007240620907396078, 0.07597197592258453, 0.00032534872298128903], [0.9055446982383728, 0.0009897390846163034, 0.42424991726875305, -1.1624088983808178e-05], [0.8500926494598389, 0.0003974411229137331, -0.5266324281692505, -0.000796274864114821]], [[0.9963954091072083, -0.02108406089246273, 0.08215529471635818, 0.0014941600384190679], [0.9964232444763184, 0.002567458664998412, 0.08445920050144196, -0.0008116991957649589], [0.8984130024909973, 0.0026484692934900522, 0.4391426146030426, 0.0010147553402930498], [0.8350192904472351, 0.0019148282008245587, -0.5502166152000427, -0.000955256458837539], [0.9964185953140259, 0.003973531536757946, 0.08446412533521652, 0.00016119060455821455], [0.898382842540741, 0.0019086688989773393, 0.4392089545726776, 0.00043489315430633724], [0.834999144077301, 0.0006865380564704537, -0.5502498149871826, -0.0010943724773824215], [0.9964197874069214, 0.005625433754175901, 0.08435195684432983, -0.0009606431121937931], [0.8991400599479675, 0.003523565363138914, 0.437644898891449, 0.0013748693745583296], [0.8354718089103699, 0.0021071627270430326, -0.5495282411575317, -0.0011271432740613818], [0.996435821056366, 0.0008877333020791411, 0.08435007184743881, 0.00030879018595442176], [0.8991113305091858, 0.0010356323327869177, 0.43771883845329285, 8.997714030556381e-05], [0.8354527950286865, 0.0004923137603327632, -0.5495613813400269, -0.0009192678844556212]], [[0.9955317378044128, -0.023601023480296135, 0.09141115844249725, 0.0018783817067742348], [0.9956698417663574, 0.002488849451765418, 0.09292339533567429, -0.0008211635868065059], [0.8923665881156921, 0.0028853716794401407, 0.45130088925361633, 0.0009773336350917816], [0.8205674886703491, 0.0022756922990083694, -0.5715436339378357, -0.0012850438943132758], [0.9956628084182739, 0.004423267673701048, 0.09293016046285629, 2.767697651506751e-06], [0.8923294544219971, 0.002289332915097475, 0.4513784945011139, 0.0006749975145794451], [0.8205419778823853, 0.000917005876544863, -0.5715839862823486, -0.001328040729276836], [0.995668351650238, 0.0057806596159935, 0.09279035776853561, -0.001032134867273271], [0.893245279788971, 0.004096365533769131, 0.44954875111579895, 0.001462223706766963], [0.8211290240287781, 0.0026003059465438128, -0.5707346200942993, -0.0015772174810990691], [0.9956849813461304, 0.0010938320774585009, 0.09279107302427292, 0.00021874137746635824], [0.8932107090950012, 0.001085958443582058, 0.44963711500167847, 0.00020164456509519368], [0.8211054801940918, 0.0005897778319194913, -0.5707753896713257, -0.001024589641019702]], [[0.9945704936981201, -0.026184439659118652, 0.10069049149751663, 0.00231592427007854], [0.9948393106460571, 0.00248116091825068, 0.10142969340085983, -0.0007698386907577515], [0.8868476748466492, 0.0030773517210036516, 0.46205073595046997, 0.0009367887978442013], [0.8064548969268799, 0.002612342359498143, -0.5912875533103943, -0.0016524335369467735], [0.9948301911354065, 0.004794946406036615, 0.10143885016441345, -0.00022348416678141803], [0.8868030905723572, 0.0027215671725571156, 0.4621386229991913, 0.000923798477742821], [0.806423544883728, 0.001197612495161593, -0.5913350582122803, -0.0015942524187266827], [0.9948407411575317, 0.005898093804717064, 0.10127142816781998, -0.0010526049882173538], [0.8878658413887024, 0.004659176338464022, 0.4600762724876404, 0.0015463432064279914], [0.807120680809021, 0.0031212177127599716, -0.5903745293617249, -0.0021120565943419933], [0.9948575496673584, 0.001334296423010528, 0.10127552598714828, 7.234281656565145e-05], [0.8878256678581238, 0.0011526569724082947, 0.4601784646511078, 0.00031244492856785655], [0.8070927858352661, 0.0006893036188557744, -0.5904233455657959, -0.0011094132205471396]], [[0.9935120940208435, -0.02882491983473301, 0.10997676849365234, 0.0028071473352611065], [0.9939321875572205, 0.0025645100977271795, 0.10996317863464355, -0.0006793772336095572], [0.8818404078483582, 0.003233605530112982, 0.47153612971305847, 0.0009149722754955292], [0.7927190661430359, 0.002899586921557784, -0.609576940536499, -0.0020384725648909807], [0.9939213395118713, 0.0050774188712239265, 0.10997475683689117, -0.000489479920361191], [0.8817883729934692, 0.003198510967195034, 0.47163307666778564, 0.0011621180456131697], [0.7926815152168274, 0.0015297175850719213, -0.6096311211585999, -0.0018991987453773618], [0.9939370155334473, 0.005996644496917725, 0.10978290438652039, -0.0010423649800941348], [0.8829777240753174, 0.005198099184781313, 0.4693835377693176, 0.0016399780288338661], [0.7934781312942505, 0.0036510282661765814, -0.6085818409919739, -0.0027249124832451344], [0.9939534664154053, 0.0016001746989786625, 0.10979047417640686, -0.00010727341577876359], [0.8829323649406433, 0.0012452913215383887, 0.4694983959197998, 0.0004129993903916329], [0.7934461832046509, 0.0007912883884273469, -0.6086388230323792, -0.0011753590079024434]], [[0.9923602342605591, -0.03151381388306618, 0.11923469603061676, 0.003353646956384182], [0.9929484724998474, 0.0027468656189739704, 0.11851365119218826, -0.0005756709724664688], [0.8773221373558044, 0.0033682151697576046, 0.47988951206207275, 0.000925767351873219], [0.7793875932693481, 0.0031210726592689753, -0.6265296936035156, -0.0024213874712586403], [0.9929366111755371, 0.005272201262414455, 0.11852721124887466, -0.000764491269364953], [0.8772629499435425, 0.003708229400217533, 0.47999387979507446, 0.001372995669953525], [0.7793436646461487, 0.0019101002253592014, -0.626589834690094, -0.0022485819645226], [0.9929566979408264, 0.006093117408454418, 0.11831721663475037, -0.001024166471324861], [0.8785513639450073, 0.005704611539840698, 0.47761067748069763, 0.0017555990489199758], [0.7802238464355469, 0.004167517647147179, -0.6254773139953613, -0.00340290111489594], [0.992972731590271, 0.0018829011823982, 0.11832807958126068, -0.00029526971047744155], [0.878501832485199, 0.001370457699522376, 0.4777367115020752, 0.0004961717640981078], [0.7801886796951294, 0.0008965071756392717, -0.6255425810813904, -0.0012282015522941947]], [[0.9911207556724548, -0.03424309194087982, 0.1284186840057373, 0.003956429194658995], [0.9918888807296753, 0.0030233527068048716, 0.1270715445280075, -0.00048398569924756885], [0.8732641935348511, 0.0034961700439453125, 0.48723360896110535, 0.0009757364168763161], [0.7664791941642761, 0.003270511282607913, -0.6422547698020935, -0.0027839778922498226], [0.991876482963562, 0.005393875762820244, 0.12708650529384613, -0.0010192767949774861], [0.8731986284255981, 0.004234344232827425, 0.48734360933303833, 0.0015439821872860193], [0.7664286494255066, 0.002330621937289834, -0.6423197984695435, -0.002646542154252529], [0.9918999075889587, 0.006200401112437248, 0.1268671303987503, -0.00101780379191041], [0.874554455280304, 0.006178203038871288, 0.4848842918872833, 0.0019022166961804032], [0.767373263835907, 0.004646837245672941, -0.6411705613136292, -0.004125323612242937], [0.9919154644012451, 0.0021760796662420034, 0.12688091397285461, -0.00046941303298808634], [0.8745018243789673, 0.0015303163090720773, 0.48501962423324585, 0.0005586604820564389], [0.7673355340957642, 0.0010055467719212174, -0.6412438154220581, -0.0012772295158356428]], [[0.9898022413253784, -0.037005387246608734, 0.13748042285442352, 0.004616562742739916], [0.9907544851303101, 0.0033787989523261786, 0.13562439382076263, -0.0004242879804223776], [0.8696340918540955, 0.0036320392973721027, 0.4936825633049011, 0.0010648270836099982], [0.7540045380592346, 0.0033497957047075033, -0.6568532586097717, -0.0031153850723057985], [0.9907423853874207, 0.0054665845818817616, 0.13564011454582214, -0.001232345006428659], [0.8695630431175232, 0.004757573362439871, 0.49379611015319824, 0.001669934019446373], [0.7539473176002502, 0.0027784667909145355, -0.6569218039512634, -0.003095207968726754], [0.9907673597335815, 0.006328541785478592, 0.1354220062494278, -0.001034872722811997], [0.8709527254104614, 0.006625124253332615, 0.49131786823272705, 0.0020786700770258904], [0.7549357414245605, 0.005069094244390726, -0.6557613015174866, -0.004865024238824844], [0.9907825589179993, 0.0024748509749770164, 0.13543814420700073, -0.0006140256300568581], [0.8708981275558472, 0.0017238609725609422, 0.49146029353141785, 0.0006021736771799624], [0.7548961043357849, 0.001117511186748743, -0.655842125415802, -0.0013331084046512842]], [[0.9884142279624939, -0.039793889969587326, 0.14637407660484314, 0.005335188005119562], [0.9895477890968323, 0.003791279159486294, 0.14415480196475983, -0.00040876955608837306], [0.866396427154541, 0.0037888300139456987, 0.4993411600589752, 0.0011869602603837848], [0.7419677972793579, 0.0033671671990305185, -0.6704185009002686, -0.0034110674168914557], [0.989536464214325, 0.005518247373402119, 0.14417052268981934, -0.0013923513470217586], [0.8663214445114136, 0.005258878692984581, 0.4994562268257141, 0.0017552126664668322], [0.7419037818908691, 0.0032360574696213007, -0.6704888939857483, -0.003594697220250964], [0.9895609021186829, 0.006486339494585991, 0.14396534860134125, -0.0010791277745738626], [0.8677118420600891, 0.007052153814584017, 0.4970124661922455, 0.002273488324135542], [0.7429155111312866, 0.005423315335065126, -0.6693398952484131, -0.0055958605371415615], [0.9895760416984558, 0.0027754923794418573, 0.1439831405878067, -0.0007213142234832048], [0.8676566481590271, 0.001946934498846531, 0.4971596598625183, 0.0006312386831268668], [0.7428748607635498, 0.0012318793451413512, -0.6694278120994568, -0.0014072932535782456]], [[0.9869669675827026, -0.042602285742759705, 0.155061274766922, 0.006113226991146803], [0.9882728457450867, 0.004236289765685797, 0.15263931453227997, -0.00044068481656722724], [0.8635154366493225, 0.003976545296609402, 0.5043051242828369, 0.0013307098997756839], [0.7303678393363953, 0.003335312008857727, -0.6830360889434814, -0.0036722393706440926], [0.9882628321647644, 0.005575640592724085, 0.15265430510044098, -0.0014962729765102267], [0.8634378910064697, 0.005724356044083834, 0.5044193863868713, 0.0018134955316781998], [0.7302974462509155, 0.003679519286379218, -0.6831068396568298, -0.004140924662351608], [0.9882842302322388, 0.006681161001324654, 0.15247368812561035, -0.001147635281085968], [0.8647988438606262, 0.007463634014129639, 0.5020570755004883, 0.002470623701810837], [0.7313137054443359, 0.0057058255188167095, -0.6819882988929749, -0.006298383232206106], [0.9882996082305908, 0.003074696520343423, 0.15249234437942505, -0.0007912579458206892], [0.8647447228431702, 0.0021938395220786333, 0.5022066831588745, 0.000653357885312289], [0.7312725782394409, 0.0013470858102664351, -0.6820824146270752, -0.001510436530224979]], [[0.9854701161384583, -0.045424722135066986, 0.16351421177387238, 0.006951259449124336], [0.9869351983070374, 0.004689278081059456, 0.16104868054389954, -0.000515385705512017], [0.8609558343887329, 0.004201869480311871, 0.5086604356765747, 0.0014816421316936612], [0.7192000150680542, 0.0032692451495677233, -0.69478440284729, -0.003904883051291108], [0.9869269132614136, 0.005662326235324144, 0.16106224060058594, -0.0015467526391148567], [0.860877513885498, 0.006149787921458483, 0.5087717175483704, 0.001861784141510725], [0.7191237807273865, 0.004080888349562883, -0.6948539614677429, -0.00472024641931057], [0.9869429469108582, 0.006918805651366711, 0.16091683506965637, -0.0012324346462264657], [0.8621830344200134, 0.007862064056098461, 0.5065289735794067, 0.002654470968991518], [0.7201288342475891, 0.005916420370340347, -0.6937803030014038, -0.006959869991987944], [0.9869588613510132, 0.003369030775502324, 0.16093556582927704, -0.0008299307082779706], [0.8621314167976379, 0.0024586438667029142, 0.5066784024238586, 0.0006769122555851936], [0.7200875878334045, 0.0014610904036089778, -0.6938797235488892, -0.0016510364366695285]], [[0.983932614326477, -0.0482557937502861, 0.17171630263328552, 0.007849493995308876], [0.9855425357818604, 0.005129256751388311, 0.16934943199157715, -0.0006226060213521123], [0.8586840629577637, 0.004466901067644358, 0.5124834179878235, 0.0016244641738012433], [0.7084571719169617, 0.0031842957250773907, -0.7057346105575562, -0.004118519369512796], [0.9855359196662903, 0.00579759432002902, 0.1693609058856964, -0.001550617627799511], [0.8586068749427795, 0.00653819739818573, 0.5125895738601685, 0.0019119922071695328], [0.7083759307861328, 0.0044175731018185616, -0.7058016657829285, -0.005312352441251278], [0.9855443835258484, 0.0072034611366689205, 0.1692594289779663, -0.0013227355666458607], [0.8598368763923645, 0.008249242790043354, 0.510494589805603, 0.002812298946082592], [0.7093576192855835, 0.006056290119886398, -0.7047820687294006, -0.0075726695358753204], [0.9855613112449646, 0.0036546962801367044, 0.16927757859230042, -0.0008469777530990541], [0.8597891926765442, 0.0027361263055354357, 0.5106413960456848, 0.0007093467283993959], [0.709316611289978, 0.0015718411887064576, -0.7048859596252441, -0.0018347316654399037]], [[0.9823615550994873, -0.05109050124883652, 0.17966067790985107, 0.008807635866105556], [0.984103798866272, 0.00554056977853179, 0.17750608921051025, -0.0007489277049899101], [0.8566694259643555, 0.004769309889525175, 0.5158408880233765, 0.0017452293541282415], [0.6981305480003357, 0.0030942310113459826, -0.7159507274627686, -0.004324690904468298], [0.9840987324714661, 0.005995216313749552, 0.177514910697937, -0.0015178794274106622], [0.8565948009490967, 0.006894794758409262, 0.5159398317337036, 0.0019703691359609365], [0.6980451345443726, 0.004676122218370438, -0.7160142064094543, -0.0058981007896363735], [0.9840975999832153, 0.007537616416811943, 0.17746341228485107, -0.0014073747443035245], [0.8577356934547424, 0.008626789785921574, 0.5140101909637451, 0.0029352987185120583], [0.6989958882331848, 0.006127380300313234, -0.7150532603263855, -0.008133018389344215], [0.9841161370277405, 0.003927675075829029, 0.17748050391674042, -0.0008528463658876717], [0.8576933741569519, 0.003022329416126013, 0.5141522884368896, 0.0007557423086836934], [0.6989551186561584, 0.0016776577103883028, -0.715160608291626, -0.0020640529692173004]], [[0.9807631969451904, -0.05392434448003769, 0.18734784424304962, 0.009824673645198345], [0.9826291799545288, 0.005913706496357918, 0.18548369407653809, -0.0008804783574305475], [0.8551108241081238, 0.005103399511426687, 0.5184169411659241, 0.001832190784625709], [0.688541054725647, 0.003010463435202837, -0.725176990032196, -0.004534505307674408], [0.9826252460479736, 0.006262370850890875, 0.18548941612243652, -0.001460255472920835], [0.8550449013710022, 0.00722819147631526, 0.5184995532035828, 0.0020472100004553795], [0.6884593367576599, 0.004842408932745457, -0.7252300381660461, -0.006460768636316061], [0.9826129674911499, 0.007921862415969372, 0.18549083173274994, -0.0014770912239328027], [0.8560019135475159, 0.009006723761558533, 0.5168853998184204, 0.003030716674402356], [0.6892487406730652, 0.006114164832979441, -0.7244476675987244, -0.008627199567854404], [0.9826337099075317, 0.004184210207313299, 0.18550655245780945, -0.0008563630399294198], [0.8559744954109192, 0.003313454333692789, 0.5170066952705383, 0.0008183440077118576], [0.6892205476760864, 0.001778427162207663, -0.7245456576347351, -0.002340670209378004]], [[0.979142963886261, -0.056753404438495636, 0.19478057324886322, 0.010898508131504059], [0.9811325073242188, 0.006244481075555086, 0.1932336390018463, -0.0010054947342723608], [0.8543251752853394, 0.005458080675452948, 0.5197069644927979, 0.0018721002852544188], [0.6802008152008057, 0.0029475141782313585, -0.7330043911933899, -0.004760530777275562], [0.9811292290687561, 0.006600921042263508, 0.1932356059551239, -0.0013877840247005224], [0.8542724251747131, 0.007549113128334284, 0.5197664499282837, 0.002137530827894807], [0.6801292300224304, 0.004921385087072849, -0.7330425381660461, -0.006986512802541256], [0.9811037182807922, 0.008356091566383839, 0.19329595565795898, -0.001525231753475964], [0.8549907207489014, 0.009388507343828678, 0.5185490846633911, 0.0030848055612295866], [0.6806736588478088, 0.006032031495124102, -0.7325059175491333, -0.009057794697582722], [0.9811274409294128, 0.004421875812113285, 0.19330956041812897, -0.0008625639602541924], [0.8549834489822388, 0.0036103767342865467, 0.5186419486999512, 0.0008935444056987762], [0.6806642413139343, 0.0018772941548377275, -0.7325882911682129, -0.0026600377168506384]], [[0.9775073528289795, -0.059574536979198456, 0.2019544094800949, 0.012025614269077778], [0.9796322584152222, 0.006531228311359882, 0.20069056749343872, -0.001116918632760644], [0.8544780015945435, 0.005821832921355963, 0.5194517970085144, 0.0018594993744045496], [0.6734289526939392, 0.0029127781745046377, -0.7392292618751526, -0.005012459587305784], [0.9796293377876282, 0.007009109482169151, 0.20068800449371338, -0.0013080534990876913], [0.8544407486915588, 0.007867880165576935, 0.5194846391677856, 0.002232922473922372], [0.673371434211731, 0.004924545530229807, -0.7392502427101135, -0.007466437760740519], [0.9795886278152466, 0.008835336193442345, 0.2008126676082611, -0.0015514236874878407], [0.8549031019210815, 0.009769200347363949, 0.5186866521835327, 0.00308788800612092], [0.6736330986022949, 0.0058981794863939285, -0.7389822602272034, -0.009432477876543999], [0.979616105556488, 0.00464204978197813, 0.20082348585128784, -0.0008715414442121983], [0.8549178838729858, 0.003914864268153906, 0.5187477469444275, 0.0009760690154507756], [0.6736449599266052, 0.0019768932834267616, -0.7390464544296265, -0.0030156434513628483]], [[0.9758661389350891, -0.06238570809364319, 0.20885150134563446, 0.013200548477470875], [0.9781496524810791, 0.006773998029530048, 0.20778857171535492, -0.0012124732602387667], [0.8555936217308044, 0.006184762343764305, 0.517608106136322, 0.0017970287008211017], [0.6683499217033386, 0.002906529465690255, -0.7438225746154785, -0.0052961683832108974], [0.9781461358070374, 0.007482336834073067, 0.2077806293964386, -0.001225891406647861], [0.8555721640586853, 0.008192806504666805, 0.5176137089729309, 0.002322389278560877], [0.6683081388473511, 0.004868088755756617, -0.7438267469406128, -0.00789684522897005], [0.9780890345573425, 0.009348751045763493, 0.20797163248062134, -0.0015617551980540156], [0.8557928204536438, 0.010146327316761017, 0.5172104835510254, 0.003036974696442485], [0.6682901382446289, 0.005728415213525295, -0.7438147664070129, -0.009761425666511059], [0.9781208634376526, 0.004850901197642088, 0.20797918736934662, -0.0008785824757069349], [0.8558292388916016, 0.004227898083627224, 0.5172402858734131, 0.0010589906014502048], [0.6683223843574524, 0.002079034922644496, -0.7438611388206482, -0.003399851033464074]], [[0.9742321372032166, -0.06518632918596268, 0.21544097363948822, 0.014415634796023369], [0.9767043590545654, 0.006975820753723383, 0.21447238326072693, -0.0012928470969200134], [0.8575792908668518, 0.0065393648110330105, 0.5143076181411743, 0.0016935706371441483], [0.6649132966995239, 0.0029232208617031574, -0.7468937039375305, -0.005613426677882671], [0.9766996502876282, 0.008012287318706512, 0.2144584059715271, -0.0011447729775682092], [0.8575719594955444, 0.008529653772711754, 0.5142876505851746, 0.0023942964617162943], [0.6648866534233093, 0.004770773928612471, -0.74688321352005, -0.008279063738882542], [0.9766260981559753, 0.009881590493023396, 0.21471266448497772, -0.0015664375387132168], [0.8575884699821472, 0.010518579743802547, 0.5142205357551575, 0.0029350463300943375], [0.6646246910095215, 0.005536358803510666, -0.7470892667770386, -0.010056143626570702], [0.9766628742218018, 0.005057680886238813, 0.21471679210662842, -0.0008765292004682124], [0.8576441407203674, 0.004549168515950441, 0.5142223238945007, 0.00113502552267164], [0.6646742224693298, 0.0021843970753252506, -0.7471204996109009, -0.0038045274559408426]], [[0.9726201295852661, -0.06797690689563751, 0.22168420255184174, 0.01566171832382679], [0.9753137230873108, 0.007143960800021887, 0.22070427238941193, -0.0013596545904874802], [0.860257089138031, 0.006880536209791899, 0.5098118185997009, 0.0015614514704793692], [0.6629283428192139, 0.0029535344801843166, -0.7486532926559448, -0.005962119437754154], [0.9753071069717407, 0.008585955947637558, 0.22068390250205994, -0.0010682808933779597], [0.8602613806724548, 0.008881837129592896, 0.5097700357437134, 0.002438632305711508], [0.6629142761230469, 0.004651682451367378, -0.7486314177513123, -0.00861890148371458], [0.9752185940742493, 0.010418087244033813, 0.22099247574806213, -0.0015765744028612971], [0.8601252436637878, 0.010885653086006641, 0.5099592804908752, 0.0027891015633940697], [0.6624664068222046, 0.005333238746970892, -0.7490015029907227, -0.01032861415296793], [0.9752607941627502, 0.005272079259157181, 0.22099338471889496, -0.0008587885531596839], [0.8601963520050049, 0.004877446684986353, 0.5099382400512695, 0.0011983206495642662], [0.6625280976295471, 0.002292386256158352, -0.7490216493606567, -0.004221548326313496]], [[0.9710462093353271, -0.07075883448123932, 0.2275429368019104, 0.01692870818078518], [0.9739906191825867, 0.00729050999507308, 0.22646649181842804, -0.0014134534867480397], [0.8634002208709717, 0.00720530841499567, 0.5044662356376648, 0.0014135674573481083], [0.662106454372406, 0.0029866264667361975, -0.7493770718574524, -0.006336878519505262], [0.9739813208580017, 0.0091854277998209, 0.22643975913524628, -0.0010013618739321828], [0.8634127378463745, 0.009250903502106667, 0.5044075846672058, 0.002448887564241886], [0.6621010303497314, 0.004528238903731108, -0.7493478655815125, -0.008925773203372955], [0.9738812446594238, 0.010944205336272717, 0.22678832709789276, -0.0016010848339647055], [0.8631799221038818, 0.011247708462178707, 0.5047645568847656, 0.002607951173558831], [0.6615366339683533, 0.005127949174493551, -0.7498205900192261, -0.010590601712465286], [0.9739286303520203, 0.005501861218363047, 0.22678640484809875, -0.0008217532304115593], [0.8632623553276062, 0.005211301147937775, 0.5047271847724915, 0.0012458179844543338], [0.6616045832633972, 0.002401298377662897, -0.7498348355293274, -0.0046432544477283955]], [[0.9695250391960144, -0.07353390008211136, 0.23298609256744385, 0.018206384032964706], [0.9727433919906616, 0.007431741338223219, 0.23176105320453644, -0.0014527206076309085], [0.8667669892311096, 0.007512656040489674, 0.49865520000457764, 0.0012612673453986645], [0.6621074080467224, 0.0030121291056275368, -0.749372661113739, -0.006729999091476202], [0.9727307558059692, 0.009788799099624157, 0.23172849416732788, -0.0009505951311439276], [0.8667840361595154, 0.009637009352445602, 0.4985848665237427, 0.002422851277515292], [0.6621061563491821, 0.00441478006541729, -0.7493404746055603, -0.009211559779942036], [0.9726235866546631, 0.011449298821389675, 0.23209840059280396, -0.0016446607187390327], [0.8665074110031128, 0.011605017818510532, 0.4990237057209015, 0.002400534227490425], [0.6614952683448792, 0.0049271839670836926, -0.7498546242713928, -0.010853038169443607], [0.9726760387420654, 0.005751638673245907, 0.2320943921804428, -0.0007661664858460426], [0.8665967583656311, 0.0055496045388281345, 0.49897652864456177, 0.0012776600196957588], [0.6615632176399231, 0.0025087660178542137, -0.7498681545257568, -0.005062888376414776]], [[0.9680684804916382, -0.07630407065153122, 0.23799507319927216, 0.019485173746943474], [0.9715747833251953, 0.007586278952658176, 0.23660694062709808, -0.0014740360202267766], [0.8701300621032715, 0.007803392596542835, 0.4927593171596527, 0.0011132705258205533], [0.6625826954841614, 0.0030216597951948643, -0.7489486932754517, -0.007132503669708967], [0.9715587496757507, 0.010372127406299114, 0.23656976222991943, -0.0009235165780410171], [0.8701480627059937, 0.010039287619292736, 0.49268248677253723, 0.0023624268360435963], [0.6625810861587524, 0.004321745131164789, -0.7489176988601685, -0.00948930624872446], [0.9714497327804565, 0.011926604434847832, 0.23693980276584625, -0.0017072003101930022], [0.8698714375495911, 0.011957872658967972, 0.4931286871433258, 0.002175042638555169], [0.6619861721992493, 0.0047355820424854755, -0.7494185566902161, -0.011125433258712292], [0.9715067148208618, 0.006022834684699774, 0.2369346022605896, -0.0006970585673116148], [0.8699642419815063, 0.005891654174774885, 0.4930781424045563, 0.001296626403927803], [0.6620486378669739, 0.0026123709976673126, -0.7494364380836487, -0.00547496834769845]], [[0.9666842222213745, -0.07907132059335709, 0.24256671965122223, 0.020756760612130165], [0.9704838395118713, 0.0077725802548229694, 0.2410365790128708, -0.0014734120341017842], [0.873297393321991, 0.008080016821622849, 0.48711949586868286, 0.0009756333893164992], [0.6632118821144104, 0.003009752370417118, -0.7483878135681152, -0.007535239215940237], [0.9704642295837402, 0.010912536643445492, 0.24099639058113098, -0.0009277004282921553], [0.8733136057853699, 0.01045562420040369, 0.48704099655151367, 0.0022729430347681046], [0.6632055640220642, 0.004255445674061775, -0.7483614087104797, -0.009771897457540035], [0.9703589677810669, 0.012372735887765884, 0.24134501814842224, -0.0017846018308773637], [0.8730686902999878, 0.012306787073612213, 0.4874381124973297, 0.0019387855427339673], [0.6626758575439453, 0.0045559159480035305, -0.7488055229187012, -0.011415369808673859], [0.9704200029373169, 0.006314490456134081, 0.24133968353271484, -0.0006225597462616861], [0.8731616139411926, 0.0062369997613132, 0.48738929629325867, 0.0013069900451228023], [0.6627283096313477, 0.0027102164458483458, -0.7488319873809814, -0.005875524133443832]], [[0.9653761386871338, -0.08183765411376953, 0.24671219289302826, 0.022014198824763298], [0.969465970993042, 0.008006100542843342, 0.24509121477603912, -0.0014481371035799384], [0.8761337399482727, 0.008346137590706348, 0.481995165348053, 0.0008495174697600305], [0.6637421250343323, 0.002977676223963499, -0.7479134798049927, -0.007930274121463299], [0.9694430232048035, 0.011392055079340935, 0.2450500875711441, -0.0009690115111880004], [0.8761476278305054, 0.01088364701718092, 0.48191529512405396, 0.002164965495467186], [0.6637308597564697, 0.00421359995380044, -0.7478918433189392, -0.01006883941590786], [0.9693465828895569, 0.012786595150828362, 0.24535728991031647, -0.001870592124760151], [0.875942051410675, 0.012653211131691933, 0.4822475016117096, 0.0016986220143735409], [0.6632819175720215, 0.00438901549205184, -0.7482648491859436, -0.011727468110620975], [0.9694111347198486, 0.006624483969062567, 0.24535296857357025, -0.0005520834820345044], [0.876033365726471, 0.006584984716027975, 0.48220396041870117, 0.0013131770538166165], [0.6633217930793762, 0.002801480470225215, -0.7483028769493103, -0.006262444891035557]], [[0.9641431570053101, -0.0846049040555954, 0.2504582405090332, 0.02325228415429592], [0.9685143828392029, 0.00829620473086834, 0.24881550669670105, -0.001399042084813118], [0.8786829710006714, 0.008606057614088058, 0.47732770442962646, 0.0007358962902799249], [0.6641995310783386, 0.002929416485130787, -0.747503399848938, -0.008312024176120758], [0.9684888124465942, 0.011800922453403473, 0.24877561628818512, -0.001048970385454595], [0.8786938786506653, 0.011319419369101524, 0.477247029542923, 0.002041629981249571], [0.664182722568512, 0.004197899717837572, -0.7474862933158875, -0.010385828092694283], [0.9684054255485535, 0.013168617151677608, 0.24902582168579102, -0.0019589802250266075], [0.8785184025764465, 0.01300137210637331, 0.47752946615219116, 0.0014584297314286232], [0.663804829120636, 0.004235908389091492, -0.7477966547012329, -0.012059634551405907], [0.968472421169281, 0.00695068622007966, 0.2490234375, -0.0004943704698234797], [0.8786083459854126, 0.006934060715138912, 0.4774909019470215, 0.0013171749887987971], [0.6638328433036804, 0.0028886168729513884, -0.7478460073471069, -0.006635868921875954]], [[0.962981104850769, -0.0873747318983078, 0.253839373588562, 0.02446736767888069], [0.9676241874694824, 0.00864443276077509, 0.2522440254688263, -0.0013320608995854855], [0.8809797763824463, 0.008865639567375183, 0.47307056188583374, 0.0006377518875524402], [0.6646029353141785, 0.0028689203318208456, -0.7471408247947693, -0.008676416240632534], [0.9675964117050171, 0.0121383648365736, 0.25220733880996704, -0.0011638245778158307], [0.8809873461723328, 0.01175683829933405, 0.4729899764060974, 0.0019048586254939437], [0.6645801663398743, 0.004208219703286886, -0.7471281886100769, -0.010726899839937687], [0.9675287008285522, 0.01352032832801342, 0.25239095091819763, -0.0020455934572964907], [0.8808313012123108, 0.01335111353546381, 0.47324052453041077, 0.0012214096495881677], [0.6642619967460632, 0.004098711535334587, -0.747385561466217, -0.012412287294864655], [0.9675977230072021, 0.007291955407708883, 0.2523912787437439, -0.0004557486972771585], [0.8809201121330261, 0.007284850813448429, 0.4732069969177246, 0.0013205740833655], [0.6642788648605347, 0.0029732349794358015, -0.7474462389945984, -0.0069944048300385475]], [[0.9618847966194153, -0.09014876186847687, 0.25689056515693665, 0.025656701996922493], [0.9667915105819702, 0.009043445810675621, 0.25540366768836975, -0.0012567178346216679], [0.8830521106719971, 0.009133436717092991, 0.4691859781742096, 0.000558122992515564], [0.6649667620658875, 0.0028007824439555407, -0.7468132376670837, -0.009020024910569191], [0.9667624235153198, 0.012412726879119873, 0.25537189841270447, -0.0013051877031102777], [0.8830558061599731, 0.01218812819570303, 0.4691063165664673, 0.001755624427460134], [0.6649373769760132, 0.004242449998855591, -0.7468047142028809, -0.011094077490270138], [0.9667114615440369, 0.013842916116118431, 0.2554854154586792, -0.0021290697623044252], [0.882908046245575, 0.01370149850845337, 0.46934500336647034, 0.0009909389773383737], [0.6646668314933777, 0.003978677559643984, -0.7470200061798096, -0.012784844264388084], [0.9667816758155823, 0.00764889270067215, 0.2554887533187866, -0.0004390898102428764], [0.8829959034919739, 0.007637649308890104, 0.4693168103694916, 0.0013236592058092356], [0.6646732091903687, 0.003057453315705061, -0.7470920085906982, -0.007337851915508509]], [[0.9608490467071533, -0.09292856603860855, 0.25964272022247314, 0.026818152517080307], [0.9660133123397827, 0.009480142965912819, 0.2583157420158386, -0.0011848107678815722], [0.8849230408668518, 0.00941795576363802, 0.4656420350074768, 0.0004979101940989494], [0.6653026938438416, 0.0027318187057971954, -0.7465103268623352, -0.009340924210846424], [0.9659836292266846, 0.012639429420232773, 0.2582901418209076, -0.0014620001893490553], [0.8849228024482727, 0.012605128809809685, 0.4655645191669464, 0.001594901317730546], [0.665266215801239, 0.004296451807022095, -0.7465055584907532, -0.011487013660371304], [0.965949296951294, 0.014137176796793938, 0.2583356201648712, -0.002210702048614621], [0.8847718834877014, 0.014051435515284538, 0.46581196784973145, 0.0007704211748205125], [0.6650305390357971, 0.0038763561751693487, -0.7466899156570435, -0.013175652362406254], [0.9660201072692871, 0.00802293885499239, 0.2583419680595398, -0.00044385186629369855], [0.8848584890365601, 0.007992526516318321, 0.4657893180847168, 0.0013254646910354495], [0.6650270819664001, 0.0031436090357601643, -0.7467732429504395, -0.0076671564020216465]], [[0.9598698616027832, -0.09571558982133865, 0.2621208429336548, 0.027950135990977287], [0.9652877449989319, 0.009937992319464684, 0.2609971761703491, -0.0011291776318103075], [0.8866121768951416, 0.009725309908390045, 0.46241119503974915, 0.0004556687199510634], [0.6656206250190735, 0.0026716794818639755, -0.7462233304977417, -0.009640457108616829], [0.965258002281189, 0.012837196700274944, 0.26097843050956726, -0.001622393960133195], [0.8866078853607178, 0.01300134789198637, 0.4623369574546814, 0.0014244227204471827], [0.6655767560005188, 0.004364249296486378, -0.7462218403816223, -0.011902869679033756], [0.9652386903762817, 0.01440425869077444, 0.2609626054763794, -0.0022936861496418715], [0.8864431977272034, 0.01439977902919054, 0.46261313557624817, 0.0005629521911032498], [0.665363609790802, 0.0037918156012892723, -0.7463862299919128, -0.013582110404968262], [0.965309739112854, 0.008415086194872856, 0.26097169518470764, -0.00046718327212147415], [0.8865286111831665, 0.008349581621587276, 0.46259647607803345, 0.0013244617730379105], [0.6653510332107544, 0.003233860479667783, -0.7464810013771057, -0.007984285242855549]], [[0.9589442014694214, -0.09851100295782089, 0.26434385776519775, 0.02905154600739479], [0.9646133184432983, 0.01039981935173273, 0.2634611129760742, -0.0011014312040060759], [0.8881365656852722, 0.010057546198368073, 0.45946961641311646, 0.00042858452070504427], [0.665928840637207, 0.0026311895344406366, -0.7459447383880615, -0.009924309328198433], [0.964583694934845, 0.013025403022766113, 0.26344922184944153, -0.0017753703286871314], [0.8881282210350037, 0.01337265595793724, 0.4593997597694397, 0.0012467927299439907], [0.6658774614334106, 0.004438484087586403, -0.745945930480957, -0.012336655519902706], [0.964577317237854, 0.014646765775978565, 0.2633826732635498, -0.002381925703957677], [0.8879402279853821, 0.014745105057954788, 0.45972225069999695, 0.00037078719469718635], [0.6656758785247803, 0.003724863054230809, -0.7461004257202148, -0.014000856317579746], [0.9646478891372681, 0.008824693039059639, 0.2633938789367676, -0.0005053563509136438], [0.8880244493484497, 0.008709198795258999, 0.45971205830574036, 0.0013193367049098015], [0.665654718875885, 0.003329829080030322, -0.7462064027786255, -0.008292014710605145]], [[0.9580700993537903, -0.10131558030843735, 0.2663259506225586, 0.03012179024517536], [0.9639893174171448, 0.010850337333977222, 0.26571738719940186, -0.0011099484981968999], [0.8895103931427002, 0.010413329117000103, 0.4567961096763611, 0.00041382471681572497], [0.6662343144416809, 0.002619345672428608, -0.7456681728363037, -0.010200753808021545], [0.9639599323272705, 0.013221317902207375, 0.26571187376976013, -0.0019131469307467341], [0.8894981145858765, 0.013717745430767536, 0.4567316472530365, 0.0010665268637239933], [0.6661757230758667, 0.0045107160694897175, -0.7456716895103455, -0.012781806290149689], [0.9639633297920227, 0.014869597740471363, 0.2656075656414032, -0.00247874204069376], [0.8892796635627747, 0.015085551887750626, 0.45711496472358704, 0.0001947982091223821], [0.6659762859344482, 0.0036752517335116863, -0.74582439661026, -0.014427948743104935], [0.9640332460403442, 0.009248684160411358, 0.2656202018260956, -0.0005553814698942006], [0.8893622756004333, 0.00907218549400568, 0.4571113884449005, 0.0013098280178382993], [0.6659473180770874, 0.00343239470385015, -0.7459414601325989, -0.008593698963522911]], [[0.9572460651397705, -0.10412959009408951, 0.2680785059928894, 0.0311607513576746], [0.9634153842926025, 0.011277993209660053, 0.2677728235721588, -0.0011585012543946505], [0.8907466530799866, 0.010789500549435616, 0.45437201857566833, 0.00040820622234605253], [0.6665429472923279, 0.002642169827595353, -0.7453883290290833, -0.010477976873517036], [0.9633862376213074, 0.013437951914966106, 0.26777276396751404, -0.002032109070569277], [0.8907307386398315, 0.014039563946425915, 0.4543137550354004, 0.0008901513647288084], [0.666477620601654, 0.004571214318275452, -0.745393693447113, -0.013229279778897762], [0.9633961915969849, 0.015080111101269722, 0.267645001411438, -0.002585903275758028], [0.8904765248298645, 0.015419031493365765, 0.4547680616378784, 3.414890670683235e-05], [0.666273295879364, 0.0036428160965442657, -0.7455506920814514, -0.014858904294669628], [0.96346515417099, 0.00968127604573965, 0.2676582634449005, -0.0006155078299343586], [0.8905572891235352, 0.009439869783818722, 0.45477133989334106, 0.0012966598151251674], [0.6662371158599854, 0.0035416889004409313, -0.7456786036491394, -0.008893033489584923]], [[0.9564704895019531, -0.10695283859968185, 0.2696119248867035, 0.03216879442334175], [0.9628919959068298, 0.011675993911921978, 0.26963189244270325, -0.0012459324207156897], [0.8918567299842834, 0.011181754060089588, 0.4521797001361847, 0.00040766046731732786], [0.6668599247932434, 0.002702960278838873, -0.7451004981994629, -0.010762851685285568], [0.9628627300262451, 0.01368328370153904, 0.26963603496551514, -0.00213271239772439], [0.8918373584747314, 0.014344203285872936, 0.45212823152542114, 0.0007215901860035956], [0.6667885184288025, 0.004614059813320637, -0.7451074123382568, -0.013668624684214592], [0.9628756046295166, 0.015287479385733604, 0.26949894428253174, -0.002703256206586957], [0.8915445804595947, 0.01574394293129444, 0.45265936851501465, -0.00011356240429449826], [0.6665748953819275, 0.0036273456644266844, -0.7452725768089294, -0.015288466587662697], [0.9629437327384949, 0.010114731267094612, 0.2695121467113495, -0.0006853864178992808], [0.8916233777999878, 0.009813720360398293, 0.4526696503162384, 0.0012812704080715775], [0.6665319204330444, 0.0036571261007338762, -0.7454108595848083, -0.009193777106702328]], [[0.9557414650917053, -0.10978468507528305, 0.2709370255470276, 0.03314682096242905], [0.9624193906784058, 0.012042374350130558, 0.27129706740379333, -0.0013668290339410305], [0.8928514719009399, 0.011585022322833538, 0.45020225644111633, 0.0004075775505043566], [0.6671899557113647, 0.002802487462759018, -0.7448002696037292, -0.011060609482228756], [0.9623898863792419, 0.01396037358790636, 0.2713042199611664, -0.0022191423922777176], [0.8928288221359253, 0.01463718805462122, 0.45015785098075867, 0.0005644200136885047], [0.6671133041381836, 0.004636355675756931, -0.7448084950447083, -0.014092814177274704], [0.9624022245407104, 0.015501546673476696, 0.2711707651615143, -0.002829013392329216], [0.8924970030784607, 0.01606002263724804, 0.45076751708984375, -0.0002513606159482151], [0.6668881773948669, 0.0036279289051890373, -0.7449833750724792, -0.015710394829511642], [0.9624696969985962, 0.010540495626628399, 0.2711832821369171, -0.0007657239912077785], [0.8925736546516418, 0.010195191018283367, 0.45078474283218384, 0.0012650934513658285], [0.666839063167572, 0.003777582896873355, -0.7451316714286804, -0.009499110281467438]], [[0.9550567865371704, -0.11262418329715729, 0.2720659673213959, 0.03409622982144356], [0.961998462677002, 0.012379324063658714, 0.2727700471878052, -0.001512844697572291], [0.8937410116195679, 0.011993984691798687, 0.4484228491783142, 0.0004036339232698083], [0.6675375699996948, 0.002939027501270175, -0.744483470916748, -0.011374718509614468], [0.961968183517456, 0.014267888851463795, 0.27277886867523193, -0.0022980186622589827], [0.893715500831604, 0.01492442935705185, 0.44838568568229675, 0.00042183519690297544], [0.667456865310669, 0.004636856727302074, -0.7444930076599121, -0.01449666265398264], [0.9619772434234619, 0.015731511637568474, 0.27266010642051697, -0.0029604476876556873], [0.893345832824707, 0.016368495300412178, 0.4490715265274048, -0.00038151349872350693], [0.6672202348709106, 0.003642311319708824, -0.7446772456169128, -0.016118133440613747], [0.9620445370674133, 0.010950589552521706, 0.27267158031463623, -0.0008576598484069109], [0.8934201598167419, 0.010584970936179161, 0.44909554719924927, 0.0012482382589951158], [0.6671653985977173, 0.0039025177247822285, -0.744834840297699, -0.009811712428927422]], [[0.9544134140014648, -0.11547017097473145, 0.2730119228363037, 0.03501873090863228], [0.9616296291351318, 0.012692016549408436, 0.274052232503891, -0.001674298313446343], [0.8945354223251343, 0.012403679080307484, 0.4468247890472412, 0.00039259990444406867], [0.6679072976112366, 0.0031084823422133923, -0.744145929813385, -0.011706828139722347], [0.9615983963012695, 0.014601307921111584, 0.2740616500377655, -0.0023768192622810602], [0.8945072889328003, 0.015211645513772964, 0.44679468870162964, 0.00029545678989961743], [0.6678235530853271, 0.004616415128111839, -0.7441566586494446, -0.01487678848206997], [0.9616015553474426, 0.015984755009412766, 0.27396589517593384, -0.0030946603510528803], [0.8941028118133545, 0.016671473160386086, 0.44755131006240845, -0.0005048972088843584], [0.6675773859024048, 0.003667248412966728, -0.7443484663963318, -0.016506148502230644], [0.9616691470146179, 0.011338857002556324, 0.2739761769771576, -0.0009621955687180161], [0.8941746354103088, 0.010981977917253971, 0.44758185744285583, 0.001229790854267776], [0.6675171256065369, 0.004031843971461058, -0.7445146441459656, -0.010134605690836906]], [[0.9538081288337708, -0.11832143366336823, 0.2737886607646942, 0.035916294902563095], [0.9613130688667297, 0.01298725139349699, 0.27514582872390747, -0.001841713790781796], [0.8952441811561584, 0.012810026295483112, 0.44539156556129456, 0.00037283849087543786], [0.6683035492897034, 0.003304721089079976, -0.743783712387085, -0.012056837789714336], [0.9612804651260376, 0.014954298734664917, 0.2751549184322357, -0.002462490927428007], [0.8952133059501648, 0.015503664501011372, 0.4453679919242859, 0.00018482386076357216], [0.6682178378105164, 0.004577976185828447, -0.7437957525253296, -0.015231756493449211], [0.961276113986969, 0.016265928745269775, 0.2750876843929291, -0.00322920479811728], [0.8947783708572388, 0.016971440985798836, 0.44618770480155945, -0.0006213033921085298], [0.6679653525352478, 0.0036994905676692724, -0.7439919710159302, -0.016870809718966484], [0.9613447189331055, 0.011701812036335468, 0.2750968337059021, -0.001079675741493702], [0.8948478698730469, 0.011383729055523872, 0.4462246298789978, 0.0012083735782653093], [0.6678998470306396, 0.004165039397776127, -0.7441659569740295, -0.010470555163919926]], [[0.9532376527786255, -0.12117675691843033, 0.2744099795818329, 0.0367911159992218], [0.9610483050346375, 0.01327221654355526, 0.27605435252189636, -0.002006904687732458], [0.8958761692047119, 0.01321015041321516, 0.4441072940826416, 0.00034436036366969347], [0.6687302589416504, 0.003520150203257799, -0.743393063545227, -0.01242312602698803], [0.9610141515731812, 0.015320004895329475, 0.2760624885559082, -0.0025604760739952326], [0.8958429098129272, 0.01580394245684147, 0.4440898895263672, 8.740514749661088e-05], [0.6686434745788574, 0.004526205360889435, -0.7434065341949463, -0.015562009066343307], [0.9610012173652649, 0.016576427966356277, 0.2760263979434967, -0.003362489165738225], [0.8953821063041687, 0.01727106049656868, 0.4449632167816162, -0.0007299473509192467], [0.6683889627456665, 0.003736508311703801, -0.743603527545929, -0.017210572957992554], [0.9610716104507446, 0.01203906536102295, 0.27603456377983093, -0.001209451351314783], [0.895449161529541, 0.01178686786442995, 0.4450061321258545, 0.0011823101667687297], [0.6683182716369629, 0.004300843458622694, -0.7437843680381775, -0.010821470990777016]], [[0.9526984691619873, -0.12403504550457001, 0.27488890290260315, 0.03764524683356285], [0.9608343243598938, 0.013553790748119354, 0.276783287525177, -0.0021636951714754105], [0.8964396715164185, 0.013602306134998798, 0.44295698404312134, 0.000308488990413025], [0.6691909432411194, 0.0037464716006070375, -0.7429707646369934, -0.01280295941978693], [0.9607986211776733, 0.015691984444856644, 0.2767900228500366, -0.0026741246692836285], [0.8964038491249084, 0.016114313155412674, 0.4429451525211334, -1.055919938153238e-06], [0.6691039800643921, 0.004466981627047062, -0.7429860234260559, -0.01586964540183544], [0.960776686668396, 0.01691443845629692, 0.2767850160598755, -0.003493884112685919], [0.8959223628044128, 0.01757298782467842, 0.4438621997833252, -0.0008298791362904012], [0.668851912021637, 0.003776820143684745, -0.7431795597076416, -0.017525844275951385], [0.9608494639396667, 0.012353203259408474, 0.2767924666404724, -0.0013498939806595445], [0.8959873914718628, 0.01218775101006031, 0.4439108967781067, 0.0011499392567202449], [0.6687762141227722, 0.004437125753611326, -0.7433664202690125, -0.011188057251274586]], [[0.952187716960907, -0.12689539790153503, 0.275237113237381, 0.03848085179924965], [0.9606693983078003, 0.013837975449860096, 0.27734023332595825, -0.0023088084999471903], [0.8969420790672302, 0.013985449448227882, 0.44192686676979065, 0.0002678526798263192], [0.6696887016296387, 0.00397548358887434, -0.7425141930580139, -0.013193202205002308], [0.9606319069862366, 0.016064858064055443, 0.2773452401161194, -0.002804606454446912], [0.896903932094574, 0.01643497310578823, 0.4419201612472534, -8.599411376053467e-05], [0.6696019172668457, 0.004406921099871397, -0.7425313591957092, -0.016158124431967735], [0.9606013298034668, 0.017275262624025345, 0.2773689031600952, -0.0036238012835383415], [0.8964065909385681, 0.01787964627146721, 0.4428711533546448, -0.0009202527580782771], [0.6693570017814636, 0.0038200642447918653, -0.742717444896698, -0.01781878061592579], [0.9606770873069763, 0.012649213895201683, 0.2773759067058563, -0.001498485915362835], [0.8964695930480957, 0.012583142146468163, 0.4429253041744232, 0.001109882490709424], [0.6692763566970825, 0.004570850171148777, -0.7429094910621643, -0.011569583788514137]], [[0.9517026543617249, -0.1297571361064911, 0.2754642367362976, 0.03929981589317322], [0.9605509042739868, 0.014128917828202248, 0.2777346074581146, -0.0024413601495325565], [0.8973901271820068, 0.014359423890709877, 0.4410044550895691, 0.00022671067563351244], [0.6702257990837097, 0.004198769573122263, -0.7420209050178528, -0.013591084629297256], [0.9605118036270142, 0.016434554010629654, 0.27773788571357727, -0.002951235743239522], [0.8973494172096252, 0.016764366999268532, 0.44100233912467957, -0.00017324394138995558], [0.6701396703720093, 0.004353025928139687, -0.7420404553413391, -0.016432318836450577], [0.9604734182357788, 0.017652150243520737, 0.2777859568595886, -0.0037532367277890444], [0.8968405723571777, 0.018192874267697334, 0.4419785439968109, -0.0010006093652918935], [0.6699059009552002, 0.003866919782012701, -0.7422154545783997, -0.018093014135956764], [0.9605526328086853, 0.012933609075844288, 0.2777928113937378, -0.001652073347941041], [0.8969019055366516, 0.012970863841474056, 0.44203802943229675, 0.0010610916651785374], [0.6698205471038818, 0.004698255565017462, -0.7424118518829346, -0.011963785625994205]], [[0.9512415528297424, -0.13261982798576355, 0.2755780816078186, 0.040103729814291], [0.960475742816925, 0.014429249800741673, 0.2779776155948639, -0.0025619789958000183], [0.897789478302002, 0.014726848341524601, 0.4401785731315613, 0.00018942703900393099], [0.6708044409751892, 0.0044073425233364105, -0.7414892911911011, -0.01399129070341587], [0.9604352712631226, 0.016798164695501328, 0.2779792249202728, -0.0031119934283196926], [0.8977463841438293, 0.01709914021193981, 0.44018080830574036, -0.00026750017423182726], [0.670718789100647, 0.0043116905726492405, -0.7415112257003784, -0.016698867082595825], [0.9603905081748962, 0.018037348985671997, 0.27804630994796753, -0.003883401397615671], [0.8972295522689819, 0.018513621762394905, 0.44117510318756104, -0.0010709869675338268], [0.6704995632171631, 0.003918904811143875, -0.7416725754737854, -0.018353350460529327], [0.9604731798171997, 0.013213593512773514, 0.2780531644821167, -0.0018072118982672691], [0.8972894549369812, 0.013350013643503189, 0.44123968482017517, 0.0010026514064520597], [0.6704096794128418, 0.004815337248146534, -0.7418724894523621, -0.012367017567157745]], [[0.9508023262023926, -0.13548323512077332, 0.27558454871177673, 0.04089383780956268], [0.9604406952857971, 0.014740657061338425, 0.27808162569999695, -0.0026722936891019344], [0.8981453776359558, 0.015090457163751125, 0.4394395053386688, 0.00015724857803434134], [0.6714258790016174, 0.004596037324517965, -0.7409178614616394, -0.014388680458068848], [0.9603987336158752, 0.017153577879071236, 0.27808159589767456, -0.00328403920866549], [0.8980998396873474, 0.01743544638156891, 0.4394457936286926, -0.00037040762254036963], [0.6713406443595886, 0.004286494106054306, -0.7409424185752869, -0.016964945942163467], [0.9603492021560669, 0.018423086032271385, 0.2781616449356079, -0.004015361424535513], [0.8975773453712463, 0.01884172484278679, 0.44045302271842957, -0.001131856464780867], [0.6711381077766418, 0.0039780596271157265, -0.7410882711410522, -0.01860545575618744], [0.9604355096817017, 0.013496281579136848, 0.2781686782836914, -0.001960751600563526], [0.8976362943649292, 0.013720742426812649, 0.44052255153656006, 0.000933677947614342], [0.671044111251831, 0.004918545018881559, -0.7412910461425781, -0.012774864211678505]], [[0.9503840804100037, -0.138347327709198, 0.2754882276058197, 0.04167116433382034], [0.9604417681694031, 0.01506408303976059, 0.27805936336517334, -0.002774678636342287], [0.8984622955322266, 0.015452065505087376, 0.43877866864204407, 0.00013014681462664157], [0.6720912456512451, 0.004762164317071438, -0.7403055429458618, -0.014779788441956043], [0.9603986740112305, 0.01749909110367298, 0.27805793285369873, -0.0034639497753232718], [0.8984144330024719, 0.017770860344171524, 0.4387887418270111, -0.00048117164988070726], [0.6720060706138611, 0.004277910105884075, -0.7403327226638794, -0.017235897481441498], [0.9603461623191833, 0.018802408128976822, 0.2781447768211365, -0.0041496711783111095], [0.8978873491287231, 0.019175948575139046, 0.43980592489242554, -0.001183789223432541], [0.671821117401123, 0.004046352580189705, -0.7404623627662659, -0.018855487927794456], [0.9604358673095703, 0.013787901028990746, 0.2781519889831543, -0.0021104104816913605], [0.8979455828666687, 0.014083825051784515, 0.4398803114891052, 0.0008535695960745215], [0.6717237234115601, 0.005005206447094679, -0.7406675815582275, -0.013183034025132656]], [[0.9499855041503906, -0.1412121206521988, 0.27529218792915344, 0.04243629053235054], [0.960475504398346, 0.015399874188005924, 0.2779235243797302, -0.002871781587600708], [0.8987440466880798, 0.01581292226910591, 0.43818843364715576, 0.00010715144890127704], [0.6728014349937439, 0.004904862027615309, -0.7396515607833862, -0.015162408351898193], [0.9604315161705017, 0.017833413556218147, 0.2779209613800049, -0.0036478876136243343], [0.8986940383911133, 0.01810433156788349, 0.43820202350616455, -0.0005981387221254408], [0.6727158427238464, 0.004284841939806938, -0.7396813035011292, -0.017515042796730995], [0.9603776335716248, 0.0191697608679533, 0.2780087888240814, -0.004286027979105711], [0.8981626629829407, 0.01951470412313938, 0.4392285943031311, -0.0012270486913621426], [0.6725482940673828, 0.004124683327972889, -0.7397950887680054, -0.019109006971120834], [0.96047043800354, 0.014093151316046715, 0.2780160903930664, -0.0022551235742866993], [0.8982203006744385, 0.014440439641475677, 0.43930763006210327, 0.0007624322315678], [0.6724479794502258, 0.005073495674878359, -0.7400022745132446, -0.0135879535228014]], [[0.94960618019104, -0.14407792687416077, 0.27499908208847046, 0.043189454823732376], [0.9605383276939392, 0.01574787124991417, 0.2776859402656555, -0.0029661848675459623], [0.8989941477775574, 0.016173848882317543, 0.4376620650291443, 8.650895324535668e-05], [0.6735568046569824, 0.005024801939725876, -0.7389550805091858, -0.015535395592451096], [0.9604936838150024, 0.018155815079808235, 0.2776826322078705, -0.003831911599263549], [0.8989420533180237, 0.018435455858707428, 0.43767887353897095, -0.0007193359779193997], [0.6734703779220581, 0.004305513575673103, -0.7389873266220093, -0.017804348841309547], [0.9604400992393494, 0.019521506503224373, 0.2777663469314575, -0.004423132166266441], [0.8984054327011108, 0.019856726750731468, 0.4387161433696747, -0.0012625550152733922], [0.6733188033103943, 0.004213355015963316, -0.7390866279602051, -0.019369719550013542], [0.96053546667099, 0.014414742588996887, 0.2777736783027649, -0.0023950673639774323], [0.8984628915786743, 0.014792143367230892, 0.4387998580932617, 0.0006612273282371461], [0.6732164025306702, 0.005122316535562277, -0.7392955422401428, -0.013986952602863312]], [[0.9492449760437012, -0.1469450145959854, 0.27461111545562744, 0.04393060877919197], [0.960627019405365, 0.01610747165977955, 0.2773573100566864, -0.0030601704493165016], [0.8992154598236084, 0.016535328701138496, 0.43719351291656494, 6.593057332793251e-05], [0.6743578910827637, 0.0051238578744232655, -0.7382158041000366, -0.015898559242486954], [0.9605820178985596, 0.018466144800186157, 0.2773536443710327, -0.004012404941022396], [0.8991616368293762, 0.018764061853289604, 0.43721336126327515, -0.0008425094420090318], [0.67426997423172, 0.0043378109112381935, -0.7382502555847168, -0.01810487173497677], [0.9605301022529602, 0.019856179133057594, 0.27742916345596313, -0.004558723419904709], [0.898618221282959, 0.02020038664340973, 0.438264399766922, -0.0012921784073114395], [0.6741321086883545, 0.00431288406252861, -0.7383370399475098, -0.019640324637293816], [0.9606273770332336, 0.014753288589417934, 0.27743640542030334, -0.0025315843522548676], [0.8986755013465881, 0.015140799805521965, 0.43835264444351196, 0.0005515938973985612], [0.6740284562110901, 0.005151319783180952, -0.7385475635528564, -0.014378280378878117]], [[0.9489014148712158, -0.14981377124786377, 0.27413034439086914, 0.044659439474344254], [0.9607388377189636, 0.016477616503834724, 0.2769467234611511, -0.003155635902658105], [0.8994109034538269, 0.016897622495889664, 0.4367775619029999, 4.292121229809709e-05], [0.6752046346664429, 0.005204728338867426, -0.7374330759048462, -0.01625250093638897], [0.960693895816803, 0.01876486837863922, 0.276943176984787, -0.004186319652944803], [0.8993555307388306, 0.01909003034234047, 0.43680018186569214, -0.0009651738218963146], [0.6751149296760559, 0.004379456862807274, -0.7374696135520935, -0.01841696910560131], [0.960644543170929, 0.02017422951757908, 0.27700749039649963, -0.004690090660005808], [0.8988030552864075, 0.020543674007058144, 0.43786922097206116, -0.00131781748495996], [0.6749879121780396, 0.004423460923135281, -0.7375465631484985, -0.0199227724224329], [0.960743248462677, 0.015107585117220879, 0.27701467275619507, -0.002666729735210538], [0.8988600969314575, 0.01548840757459402, 0.43796175718307495, 0.0004354322445578873], [0.6748836636543274, 0.005161021836102009, -0.7377585172653198, -0.014761094935238361]], [[0.9485748410224915, -0.15268459916114807, 0.27355867624282837, 0.04537535831332207], [0.960871696472168, 0.016856776550412178, 0.2764616012573242, -0.0032540715765208006], [0.8995826244354248, 0.017260858789086342, 0.43640944361686707, 1.509522189735435e-05], [0.6760970950126648, 0.005270575638860464, -0.736606776714325, -0.016598472371697426], [0.9608271718025208, 0.01905306801199913, 0.27645859122276306, -0.00435129227116704], [0.8995259404182434, 0.019413257017731667, 0.4364345669746399, -0.0010847272351384163], [0.6760052442550659, 0.004428133834153414, -0.7366452217102051, -0.018740369006991386], [0.9607808589935303, 0.02047770284116268, 0.2765098214149475, -0.0048145423643291], [0.8989620208740234, 0.02088460698723793, 0.43752652406692505, -0.001340900780633092], [0.675885796546936, 0.00454460084438324, -0.7367150783538818, -0.02021804079413414], [0.9608803987503052, 0.015474957413971424, 0.2765170633792877, -0.0028028099332004786], [0.8990188837051392, 0.01583688147366047, 0.4376233220100403, 0.00031455178395844996], [0.6757816672325134, 0.005152853671461344, -0.736928403377533, -0.0151354456320405]], [[0.9482643604278564, -0.15555784106254578, 0.2728981077671051, 0.046077530831098557], [0.9610238075256348, 0.01724293828010559, 0.27590736746788025, -0.00335660669952631], [0.8997328281402588, 0.017625130712985992, 0.436085045337677, -1.9550478100427426e-05], [0.6770349740982056, 0.005324701312929392, -0.7357366681098938, -0.01693819649517536], [0.9609798789024353, 0.019332414492964745, 0.2759052515029907, -0.004505642224103212], [0.8996750116348267, 0.01973371021449566, 0.4361124634742737, -0.0011986338067799807], [0.6769406795501709, 0.004481591284275055, -0.7357767820358276, -0.019074158743023872], [0.960936963558197, 0.020769745111465454, 0.27594277262687683, -0.0049297986552119255], [0.8990970849990845, 0.02122155949473381, 0.4372323155403137, -0.0013621945399791002], [0.6768254637718201, 0.0046750931069254875, -0.7358424663543701, -0.020526040345430374], [0.9610368013381958, 0.01585177145898342, 0.27595022320747375, -0.0029419681522995234], [0.8991538286209106, 0.01618780940771103, 0.43733328580856323, 0.0001904174278024584], [0.6767223477363586, 0.0051291221752762794, -0.7360573410987854, -0.015502218157052994]], [[0.9479692578315735, -0.1584339439868927, 0.2721509337425232, 0.04676496237516403], [0.9611939787864685, 0.017633631825447083, 0.2752877175807953, -0.0034640789963304996], [0.8998633027076721, 0.01799054630100727, 0.43580082058906555, -6.244715768843889e-05], [0.6780178546905518, 0.005370287224650383, -0.7348228096961975, -0.017273705452680588], [0.9611510634422302, 0.019605111330747604, 0.27528688311576843, -0.004648319911211729], [0.8998044729232788, 0.020051542669534683, 0.43583032488822937, -0.0013046471867710352], [0.6779209971427917, 0.004537786822766066, -0.7348644137382507, -0.019416777417063713], [0.9611114263534546, 0.021054066717624664, 0.27531108260154724, -0.005034314934164286], [0.899210512638092, 0.02155349776148796, 0.4369828402996063, -0.0013817689614370465], [0.6778069138526917, 0.004813116509467363, -0.7349287271499634, -0.020845657214522362], [0.9612109661102295, 0.01623396947979927, 0.2753189206123352, -0.003085857257246971], [0.89926677942276, 0.01654229685664177, 0.4370878040790558, 6.401720747817308e-05], [0.6777052283287048, 0.00509286392480135, -0.7351449131965637, -0.015862995758652687]], [[0.9476885199546814, -0.1613132804632187, 0.27131977677345276, 0.04743654280900955], [0.9613816142082214, 0.018026046454906464, 0.27460476756095886, -0.0035770980175584555], [0.899975597858429, 0.018357237800955772, 0.43555375933647156, -0.00011434984480729327], [0.6790452003479004, 0.005410199053585529, -0.7338653802871704, -0.017607195302844048], [0.9613397717475891, 0.019873719662427902, 0.274605393409729, -0.004778885282576084], [0.8999160528182983, 0.020367175340652466, 0.4355852007865906, -0.0014009919250383973], [0.6789455413818359, 0.0045950571075081825, -0.7339082360267639, -0.019766025245189667], [0.961303174495697, 0.021334439516067505, 0.2746175229549408, -0.005127463955432177], [0.8993040323257446, 0.02188006602227688, 0.43677422404289246, -0.0013990957522764802], [0.6788299679756165, 0.0049564428627491, -0.733973503112793, -0.021174883469939232], [0.9614020586013794, 0.016617538407444954, 0.2746260464191437, -0.003235433716326952], [0.8993595242500305, 0.01690090447664261, 0.4368831217288971, -6.413268420146778e-05], [0.678730309009552, 0.0050476351752877235, -0.7341912388801575, -0.016219891607761383]], [[0.9474210143089294, -0.16419625282287598, 0.2704075872898102, 0.04809108003973961], [0.9615863561630249, 0.01841718703508377, 0.27385926246643066, -0.0036960747092962265], [0.9000707268714905, 0.018725302070379257, 0.4353412091732025, -0.00017529769684188068], [0.6801161170005798, 0.005446857772767544, -0.7328646183013916, -0.017940934747457504], [0.9615457653999329, 0.020141055807471275, 0.2738614082336426, -0.004897532518953085], [0.9000107049942017, 0.02068122662603855, 0.4353744089603424, -0.0014865060802549124], [0.6800136566162109, 0.004652338568121195, -0.7329086661338806, -0.020119212567806244], [0.9615116119384766, 0.021614274010062218, 0.27386343479156494, -0.005209655966609716], [0.899379312992096, 0.02220160886645317, 0.43660271167755127, -0.00141318014357239], [0.6798945069313049, 0.0051026903092861176, -0.7329766750335693, -0.021511055529117584], [0.9616096615791321, 0.016998859122395515, 0.273872971534729, -0.0033909121993929148], [0.899433970451355, 0.017263686284422874, 0.4367157220840454, -0.00019385138875804842], [0.6797971129417419, 0.0049972268752753735, -0.7331959009170532, -0.01657530851662159]], [[0.9471656680107117, -0.1670832633972168, 0.2694177031517029, 0.048727378249168396], [0.9618082046508789, 0.01880410499870777, 0.2730509638786316, -0.003821243066340685], [0.9001500606536865, 0.01909463480114937, 0.4351610541343689, -0.0002447029110044241], [0.6812296509742737, 0.005482295993715525, -0.7318211197853088, -0.018277334049344063], [0.9617689251899719, 0.020410045981407166, 0.2730545997619629, -0.00500503508374095], [0.9000896215438843, 0.020994393154978752, 0.4351958930492401, -0.0015607584500685334], [0.6811243891716003, 0.004709329921752214, -0.7318663001060486, -0.02047339826822281], [0.9617364406585693, 0.021896470338106155, 0.2730487883090973, -0.005282205529510975], [0.8994383215904236, 0.022518999874591827, 0.43646499514579773, -0.0014228641521185637], [0.6810003519058228, 0.005249566398561001, -0.7319381833076477, -0.021851086989045143], [0.9618335962295532, 0.017374951392412186, 0.27305978536605835, -0.0035518917720764875], [0.8994916677474976, 0.017630212008953094, 0.43658214807510376, -0.00032504016417078674], [0.6809054017066956, 0.004945399239659309, -0.7321589589118958, -0.016931798309087753]], [[0.9469214081764221, -0.1699746698141098, 0.26835381984710693, 0.049344271421432495], [0.9620472192764282, 0.01918412558734417, 0.2721790075302124, -0.003952635917812586], [0.9002144932746887, 0.019464856013655663, 0.43501147627830505, -0.0003219101345166564], [0.6823846101760864, 0.005518596153706312, -0.7307354211807251, -0.018618764355778694], [0.9620094895362854, 0.020683472976088524, 0.27218398451805115, -0.00510268472135067], [0.9001538157463074, 0.02130737714469433, 0.43504786491394043, -0.0016240490367636085], [0.682276725769043, 0.004766572266817093, -0.7307819128036499, -0.020825641229748726], [0.9619777798652649, 0.02218317613005638, 0.27217283844947815, -0.005347106140106916], [0.8994824290275574, 0.022833677008748055, 0.4363577961921692, -0.0014271140098571777], [0.6821472644805908, 0.005395026411861181, -0.7308580875396729, -0.022191563621163368], [0.9620740413665771, 0.01774367317557335, 0.27218562364578247, -0.0037175421603024006], [0.8995342254638672, 0.01799941249191761, 0.4364793300628662, -0.0004577081126626581], [0.6820546984672546, 0.004896041005849838, -0.7310804128646851, -0.01729213446378708]], [[0.9466866254806519, -0.17287074029445648, 0.2672196328639984, 0.049940623342990875], [0.9623037576675415, 0.019555075094103813, 0.27124229073524475, -0.004090119153261185], [0.9002646803855896, 0.019835885614156723, 0.4348907172679901, -0.0004061977961100638], [0.6835798025131226, 0.0055574518628418446, -0.7296081781387329, -0.018966667354106903], [0.9622671604156494, 0.020963694900274277, 0.2712481617927551, -0.00519225001335144], [0.9002038240432739, 0.02162068523466587, 0.43492862582206726, -0.001677105319686234], [0.6834694147109985, 0.0048253233544528484, -0.7296561598777771, -0.02117348462343216], [0.9622357487678528, 0.022475771605968475, 0.27123427391052246, -0.005406830459833145], [0.8995130658149719, 0.023147428408265114, 0.43627816438674927, -0.0014258817536756396], [0.6833348274230957, 0.005538127850741148, -0.7297365665435791, -0.02252889797091484], [0.9623311161994934, 0.018103789538145065, 0.2712491452693939, -0.0038867781404405832], [0.8995629549026489, 0.018370693549513817, 0.43640437722206116, -0.0005921183619648218], [0.6832443475723267, 0.004852645564824343, -0.7299601435661316, -0.017657672986388206]], [[0.9464598894119263, -0.17577169835567474, 0.26601913571357727, 0.05051538348197937], [0.9625778198242188, 0.01991552859544754, 0.27023962140083313, -0.004233420826494694], [0.900301456451416, 0.020207691937685013, 0.43479734659194946, -0.0004963535466231406], [0.6848139762878418, 0.005599757190793753, -0.7284402251243591, -0.019321808591485023], [0.9625422954559326, 0.021252406761050224, 0.27024605870246887, -0.005275915376842022], [0.9002405405044556, 0.021934853866696358, 0.43483680486679077, -0.0017209728248417377], [0.6847012042999268, 0.004887366201728582, -0.728489875793457, -0.02151484601199627], [0.9625104069709778, 0.022774938493967056, 0.2702316641807556, -0.005464174319058657], [0.899531364440918, 0.023461269214749336, 0.43622344732284546, -0.0014193697134032845], [0.6845623254776001, 0.005678851157426834, -0.728573739528656, -0.022860899567604065], [0.9626051187515259, 0.01845504157245159, 0.2702488899230957, -0.004058447200804949], [0.8995792269706726, 0.018743226304650307, 0.4363546669483185, -0.0007275583338923752], [0.6844737529754639, 0.004817490000277758, -0.7287985682487488, -0.018029477447271347]], [[0.9462401866912842, -0.17867779731750488, 0.26475638151168823, 0.05106763914227486], [0.9628694653511047, 0.020264962688088417, 0.26917028427124023, -0.0043820952996611595], [0.90032559633255, 0.02058004029095173, 0.4347298741340637, -0.0005909191095270216], [0.6860858798027039, 0.005645887926220894, -0.7272323369979858, -0.019684523344039917], [0.9628347754478455, 0.021550476551055908, 0.2691768407821655, -0.005356173496693373], [0.9002645015716553, 0.022250313311815262, 0.4347708225250244, -0.0017567564500495791], [0.6859710216522217, 0.004954816307872534, -0.7272839546203613, -0.021848291158676147], [0.9628019332885742, 0.023080673068761826, 0.2691638767719269, -0.0055219801142811775], [0.8995386958122253, 0.02377631515264511, 0.4361913800239563, -0.0014079256216064095], [0.6858290433883667, 0.0058173444122076035, -0.727370023727417, -0.02318567782640457], [0.9628962278366089, 0.018797950819134712, 0.26918360590934753, -0.004231336992233992], [0.8995843529701233, 0.019116058945655823, 0.4363279342651367, -0.0008631133241578937], [0.6857421398162842, 0.004792332649230957, -0.7275959849357605, -0.018408210948109627]], [[0.9460260272026062, -0.18158909678459167, 0.26343533396720886, 0.051596589386463165], [0.9631784558296204, 0.020603783428668976, 0.26803404092788696, -0.004535512067377567], [0.9003377556800842, 0.020952504128217697, 0.4346866309642792, -0.000688424683175981], [0.687394380569458, 0.005695885047316551, -0.7259851694107056, -0.020054716616868973], [0.9631443619728088, 0.021857893094420433, 0.26804032921791077, -0.005435672588646412], [0.9002767205238342, 0.022567419335246086, 0.4347292184829712, -0.0017854577163234353], [0.6872774958610535, 0.005029871128499508, -0.7260390520095825, -0.022173043340444565], [0.9631103277206421, 0.02339245192706585, 0.26803022623062134, -0.0055828941985964775], [0.8995359539985657, 0.024093514308333397, 0.4361797869205475, -0.0013924471568316221], [0.6871341466903687, 0.005954330321401358, -0.726125955581665, -0.02350182645022869], [0.9632042646408081, 0.01913355104625225, 0.26805248856544495, -0.00440431572496891], [0.8995790481567383, 0.01948840543627739, 0.43632182478904724, -0.000997694325633347], [0.6870485544204712, 0.004778378643095493, -0.7263528108596802, -0.018793953582644463]], [[0.9458160996437073, -0.1845056414604187, 0.2620595693588257, 0.05210147798061371], [0.9635043740272522, 0.020933236926794052, 0.26683148741722107, -0.004692888353019953], [0.9003388285636902, 0.02132457122206688, 0.4346660375595093, -0.0007875255541875958], [0.688738226890564, 0.005749566946178675, -0.7246993184089661, -0.020431838929653168], [0.9634707570075989, 0.022173820063471794, 0.2668372094631195, -0.005517012905329466], [0.9002776741981506, 0.022886456921696663, 0.434710294008255, -0.0018078939756378531], [0.6886195540428162, 0.005114606581628323, -0.7247560024261475, -0.022488970309495926], [0.9634352326393127, 0.023709380999207497, 0.266830712556839, -0.005649232771247625], [0.899523913860321, 0.024413451552391052, 0.43618670105934143, -0.0013743096496909857], [0.6884766817092896, 0.006091061979532242, -0.7248420715332031, -0.023808615282177925], [0.9635292291641235, 0.019463177770376205, 0.26685550808906555, -0.004576513078063726], [0.8995646834373474, 0.01985979452729225, 0.43633460998535156, -0.001130035612732172], [0.688391923904419, 0.004776328336447477, -0.7250694036483765, -0.01918620802462101]], [[0.9456092119216919, -0.18742740154266357, 0.2606326639652252, 0.05258174240589142], [0.9638466835021973, 0.021255215629935265, 0.2655639350414276, -0.004853390622884035], [0.9003297686576843, 0.021695740520954132, 0.43466639518737793, -0.00088705332018435], [0.6901165246963501, 0.005806613713502884, -0.723375678062439, -0.020814917981624603], [0.9638131856918335, 0.022496744990348816, 0.2655687630176544, -0.005602560937404633], [0.9002684354782104, 0.0232076533138752, 0.43471240997314453, -0.001824685838073492], [0.689996063709259, 0.005210813134908676, -0.7234352827072144, -0.022796479985117912], [0.9637761116027832, 0.024030299857258797, 0.2655661404132843, -0.005722919479012489], [0.8995035886764526, 0.024736281484365463, 0.4362105429172516, -0.00135516794398427], [0.6898554563522339, 0.0062291561625897884, -0.7235189080238342, -0.024106057360768318], [0.9638703465461731, 0.019788291305303574, 0.2655933201313019, -0.00474743265658617], [0.8995417952537537, 0.020230043679475784, 0.4363643527030945, -0.0012587463716045022], [0.6897714138031006, 0.004786488134413958, -0.7237464785575867, -0.019583983346819878]], [[0.9454044699668884, -0.1903543323278427, 0.25915783643722534, 0.053036998957395554], [0.9642044901847839, 0.021572038531303406, 0.26423346996307373, -0.005016207229346037], [0.9003112316131592, 0.022065605968236923, 0.4346858263015747, -0.0009860467398539186], [0.6915281414985657, 0.005866632331162691, -0.7220144867897034, -0.02120259776711464], [0.9641709327697754, 0.022824665531516075, 0.26423710584640503, -0.0056942785158753395], [0.9002496600151062, 0.023531150072813034, 0.43473368883132935, -0.0018362869741395116], [0.6914061307907104, 0.005319878458976746, -0.7220775485038757, -0.023096419870853424], [0.9641324877738953, 0.02435387298464775, 0.2642382085323334, -0.005805425811558962], [0.8994755744934082, 0.02506171353161335, 0.436249703168869, -0.0013367068022489548], [0.6912693977355957, 0.006370345130562782, -0.7221571207046509, -0.024394921958446503], [0.9642271995544434, 0.020110446959733963, 0.26426762342453003, -0.004916962701827288], [0.8995113372802734, 0.020599229261279106, 0.4364096224308014, -0.0013824481284245849], [0.6911858320236206, 0.004808914382010698, -0.7223846912384033, -0.019985875114798546]], [[0.9452008605003357, -0.19328629970550537, 0.2576378285884857, 0.053466953337192535], [0.9645766615867615, 0.021886199712753296, 0.26284271478652954, -0.005180664826184511], [0.9002843499183655, 0.022433938458561897, 0.43472257256507874, -0.0010837247828021646], [0.6929723620414734, 0.005929239094257355, -0.7206164002418518, -0.0215932484716177], [0.964542806148529, 0.023155316710472107, 0.2628450095653534, -0.005793562158942223], [0.9002224802970886, 0.023857014253735542, 0.4347723722457886, -0.0018430532654747367], [0.6928486227989197, 0.005442722234874964, -0.7206830978393555, -0.023389939218759537], [0.9645032286643982, 0.02467864379286766, 0.26284921169281006, -0.005897735245525837], [0.899440586566925, 0.02538912557065487, 0.4363030195236206, -0.0013203845592215657], [0.6927173733711243, 0.006516180466860533, -0.7207574248313904, -0.02467661164700985], [0.9645987153053284, 0.020431213080883026, 0.26288068294525146, -0.005085296463221312], [0.8994737267494202, 0.020967619493603706, 0.4364689588546753, -0.0014999241102486849], [0.6926339864730835, 0.004843540955334902, -0.720984697341919, -0.02039017342031002]], [[0.9449974298477173, -0.19622308015823364, 0.25607478618621826, 0.053871408104896545], [0.9649617671966553, 0.022200126200914383, 0.2613949179649353, -0.005346257705241442], [0.9002498984336853, 0.022800706326961517, 0.434774786233902, -0.0011795134050771594], [0.6944482922554016, 0.005994103848934174, -0.7191817760467529, -0.021985067054629326], [0.9649277925491333, 0.023486420512199402, 0.2613959312438965, -0.0059011573903262615], [0.900187611579895, 0.02418520487844944, 0.4348265528678894, -0.001845312537625432], [0.6943228244781494, 0.005579762626439333, -0.7192524671554565, -0.023678379133343697], [0.9648874402046204, 0.025003137066960335, 0.26140230894088745, -0.0060003395192325115], [0.8993991017341614, 0.025717714801430702, 0.4363693296909332, -0.001307243830524385], [0.6941980719566345, 0.006667757872492075, -0.71932053565979, -0.02495293878018856], [0.9649835824966431, 0.020752107724547386, 0.26143550872802734, -0.005252834875136614], [0.8994298577308655, 0.0213356614112854, 0.4365413188934326, -0.0016102239023894072], [0.6941148638725281, 0.004890261683613062, -0.7195473313331604, -0.02079494297504425]], [[0.944793701171875, -0.1991645246744156, 0.2544706463813782, 0.054250288754701614], [0.9653589129447937, 0.022515907883644104, 0.25989386439323425, -0.005512808915227652], [0.9002085328102112, 0.023166079074144363, 0.43484070897102356, -0.001272873254492879], [0.6959550976753235, 0.006061012856662273, -0.7177110314369202, -0.02237631380558014], [0.9653247594833374, 0.023815911263227463, 0.25989359617233276, -0.006017142441123724], [0.9001458287239075, 0.02451557293534279, 0.4348944425582886, -0.0018434212543070316], [0.6958277821540833, 0.005730918608605862, -0.7177859544754028, -0.023963121697306633], [0.9652837514877319, 0.025325918570160866, 0.2599010169506073, -0.0061132460832595825], [0.8993515372276306, 0.026046689599752426, 0.43644773960113525, -0.001297852024435997], [0.6957102417945862, 0.006825541611760855, -0.7178471088409424, -0.025225859135389328], [0.9653807282447815, 0.021074537187814713, 0.25993576645851135, -0.005420085042715073], [0.8993799686431885, 0.021703943610191345, 0.4366256296634674, -0.0017126804450526834], [0.6956270933151245, 0.00494892755523324, -0.7180731892585754, -0.021198110654950142]], [[0.9445890784263611, -0.2021103799343109, 0.2528267204761505, 0.05460357666015625], [0.9657665491104126, 0.02283521369099617, 0.25834327936172485, -0.005680397152900696], [0.9001612663269043, 0.02353028766810894, 0.4349188208580017, -0.0013636816293001175], [0.6974919438362122, 0.00613026600331068, -0.7162047028541565, -0.02276543900370598], [0.9657323956489563, 0.024142101407051086, 0.25834184885025024, -0.006140993908047676], [0.9000980257987976, 0.02484786882996559, 0.4349744915962219, -0.001837794785387814], [0.6973627209663391, 0.005895645823329687, -0.7162839770317078, -0.024245496839284897], [0.965691089630127, 0.02564566768705845, 0.25834921002388, -0.006236007437109947], [0.8992984294891357, 0.026375414803624153, 0.43653756380081177, -0.0012923701433464885], [0.697252631187439, 0.0069893295876681805, -0.7163378596305847, -0.025497209280729294], [0.9657888412475586, 0.021399755030870438, 0.25838524103164673, -0.005587575491517782], [0.8993244171142578, 0.02207312174141407, 0.4367210566997528, -0.0018068458884954453], [0.6971696019172668, 0.005019321106374264, -0.7165632843971252, -0.021597636863589287]], [[0.9443838000297546, -0.20505714416503906, 0.2511443495750427, 0.05493057519197464], [0.9661834836006165, 0.02315874770283699, 0.25674697756767273, -0.005849240347743034], [0.9001086354255676, 0.023893948644399643, 0.4350077211856842, -0.0014518344542011619], [0.6990580558776855, 0.006202101241797209, -0.7146631479263306, -0.023150745779275894], [0.9661493301391602, 0.02446231245994568, 0.2567444443702698, -0.006271305959671736], [0.9000447988510132, 0.02518167532980442, 0.43506529927253723, -0.0018289092695340514], [0.6989268064498901, 0.006072974298149347, -0.7147467732429504, -0.024526681751012802], [0.9661080241203308, 0.02595868892967701, 0.2567507028579712, -0.0063670938834548], [0.8992400169372559, 0.02670333720743656, 0.43663811683654785, -0.0012906818883493543], [0.6988239884376526, 0.007158343214541674, -0.7147935628890991, -0.025768520310521126], [0.966206431388855, 0.021728793159127235, 0.25678780674934387, -0.0057557933032512665], [0.8992635607719421, 0.022443806752562523, 0.4368269741535187, -0.0018924293108284473], [0.6987411975860596, 0.005101162474602461, -0.7150182723999023, -0.021991726011037827]], [[0.9441789388656616, -0.20799799263477325, 0.2494248002767563, 0.055229801684617996], [0.966608464717865, 0.023484664037823677, 0.255108505487442, -0.006019204389303923], [0.9000511169433594, 0.024257494136691093, 0.43510618805885315, -0.0015371940098702908], [0.700652539730072, 0.006276897620409727, -0.7130869030952454, -0.023530973121523857], [0.9665747880935669, 0.024773703888058662, 0.25510507822036743, -0.00640612980350852], [0.899986982345581, 0.025516308844089508, 0.4351658225059509, -0.001817301381379366], [0.7005192041397095, 0.0062615759670734406, -0.7131748199462891, -0.024807631969451904], [0.9665336608886719, 0.026262203231453896, 0.25510936975479126, -0.006504836492240429], [0.8991764187812805, 0.027029864490032196, 0.43674883246421814, -0.0012925516348332167], [0.7004231810569763, 0.007331370376050472, -0.7132149934768677, -0.02604089304804802], [0.9666324257850647, 0.022060643881559372, 0.2551472783088684, -0.005924633704125881], [0.8991977572441101, 0.022816354408860207, 0.4369429051876068, -0.001969284377992153], [0.7003406882286072, 0.005194181110709906, -0.7134390473365784, -0.02237902767956257]], [[0.9439755082130432, -0.21092668175697327, 0.2476690411567688, 0.055500030517578125], [0.9670405983924866, 0.0238113384693861, 0.253431111574173, -0.006190415471792221], [0.8999892473220825, 0.024621041491627693, 0.4352133274078369, -0.0016196882352232933], [0.7022745013237, 0.00635523023083806, -0.7114764451980591, -0.02390529215335846], [0.9670073986053467, 0.025074664503335953, 0.25342684984207153, -0.006543545518070459], [0.8999245762825012, 0.025850797072052956, 0.43527495861053467, -0.0018035288667306304], [0.7021389603614807, 0.006459828000515699, -0.7115685939788818, -0.025089003145694733], [0.9669667482376099, 0.02655450999736786, 0.25342857837677, -0.0066475714556872845], [0.8991079926490784, 0.027354341000318527, 0.43686938285827637, -0.0012978215236216784], [0.7020489573478699, 0.007506991270929575, -0.7116027474403381, -0.026314908638596535], [0.9670655727386475, 0.022393900901079178, 0.2534671723842621, -0.0060938275419175625], [0.8991269469261169, 0.023190686479210854, 0.43706828355789185, -0.002037418307736516], [0.7019668817520142, 0.005298177246004343, -0.7118262052536011, -0.022758696228265762]], [[0.9437745809555054, -0.21383795142173767, 0.2458779364824295, 0.05574044957756996], [0.9674787521362305, 0.024137334898114204, 0.2517175078392029, -0.006363139022141695], [0.8999233841896057, 0.024984391406178474, 0.4353283941745758, -0.0016992955934256315], [0.7039229273796082, 0.0064378054812550545, -0.7098323702812195, -0.024273253977298737], [0.9674465656280518, 0.025364696979522705, 0.2517125606536865, -0.006681834813207388], [0.8998582363128662, 0.02618398703634739, 0.4353921413421631, -0.0017881406238302588], [0.7037850618362427, 0.006665881257504225, -0.709928572177887, -0.02537110261619091], [0.9674064517021179, 0.026834923774003983, 0.2517113983631134, -0.0067937434650957584], [0.8990349769592285, 0.02767585590481758, 0.43699944019317627, -0.001306585967540741], [0.7037004232406616, 0.007683948148041964, -0.7099575400352478, -0.026590894907712936], [0.9675050377845764, 0.022727493196725845, 0.25175055861473083, -0.006263125222176313], [0.8990516662597656, 0.02356633171439171, 0.43720296025276184, -0.0020969901233911514], [0.7036187052726746, 0.005413029808551073, -0.7101805806159973, -0.023130377754569054]], [[0.9435769319534302, -0.21672731637954712, 0.24405226111412048, 0.055950555950403214], [0.9679225087165833, 0.024461420252919197, 0.2499699890613556, -0.006537649780511856], [0.8998538255691528, 0.025347083806991577, 0.43545088171958923, -0.0017760198097676039], [0.7055967450141907, 0.006525376345962286, -0.7081552147865295, -0.024634728208184242], [0.9678913354873657, 0.025644199922680855, 0.24996434152126312, -0.006819599773734808], [0.8997882604598999, 0.02651461958885193, 0.435516893863678, -0.0017716475995257497], [0.7054566740989685, 0.006877731066197157, -0.7082552909851074, -0.02565387450158596], [0.9678517580032349, 0.02710357867181301, 0.249960258603096, -0.006941986735910177], [0.8989574313163757, 0.02799319475889206, 0.4371386170387268, -0.0013186377473175526], [0.705376386642456, 0.007860763929784298, -0.7082799077033997, -0.02686917595565319], [0.9679499268531799, 0.023060569539666176, 0.24999991059303284, -0.006432258524000645], [0.8989717960357666, 0.0239424966275692, 0.4373464286327362, -0.0021482922602444887], [0.7052951455116272, 0.005538647994399071, -0.7085028290748596, -0.023494096472859383]], [[0.9433832764625549, -0.2195909321308136, 0.242192804813385, 0.056130118668079376], [0.9683709740638733, 0.024782510474324226, 0.24819009006023407, -0.006714103743433952], [0.8997807502746582, 0.025708472356200218, 0.4355805218219757, -0.001849863794632256], [0.7072950005531311, 0.00661864597350359, -0.7064456939697266, -0.02498982846736908], [0.9683413505554199, 0.025914298370480537, 0.24818386137485504, -0.00695582153275609], [0.8997147679328918, 0.026841383427381516, 0.4356488585472107, -0.0017545323353260756], [0.707152783870697, 0.007093300577253103, -0.706549346446991, -0.025936897844076157], [0.968302309513092, 0.02736123465001583, 0.24817708134651184, -0.007091140374541283], [0.8988757133483887, 0.02830551564693451, 0.4372866153717041, -0.0013336214469745755], [0.7070759534835815, 0.0080355703830719, -0.706570565700531, -0.02714930661022663], [0.9683994054794312, 0.02339240536093712, 0.24821704626083374, -0.006600921507924795], [0.8988876938819885, 0.024318231269717216, 0.43749845027923584, -0.0021917098201811314], [0.7069950699806213, 0.0056749191135168076, -0.7067934274673462, -0.023850126191973686]], [[0.9431942701339722, -0.22242552042007446, 0.24030044674873352, 0.05627911910414696], [0.968824028968811, 0.025099700316786766, 0.24637898802757263, -0.006892465054988861], [0.8997040390968323, 0.02606780081987381, 0.43571704626083374, -0.0019208069425076246], [0.7090166211128235, 0.0067181894555687904, -0.7047044038772583, -0.02533879317343235], [0.9687958359718323, 0.02617652714252472, 0.24637208878993988, -0.007089743856340647], [0.8996378183364868, 0.027163077145814896, 0.43578776717185974, -0.0017373653827235103], [0.7088724374771118, 0.007310506887733936, -0.7048112750053406, -0.026219403371214867], [0.9687572121620178, 0.027609113603830338, 0.2463630586862564, -0.00724025908857584], [0.8987898230552673, 0.02861216850578785, 0.4374430477619171, -0.0013514714082702994], [0.7087982296943665, 0.008206702768802643, -0.7048299908638, -0.027430269867181778], [0.9688534140586853, 0.023722343146800995, 0.24640341103076935, -0.006768766324967146], [0.898799479007721, 0.024692529812455177, 0.4376586377620697, -0.002227679593488574], [0.7087176442146301, 0.005821637809276581, -0.7050530910491943, -0.02419886738061905]], [[0.9430103302001953, -0.22522816061973572, 0.23837606608867645, 0.056397661566734314], [0.9692810773849487, 0.025412235409021378, 0.24453729391098022, -0.0070724450051784515], [0.8996241092681885, 0.026424303650856018, 0.4358604848384857, -0.0019887934904545546], [0.7107605338096619, 0.006824396550655365, -0.7029320001602173, -0.025681886821985245], [0.9692545533180237, 0.026432441547513008, 0.24452972412109375, -0.007220956031233072], [0.8995575904846191, 0.027478907257318497, 0.43593356013298035, -0.0017205686308443546], [0.7106147408485413, 0.007527155335992575, -0.7030417919158936, -0.026500269770622253], [0.9692162871360779, 0.02784874103963375, 0.24451902508735657, -0.007388679310679436], [0.8987000584602356, 0.028912564739584923, 0.4376075565814972, -0.0013722986914217472], [0.7105423808097839, 0.00837281160056591, -0.7030587792396545, -0.027710817754268646], [0.9693111777305603, 0.02404971979558468, 0.2445596605539322, -0.0069353957660496235], [0.8987072110176086, 0.025064432993531227, 0.4378264844417572, -0.0022566576953977346], [0.7104619145393372, 0.005978464148938656, -0.7032822370529175, -0.024540722370147705]], [[0.9428320527076721, -0.22799643874168396, 0.23642082512378693, 0.05648599565029144], [0.9697420597076416, 0.025719545781612396, 0.24266526103019714, -0.007253509480506182], [0.8995407223701477, 0.0267772413790226, 0.43601059913635254, -0.0020537246018648148], [0.7125257253646851, 0.0069374400191009045, -0.701129138469696, -0.026019319891929626], [0.9697173237800598, 0.026683490723371506, 0.24265697598457336, -0.007349482737481594], [0.8994741439819336, 0.02778811939060688, 0.4360862374305725, -0.0017045499989762902], [0.7123786807060242, 0.0077414363622665405, -0.7012414932250977, -0.02677850052714348], [0.9696792960166931, 0.0280817411839962, 0.24264532327651978, -0.007536029908806086], [0.8986067175865173, 0.029206186532974243, 0.4377797842025757, -0.0013962524244561791], [0.7123075127601624, 0.008532828651368618, -0.7012572884559631, -0.027989594265818596], [0.9697726368904114, 0.024373918771743774, 0.24268612265586853, -0.0071003795601427555], [0.8986113667488098, 0.02543311007320881, 0.4380016624927521, -0.0022790979128330946], [0.7122271060943604, 0.006144897546619177, -0.7014813423156738, -0.02487603761255741]], [[0.9426596164703369, -0.2307281345129013, 0.2344358116388321, 0.05654439330101013], [0.9702067375183105, 0.026021234691143036, 0.24076281487941742, -0.0074349078349769115], [0.8994541168212891, 0.027125978842377663, 0.43616750836372375, -0.00211545592173934], [0.7143110632896423, 0.007057280745357275, -0.6992964744567871, -0.026351191103458405], [0.9701837301254272, 0.0269309114664793, 0.24075375497341156, -0.007475710939615965], [0.8993874788284302, 0.028090350329875946, 0.43624570965766907, -0.0016896394081413746], [0.7141632437705994, 0.007951661944389343, -0.6994110941886902, -0.02705281786620617], [0.9701458215713501, 0.02830965258181095, 0.24074187874794006, -0.007682224735617638], [0.8985099196434021, 0.029492618516087532, 0.4379591643810272, -0.0014234217815101147], [0.7140929102897644, 0.008685942739248276, -0.6994261145591736, -0.028265252709388733], [0.9702377319335938, 0.024694373831152916, 0.24078281223773956, -0.00726327346637845], [0.8985123038291931, 0.02579786442220211, 0.4381837546825409, -0.002295438200235367], [0.7140123844146729, 0.006320283282548189, -0.6996508240699768, -0.025205038487911224]], [[0.9424934387207031, -0.2334214746952057, 0.2324223816394806, 0.05657318979501724], [0.9706749320030212, 0.026317082345485687, 0.23882973194122314, -0.007615736685693264], [0.8993642926216125, 0.027469975873827934, 0.4363310635089874, -0.0021737911738455296], [0.7161156535148621, 0.007183689158409834, -0.697434663772583, -0.026677468791604042], [0.970653772354126, 0.027175696566700935, 0.2388198971748352, -0.007600271143019199], [0.8992977142333984, 0.028385454788804054, 0.43641185760498047, -0.0016761107835918665], [0.7159674167633057, 0.008156370371580124, -0.6975511908531189, -0.0273219496011734], [0.9706158638000488, 0.02853381074965, 0.2388084977865219, -0.007827420718967915], [0.898409903049469, 0.029771603643894196, 0.4381452202796936, -0.0014537903480231762], [0.7158978581428528, 0.008831576444208622, -0.6975657939910889, -0.028536483645439148], [0.9707061052322388, 0.02501058019697666, 0.23884941637516022, -0.0074236332438886166], [0.8984099626541138, 0.026158133521676064, 0.43837207555770874, -0.0023060885723680258], [0.7158167958259583, 0.006503818091005087, -0.6977910399436951, -0.02552780881524086]], [[0.9423335790634155, -0.23607484996318817, 0.23038184642791748, 0.05657269433140755], [0.971146821975708, 0.026607047766447067, 0.2368658185005188, -0.007795028854161501], [0.8992711305618286, 0.02780880033969879, 0.43650108575820923, -0.00222848285920918], [0.7179384827613831, 0.007316278759390116, -0.6955443620681763, -0.026997976005077362], [0.9711272716522217, 0.02741851471364498, 0.2368551343679428, -0.007723920047283173], [0.8992047905921936, 0.028673464432358742, 0.4365845322608948, -0.001664233161136508], [0.7177356481552124, 0.008356105536222458, -0.6957191228866577, -0.027582598850131035], [0.971089243888855, 0.02875523827970028, 0.23684486746788025, -0.00797194242477417], [0.8983069658279419, 0.030043059960007668, 0.43833744525909424, -0.001487229485064745], [0.7177215218544006, 0.00896938145160675, -0.6956765651702881, -0.02880207635462284], [0.9711779952049255, 0.025322167202830315, 0.2368856817483902, -0.007581053767353296], [0.8983047604560852, 0.026513488963246346, 0.4385661482810974, -0.0023114329669624567], [0.7176398634910583, 0.00669458694756031, -0.6959025859832764, -0.025844309478998184]], [[0.9421801567077637, -0.2386869639158249, 0.22831562161445618, 0.05654318630695343], [0.9716219305992126, 0.026891231536865234, 0.2348707616329193, -0.007971829734742641], [0.8991750478744507, 0.028142128139734268, 0.4366775155067444, -0.0022792380768805742], [0.7197786569595337, 0.007454554550349712, -0.6936261057853699, -0.02731240540742874], [0.9716041088104248, 0.027659734711050987, 0.23485925793647766, -0.007847433909773827], [0.8990773558616638, 0.0289707500487566, 0.4368270933628082, -0.0016472506104037166], [0.7194117903709412, 0.008550789207220078, -0.6939733624458313, -0.027830759063363075], [0.9715656638145447, 0.028974588960409164, 0.23485060036182404, -0.008116213604807854], [0.8982015252113342, 0.030307084321975708, 0.4385353624820709, -0.0015235116006806493], [0.7195631861686707, 0.009099245071411133, -0.6937589645385742, -0.029060956090688705], [0.9716530442237854, 0.02562888339161873, 0.23489120602607727, -0.007735183462500572], [0.8981969952583313, 0.026863591745495796, 0.4387654662132263, -0.0023118252865970135], [0.7194806933403015, 0.006891593337059021, -0.6939857006072998, -0.026154376566410065]], [[0.9420333504676819, -0.24125677347183228, 0.22622528672218323, 0.056484974920749664], [0.9721002578735352, 0.02716987580060959, 0.2328445464372635, -0.00814528577029705], [0.8990759253501892, 0.028469707816839218, 0.436860054731369, -0.0023257245775312185], [0.7216353416442871, 0.007597970310598612, -0.6916804909706116, -0.027620352804660797], [0.9720830917358398, 0.027923868969082832, 0.23283371329307556, -0.007964927703142166], [0.8989053964614868, 0.02927589602768421, 0.437160849571228, -0.0016262843273580074], [0.7209718227386475, 0.008741719648241997, -0.692340612411499, -0.028066998347640038], [0.9720452427864075, 0.029192158952355385, 0.23282559216022491, -0.008260694332420826], [0.8980936408042908, 0.03056390769779682, 0.43873849511146545, -0.0015623433282598853], [0.7214221954345703, 0.009221291169524193, -0.6918134689331055, -0.02931222692131996], [0.9721311926841736, 0.025930652394890785, 0.2328658103942871, -0.007885759696364403], [0.8980869054794312, 0.02720816433429718, 0.43896958231925964, -0.0023075933568179607], [0.7213385701179504, 0.007093801163136959, -0.692040741443634, -0.02645777352154255]], [[0.941899836063385, -0.24377794563770294, 0.22409063577651978, 0.05639581009745598], [0.9725816249847412, 0.027443325147032738, 0.23078735172748566, -0.008314684964716434], [0.8989739418029785, 0.028791356831789017, 0.43704840540885925, -0.002367595210671425], [0.7235075831413269, 0.007745981216430664, -0.6897080540657043, -0.02792135626077652], [0.9725625514984131, 0.028228506445884705, 0.2307814061641693, -0.008073946461081505], [0.8986830115318298, 0.029588207602500916, 0.4375966489315033, -0.0016003991477191448], [0.7223936915397644, 0.00892985612154007, -0.690845251083374, -0.028292939066886902], [0.9725276231765747, 0.029407894238829613, 0.23076987266540527, -0.008405782282352448], [0.8979833722114563, 0.03081386163830757, 0.43894630670547485, -0.0016033941647037864], [0.723297655582428, 0.009335889481008053, -0.68984055519104, -0.029555192217230797], [0.9726123213768005, 0.026227544993162155, 0.2308095246553421, -0.008032609708607197], [0.8979747891426086, 0.027546972036361694, 0.4391780495643616, -0.00229904567822814], [0.7232128381729126, 0.007300182245671749, -0.690068244934082, -0.02675422839820385]], [[0.9417870044708252, -0.24624159932136536, 0.2218913435935974, 0.05627324804663658], [0.9730663895606995, 0.027712414041161537, 0.22869622707366943, -0.008478818461298943], [0.8988694548606873, 0.029106957837939262, 0.437242329120636, -0.0024044953752309084], [0.7253947854042053, 0.007898103445768356, -0.6877092719078064, -0.028214935213327408], [0.9730422496795654, 0.02858935482800007, 0.22870245575904846, -0.008172893896698952], [0.8984085321426392, 0.029907161369919777, 0.4381384551525116, -0.0015674760797992349], [0.7236657738685608, 0.009115880355238914, -0.689501166343689, -0.028511783108115196], [0.9730132222175598, 0.029621897265315056, 0.2286805659532547, -0.008551047183573246], [0.8978711366653442, 0.03105735033750534, 0.43915855884552, -0.0016463145148009062], [0.7251887917518616, 0.00944363884627819, -0.6878405809402466, -0.02978937327861786], [0.9730968475341797, 0.026520146057009697, 0.22871942818164825, -0.008175002411007881], [0.897860586643219, 0.027879811823368073, 0.4393904507160187, -0.0022864711936563253], [0.7251027226448059, 0.007509756367653608, -0.6880686283111572, -0.027043459936976433]], [[0.9417001605033875, -0.24863822758197784, 0.21961525082588196, 0.05611572042107582], [0.9735559225082397, 0.02798016555607319, 0.2265647053718567, -0.00863552000373602], [0.8987626433372498, 0.02941611409187317, 0.4374408721923828, -0.002436167560517788], [0.727295994758606, 0.008053961209952831, -0.6856846213340759, -0.02850060909986496], [0.9735222458839417, 0.029018813744187355, 0.22659270465373993, -0.008260850794613361], [0.89808189868927, 0.030233532190322876, 0.438785582780838, -0.0015245834365487099], [0.7247829437255859, 0.00930094625800848, -0.6883153319358826, -0.028727995231747627], [0.9735034108161926, 0.02983575314283371, 0.22655117511749268, -0.008694550953805447], [0.8977572321891785, 0.03129459172487259, 0.43937450647354126, -0.001690823002718389], [0.7270948886871338, 0.009545356966555119, -0.6858142018318176, -0.030014529824256897], [0.9735860228538513, 0.026808476075530052, 0.22658908367156982, -0.008311954326927662], [0.8977448344230652, 0.028206786140799522, 0.4396061301231384, -0.0022698782850056887], [0.7270073890686035, 0.0077216424979269505, -0.686042308807373, -0.0273252185434103]], [[0.9416423439979553, -0.2509589195251465, 0.2172601819038391, 0.05592280998826027], [0.9740517139434814, 0.028251532465219498, 0.22438357770442963, -0.008781823329627514], [0.898654580116272, 0.029718466103076935, 0.43764248490333557, -0.002462184289470315], [0.7292109131813049, 0.008213277906179428, -0.683634340763092, -0.028777921572327614], [0.9740039110183716, 0.029523372650146484, 0.2244444042444229, -0.008338207378983498], [0.8977038860321045, 0.03057098761200905, 0.43953484296798706, -0.0014680674066767097], [0.725742757320404, 0.009487018920481205, -0.6872915625572205, -0.028946425765752792], [0.9740000367164612, 0.030052432790398598, 0.22437244653701782, -0.008833307772874832], [0.897642195224762, 0.031525783240795135, 0.4395925998687744, -0.0017364030936732888], [0.7290151715278625, 0.009642033837735653, -0.6837616562843323, -0.03023058921098709], [0.9740816950798035, 0.02709193527698517, 0.22440941631793976, -0.008442138321697712], [0.897628128528595, 0.028528152033686638, 0.4398236870765686, -0.0022490317933261395], [0.7289263010025024, 0.007935160771012306, -0.6839896440505981, -0.027599330991506577]], [[0.941614031791687, -0.253196120262146, 0.21483232080936432, 0.05569486320018768], [0.9745559096336365, 0.02853233739733696, 0.22214257717132568, -0.00891453679651022], [0.8985463976860046, 0.03001408465206623, 0.4378441870212555, -0.0024816507939249277], [0.7311393022537231, 0.008375908248126507, -0.6815581917762756, -0.029046418145298958], [0.9744892120361328, 0.030102834105491638, 0.22224774956703186, -0.00840657390654087], [0.8972763419151306, 0.03092636913061142, 0.44038259983062744, -0.0013936895411461592], [0.7265427708625793, 0.009676894173026085, -0.6864336133003235, -0.02917197160422802], [0.9745048880577087, 0.0302756167948246, 0.22213388979434967, -0.008963877335190773], [0.8975273966789246, 0.03175140544772148, 0.4398106634616852, -0.0017819934291765094], [0.7309494614601135, 0.00973482895642519, -0.6816830635070801, -0.030437640845775604], [0.9745860695838928, 0.027369601652026176, 0.22217018902301788, -0.008563973009586334], [0.8975117206573486, 0.02884412556886673, 0.44004085659980774, -0.002223524497821927], [0.730859100818634, 0.008149904198944569, -0.6819106936454773, -0.02786569856107235]], [[0.941614031791687, -0.255344420671463, 0.212342768907547, 0.05543274059891701], [0.9750699400901794, 0.028827974572777748, 0.21983198821544647, -0.00903104618191719], [0.8984400033950806, 0.030303841456770897, 0.43804240226745605, -0.002493065781891346], [0.7330427169799805, 0.00853976234793663, -0.6794973611831665, -0.029305147007107735], [0.9749798774719238, 0.030750907957553864, 0.2199927419424057, -0.008468672633171082], [0.89680016040802, 0.03130892664194107, 0.4413248300552368, -0.001296788570471108], [0.7271789312362671, 0.009874300099909306, -0.6857466697692871, -0.029409756883978844], [0.9750196933746338, 0.030508892610669136, 0.21982581913471222, -0.009083287790417671], [0.8974140882492065, 0.03197242692112923, 0.4400255084037781, -0.0018257672199979424], [0.7328974604606628, 0.009825119748711586, -0.6795780062675476, -0.030635863542556763], [0.9751008749008179, 0.027640555053949356, 0.21986176073551178, -0.008675910532474518], [0.8973968625068665, 0.029154717922210693, 0.4402545690536499, -0.0021928332280367613], [0.732805609703064, 0.008365762419998646, -0.6798051595687866, -0.02812427468597889]]], \"name\": \"Transform\"}, \"contact\": null}};\n",
       "  </script>\n",
       "\n",
       "  <body>\n",
       "\n",
       "    <div id=\"brax-viewer\"></div>\n",
       "\n",
       "    <script type=\"module\">\n",
       "      import {Viewer} from 'viewer';\n",
       "      const domElement = document.getElementById(\"brax-viewer\");\n",
       "      var viewer = new Viewer(domElement, system);\n",
       "    </script>\n",
       "\n",
       "  </body>\n",
       "\n",
       "</html>"
      ],
      "text/plain": [
       "<IPython.core.display.HTML object>"
      ]
     },
     "execution_count": 4,
     "metadata": {},
     "output_type": "execute_result"
    }
   ],
   "source": [
    "HTML(html.render(m, rollout))"
   ]
  },
  {
   "cell_type": "code",
   "execution_count": null,
   "id": "b8081a5d-34fb-48b2-967b-266c80da122b",
   "metadata": {},
   "outputs": [],
   "source": []
  },
  {
   "cell_type": "code",
   "execution_count": 3,
   "id": "bd0337d1-9635-43fd-9c5d-d93aa69174c7",
   "metadata": {},
   "outputs": [
    {
     "data": {
      "text/plain": [
       "['T',\n",
       " '__add__',\n",
       " '__annotations__',\n",
       " '__class__',\n",
       " '__dataclass_fields__',\n",
       " '__dataclass_params__',\n",
       " '__delattr__',\n",
       " '__dict__',\n",
       " '__dir__',\n",
       " '__doc__',\n",
       " '__eq__',\n",
       " '__format__',\n",
       " '__ge__',\n",
       " '__getattribute__',\n",
       " '__gt__',\n",
       " '__hash__',\n",
       " '__init__',\n",
       " '__init_subclass__',\n",
       " '__le__',\n",
       " '__lt__',\n",
       " '__module__',\n",
       " '__mul__',\n",
       " '__ne__',\n",
       " '__neg__',\n",
       " '__new__',\n",
       " '__reduce__',\n",
       " '__reduce_ex__',\n",
       " '__repr__',\n",
       " '__setattr__',\n",
       " '__sizeof__',\n",
       " '__str__',\n",
       " '__sub__',\n",
       " '__subclasshook__',\n",
       " '__truediv__',\n",
       " '__weakref__',\n",
       " '_flax_dataclass',\n",
       " '_model',\n",
       " 'act_size',\n",
       " 'actuator',\n",
       " 'ang_damping',\n",
       " 'baumgarte_erp',\n",
       " 'collide_scale',\n",
       " 'concatenate',\n",
       " 'density',\n",
       " 'dof',\n",
       " 'dof_link',\n",
       " 'dof_ranges',\n",
       " 'dt',\n",
       " 'enable_fluid',\n",
       " 'geom_masks',\n",
       " 'geoms',\n",
       " 'get_mjx_model',\n",
       " 'get_model',\n",
       " 'gravity',\n",
       " 'index_set',\n",
       " 'index_sum',\n",
       " 'init_q',\n",
       " 'joint_scale_ang',\n",
       " 'joint_scale_pos',\n",
       " 'link',\n",
       " 'link_names',\n",
       " 'link_parents',\n",
       " 'link_types',\n",
       " 'matrix_inv_iterations',\n",
       " 'num_links',\n",
       " 'q_idx',\n",
       " 'q_size',\n",
       " 'qd_idx',\n",
       " 'qd_size',\n",
       " 'replace',\n",
       " 'reshape',\n",
       " 'select',\n",
       " 'set_model',\n",
       " 'slice',\n",
       " 'solver_iterations',\n",
       " 'solver_maxls',\n",
       " 'spring_inertia_scale',\n",
       " 'spring_mass_scale',\n",
       " 'take',\n",
       " 'tree_replace',\n",
       " 'vel_damping',\n",
       " 'viscosity',\n",
       " 'vmap']"
      ]
     },
     "execution_count": 3,
     "metadata": {},
     "output_type": "execute_result"
    }
   ],
   "source": [
    "dir(m)"
   ]
  },
  {
   "cell_type": "code",
   "execution_count": 34,
   "id": "91aaa09d-735e-427e-9cd3-f060bc51c654",
   "metadata": {},
   "outputs": [
    {
     "data": {
      "text/plain": [
       "['trunk',\n",
       " 'FR_hip',\n",
       " 'FR_thigh',\n",
       " 'FR_calf',\n",
       " 'FL_hip',\n",
       " 'FL_thigh',\n",
       " 'FL_calf',\n",
       " 'RR_hip',\n",
       " 'RR_thigh',\n",
       " 'RR_calf',\n",
       " 'RL_hip',\n",
       " 'RL_thigh',\n",
       " 'RL_calf']"
      ]
     },
     "execution_count": 34,
     "metadata": {},
     "output_type": "execute_result"
    }
   ],
   "source": [
    "m.link_names"
   ]
  },
  {
   "cell_type": "code",
   "execution_count": 31,
   "id": "12a3800c-4d33-4ae7-94ec-eabbceb1b893",
   "metadata": {},
   "outputs": [
    {
     "data": {
      "text/plain": [
       "['T',\n",
       " '__add__',\n",
       " '__annotations__',\n",
       " '__class__',\n",
       " '__dataclass_fields__',\n",
       " '__dataclass_params__',\n",
       " '__delattr__',\n",
       " '__dict__',\n",
       " '__dir__',\n",
       " '__doc__',\n",
       " '__eq__',\n",
       " '__format__',\n",
       " '__ge__',\n",
       " '__getattribute__',\n",
       " '__gt__',\n",
       " '__hash__',\n",
       " '__init__',\n",
       " '__init_subclass__',\n",
       " '__le__',\n",
       " '__lt__',\n",
       " '__module__',\n",
       " '__mul__',\n",
       " '__ne__',\n",
       " '__neg__',\n",
       " '__new__',\n",
       " '__reduce__',\n",
       " '__reduce_ex__',\n",
       " '__repr__',\n",
       " '__setattr__',\n",
       " '__sizeof__',\n",
       " '__str__',\n",
       " '__sub__',\n",
       " '__subclasshook__',\n",
       " '__truediv__',\n",
       " '__weakref__',\n",
       " '_flax_dataclass',\n",
       " 'bias_q',\n",
       " 'bias_qd',\n",
       " 'concatenate',\n",
       " 'ctrl_range',\n",
       " 'force_range',\n",
       " 'gain',\n",
       " 'gear',\n",
       " 'index_set',\n",
       " 'index_sum',\n",
       " 'q_id',\n",
       " 'qd_id',\n",
       " 'replace',\n",
       " 'reshape',\n",
       " 'select',\n",
       " 'slice',\n",
       " 'take',\n",
       " 'tree_replace',\n",
       " 'vmap']"
      ]
     },
     "execution_count": 31,
     "metadata": {},
     "output_type": "execute_result"
    }
   ],
   "source": [
    "dir(m.actuator)"
   ]
  },
  {
   "cell_type": "code",
   "execution_count": 3,
   "id": "2686e820-e0bb-4044-aa90-f32f6f909ea6",
   "metadata": {},
   "outputs": [
    {
     "data": {
      "text/plain": [
       "<bound method Base.index_set of Actuator(q_id=Array([ 7,  8,  9, 10, 11, 12, 13, 14, 15, 16, 17, 18], dtype=int32), qd_id=Array([ 6,  7,  8,  9, 10, 11, 12, 13, 14, 15, 16, 17], dtype=int32), ctrl_range=Array([[-0.802851,  0.802851],\n",
       "       [-1.0472  ,  4.18879 ],\n",
       "       [-2.69653 , -0.916298],\n",
       "       [-0.802851,  0.802851],\n",
       "       [-1.0472  ,  4.18879 ],\n",
       "       [-2.69653 , -0.916298],\n",
       "       [-0.802851,  0.802851],\n",
       "       [-1.0472  ,  4.18879 ],\n",
       "       [-2.69653 , -0.916298],\n",
       "       [-0.802851,  0.802851],\n",
       "       [-1.0472  ,  4.18879 ],\n",
       "       [-2.69653 , -0.916298]], dtype=float32), force_range=array([[-50.,  50.],\n",
       "       [-50.,  50.],\n",
       "       [-50.,  50.],\n",
       "       [-50.,  50.],\n",
       "       [-50.,  50.],\n",
       "       [-50.,  50.],\n",
       "       [-50.,  50.],\n",
       "       [-50.,  50.],\n",
       "       [-50.,  50.],\n",
       "       [-50.,  50.],\n",
       "       [-50.,  50.],\n",
       "       [-50.,  50.]], dtype=float32), gain=Array([100., 100., 100., 100., 100., 100., 100., 100., 100., 100., 100.,\n",
       "       100.], dtype=float32), gear=Array([1., 1., 1., 1., 1., 1., 1., 1., 1., 1., 1., 1.], dtype=float32), bias_q=Array([-100., -100., -100., -100., -100., -100., -100., -100., -100.,\n",
       "       -100., -100., -100.], dtype=float32), bias_qd=array([-10., -10., -10., -10., -10., -10., -10., -10., -10., -10., -10.,\n",
       "       -10.], dtype=float32))>"
      ]
     },
     "execution_count": 3,
     "metadata": {},
     "output_type": "execute_result"
    }
   ],
   "source": [
    "m.actuator.index_set"
   ]
  },
  {
   "cell_type": "code",
   "execution_count": 5,
   "id": "58610037-8678-4ddd-af13-bae46f165641",
   "metadata": {},
   "outputs": [
    {
     "data": {
      "text/plain": [
       "Array([ 7,  8,  9, 10, 11, 12, 13, 14, 15, 16, 17, 18], dtype=int32)"
      ]
     },
     "execution_count": 5,
     "metadata": {},
     "output_type": "execute_result"
    }
   ],
   "source": [
    "m.actuator.q_id"
   ]
  },
  {
   "cell_type": "code",
   "execution_count": 6,
   "id": "fd13a6db-eb3a-40c4-8e14-7d8d000c1db2",
   "metadata": {},
   "outputs": [
    {
     "data": {
      "text/plain": [
       "Array([ 6,  7,  8,  9, 10, 11, 12, 13, 14, 15, 16, 17], dtype=int32)"
      ]
     },
     "execution_count": 6,
     "metadata": {},
     "output_type": "execute_result"
    }
   ],
   "source": [
    "m.actuator.qd_id"
   ]
  },
  {
   "cell_type": "code",
   "execution_count": 7,
   "id": "b2e04911-29a3-4ead-b0a2-77bf6d019638",
   "metadata": {},
   "outputs": [
    {
     "data": {
      "text/plain": [
       "Array([[-0.802851,  0.802851],\n",
       "       [-1.0472  ,  4.18879 ],\n",
       "       [-2.69653 , -0.916298],\n",
       "       [-0.802851,  0.802851],\n",
       "       [-1.0472  ,  4.18879 ],\n",
       "       [-2.69653 , -0.916298],\n",
       "       [-0.802851,  0.802851],\n",
       "       [-1.0472  ,  4.18879 ],\n",
       "       [-2.69653 , -0.916298],\n",
       "       [-0.802851,  0.802851],\n",
       "       [-1.0472  ,  4.18879 ],\n",
       "       [-2.69653 , -0.916298]], dtype=float32)"
      ]
     },
     "execution_count": 7,
     "metadata": {},
     "output_type": "execute_result"
    }
   ],
   "source": [
    "m.actuator.ctrl_range"
   ]
  },
  {
   "cell_type": "code",
   "execution_count": 8,
   "id": "e2ce891b-3ab6-4fea-a234-bd03f148cee5",
   "metadata": {},
   "outputs": [
    {
     "data": {
      "text/plain": [
       "Array([[-33.5,  33.5],\n",
       "       [-33.5,  33.5],\n",
       "       [-33.5,  33.5],\n",
       "       [-33.5,  33.5],\n",
       "       [-33.5,  33.5],\n",
       "       [-33.5,  33.5],\n",
       "       [-33.5,  33.5],\n",
       "       [-33.5,  33.5],\n",
       "       [-33.5,  33.5],\n",
       "       [-33.5,  33.5],\n",
       "       [-33.5,  33.5],\n",
       "       [-33.5,  33.5]], dtype=float32)"
      ]
     },
     "execution_count": 8,
     "metadata": {},
     "output_type": "execute_result"
    }
   ],
   "source": [
    "m.actuator.force_range"
   ]
  },
  {
   "cell_type": "code",
   "execution_count": 9,
   "id": "284e9518-9ad0-4286-b53b-597e359e6356",
   "metadata": {},
   "outputs": [
    {
     "data": {
      "text/plain": [
       "Array([100., 100., 100., 100., 100., 100., 100., 100., 100., 100., 100.,\n",
       "       100.], dtype=float32)"
      ]
     },
     "execution_count": 9,
     "metadata": {},
     "output_type": "execute_result"
    }
   ],
   "source": [
    "m.actuator.gain"
   ]
  },
  {
   "cell_type": "code",
   "execution_count": 10,
   "id": "6253600a-1c47-40ca-b4cd-c6e4f11a98e6",
   "metadata": {},
   "outputs": [
    {
     "data": {
      "text/plain": [
       "Array([1., 1., 1., 1., 1., 1., 1., 1., 1., 1., 1., 1.], dtype=float32)"
      ]
     },
     "execution_count": 10,
     "metadata": {},
     "output_type": "execute_result"
    }
   ],
   "source": [
    "m.actuator.gear"
   ]
  },
  {
   "cell_type": "code",
   "execution_count": 11,
   "id": "940c00c1-2b21-4944-b3cc-8085ee709340",
   "metadata": {},
   "outputs": [
    {
     "data": {
      "text/plain": [
       "Array([-100., -100., -100., -100., -100., -100., -100., -100., -100.,\n",
       "       -100., -100., -100.], dtype=float32)"
      ]
     },
     "execution_count": 11,
     "metadata": {},
     "output_type": "execute_result"
    }
   ],
   "source": [
    "m.actuator.bias_q"
   ]
  },
  {
   "cell_type": "code",
   "execution_count": 12,
   "id": "6df959f4-d7e7-436b-b868-3c1bbf17c2a1",
   "metadata": {},
   "outputs": [
    {
     "data": {
      "text/plain": [
       "array([-10., -10., -10., -10., -10., -10., -10., -10., -10., -10., -10.,\n",
       "       -10.], dtype=float32)"
      ]
     },
     "execution_count": 12,
     "metadata": {},
     "output_type": "execute_result"
    }
   ],
   "source": [
    "m.actuator.bias_qd"
   ]
  },
  {
   "cell_type": "code",
   "execution_count": 32,
   "id": "5d7f6342-cc1a-4d28-b864-b3a6684cccd3",
   "metadata": {},
   "outputs": [
    {
     "data": {
      "text/plain": [
       "Array([ 0.  ,  0.  , -9.81], dtype=float32)"
      ]
     },
     "execution_count": 32,
     "metadata": {},
     "output_type": "execute_result"
    }
   ],
   "source": [
    "m.gravity"
   ]
  },
  {
   "cell_type": "code",
   "execution_count": 39,
   "id": "122ab450-ef37-48dc-af2a-7dbbcdb019fa",
   "metadata": {},
   "outputs": [
    {
     "data": {
      "text/plain": [
       "Array(0., dtype=float32)"
      ]
     },
     "execution_count": 39,
     "metadata": {},
     "output_type": "execute_result"
    }
   ],
   "source": [
    "m.ang_damping"
   ]
  },
  {
   "cell_type": "code",
   "execution_count": 40,
   "id": "a1f01fc2-c9d6-42bf-bad6-c203374733bd",
   "metadata": {},
   "outputs": [
    {
     "data": {
      "text/plain": [
       "Array(0.1, dtype=float32)"
      ]
     },
     "execution_count": 40,
     "metadata": {},
     "output_type": "execute_result"
    }
   ],
   "source": [
    "m.baumgarte_erp"
   ]
  },
  {
   "cell_type": "code",
   "execution_count": 42,
   "id": "b92ef0d5-242b-4862-b7b7-43f5db599da5",
   "metadata": {},
   "outputs": [
    {
     "data": {
      "text/plain": [
       "Array(0., dtype=float32)"
      ]
     },
     "execution_count": 42,
     "metadata": {},
     "output_type": "execute_result"
    }
   ],
   "source": [
    "m.vel_damping"
   ]
  },
  {
   "cell_type": "code",
   "execution_count": 41,
   "id": "0ede5908-0896-4b7b-9317-1c606a80fda2",
   "metadata": {},
   "outputs": [
    {
     "data": {
      "text/plain": [
       "Array(0.2, dtype=float32)"
      ]
     },
     "execution_count": 41,
     "metadata": {},
     "output_type": "execute_result"
    }
   ],
   "source": [
    "m.joint_scale_ang"
   ]
  },
  {
   "cell_type": "code",
   "execution_count": 63,
   "id": "1102e7ba-629e-45df-bbca-87dd24d6207a",
   "metadata": {},
   "outputs": [
    {
     "data": {
      "text/plain": [
       "Inertia(transform=Transform(pos=Array([[ 0.00000e+00,  4.10000e-03, -5.00000e-04],\n",
       "       [-3.31100e-03, -6.35000e-04,  3.10000e-05],\n",
       "       [-3.23700e-03,  2.23270e-02, -2.73260e-02],\n",
       "       [ 4.72659e-03,  0.00000e+00, -1.31975e-01],\n",
       "       [-3.31100e-03,  6.35000e-04,  3.10000e-05],\n",
       "       [-3.23700e-03, -2.23270e-02, -2.73260e-02],\n",
       "       [ 4.72659e-03,  0.00000e+00, -1.31975e-01],\n",
       "       [ 3.31100e-03, -6.35000e-04,  3.10000e-05],\n",
       "       [-3.23700e-03,  2.23270e-02, -2.73260e-02],\n",
       "       [ 4.72659e-03,  0.00000e+00, -1.31975e-01],\n",
       "       [ 3.31100e-03,  6.35000e-04,  3.10000e-05],\n",
       "       [-3.23700e-03, -2.23270e-02, -2.73260e-02],\n",
       "       [ 4.72659e-03,  0.00000e+00, -1.31975e-01]], dtype=float32), rot=Array([[-1.8256460e-03,  7.0638072e-01, -6.4208568e-04,  7.0782948e-01],\n",
       "       [ 5.0752789e-01,  5.0626791e-01,  4.9150690e-01,  4.9449891e-01],\n",
       "       [ 9.9912524e-01, -2.5639306e-03, -4.0953111e-02, -8.0609117e-03],\n",
       "       [ 7.0688641e-01,  1.7653009e-02,  1.7653009e-02,  7.0688641e-01],\n",
       "       [ 4.9449891e-01,  4.9150690e-01,  5.0626791e-01,  5.0752789e-01],\n",
       "       [ 9.9912524e-01,  2.5639306e-03, -4.0953111e-02,  8.0609117e-03],\n",
       "       [ 7.0688641e-01,  1.7653009e-02,  1.7653009e-02,  7.0688641e-01],\n",
       "       [ 4.9150690e-01,  4.9449891e-01,  5.0752789e-01,  5.0626791e-01],\n",
       "       [ 9.9912524e-01, -2.5639306e-03, -4.0953111e-02, -8.0609117e-03],\n",
       "       [ 7.0688641e-01,  1.7653009e-02,  1.7653009e-02,  7.0688641e-01],\n",
       "       [ 5.0626791e-01,  5.0752789e-01,  4.9449891e-01,  4.9150690e-01],\n",
       "       [ 9.9912524e-01,  2.5639306e-03, -4.0953111e-02,  8.0609117e-03],\n",
       "       [ 7.0688641e-01,  1.7653009e-02,  1.7653009e-02,  7.0688641e-01]],      dtype=float32)), i=Array([[[4.5654420e-02, 0.0000000e+00, 0.0000000e+00],\n",
       "        [0.0000000e+00, 3.7799865e-02, 0.0000000e+00],\n",
       "        [0.0000000e+00, 0.0000000e+00, 1.5853114e-02]],\n",
       "\n",
       "       [[8.0775202e-04, 0.0000000e+00, 0.0000000e+00],\n",
       "        [0.0000000e+00, 5.5293000e-04, 0.0000000e+00],\n",
       "        [0.0000000e+00, 0.0000000e+00, 4.6898299e-04]],\n",
       "\n",
       "       [[5.5573899e-03, 0.0000000e+00, 0.0000000e+00],\n",
       "        [0.0000000e+00, 5.1393602e-03, 0.0000000e+00],\n",
       "        [0.0000000e+00, 0.0000000e+00, 1.3394400e-03]],\n",
       "\n",
       "       [[3.4034399e-03, 0.0000000e+00, 0.0000000e+00],\n",
       "        [0.0000000e+00, 3.3939299e-03, 0.0000000e+00],\n",
       "        [0.0000000e+00, 0.0000000e+00, 3.5483401e-05]],\n",
       "\n",
       "       [[8.0775202e-04, 0.0000000e+00, 0.0000000e+00],\n",
       "        [0.0000000e+00, 5.5293000e-04, 0.0000000e+00],\n",
       "        [0.0000000e+00, 0.0000000e+00, 4.6898299e-04]],\n",
       "\n",
       "       [[5.5573899e-03, 0.0000000e+00, 0.0000000e+00],\n",
       "        [0.0000000e+00, 5.1393602e-03, 0.0000000e+00],\n",
       "        [0.0000000e+00, 0.0000000e+00, 1.3394400e-03]],\n",
       "\n",
       "       [[3.4034399e-03, 0.0000000e+00, 0.0000000e+00],\n",
       "        [0.0000000e+00, 3.3939299e-03, 0.0000000e+00],\n",
       "        [0.0000000e+00, 0.0000000e+00, 3.5483401e-05]],\n",
       "\n",
       "       [[8.0775202e-04, 0.0000000e+00, 0.0000000e+00],\n",
       "        [0.0000000e+00, 5.5293000e-04, 0.0000000e+00],\n",
       "        [0.0000000e+00, 0.0000000e+00, 4.6898299e-04]],\n",
       "\n",
       "       [[5.5573899e-03, 0.0000000e+00, 0.0000000e+00],\n",
       "        [0.0000000e+00, 5.1393602e-03, 0.0000000e+00],\n",
       "        [0.0000000e+00, 0.0000000e+00, 1.3394400e-03]],\n",
       "\n",
       "       [[3.4034399e-03, 0.0000000e+00, 0.0000000e+00],\n",
       "        [0.0000000e+00, 3.3939299e-03, 0.0000000e+00],\n",
       "        [0.0000000e+00, 0.0000000e+00, 3.5483401e-05]],\n",
       "\n",
       "       [[8.0775202e-04, 0.0000000e+00, 0.0000000e+00],\n",
       "        [0.0000000e+00, 5.5293000e-04, 0.0000000e+00],\n",
       "        [0.0000000e+00, 0.0000000e+00, 4.6898299e-04]],\n",
       "\n",
       "       [[5.5573899e-03, 0.0000000e+00, 0.0000000e+00],\n",
       "        [0.0000000e+00, 5.1393602e-03, 0.0000000e+00],\n",
       "        [0.0000000e+00, 0.0000000e+00, 1.3394400e-03]],\n",
       "\n",
       "       [[3.4034399e-03, 0.0000000e+00, 0.0000000e+00],\n",
       "        [0.0000000e+00, 3.3939299e-03, 0.0000000e+00],\n",
       "        [0.0000000e+00, 0.0000000e+00, 3.5483401e-05]]], dtype=float32), mass=Array([4.713, 0.696, 1.013, 0.226, 0.696, 1.013, 0.226, 0.696, 1.013,\n",
       "       0.226, 0.696, 1.013, 0.226], dtype=float32))"
      ]
     },
     "execution_count": 63,
     "metadata": {},
     "output_type": "execute_result"
    }
   ],
   "source": [
    "m.link.inertia"
   ]
  },
  {
   "cell_type": "code",
   "execution_count": 45,
   "id": "460c681d-1370-4b86-97d9-417b09f799d2",
   "metadata": {},
   "outputs": [
    {
     "data": {
      "text/plain": [
       "['__class__',\n",
       " '__copy__',\n",
       " '__deepcopy__',\n",
       " '__delattr__',\n",
       " '__dir__',\n",
       " '__doc__',\n",
       " '__eq__',\n",
       " '__format__',\n",
       " '__ge__',\n",
       " '__getattribute__',\n",
       " '__getstate__',\n",
       " '__gt__',\n",
       " '__hash__',\n",
       " '__init__',\n",
       " '__init_subclass__',\n",
       " '__le__',\n",
       " '__lt__',\n",
       " '__module__',\n",
       " '__ne__',\n",
       " '__new__',\n",
       " '__reduce__',\n",
       " '__reduce_ex__',\n",
       " '__repr__',\n",
       " '__setattr__',\n",
       " '__setstate__',\n",
       " '__sizeof__',\n",
       " '__str__',\n",
       " '__subclasshook__',\n",
       " '_address',\n",
       " 'actuator',\n",
       " 'actuator_acc0',\n",
       " 'actuator_actadr',\n",
       " 'actuator_actearly',\n",
       " 'actuator_actlimited',\n",
       " 'actuator_actnum',\n",
       " 'actuator_actrange',\n",
       " 'actuator_biasprm',\n",
       " 'actuator_biastype',\n",
       " 'actuator_cranklength',\n",
       " 'actuator_ctrllimited',\n",
       " 'actuator_ctrlrange',\n",
       " 'actuator_dynprm',\n",
       " 'actuator_dyntype',\n",
       " 'actuator_forcelimited',\n",
       " 'actuator_forcerange',\n",
       " 'actuator_gainprm',\n",
       " 'actuator_gaintype',\n",
       " 'actuator_gear',\n",
       " 'actuator_group',\n",
       " 'actuator_length0',\n",
       " 'actuator_lengthrange',\n",
       " 'actuator_plugin',\n",
       " 'actuator_trnid',\n",
       " 'actuator_trntype',\n",
       " 'actuator_user',\n",
       " 'body',\n",
       " 'body_bvhadr',\n",
       " 'body_bvhnum',\n",
       " 'body_conaffinity',\n",
       " 'body_contype',\n",
       " 'body_dofadr',\n",
       " 'body_dofnum',\n",
       " 'body_geomadr',\n",
       " 'body_geomnum',\n",
       " 'body_gravcomp',\n",
       " 'body_inertia',\n",
       " 'body_invweight0',\n",
       " 'body_ipos',\n",
       " 'body_iquat',\n",
       " 'body_jntadr',\n",
       " 'body_jntnum',\n",
       " 'body_margin',\n",
       " 'body_mass',\n",
       " 'body_mocapid',\n",
       " 'body_parentid',\n",
       " 'body_plugin',\n",
       " 'body_pos',\n",
       " 'body_quat',\n",
       " 'body_rootid',\n",
       " 'body_sameframe',\n",
       " 'body_simple',\n",
       " 'body_subtreemass',\n",
       " 'body_treeid',\n",
       " 'body_user',\n",
       " 'body_weldid',\n",
       " 'bvh_aabb',\n",
       " 'bvh_child',\n",
       " 'bvh_depth',\n",
       " 'bvh_nodeid',\n",
       " 'cam',\n",
       " 'cam_bodyid',\n",
       " 'cam_fovy',\n",
       " 'cam_intrinsic',\n",
       " 'cam_ipd',\n",
       " 'cam_mat0',\n",
       " 'cam_mode',\n",
       " 'cam_pos',\n",
       " 'cam_pos0',\n",
       " 'cam_poscom0',\n",
       " 'cam_quat',\n",
       " 'cam_resolution',\n",
       " 'cam_sensorsize',\n",
       " 'cam_targetbodyid',\n",
       " 'cam_user',\n",
       " 'camera',\n",
       " 'dof_M0',\n",
       " 'dof_Madr',\n",
       " 'dof_armature',\n",
       " 'dof_bodyid',\n",
       " 'dof_damping',\n",
       " 'dof_frictionloss',\n",
       " 'dof_invweight0',\n",
       " 'dof_jntid',\n",
       " 'dof_parentid',\n",
       " 'dof_simplenum',\n",
       " 'dof_solimp',\n",
       " 'dof_solref',\n",
       " 'dof_treeid',\n",
       " 'eq',\n",
       " 'eq_active0',\n",
       " 'eq_data',\n",
       " 'eq_obj1id',\n",
       " 'eq_obj2id',\n",
       " 'eq_solimp',\n",
       " 'eq_solref',\n",
       " 'eq_type',\n",
       " 'equality',\n",
       " 'exclude',\n",
       " 'exclude_signature',\n",
       " 'flex_activelayers',\n",
       " 'flex_bvhadr',\n",
       " 'flex_bvhnum',\n",
       " 'flex_centered',\n",
       " 'flex_conaffinity',\n",
       " 'flex_condim',\n",
       " 'flex_contype',\n",
       " 'flex_dim',\n",
       " 'flex_edge',\n",
       " 'flex_edgeadr',\n",
       " 'flex_edgedamping',\n",
       " 'flex_edgeequality',\n",
       " 'flex_edgenum',\n",
       " 'flex_edgestiffness',\n",
       " 'flex_elem',\n",
       " 'flex_elemadr',\n",
       " 'flex_elemdataadr',\n",
       " 'flex_elemlayer',\n",
       " 'flex_elemnum',\n",
       " 'flex_evpair',\n",
       " 'flex_evpairadr',\n",
       " 'flex_evpairnum',\n",
       " 'flex_flatskin',\n",
       " 'flex_friction',\n",
       " 'flex_gap',\n",
       " 'flex_group',\n",
       " 'flex_internal',\n",
       " 'flex_margin',\n",
       " 'flex_matid',\n",
       " 'flex_priority',\n",
       " 'flex_radius',\n",
       " 'flex_rgba',\n",
       " 'flex_rigid',\n",
       " 'flex_selfcollide',\n",
       " 'flex_shell',\n",
       " 'flex_shelldataadr',\n",
       " 'flex_shellnum',\n",
       " 'flex_solimp',\n",
       " 'flex_solmix',\n",
       " 'flex_solref',\n",
       " 'flex_texcoord',\n",
       " 'flex_texcoordadr',\n",
       " 'flex_vert',\n",
       " 'flex_vertadr',\n",
       " 'flex_vertbodyid',\n",
       " 'flex_vertnum',\n",
       " 'flex_xvert0',\n",
       " 'flexedge_invweight0',\n",
       " 'flexedge_length0',\n",
       " 'flexedge_rigid',\n",
       " 'from_binary_path',\n",
       " 'from_xml_path',\n",
       " 'from_xml_string',\n",
       " 'geom',\n",
       " 'geom_aabb',\n",
       " 'geom_bodyid',\n",
       " 'geom_conaffinity',\n",
       " 'geom_condim',\n",
       " 'geom_contype',\n",
       " 'geom_dataid',\n",
       " 'geom_fluid',\n",
       " 'geom_friction',\n",
       " 'geom_gap',\n",
       " 'geom_group',\n",
       " 'geom_margin',\n",
       " 'geom_matid',\n",
       " 'geom_plugin',\n",
       " 'geom_pos',\n",
       " 'geom_priority',\n",
       " 'geom_quat',\n",
       " 'geom_rbound',\n",
       " 'geom_rgba',\n",
       " 'geom_sameframe',\n",
       " 'geom_size',\n",
       " 'geom_solimp',\n",
       " 'geom_solmix',\n",
       " 'geom_solref',\n",
       " 'geom_type',\n",
       " 'geom_user',\n",
       " 'hfield',\n",
       " 'hfield_adr',\n",
       " 'hfield_data',\n",
       " 'hfield_ncol',\n",
       " 'hfield_nrow',\n",
       " 'hfield_pathadr',\n",
       " 'hfield_size',\n",
       " 'jnt',\n",
       " 'jnt_actfrclimited',\n",
       " 'jnt_actfrcrange',\n",
       " 'jnt_axis',\n",
       " 'jnt_bodyid',\n",
       " 'jnt_dofadr',\n",
       " 'jnt_group',\n",
       " 'jnt_limited',\n",
       " 'jnt_margin',\n",
       " 'jnt_pos',\n",
       " 'jnt_qposadr',\n",
       " 'jnt_range',\n",
       " 'jnt_solimp',\n",
       " 'jnt_solref',\n",
       " 'jnt_stiffness',\n",
       " 'jnt_type',\n",
       " 'jnt_user',\n",
       " 'joint',\n",
       " 'key',\n",
       " 'key_act',\n",
       " 'key_ctrl',\n",
       " 'key_mpos',\n",
       " 'key_mquat',\n",
       " 'key_qpos',\n",
       " 'key_qvel',\n",
       " 'key_time',\n",
       " 'keyframe',\n",
       " 'light',\n",
       " 'light_active',\n",
       " 'light_ambient',\n",
       " 'light_attenuation',\n",
       " 'light_bodyid',\n",
       " 'light_castshadow',\n",
       " 'light_cutoff',\n",
       " 'light_diffuse',\n",
       " 'light_dir',\n",
       " 'light_dir0',\n",
       " 'light_directional',\n",
       " 'light_exponent',\n",
       " 'light_mode',\n",
       " 'light_pos',\n",
       " 'light_pos0',\n",
       " 'light_poscom0',\n",
       " 'light_specular',\n",
       " 'light_targetbodyid',\n",
       " 'mat',\n",
       " 'mat_emission',\n",
       " 'mat_reflectance',\n",
       " 'mat_rgba',\n",
       " 'mat_shininess',\n",
       " 'mat_specular',\n",
       " 'mat_texid',\n",
       " 'mat_texrepeat',\n",
       " 'mat_texuniform',\n",
       " 'material',\n",
       " 'mesh',\n",
       " 'mesh_bvhadr',\n",
       " 'mesh_bvhnum',\n",
       " 'mesh_face',\n",
       " 'mesh_faceadr',\n",
       " 'mesh_facenormal',\n",
       " 'mesh_facenum',\n",
       " 'mesh_facetexcoord',\n",
       " 'mesh_graph',\n",
       " 'mesh_graphadr',\n",
       " 'mesh_normal',\n",
       " 'mesh_normaladr',\n",
       " 'mesh_normalnum',\n",
       " 'mesh_pathadr',\n",
       " 'mesh_pos',\n",
       " 'mesh_quat',\n",
       " 'mesh_texcoord',\n",
       " 'mesh_texcoordadr',\n",
       " 'mesh_texcoordnum',\n",
       " 'mesh_vert',\n",
       " 'mesh_vertadr',\n",
       " 'mesh_vertnum',\n",
       " 'nB',\n",
       " 'nD',\n",
       " 'nM',\n",
       " 'na',\n",
       " 'name_actuatoradr',\n",
       " 'name_bodyadr',\n",
       " 'name_camadr',\n",
       " 'name_eqadr',\n",
       " 'name_excludeadr',\n",
       " 'name_flexadr',\n",
       " 'name_geomadr',\n",
       " 'name_hfieldadr',\n",
       " 'name_jntadr',\n",
       " 'name_keyadr',\n",
       " 'name_lightadr',\n",
       " 'name_matadr',\n",
       " 'name_meshadr',\n",
       " 'name_numericadr',\n",
       " 'name_pairadr',\n",
       " 'name_pluginadr',\n",
       " 'name_sensoradr',\n",
       " 'name_siteadr',\n",
       " 'name_skinadr',\n",
       " 'name_tendonadr',\n",
       " 'name_texadr',\n",
       " 'name_textadr',\n",
       " 'name_tupleadr',\n",
       " 'names',\n",
       " 'names_map',\n",
       " 'narena',\n",
       " 'nbody',\n",
       " 'nbuffer',\n",
       " 'nbvh',\n",
       " 'nbvhdynamic',\n",
       " 'nbvhstatic',\n",
       " 'ncam',\n",
       " 'nconmax',\n",
       " 'nemax',\n",
       " 'neq',\n",
       " 'nexclude',\n",
       " 'nflex',\n",
       " 'nflexedge',\n",
       " 'nflexelem',\n",
       " 'nflexelemdata',\n",
       " 'nflexevpair',\n",
       " 'nflexshelldata',\n",
       " 'nflextexcoord',\n",
       " 'nflexvert',\n",
       " 'ngeom',\n",
       " 'nhfield',\n",
       " 'nhfielddata',\n",
       " 'njmax',\n",
       " 'njnt',\n",
       " 'nkey',\n",
       " 'nlight',\n",
       " 'nmat',\n",
       " 'nmesh',\n",
       " 'nmeshface',\n",
       " 'nmeshgraph',\n",
       " 'nmeshnormal',\n",
       " 'nmeshtexcoord',\n",
       " 'nmeshvert',\n",
       " 'nmocap',\n",
       " 'nnames',\n",
       " 'nnames_map',\n",
       " 'nnumeric',\n",
       " 'nnumericdata',\n",
       " 'npair',\n",
       " 'npaths',\n",
       " 'nplugin',\n",
       " 'npluginattr',\n",
       " 'npluginstate',\n",
       " 'nq',\n",
       " 'nsensor',\n",
       " 'nsensordata',\n",
       " 'nsite',\n",
       " 'nskin',\n",
       " 'nskinbone',\n",
       " 'nskinbonevert',\n",
       " 'nskinface',\n",
       " 'nskintexvert',\n",
       " 'nskinvert',\n",
       " 'ntendon',\n",
       " 'ntex',\n",
       " 'ntexdata',\n",
       " 'ntext',\n",
       " 'ntextdata',\n",
       " 'ntree',\n",
       " 'ntuple',\n",
       " 'ntupledata',\n",
       " 'nu',\n",
       " 'numeric',\n",
       " 'numeric_adr',\n",
       " 'numeric_data',\n",
       " 'numeric_size',\n",
       " 'nuser_actuator',\n",
       " 'nuser_body',\n",
       " 'nuser_cam',\n",
       " 'nuser_geom',\n",
       " 'nuser_jnt',\n",
       " 'nuser_sensor',\n",
       " 'nuser_site',\n",
       " 'nuser_tendon',\n",
       " 'nuserdata',\n",
       " 'nv',\n",
       " 'nwrap',\n",
       " 'opt',\n",
       " 'pair',\n",
       " 'pair_dim',\n",
       " 'pair_friction',\n",
       " 'pair_gap',\n",
       " 'pair_geom1',\n",
       " 'pair_geom2',\n",
       " 'pair_margin',\n",
       " 'pair_signature',\n",
       " 'pair_solimp',\n",
       " 'pair_solref',\n",
       " 'pair_solreffriction',\n",
       " 'paths',\n",
       " 'plugin',\n",
       " 'plugin_attr',\n",
       " 'plugin_attradr',\n",
       " 'plugin_stateadr',\n",
       " 'plugin_statenum',\n",
       " 'qpos0',\n",
       " 'qpos_spring',\n",
       " 'sensor',\n",
       " 'sensor_adr',\n",
       " 'sensor_cutoff',\n",
       " 'sensor_datatype',\n",
       " 'sensor_dim',\n",
       " 'sensor_needstage',\n",
       " 'sensor_noise',\n",
       " 'sensor_objid',\n",
       " 'sensor_objtype',\n",
       " 'sensor_plugin',\n",
       " 'sensor_refid',\n",
       " 'sensor_reftype',\n",
       " 'sensor_type',\n",
       " 'sensor_user',\n",
       " 'site',\n",
       " 'site_bodyid',\n",
       " 'site_group',\n",
       " 'site_matid',\n",
       " 'site_pos',\n",
       " 'site_quat',\n",
       " 'site_rgba',\n",
       " 'site_sameframe',\n",
       " 'site_size',\n",
       " 'site_type',\n",
       " 'site_user',\n",
       " 'skin',\n",
       " 'skin_boneadr',\n",
       " 'skin_bonebindpos',\n",
       " 'skin_bonebindquat',\n",
       " 'skin_bonebodyid',\n",
       " 'skin_bonenum',\n",
       " 'skin_bonevertadr',\n",
       " 'skin_bonevertid',\n",
       " 'skin_bonevertnum',\n",
       " 'skin_bonevertweight',\n",
       " 'skin_face',\n",
       " 'skin_faceadr',\n",
       " 'skin_facenum',\n",
       " 'skin_group',\n",
       " 'skin_inflate',\n",
       " 'skin_matid',\n",
       " 'skin_pathadr',\n",
       " 'skin_rgba',\n",
       " 'skin_texcoord',\n",
       " 'skin_texcoordadr',\n",
       " 'skin_vert',\n",
       " 'skin_vertadr',\n",
       " 'skin_vertnum',\n",
       " 'stat',\n",
       " 'tendon',\n",
       " 'tendon_adr',\n",
       " 'tendon_damping',\n",
       " 'tendon_frictionloss',\n",
       " 'tendon_group',\n",
       " 'tendon_invweight0',\n",
       " 'tendon_length0',\n",
       " 'tendon_lengthspring',\n",
       " 'tendon_limited',\n",
       " 'tendon_margin',\n",
       " 'tendon_matid',\n",
       " 'tendon_num',\n",
       " 'tendon_range',\n",
       " 'tendon_rgba',\n",
       " 'tendon_solimp_fri',\n",
       " 'tendon_solimp_lim',\n",
       " 'tendon_solref_fri',\n",
       " 'tendon_solref_lim',\n",
       " 'tendon_stiffness',\n",
       " 'tendon_user',\n",
       " 'tendon_width',\n",
       " 'tex',\n",
       " 'tex_adr',\n",
       " 'tex_height',\n",
       " 'tex_pathadr',\n",
       " 'tex_rgb',\n",
       " 'tex_type',\n",
       " 'tex_width',\n",
       " 'text_adr',\n",
       " 'text_data',\n",
       " 'text_size',\n",
       " 'texture',\n",
       " 'tuple',\n",
       " 'tuple_adr',\n",
       " 'tuple_objid',\n",
       " 'tuple_objprm',\n",
       " 'tuple_objtype',\n",
       " 'tuple_size',\n",
       " 'vis',\n",
       " 'wrap_objid',\n",
       " 'wrap_prm',\n",
       " 'wrap_type']"
      ]
     },
     "execution_count": 45,
     "metadata": {},
     "output_type": "execute_result"
    }
   ],
   "source": [
    "dir(m.get_model())"
   ]
  },
  {
   "cell_type": "code",
   "execution_count": 48,
   "id": "b2a28fd7-3de9-4602-aeee-1d65389ed6e2",
   "metadata": {},
   "outputs": [
    {
     "data": {
      "text/plain": [
       "array([0, 0, 0, 0, 0, 0, 0, 0, 0, 0, 0, 0], dtype=int32)"
      ]
     },
     "execution_count": 48,
     "metadata": {},
     "output_type": "execute_result"
    }
   ],
   "source": [
    "m.get_model().actuator_gaintype"
   ]
  },
  {
   "cell_type": "code",
   "execution_count": null,
   "id": "f3eb4b6a-b20b-4c56-a966-80bca97bba63",
   "metadata": {},
   "outputs": [],
   "source": []
  },
  {
   "cell_type": "code",
   "execution_count": 25,
   "id": "19d3d5d8-2fef-4359-bb5c-ab2c0e9666a6",
   "metadata": {},
   "outputs": [],
   "source": [
    "import numpy as np\n",
    "import brax\n",
    "import jax.numpy as jnp\n",
    "from brax.v1 import QP"
   ]
  },
  {
   "cell_type": "code",
   "execution_count": 26,
   "id": "8244db4f-99e9-4c75-99f0-772bd12d4288",
   "metadata": {},
   "outputs": [],
   "source": [
    "def deserialize_qp(nparray) -> brax.v1.QP:\n",
    "    \"\"\"\n",
    "    Get QP from a trajectory numpy array\n",
    "    \"\"\"\n",
    "    num_bodies = nparray.shape[-1] // 13    # pos (,3) rot (,4) vel (,3) ang (,3)\n",
    "    batch_dims = nparray.shape[:-1]\n",
    "    slices = [num_bodies * x for x in [0, 3, 7, 10, 13]]\n",
    "    pos = jnp.reshape(nparray[..., slices[0]:slices[1]], batch_dims + (num_bodies, 3))\n",
    "    rot = jnp.reshape(nparray[..., slices[1]:slices[2]], batch_dims + (num_bodies, 4))\n",
    "    vel = jnp.reshape(nparray[..., slices[2]:slices[3]], batch_dims + (num_bodies, 3))\n",
    "    ang = jnp.reshape(nparray[..., slices[3]:slices[4]], batch_dims + (num_bodies, 3))\n",
    "    return QP(pos=pos, rot=rot, vel=vel, ang=ang)"
   ]
  },
  {
   "cell_type": "code",
   "execution_count": 27,
   "id": "f54e9366-d309-4e62-b1a1-97096cf63c7f",
   "metadata": {},
   "outputs": [],
   "source": [
    "demo_traj = jnp.array(np.load(\"/data/benny_cai/diffmimic/data/demo_humanoid/backflip_fps_30_20s.npy\"))\n",
    "traj = deserialize_qp(demo_traj)"
   ]
  },
  {
   "cell_type": "code",
   "execution_count": 28,
   "id": "6ec075c1-89cc-4dde-aea4-5212e0448006",
   "metadata": {},
   "outputs": [
    {
     "data": {
      "text/plain": [
       "Array([[-9.17549152e-03, -5.00592403e-04,  9.06869233e-01],\n",
       "       [ 9.38418088e-04, -1.45998541e-02,  1.14238191e+00],\n",
       "       [ 9.36635770e-03, -2.80493423e-02,  1.36571264e+00],\n",
       "       [-1.27840545e-02, -2.12204292e-01,  1.37511373e+00],\n",
       "       [ 2.42230911e-02, -2.33315229e-01,  1.10364866e+00],\n",
       "       [-1.50721595e-02,  1.53341085e-01,  1.39721406e+00],\n",
       "       [ 3.83804031e-02,  2.33637244e-01,  1.13991308e+00],\n",
       "       [-8.54627974e-03, -8.52319375e-02,  9.01769638e-01],\n",
       "       [-4.61073928e-02, -8.45008269e-02,  4.81901020e-01],\n",
       "       [-8.92889574e-02, -8.38480517e-02,  7.43125677e-02],\n",
       "       [-9.80470423e-03,  8.42307508e-02,  9.11968768e-01],\n",
       "       [-1.86487865e-02,  9.42028016e-02,  4.90633547e-01],\n",
       "       [-4.56155650e-02,  1.04159504e-01,  8.17728490e-02],\n",
       "       [ 0.00000000e+00,  0.00000000e+00,  0.00000000e+00]],      dtype=float32)"
      ]
     },
     "execution_count": 28,
     "metadata": {},
     "output_type": "execute_result"
    }
   ],
   "source": [
    "traj.pos[0]"
   ]
  },
  {
   "cell_type": "code",
   "execution_count": 29,
   "id": "0cc866d1-8e1c-4a78-b10d-4ec6a68d978e",
   "metadata": {},
   "outputs": [
    {
     "data": {
      "text/plain": [
       "Array([[-2.2039369e-02, -7.6524785e-04,  9.2189753e-01],\n",
       "       [-9.9811275e-03, -1.5006463e-02,  1.1573101e+00],\n",
       "       [ 2.2919516e-03, -2.8476859e-02,  1.3804612e+00],\n",
       "       [-1.8280035e-02, -2.1280058e-01,  1.3901373e+00],\n",
       "       [ 1.7896939e-02, -2.6992917e-01,  1.1237992e+00],\n",
       "       [-2.3010259e-02,  1.5270777e-01,  1.4124612e+00],\n",
       "       [ 2.7267911e-02,  2.7206999e-01,  1.1701119e+00],\n",
       "       [-2.0650990e-02, -8.5481696e-02,  9.1670150e-01],\n",
       "       [-4.5604337e-02, -8.8515274e-02,  4.9590564e-01],\n",
       "       [-7.5220779e-02, -9.1538496e-02,  8.7118223e-02],\n",
       "       [-2.3427747e-02,  8.3951198e-02,  9.2709351e-01],\n",
       "       [-1.7760465e-02,  9.7381786e-02,  5.0579965e-01],\n",
       "       [-4.0345814e-02,  1.1069594e-01,  9.6769013e-02],\n",
       "       [ 0.0000000e+00,  0.0000000e+00,  0.0000000e+00]], dtype=float32)"
      ]
     },
     "execution_count": 29,
     "metadata": {},
     "output_type": "execute_result"
    }
   ],
   "source": [
    "traj.pos[1]"
   ]
  },
  {
   "cell_type": "code",
   "execution_count": 30,
   "id": "161d4c59-8956-4f91-829e-64a4867369d7",
   "metadata": {},
   "outputs": [
    {
     "data": {
      "text/plain": [
       "Array([[-0.48628327, -0.01009895,  0.17979383],\n",
       "       [-0.3943685 ,  0.00349361,  0.17529488],\n",
       "       [-0.18615729,  0.0177104 ,  0.1614368 ],\n",
       "       [-0.14068264,  0.01433417,  0.1889205 ],\n",
       "       [-0.52025527, -1.4238203 ,  0.59458137],\n",
       "       [-0.19190976,  0.01434401,  0.17582059],\n",
       "       [-0.7501001 ,  1.4015625 ,  0.93684554],\n",
       "       [-0.46897197, -0.00994742,  0.18294454],\n",
       "       [ 0.11530571, -0.1641532 ,  0.16388476],\n",
       "       [ 0.79951924, -0.3124246 ,  0.13542674],\n",
       "       [-0.5035946 , -0.01025051,  0.17664671],\n",
       "       [ 0.16844228,  0.12190618,  0.20849705],\n",
       "       [ 0.27730715,  0.260166  ,  0.20824805],\n",
       "       [ 0.        ,  0.        ,  0.        ]], dtype=float32)"
      ]
     },
     "execution_count": 30,
     "metadata": {},
     "output_type": "execute_result"
    }
   ],
   "source": [
    "(traj.pos[2] - traj.pos[1]) * 30"
   ]
  },
  {
   "cell_type": "code",
   "execution_count": 31,
   "id": "515a3f5c-5855-4649-9cb1-232bf75c5033",
   "metadata": {},
   "outputs": [
    {
     "data": {
      "text/plain": [
       "Array([[-0.469554  , -0.00797463,  0.12001988],\n",
       "       [-0.4673155 , -0.00796742,  0.35616028],\n",
       "       [-0.4634365 , -0.00799305,  0.58002067],\n",
       "       [-0.48660314, -0.19117548,  0.60001004],\n",
       "       [-0.49555668, -0.20990266,  0.3260072 ],\n",
       "       [-0.48768312,  0.17504293,  0.6000707 ],\n",
       "       [-0.4965914 ,  0.19719788,  0.3263222 ],\n",
       "       [-0.46926656, -0.09286114,  0.12001975],\n",
       "       [-0.45745462, -0.0944721 , -0.30135766],\n",
       "       [-0.4536336 , -0.09587395, -0.71120745],\n",
       "       [-0.46984145,  0.07691189,  0.12002002],\n",
       "       [-0.45746323,  0.07876797, -0.30134013],\n",
       "       [-0.45653316,  0.0800641 , -0.71120703],\n",
       "       [ 0.        ,  0.        ,  0.        ]], dtype=float32)"
      ]
     },
     "execution_count": 31,
     "metadata": {},
     "output_type": "execute_result"
    }
   ],
   "source": [
    "traj.vel[0]"
   ]
  },
  {
   "cell_type": "code",
   "execution_count": 32,
   "id": "efb5670a-4e5a-42ad-9eac-ebf6aace89b3",
   "metadata": {},
   "outputs": [
    {
     "data": {
      "text/plain": [
       "Array([[-0.49148667, -0.00529936,  0.06291912],\n",
       "       [-0.48878595, -0.00525952,  0.29905465],\n",
       "       [-0.48426947, -0.00529149,  0.5229031 ],\n",
       "       [-0.5074469 , -0.18846576,  0.54295456],\n",
       "       [-0.5190404 , -0.20764497,  0.26908198],\n",
       "       [-0.5083911 ,  0.17775302,  0.5430259 ],\n",
       "       [-0.51970327,  0.20125186,  0.26947835],\n",
       "       [-0.49124068, -0.090186  ,  0.06293063],\n",
       "       [-0.47741437, -0.09173141, -0.35838574],\n",
       "       [-0.47450975, -0.09296793, -0.7682436 ],\n",
       "       [-0.4917327 ,  0.07958728,  0.06290761],\n",
       "       [-0.4775209 ,  0.08145858, -0.35839462],\n",
       "       [-0.47712597,  0.08254933, -0.768263  ],\n",
       "       [ 0.        ,  0.        ,  0.        ]], dtype=float32)"
      ]
     },
     "execution_count": 32,
     "metadata": {},
     "output_type": "execute_result"
    }
   ],
   "source": [
    "traj.vel[1]"
   ]
  },
  {
   "cell_type": "code",
   "execution_count": 36,
   "id": "6d8a5e43-d842-445d-9b00-dbc8ed559ad5",
   "metadata": {},
   "outputs": [
    {
     "data": {
      "text/plain": [
       "Array([[-1.4424235e-01, -8.2465286e+00, -3.3158797e-01],\n",
       "       [-9.6879974e-02, -8.4499722e+00, -9.2401201e-01],\n",
       "       [ 2.8955668e-01, -8.2368488e+00, -4.8967814e-01],\n",
       "       [-1.2309293e+00, -8.4750319e+00, -5.7500887e-01],\n",
       "       [-1.9217244e+00, -8.2494555e+00, -5.8249003e-01],\n",
       "       [ 6.5171719e-01, -8.8281488e+00,  7.6852733e-01],\n",
       "       [ 1.6910141e+00, -8.6498804e+00,  5.4413885e-01],\n",
       "       [-5.8439988e-01, -1.1167219e+01,  6.6201389e-02],\n",
       "       [-3.3837408e-01, -1.0865814e+01, -4.5214754e-01],\n",
       "       [-9.9272108e-01, -1.2105953e+01, -3.3946621e-01],\n",
       "       [-7.5331284e-03, -1.1034703e+01, -3.3094007e-01],\n",
       "       [-8.1315078e-02, -1.0634511e+01,  7.3646523e-02],\n",
       "       [ 4.9581072e-01, -1.1932925e+01, -1.1791527e-01],\n",
       "       [ 0.0000000e+00,  0.0000000e+00,  0.0000000e+00]], dtype=float32)"
      ]
     },
     "execution_count": 36,
     "metadata": {},
     "output_type": "execute_result"
    }
   ],
   "source": [
    "traj.ang[30]"
   ]
  },
  {
   "cell_type": "code",
   "execution_count": null,
   "id": "b4ec441c-8230-4840-967a-1c351031763c",
   "metadata": {},
   "outputs": [],
   "source": []
  },
  {
   "cell_type": "code",
   "execution_count": null,
   "id": "f40188ef-14c7-4387-a0fb-f436956ff1ad",
   "metadata": {},
   "outputs": [],
   "source": []
  },
  {
   "cell_type": "code",
   "execution_count": null,
   "id": "7c7d6e72-06c0-46ce-bff6-a6c96660f7c8",
   "metadata": {},
   "outputs": [],
   "source": []
  }
 ],
 "metadata": {
  "kernelspec": {
   "display_name": "Python 3 (ipykernel)",
   "language": "python",
   "name": "python3"
  },
  "language_info": {
   "codemirror_mode": {
    "name": "ipython",
    "version": 3
   },
   "file_extension": ".py",
   "mimetype": "text/x-python",
   "name": "python",
   "nbconvert_exporter": "python",
   "pygments_lexer": "ipython3",
   "version": "3.9.0"
  }
 },
 "nbformat": 4,
 "nbformat_minor": 5
}
