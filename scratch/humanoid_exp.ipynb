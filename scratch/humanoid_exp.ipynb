{
 "cells": [
  {
   "cell_type": "code",
   "execution_count": 1,
   "id": "13fff2a1-e108-453c-b888-1314c1c33e17",
   "metadata": {},
   "outputs": [],
   "source": [
    "from brax.positional import pipeline\n",
    "from brax.io import mjcf\n",
    "\n",
    "from IPython.display import HTML, clear_output\n",
    "import jax\n",
    "from jax import numpy as jp\n",
    "from brax.io import html\n",
    "import json\n",
    "import numpy as np\n",
    "import transforms3d.quaternions as quat\n",
    "from brax.envs.base import PipelineEnv, State"
   ]
  },
  {
   "cell_type": "code",
   "execution_count": 2,
   "id": "1edf9d15-c008-4766-bce4-f332db5cb1b2",
   "metadata": {},
   "outputs": [],
   "source": [
    "class HumanoidEnv(PipelineEnv):\n",
    "    def __init__(self):\n",
    "        path = 'amp_humanoid.xml'\n",
    "        sys = mjcf.load(path)\n",
    "        super().__init__(sys=sys, backend='positional', n_frames=1)\n",
    "\n",
    "    def reset(self, q: jp.ndarray, qd: jp.ndarray) -> State:\n",
    "        \"\"\"Resets the environment to an initial state.\"\"\"\n",
    "        pipeline_state = self.pipeline_init(q, qd)\n",
    "        return pipeline_state\n",
    "\n",
    "    def step(self, pipeline_state: State, action: jp.ndarray) -> State:\n",
    "        \"\"\"Runs one timestep of the environment's dynamics.\"\"\"\n",
    "        pipeline_state = self.pipeline_step(pipeline_state, action)\n",
    "        return pipeline_state"
   ]
  },
  {
   "cell_type": "code",
   "execution_count": 3,
   "id": "ba18c8ff-0e9e-4eda-804b-754e1cb14afd",
   "metadata": {},
   "outputs": [
    {
     "name": "stdout",
     "output_type": "stream",
     "text": [
      "ctrl_range:  [[-1.  1.]\n",
      " [-1.  1.]\n",
      " [-1.  1.]\n",
      " [-1.  1.]\n",
      " [-1.  1.]\n",
      " [-1.  1.]\n",
      " [-1.  1.]\n",
      " [-1.  1.]\n",
      " [-1.  1.]\n",
      " [-1.  1.]\n",
      " [-1.  1.]\n",
      " [-1.  1.]\n",
      " [-1.  1.]\n",
      " [-1.  1.]\n",
      " [-1.  1.]\n",
      " [-1.  1.]\n",
      " [-1.  1.]\n",
      " [-1.  1.]\n",
      " [-1.  1.]\n",
      " [-1.  1.]\n",
      " [-1.  1.]\n",
      " [-1.  1.]\n",
      " [-1.  1.]\n",
      " [-1.  1.]\n",
      " [-1.  1.]\n",
      " [-1.  1.]\n",
      " [-1.  1.]\n",
      " [-1.  1.]]\n",
      "actuator_biasprm:  [[0. 0. 0. 0. 0. 0. 0. 0. 0. 0.]\n",
      " [0. 0. 0. 0. 0. 0. 0. 0. 0. 0.]\n",
      " [0. 0. 0. 0. 0. 0. 0. 0. 0. 0.]\n",
      " [0. 0. 0. 0. 0. 0. 0. 0. 0. 0.]\n",
      " [0. 0. 0. 0. 0. 0. 0. 0. 0. 0.]\n",
      " [0. 0. 0. 0. 0. 0. 0. 0. 0. 0.]\n",
      " [0. 0. 0. 0. 0. 0. 0. 0. 0. 0.]\n",
      " [0. 0. 0. 0. 0. 0. 0. 0. 0. 0.]\n",
      " [0. 0. 0. 0. 0. 0. 0. 0. 0. 0.]\n",
      " [0. 0. 0. 0. 0. 0. 0. 0. 0. 0.]\n",
      " [0. 0. 0. 0. 0. 0. 0. 0. 0. 0.]\n",
      " [0. 0. 0. 0. 0. 0. 0. 0. 0. 0.]\n",
      " [0. 0. 0. 0. 0. 0. 0. 0. 0. 0.]\n",
      " [0. 0. 0. 0. 0. 0. 0. 0. 0. 0.]\n",
      " [0. 0. 0. 0. 0. 0. 0. 0. 0. 0.]\n",
      " [0. 0. 0. 0. 0. 0. 0. 0. 0. 0.]\n",
      " [0. 0. 0. 0. 0. 0. 0. 0. 0. 0.]\n",
      " [0. 0. 0. 0. 0. 0. 0. 0. 0. 0.]\n",
      " [0. 0. 0. 0. 0. 0. 0. 0. 0. 0.]\n",
      " [0. 0. 0. 0. 0. 0. 0. 0. 0. 0.]\n",
      " [0. 0. 0. 0. 0. 0. 0. 0. 0. 0.]\n",
      " [0. 0. 0. 0. 0. 0. 0. 0. 0. 0.]\n",
      " [0. 0. 0. 0. 0. 0. 0. 0. 0. 0.]\n",
      " [0. 0. 0. 0. 0. 0. 0. 0. 0. 0.]\n",
      " [0. 0. 0. 0. 0. 0. 0. 0. 0. 0.]\n",
      " [0. 0. 0. 0. 0. 0. 0. 0. 0. 0.]\n",
      " [0. 0. 0. 0. 0. 0. 0. 0. 0. 0.]\n",
      " [0. 0. 0. 0. 0. 0. 0. 0. 0. 0.]]\n",
      "mj.actuator_gainprm:  [[1. 0. 0. 0. 0. 0. 0. 0. 0. 0.]\n",
      " [1. 0. 0. 0. 0. 0. 0. 0. 0. 0.]\n",
      " [1. 0. 0. 0. 0. 0. 0. 0. 0. 0.]\n",
      " [1. 0. 0. 0. 0. 0. 0. 0. 0. 0.]\n",
      " [1. 0. 0. 0. 0. 0. 0. 0. 0. 0.]\n",
      " [1. 0. 0. 0. 0. 0. 0. 0. 0. 0.]\n",
      " [1. 0. 0. 0. 0. 0. 0. 0. 0. 0.]\n",
      " [1. 0. 0. 0. 0. 0. 0. 0. 0. 0.]\n",
      " [1. 0. 0. 0. 0. 0. 0. 0. 0. 0.]\n",
      " [1. 0. 0. 0. 0. 0. 0. 0. 0. 0.]\n",
      " [1. 0. 0. 0. 0. 0. 0. 0. 0. 0.]\n",
      " [1. 0. 0. 0. 0. 0. 0. 0. 0. 0.]\n",
      " [1. 0. 0. 0. 0. 0. 0. 0. 0. 0.]\n",
      " [1. 0. 0. 0. 0. 0. 0. 0. 0. 0.]\n",
      " [1. 0. 0. 0. 0. 0. 0. 0. 0. 0.]\n",
      " [1. 0. 0. 0. 0. 0. 0. 0. 0. 0.]\n",
      " [1. 0. 0. 0. 0. 0. 0. 0. 0. 0.]\n",
      " [1. 0. 0. 0. 0. 0. 0. 0. 0. 0.]\n",
      " [1. 0. 0. 0. 0. 0. 0. 0. 0. 0.]\n",
      " [1. 0. 0. 0. 0. 0. 0. 0. 0. 0.]\n",
      " [1. 0. 0. 0. 0. 0. 0. 0. 0. 0.]\n",
      " [1. 0. 0. 0. 0. 0. 0. 0. 0. 0.]\n",
      " [1. 0. 0. 0. 0. 0. 0. 0. 0. 0.]\n",
      " [1. 0. 0. 0. 0. 0. 0. 0. 0. 0.]\n",
      " [1. 0. 0. 0. 0. 0. 0. 0. 0. 0.]\n",
      " [1. 0. 0. 0. 0. 0. 0. 0. 0. 0.]\n",
      " [1. 0. 0. 0. 0. 0. 0. 0. 0. 0.]\n",
      " [1. 0. 0. 0. 0. 0. 0. 0. 0. 0.]]\n",
      "mj.actuator_gear:  [[200.   0.   0.   0.   0.   0.]\n",
      " [200.   0.   0.   0.   0.   0.]\n",
      " [200.   0.   0.   0.   0.   0.]\n",
      " [ 50.   0.   0.   0.   0.   0.]\n",
      " [ 50.   0.   0.   0.   0.   0.]\n",
      " [ 50.   0.   0.   0.   0.   0.]\n",
      " [100.   0.   0.   0.   0.   0.]\n",
      " [100.   0.   0.   0.   0.   0.]\n",
      " [100.   0.   0.   0.   0.   0.]\n",
      " [ 70.   0.   0.   0.   0.   0.]\n",
      " [100.   0.   0.   0.   0.   0.]\n",
      " [100.   0.   0.   0.   0.   0.]\n",
      " [100.   0.   0.   0.   0.   0.]\n",
      " [ 70.   0.   0.   0.   0.   0.]\n",
      " [200.   0.   0.   0.   0.   0.]\n",
      " [200.   0.   0.   0.   0.   0.]\n",
      " [200.   0.   0.   0.   0.   0.]\n",
      " [150.   0.   0.   0.   0.   0.]\n",
      " [ 90.   0.   0.   0.   0.   0.]\n",
      " [ 90.   0.   0.   0.   0.   0.]\n",
      " [ 90.   0.   0.   0.   0.   0.]\n",
      " [200.   0.   0.   0.   0.   0.]\n",
      " [200.   0.   0.   0.   0.   0.]\n",
      " [200.   0.   0.   0.   0.   0.]\n",
      " [150.   0.   0.   0.   0.   0.]\n",
      " [ 90.   0.   0.   0.   0.   0.]\n",
      " [ 90.   0.   0.   0.   0.   0.]\n",
      " [ 90.   0.   0.   0.   0.   0.]]\n"
     ]
    }
   ],
   "source": [
    "env = HumanoidEnv()"
   ]
  },
  {
   "cell_type": "code",
   "execution_count": 7,
   "id": "bedc9160-ecdb-4982-ad1d-62d58683ffc3",
   "metadata": {},
   "outputs": [
    {
     "data": {
      "text/plain": [
       "<bound method Base.index_set of Actuator(q_id=Array([ 7,  8,  9, 10, 11, 12, 13, 14, 15, 16, 17, 18, 19, 20, 21, 23, 22,\n",
       "       24, 25, 26, 27, 28, 30, 29, 31, 32, 33, 34], dtype=int32), qd_id=Array([ 6,  7,  8,  9, 10, 11, 12, 13, 14, 15, 16, 17, 18, 19, 20, 22, 21,\n",
       "       23, 24, 25, 26, 27, 29, 28, 30, 31, 32, 33], dtype=int32), ctrl_range=Array([[-1.,  1.],\n",
       "       [-1.,  1.],\n",
       "       [-1.,  1.],\n",
       "       [-1.,  1.],\n",
       "       [-1.,  1.],\n",
       "       [-1.,  1.],\n",
       "       [-1.,  1.],\n",
       "       [-1.,  1.],\n",
       "       [-1.,  1.],\n",
       "       [-1.,  1.],\n",
       "       [-1.,  1.],\n",
       "       [-1.,  1.],\n",
       "       [-1.,  1.],\n",
       "       [-1.,  1.],\n",
       "       [-1.,  1.],\n",
       "       [-1.,  1.],\n",
       "       [-1.,  1.],\n",
       "       [-1.,  1.],\n",
       "       [-1.,  1.],\n",
       "       [-1.,  1.],\n",
       "       [-1.,  1.],\n",
       "       [-1.,  1.],\n",
       "       [-1.,  1.],\n",
       "       [-1.,  1.],\n",
       "       [-1.,  1.],\n",
       "       [-1.,  1.],\n",
       "       [-1.,  1.],\n",
       "       [-1.,  1.]], dtype=float32), force_range=Array([[-inf,  inf],\n",
       "       [-inf,  inf],\n",
       "       [-inf,  inf],\n",
       "       [-inf,  inf],\n",
       "       [-inf,  inf],\n",
       "       [-inf,  inf],\n",
       "       [-inf,  inf],\n",
       "       [-inf,  inf],\n",
       "       [-inf,  inf],\n",
       "       [-inf,  inf],\n",
       "       [-inf,  inf],\n",
       "       [-inf,  inf],\n",
       "       [-inf,  inf],\n",
       "       [-inf,  inf],\n",
       "       [-inf,  inf],\n",
       "       [-inf,  inf],\n",
       "       [-inf,  inf],\n",
       "       [-inf,  inf],\n",
       "       [-inf,  inf],\n",
       "       [-inf,  inf],\n",
       "       [-inf,  inf],\n",
       "       [-inf,  inf],\n",
       "       [-inf,  inf],\n",
       "       [-inf,  inf],\n",
       "       [-inf,  inf],\n",
       "       [-inf,  inf],\n",
       "       [-inf,  inf],\n",
       "       [-inf,  inf]], dtype=float32), gain=Array([1., 1., 1., 1., 1., 1., 1., 1., 1., 1., 1., 1., 1., 1., 1., 1., 1.,\n",
       "       1., 1., 1., 1., 1., 1., 1., 1., 1., 1., 1.], dtype=float32), gear=Array([200., 200., 200.,  50.,  50.,  50., 100., 100., 100.,  70., 100.,\n",
       "       100., 100.,  70., 200., 200., 200., 150.,  90.,  90.,  90., 200.,\n",
       "       200., 200., 150.,  90.,  90.,  90.], dtype=float32), bias_q=Array([0., 0., 0., 0., 0., 0., 0., 0., 0., 0., 0., 0., 0., 0., 0., 0., 0.,\n",
       "       0., 0., 0., 0., 0., 0., 0., 0., 0., 0., 0.], dtype=float32), bias_qd=Array([0., 0., 0., 0., 0., 0., 0., 0., 0., 0., 0., 0., 0., 0., 0., 0., 0.,\n",
       "       0., 0., 0., 0., 0., 0., 0., 0., 0., 0., 0.], dtype=float32))>"
      ]
     },
     "execution_count": 7,
     "metadata": {},
     "output_type": "execute_result"
    }
   ],
   "source": [
    "env.sys.actuator.index_set"
   ]
  },
  {
   "cell_type": "code",
   "execution_count": 8,
   "id": "5c71c944-5c7a-49d6-a5ba-c8e3dacc0749",
   "metadata": {},
   "outputs": [
    {
     "name": "stdout",
     "output_type": "stream",
     "text": [
      "step: 0\n"
     ]
    }
   ],
   "source": [
    "jit_env_reset = jax.jit(env.reset)\n",
    "jit_env_step = jax.jit(env.step)\n",
    "\n",
    "q = env.sys.init_q\n",
    "qd = jp.zeros((env.sys.qd_size(),))\n",
    "\n",
    "rollout = []\n",
    "state = jit_env_reset(q, qd)\n",
    "rollout.append(state)\n",
    "for i in range(100):\n",
    "    if i % 100 == 0:\n",
    "        print(f'step: {i}')\n",
    "    state = jit_env_step(state, np.zeros(env.action_size, dtype=float))\n",
    "    rollout.append(state)"
   ]
  },
  {
   "cell_type": "code",
   "execution_count": 4,
   "id": "43dbf214-d5cb-4162-99f8-4a7ca38b3098",
   "metadata": {},
   "outputs": [],
   "source": [
    "# HTML(html.render(env.sys, rollout))"
   ]
  },
  {
   "cell_type": "code",
   "execution_count": null,
   "id": "8daaaaf1-7b89-468b-b028-a12c832ab526",
   "metadata": {},
   "outputs": [],
   "source": []
  },
  {
   "cell_type": "code",
   "execution_count": 10,
   "id": "0c975099-c53e-4f86-b7b8-c9782ae53583",
   "metadata": {},
   "outputs": [
    {
     "data": {
      "text/plain": [
       "Array(0.00555, dtype=float32, weak_type=True)"
      ]
     },
     "execution_count": 10,
     "metadata": {},
     "output_type": "execute_result"
    }
   ],
   "source": [
    "m.dt"
   ]
  },
  {
   "cell_type": "code",
   "execution_count": 8,
   "id": "ca853994-bc73-4dda-9a4a-22b2225d08c8",
   "metadata": {},
   "outputs": [
    {
     "data": {
      "text/plain": [
       "['pelvis',\n",
       " 'torso',\n",
       " 'head',\n",
       " 'right_upper_arm',\n",
       " 'right_lower_arm',\n",
       " 'left_upper_arm',\n",
       " 'left_lower_arm',\n",
       " 'right_thigh',\n",
       " 'right_shin',\n",
       " 'right_foot',\n",
       " 'left_thigh',\n",
       " 'left_shin',\n",
       " 'left_foot']"
      ]
     },
     "execution_count": 8,
     "metadata": {},
     "output_type": "execute_result"
    }
   ],
   "source": [
    "m.link_names"
   ]
  },
  {
   "cell_type": "code",
   "execution_count": 9,
   "id": "f63fe68e-b1fa-4e57-bf50-9a1876568884",
   "metadata": {},
   "outputs": [
    {
     "data": {
      "text/plain": [
       "Array([1., 1., 1., 1., 1., 1., 1., 1., 1., 1., 1., 1., 1., 1., 1., 1., 1.,\n",
       "       1., 1., 1., 1., 1., 1., 1., 1., 1., 1., 1.], dtype=float32)"
      ]
     },
     "execution_count": 9,
     "metadata": {},
     "output_type": "execute_result"
    }
   ],
   "source": [
    "m.actuator.gain"
   ]
  },
  {
   "cell_type": "code",
   "execution_count": null,
   "id": "dd6ae4bc-054c-4139-9d02-4efe0f0eeb30",
   "metadata": {},
   "outputs": [],
   "source": []
  }
 ],
 "metadata": {
  "kernelspec": {
   "display_name": "Python 3 (ipykernel)",
   "language": "python",
   "name": "python3"
  },
  "language_info": {
   "codemirror_mode": {
    "name": "ipython",
    "version": 3
   },
   "file_extension": ".py",
   "mimetype": "text/x-python",
   "name": "python",
   "nbconvert_exporter": "python",
   "pygments_lexer": "ipython3",
   "version": "3.9.0"
  }
 },
 "nbformat": 4,
 "nbformat_minor": 5
}
